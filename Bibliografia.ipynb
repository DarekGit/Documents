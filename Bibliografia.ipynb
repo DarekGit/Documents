{
  "nbformat": 4,
  "nbformat_minor": 0,
  "metadata": {
    "anaconda-cloud": {},
    "kernelspec": {
      "display_name": "Python 3",
      "language": "python",
      "name": "python3"
    },
    "language_info": {
      "codemirror_mode": {
        "name": "ipython",
        "version": 3
      },
      "file_extension": ".py",
      "mimetype": "text/x-python",
      "name": "python",
      "nbconvert_exporter": "python",
      "pygments_lexer": "ipython3",
      "version": "3.5.1"
    },
    "colab": {
      "name": "Praca Dyplomowa.ipynb",
      "provenance": [],
      "collapsed_sections": [],
      "include_colab_link": true
    }
  },
  "cells": [
    {
      "cell_type": "markdown",
      "metadata": {
        "id": "view-in-github",
        "colab_type": "text"
      },
      "source": [
        "<a href=\"https://colab.research.google.com/github/DarekGit/Documents/blob/master/Bibliografia.ipynb\" target=\"_parent\"><img src=\"https://colab.research.google.com/assets/colab-badge.svg\" alt=\"Open In Colab\"/></a>"
      ]
    },
    {
      "cell_type": "markdown",
      "metadata": {
        "id": "wgODwqpLI2fc",
        "colab_type": "text"
      },
      "source": [
        "<img src=\"https://github.com/DarekGit/Documents/blob/master/Figures/Zrzut%20ekranu%202020-06-02.png?raw=1\" alt=\"drawing\" width=\"400\"/>"
      ]
    },
    {
      "cell_type": "markdown",
      "metadata": {
        "id": "en5qybg3KWoT",
        "colab_type": "text"
      },
      "source": [
        "# [Zastosowanie metod Deep Learningu w detekcji twarzy.](Praca_Dyplomowa.ipynb)\n"
      ]
    },
    {
      "cell_type": "markdown",
      "metadata": {
        "id": "eydg77jWKWoV",
        "colab_type": "text"
      },
      "source": [
        "### [Bibliografia](Bibliografia.ipynb)\n",
        "\n",
        "1. [FDDB: A Benchmark for Face Detection in Unconstrained Settings.](http://vis-www.cs.umass.edu/fddb/fddb.pdf) <br>  Vidit Jain and Erik Learned-Miller. <br> Technical Report UM-CS-2010-009, Dept. of Computer Science, University of Massachusetts, Amherst. 2010. \n",
        "\n",
        "1.  [WIDER FACE: A Face Detection Benchmark](https://arxiv.org/abs/1511.06523) <br> Yang, Shuo and Luo, Ping and Loy, Chen Change and Tang, Xiaoou<br> IEEE Conference on Computer Vision and Pattern Recognition (CVPR) 2016\n",
        "\n",
        "1. \"Who’s in the Picture?\" <br>\n",
        "http://tamaraberg.com/papers/berg_tnips.pdf\n",
        "<br>Tamara L. Berg, Alexander C. Berg, Jaety Edwards, David A. Forsyth <br>\n",
        "Neural Information Processing Systems (NIPS), 2004\n",
        "\n",
        "1. Robust real-time face detection.<br> P. A. Viola and M. J. Jones.<br>\n",
        "International Journal of Computer Vision, 57(2):137–154, May 2004\n",
        "\n",
        "1. Human de-tection based on a probabilistic assembly of robust part de-tectors. <br>K. Mikolajczyk, C. Schmid, and A. Zisserman.  <br>InEuropean Conference on Computer Vision, pages69–82, 2004.\n",
        "\n",
        "1. W. Kienzle, G. H. Bakır, M. O. Franz, and B. Scholkopf. <br>Face detection — efficient and rank deficient. <br>In L. K. Saul,Y. Weiss, and L. Bottou, editors, <br>Advances in  Neural In-formation Processing Systems, pages 673–680, Cambridge,MA, 2005. MIT Press.\n",
        "\n",
        "<br>"
      ]
    }
  ]
}