{
  "nbformat": 4,
  "nbformat_minor": 0,
  "metadata": {
    "colab": {
      "name": "02.00_Datasety.ipynb",
      "provenance": [],
      "collapsed_sections": [],
      "authorship_tag": "ABX9TyO2Id3sU+6hWbuzCZvFa3Zq",
      "include_colab_link": true
    },
    "kernelspec": {
      "name": "python3",
      "display_name": "Python 3"
    }
  },
  "cells": [
    {
      "cell_type": "markdown",
      "metadata": {
        "id": "view-in-github",
        "colab_type": "text"
      },
      "source": [
        "<a href=\"https://colab.research.google.com/github/DarekGit/Documents/blob/master/02_00_Datasety.ipynb\" target=\"_parent\"><img src=\"https://colab.research.google.com/assets/colab-badge.svg\" alt=\"Open In Colab\"/></a>"
      ]
    },
    {
      "cell_type": "markdown",
      "metadata": {
        "id": "PWmgCmhjigO-",
        "colab_type": "text"
      },
      "source": [
        "### [FDDB](02_01_FDDB.ipynb)\n",
        "Prace rozpoczęto na zbiorze FDDB z oznaczonymi twarzami do testów, \n",
        "zbiór dos†epny jest na stronie: <br>\n",
        "http://tamaraberg.com/faceDataset/originalPics.tar.gz <br> <br>\n",
        "po odtworzeniu archiwum otryzmujemy strukturę katalogów: <br>\n",
        "originalPics/year/month/day/big/*.jpg <br>\n",
        "<b>istotne jest to, iż twarze oznaczone są za pomocą współrzędnych elips </b> w pliku:<br>\n",
        "\"FDDB-fold-xx-ellipseList.txt\" <br>\n",
        "o strukturze: \n",
        "<small>\n",
        "<br>\n",
        "- image name i<br>\n",
        "-number of faces in this image<br> \n",
        "-face i1<br>  \n",
        "-face i2\n",
        "<br>...\n",
        "<br>  \n",
        "-face im\n",
        "<br>...\n",
        "<br> <b>\n",
        "-Here, each face is denoted by: [major_axis_radius, minor_axis_radius, angle, center_x, center_y, 1]</b>\n",
        "<br>\n",
        "<br>\n",
        "</small>\n",
        "\n",
        "Dataset zawiera 2845 zdjęć z 5171 oznaczonymi twarzami.\n",
        "\n",
        "<b>Na podstawie przeglądu zdjęciu ustalono, iż górną krawędź prostokąta opisującego twarz należy odbniżyć do 0.6 górnego promienia elipsy.</b> <br>\n",
        "\n",
        "W notebooku wykonano pomiary, przegląd oraz testy datasetu. Podstawowe dane o zdjęciach zapisano w strukturze metrics, która jest używana później do szybkiego dostępu do zdjęć i danych.\n"
      ]
    },
    {
      "cell_type": "markdown",
      "metadata": {
        "id": "fFE2zhYkqU7H",
        "colab_type": "text"
      },
      "source": [
        "notebook z testami na datasecie [FDDB](02_01_FDDB.ipynb).\n"
      ]
    },
    {
      "cell_type": "markdown",
      "metadata": {
        "id": "jHLTHjazxJaW",
        "colab_type": "text"
      },
      "source": [
        "W notebooku utworzono:<br>\n",
        "- narzędzia do wizualizacji oznaczenia twarzy (elipsy/obrócone prostokąty/ground truth).<br>\n",
        "- funkcję do pomiaru i wizualizacji mAP<br>."
      ]
    },
    {
      "cell_type": "markdown",
      "metadata": {
        "id": "zE-TE06GxRGa",
        "colab_type": "text"
      },
      "source": [
        "Wykonano również pierwsze pomiary datasetu FDDB na pretrenowanym modelu MTCNN a otrzymane wyniki były punktem odniesienia do dalszych badań.\n",
        "Za punkt odniesienia przyjęto wynik AP50 na poziomie 92,4%"
      ]
    },
    {
      "cell_type": "markdown",
      "metadata": {
        "id": "j89xoBkt0uOG",
        "colab_type": "text"
      },
      "source": [
        "Na zakończenie ze zbioru FDDB wybrano zdjęcie do walidacji testów.<br>\n",
        "Do wyboru przyjęto założenia, że ilość twarzy powinna zapewniać błąd pomiaru mniejszy od 0,5%,<br>\n",
        "rozkład wielkości zdjęć small, medium i large powinien być proporcjonalny do rozkładu cełego zbioru, <br>\n",
        "oraz cechy mAP mierzone po MTCNN powinny być pdobne do cech mAP dla całego zbioru.<br>\n",
        "Zdjęcia do walidacji zostały oznaczone w metrics w polu 'val'=True."
      ]
    }
  ]
}