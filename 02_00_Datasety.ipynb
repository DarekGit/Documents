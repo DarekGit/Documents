{
  "nbformat": 4,
  "nbformat_minor": 0,
  "metadata": {
    "colab": {
      "name": "02.00_Datasety.ipynb",
      "provenance": [],
      "collapsed_sections": [],
      "include_colab_link": true
    },
    "kernelspec": {
      "name": "python3",
      "display_name": "Python 3"
    }
  },
  "cells": [
    {
      "cell_type": "markdown",
      "metadata": {
        "id": "view-in-github",
        "colab_type": "text"
      },
      "source": [
        "<a href=\"https://colab.research.google.com/github/DarekGit/Documents/blob/master/02_00_Datasety.ipynb\" target=\"_parent\"><img src=\"https://colab.research.google.com/assets/colab-badge.svg\" alt=\"Open In Colab\"/></a>"
      ]
    },
    {
      "cell_type": "markdown",
      "metadata": {
        "id": "PWmgCmhjigO-",
        "colab_type": "text"
      },
      "source": [
        "# Zastosowanie metod Deep Learningu w detekcji twarzy.\n"
      ]
    },
    {
      "cell_type": "markdown",
      "metadata": {
        "id": "itMZrvcydaTp",
        "colab_type": "text"
      },
      "source": [
        "### [1. Wstep](01_00_Wstep.ipynb)\n",
        "\n",
        "- [Definicja problemu](01_01_.ipynb)\n",
        "\n",
        "### [2. Bazy danych](02_00_Datasety.ipynb)"
      ]
    },
    {
      "cell_type": "markdown",
      "metadata": {
        "id": "WbfuCrWzc1nI",
        "colab_type": "text"
      },
      "source": [
        "### [FDDB](02_01_FDDB.ipynb)\n",
        "Prace rozpoczęto na zbiorze FDDB z oznaczonymi twarzami do testów, \n",
        "zbiór dos†epny jest na stronie: <br>\n",
        "http://tamaraberg.com/faceDataset/originalPics.tar.gz <br> <br>\n",
        "po odtworzeniu archiwum otryzmujemy strukturę katalogów: <br>\n",
        "originalPics/year/month/day/big/*.jpg <br>\n",
        "<b>istotne jest to, iż twarze oznaczone są za pomocą współrzędnych elips </b> w pliku:<br>\n",
        "\"FDDB-fold-xx-ellipseList.txt\" <br>\n",
        "o strukturze: \n",
        "<small>\n",
        "<br>\n",
        "- image name i<br>\n",
        "-number of faces in this image<br> \n",
        "-face i1<br>  \n",
        "-face i2\n",
        "<br>...\n",
        "<br>  \n",
        "-face im\n",
        "<br>...\n",
        "<br> <b>\n",
        "-Here, each face is denoted by: [major_axis_radius, minor_axis_radius, angle, center_x, center_y, 1]</b>\n",
        "<br>\n",
        "<br>\n",
        "</small>\n",
        "\n",
        "Dataset zawiera 2845 zdjęć z 5171 oznaczonymi twarzami.\n",
        "\n",
        "<b>Na podstawie przeglądu zdjęciu ustalono, iż górną krawędź prostokąta opisującego twarz należy odbniżyć do 0.6 górnego promienia elipsy.</b> <br>\n",
        "\n",
        "W notebooku wykonano pomiary, przegląd oraz testy datasetu. Podstawowe dane o zdjęciach zapisano w strukturze metrics, która jest używana później do szybkiego dostępu do zdjęć i danych."
      ]
    },
    {
      "cell_type": "markdown",
      "metadata": {
        "id": "fFE2zhYkqU7H",
        "colab_type": "text"
      },
      "source": [
        "notebook z testami na datasecie [FDDB](02_01_FDDB.ipynb).\n"
      ]
    },
    {
      "cell_type": "markdown",
      "metadata": {
        "id": "jHLTHjazxJaW",
        "colab_type": "text"
      },
      "source": [
        "W notebooku utworzono:<br>\n",
        "- narzędzia do wizualizacji oznaczenia twarzy (elipsy/obrócone prostokąty/ground truth).<br>\n",
        "- funkcję do pomiaru i wizualizacji mAP<br>."
      ]
    },
    {
      "cell_type": "markdown",
      "metadata": {
        "id": "j89xoBkt0uOG",
        "colab_type": "text"
      },
      "source": [
        "Na zakończenie ze zbioru FDDB wybrano zdjęcie do walidacji testów.<br>\n",
        "Do wyboru przyjęto założenia, że ilość twarzy powinna zapewniać błąd pomiaru mniejszy od 0,5%,<br>\n",
        "rozkład wielkości zdjęć small, medium i large powinien być proporcjonalny do rozkładu cełego zbioru, <br>\n",
        "oraz cechy mAP mierzone po MTCNN powinny być pdobne do cech mAP dla całego zbioru.<br>\n",
        "Zdjęcia do walidacji zostały oznaczone w metrics w polu 'val'=True."
      ]
    },
    {
      "cell_type": "markdown",
      "metadata": {
        "id": "zE-TE06GxRGa",
        "colab_type": "text"
      },
      "source": [
        "Wykonano również pierwsze pomiary datasetu FDDB na pretrenowanym modelu MTCNN a otrzymane wyniki były punktem odniesienia do dalszych badań.\n",
        "Za punkt odniesienia przyjęto wynik AP50 na poziomie 92,4%"
      ]
    },
    {
      "cell_type": "markdown",
      "metadata": {
        "id": "B6wqESOSdj7H",
        "colab_type": "text"
      },
      "source": [
        "- [WIDER FACE](02_02_WIDER_FACE.ipynb)\n",
        "- [FACES_DD](02_03_FACES_DD.ipynb)\n",
        "\n",
        "### [3. Przyjęte miary ewaluacji modeli](03_00_Miary.ipynb)\n",
        "- [mAP](03_01_mAP.ipynb)\n",
        "\n",
        "### [4. Przegląd metod detekcji](04_00_Modele.ipynb)\n",
        "- [MTCNN](04_01_MTCNN.ipynb)\n",
        "- [MMDETECTIOn](04_02_MMDETECtIOn.ipynb)\n",
        "- [DETECTRON2](04_03_DETECTRON2.ipynb)\n",
        "- [MOBILENETV2](04_04_MOBILENET.ipynb)\n",
        "\n",
        "### [5. Modyfikacje](05_00_Modyfikacje.ipynb)\n",
        "- [FrozenBN Mish](05_01_FrozenBN_Mishc.ipynb)\n",
        "- [Mish](05_02_Mish.ipynb)\n",
        "\n",
        "### [6. Eksport modeli](06_00_Eksport_modeli.ipynb)\n",
        "- [ONNX/...](06_01_.ipynb)\n",
        "\n",
        "### [7. Podsumowanie i wnioski](07_00_Eksport_modeli.ipynb)\n",
        "\n",
        "<br>"
      ]
    }
  ]
}