{
  "nbformat": 4,
  "nbformat_minor": 0,
  "metadata": {
    "colab": {
      "name": "02.00_Datasety.ipynb",
      "provenance": [],
      "collapsed_sections": [],
      "include_colab_link": true
    },
    "kernelspec": {
      "name": "python3",
      "display_name": "Python 3"
    }
  },
  "cells": [
    {
      "cell_type": "markdown",
      "metadata": {
        "id": "view-in-github",
        "colab_type": "text"
      },
      "source": [
        "<a href=\"https://colab.research.google.com/github/DarekGit/Documents/blob/master/02_00_Datasety.ipynb\" target=\"_parent\"><img src=\"https://colab.research.google.com/assets/colab-badge.svg\" alt=\"Open In Colab\"/></a>"
      ]
    },
    {
      "cell_type": "markdown",
      "metadata": {
        "id": "EniTRDk3v3hs",
        "colab_type": "text"
      },
      "source": [
        "<img src=\"https://github.com/DarekGit/Documents/blob/master/Figures/Zrzut%20ekranu%202020-06-02.png?raw=1\" alt=\"drawing\" width=\"400\"/>"
      ]
    },
    {
      "cell_type": "markdown",
      "metadata": {
        "id": "Sqrez0DWv4ZV",
        "colab_type": "text"
      },
      "source": [
        "# [Zastosowanie metod Deep Learningu w detekcji twarzy.](Praca_Dyplomowa.ipynb)"
      ]
    },
    {
      "cell_type": "markdown",
      "metadata": {
        "id": "itMZrvcydaTp",
        "colab_type": "text"
      },
      "source": [
        "### [1. Wstep](01_00_Wstep.ipynb)\n",
        "\n",
        "- [Definicja problemu](01_01_.ipynb)\n",
        "\n",
        "### [2. Bazy danych](02_00_Datasety.ipynb)\n",
        "\n",
        "- [FDDB](02_01_FDDB.ipynb)\n",
        "- [WIDER FACE](02_02_WIDER_FACE.ipynb)\n",
        "- [FACES_DD](02_03_FACES_DD.ipynb)\n"
      ]
    },
    {
      "cell_type": "markdown",
      "metadata": {
        "id": "2xvVht9wiOlh",
        "colab_type": "text"
      },
      "source": [
        "W niniejszej pracy w zagadnieniach detekcji twarzy zostały wykorzystane powszechnie dostępne bazy danych:<br><br>\n",
        "\n",
        "* FDDB (Face Detection Data Set and Benchmark) – dataset dostępny publicznie na stronie [http://vis-www.cs.umass.edu/fddb/](http://vis-www.cs.umass.edu/fddb/), zawierający 2845 zdjęć z 5171 oznaczonymi twarzami ze zbioru danych [\"Faces in the Wild\"](http://tamaraberg.com/faceDataset/index.html). Opis datasetu został umieszczony w pliku [02_01_FDDB.ipynb](02_01_FDDB.ipynb) a pomiary i testy datasetu w pliku [02_01_FDDB_DD.ipynb](02_01_FDDB_DD.ipynb)\n",
        "\n",
        "* WIDER Face - zbiór dostępny publicznie http://shuoyang1213.me/WIDERFACE/ zawierajacy 32,203 z 393,703 oznaczonymi twarzami. Opracowanie datasetu zostało umieszczone w pliku: [02_02_WIDER_FACE.ipynb](02_02_WIDER_FACE.ipynb)\n",
        "\n",
        "* FACES_DD - Opracowanie datasetu zostało umieszczone w pliku: [02_03_FACES_DD.ipynb](02_03_FACES_DD.ipynb)\n"
      ]
    },
    {
      "cell_type": "markdown",
      "metadata": {
        "id": "Hi4TTnHDhApE",
        "colab_type": "text"
      },
      "source": [
        " <hr>"
      ]
    },
    {
      "cell_type": "markdown",
      "metadata": {
        "id": "B6wqESOSdj7H",
        "colab_type": "text"
      },
      "source": [
        "\n",
        "### [3. Przyjęte miary ewaluacji modeli](03_00_Miary.ipynb)\n",
        "- [mAP](notebooks/03_01_mAP.ipynb)\n",
        "\n",
        "### [4. Przegląd metod detekcji](04_00_Modele.ipynb)\n",
        "- [MTCNN](04_01_MTCNN.ipynb)\n",
        "- [MMDETECTIOn](04_02_MMDETECtIOn.ipynb)\n",
        "- [DETECTRON2](04_03_DETECTRON2.ipynb)\n",
        "- [MOBILENETV2](04_04_MOBILENET.ipynb)\n",
        "\n",
        "### [4. Przegląd metod detekcji](04_00_Modele.ipynb)\n",
        "- [MTCNN](04_01_MTCNN.ipynb)\n",
        "- [MMDETECTIOn](04_02_MMDETECtIOn.ipynb)\n",
        "- [DETECTRON2](04_03_DETECTRON2.ipynb)\n",
        "- [MOBILENETV2](04_04_MOBILENETV2.ipynb)\n",
        "\n",
        "### [5. Modyfikacje](05_00_Modyfikacje.ipynb)\n",
        "- [FrozenBN Mish](05_01_FrozenBN_Mishc.ipynb)\n",
        "- [Mish](05_02_Mish.ipynb)\n",
        "- [Porównanie modeli](05_03_Porownanie.ipynb)\n",
        "  - [Wyniki na zbiorze WIDER FACE](05_03_01_WIDERFACE_TEST.ipynb)\n",
        "  - [Wyniki na zbiorze FDDB](05_03_01_FDDB_TEST.ipynb)\n",
        "  - [Wyniki na zbiorze FACES_DD](05_03_01_FACES_DD_TEST.ipynb)\n",
        "\n",
        "### [6. Eksport modelu](06_00_Eksport_modelu.ipynb)\n",
        "- [ONNX/...](06_01_.ipynb)\n",
        "\n",
        "### [7. Podsumowanie i wnioski](07_00_Podsumowanie.ipynb)\n",
        "\n",
        "### [Bibliografia](Bibliografia.ipynb)\n",
        "\n",
        "<br>"
      ]
    }
  ]
}