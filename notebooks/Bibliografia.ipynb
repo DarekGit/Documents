{
  "nbformat": 4,
  "nbformat_minor": 0,
  "metadata": {
    "anaconda-cloud": {},
    "kernelspec": {
      "display_name": "Python 3",
      "language": "python",
      "name": "python3"
    },
    "language_info": {
      "codemirror_mode": {
        "name": "ipython",
        "version": 3
      },
      "file_extension": ".py",
      "mimetype": "text/x-python",
      "name": "python",
      "nbconvert_exporter": "python",
      "pygments_lexer": "ipython3",
      "version": "3.5.1"
    },
    "colab": {
      "name": "Bibliografia.ipynb",
      "provenance": [],
      "collapsed_sections": [],
      "include_colab_link": true
    }
  },
  "cells": [
    {
      "cell_type": "markdown",
      "metadata": {
        "id": "view-in-github",
        "colab_type": "text"
      },
      "source": [
        "<a href=\"https://colab.research.google.com/github/DarekGit/FACES_DNN/blob/master/notebooks/Bibliografia.ipynb\" target=\"_parent\"><img src=\"https://colab.research.google.com/assets/colab-badge.svg\" alt=\"Open In Colab\"/></a>"
      ]
    },
    {
      "cell_type": "markdown",
      "metadata": {
        "id": "en5qybg3KWoT",
        "colab_type": "text"
      },
      "source": [
        "---\n",
        "\n",
        "[Spis treści](https://github.com/DarekGit/FACES_DNN/blob/master/notebooks/Praca_Dyplomowa.ipynb) | [1. Wstęp](01_00_Wstep.ipynb) | [2. Metryki oceny detekcji](02_00_Miary.ipynb) | [3 .Bazy danych](03_00_Datasety.ipynb) | [4. Przegląd metod detekcji](04_00_Modele.ipynb) | [5. Detekcja twarzy z wykorzystaniem wybranych architektur GSN](05_00_Modyfikacje.ipynb) | [6. Porównanie modeli](06_00_Porownanie.ipynb) | [7. Eksport modelu](07_00_Eksport_modelu.ipynb) | [8. Podsumowanie i wnioski](08_00_Podsumowanie.ipynb) | [Bibliografia](Bibliografia.ipynb)\n",
        "\n",
        "\n",
        "---\n"
      ]
    },
    {
      "cell_type": "markdown",
      "metadata": {
        "id": "1HhZPLNmx1FL",
        "colab_type": "text"
      },
      "source": [
        "## [Bibliografia](Bibliografia.ipynb)"
      ]
    },
    {
      "cell_type": "markdown",
      "metadata": {
        "id": "3aYSoLqY-CIX",
        "colab_type": "text"
      },
      "source": [
        "1. Rezatofighi, Hamid, et al. \"Generalized intersection over union: A metric and a loss for bounding box regression.\" Proceedings of the IEEE Conference on Computer Vision and Pattern Recognition. 2019.\n",
        "\n",
        "1. Jain, Vidit, and Erik Learned-Miller. Fddb: A benchmark for face detection in unconstrained settings. Vol. 2. No. 4. UMass Amherst technical report, 2010.\n",
        "\n",
        "1. Yang, Shuo, et al. \"Wider face: A face detection benchmark.\" Proceedings of the IEEE conference on computer vision and pattern recognition. 2016.\n",
        "\n",
        "1. Berg, Tamara L., et al. \"Who's in the picture.\" Advances in neural information processing systems. 2005.\n",
        "\n",
        "1. Zitnick, C. Lawrence, and Piotr Dollár. \"Edge boxes: Locating object proposals from edges.\" European conference on computer vision. Springer, Cham, 2014.\n",
        "\n",
        "1. Redmon, Joseph, et al. \"You only look once: Unified, real-time object detection.\" Proceedings of the IEEE conference on computer vision and pattern recognition. 2016.\n",
        "\n",
        "1. Redmon, Joseph, and Ali Farhadi. \"YOLO9000: better, faster, stronger.\" Proceedings of the IEEE conference on computer vision and pattern recognition. 2017.\n",
        "\n",
        "1. Redmon, Joseph, and Ali Farhadi. \"Yolov3: An incremental improvement.\" arXiv preprint arXiv:1804.02767 (2018).\n",
        "\n",
        "1. Bochkovskiy, Alexey, Chien-Yao Wang, and Hong-Yuan Mark Liao. \"YOLOv4: Optimal Speed and Accuracy of Object Detection.\" arXiv preprint arXiv:2004.10934 (2020).\n",
        "\n",
        "1. Long, Xiang, et al. \"PP-YOLO: An Effective and Efficient Implementation of Object Detector.\" arXiv preprint arXiv:2007.12099 (2020).\n",
        "\n",
        "1. Liu, Wei, et al. \"Ssd: Single shot multibox detector.\" European conference on computer vision. Springer, Cham, 2016.\n",
        "\n",
        "1. Girshick, Ross, et al. \"Rich feature hierarchies for accurate object detection and semantic segmentation.\" Proceedings of the IEEE conference on computer vision and pattern recognition. 2014.\n",
        "\n",
        "1. Van de Sande, Koen EA, et al. \"Segmentation as selective search for object recognition.\" 2011 International Conference on Computer Vision. IEEE, 2011.\n",
        "\n",
        "1. Girshick, Ross. \"Fast r-cnn.\" Proceedings of the IEEE international conference on computer vision. 2015.\n",
        "\n",
        "1. Ren, Shaoqing, et al. \"Faster r-cnn: Towards real-time object detection with region proposal networks.\" Advances in neural information processing systems. 2015.\n",
        "\n",
        "1. Lin, Tsung-Yi, et al. \"Focal loss for dense object detection.\" Proceedings of the IEEE international conference on computer vision. 2017.\n",
        "\n",
        "1. Lin, Tsung-Yi, et al. \"Feature pyramid networks for object detection.\" Proceedings of the IEEE conference on computer vision and pattern recognition. 2017.\n",
        "\n",
        "1. Carion, Nicolas, et al. \"End-to-End Object Detection with Transformers.\" arXiv preprint arXiv:2005.12872 (2020).\n",
        "\n",
        "1. Zhang, Kaipeng, et al. \"Joint face detection and alignment using multitask cascaded convolutional networks.\" IEEE Signal Processing Letters 23.10 (2016): 1499-1503.\n",
        "\n",
        "1. He, Kaiming, et al. \"Spatial pyramid pooling in deep convolutional networks for visual recognition.\" IEEE transactions on pattern analysis and machine intelligence 37.9 (2015): 1904-1916.\n",
        "\n",
        "1. Dai, Jifeng, et al. \"R-fcn: Object detection via region-based fully convolutional networks.\" Advances in neural information processing systems. 2016.\n",
        "\n",
        "1. He, Kaiming, Ross Girshick, and Piotr Dollár. \"Rethinking imagenet pre-training.\" Proceedings of the IEEE international conference on computer vision. 2019.\n",
        "\n",
        "1. Wu, Yuxin, and Kaiming He. \"Group normalization.\" Proceedings of the European conference on computer vision (ECCV). 2018.\n",
        "\n",
        "\n",
        "<br>"
      ]
    }
  ]
}