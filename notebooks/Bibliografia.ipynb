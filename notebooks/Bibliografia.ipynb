{
  "nbformat": 4,
  "nbformat_minor": 0,
  "metadata": {
    "anaconda-cloud": {},
    "kernelspec": {
      "display_name": "Python 3",
      "language": "python",
      "name": "python3"
    },
    "language_info": {
      "codemirror_mode": {
        "name": "ipython",
        "version": 3
      },
      "file_extension": ".py",
      "mimetype": "text/x-python",
      "name": "python",
      "nbconvert_exporter": "python",
      "pygments_lexer": "ipython3",
      "version": "3.5.1"
    },
    "colab": {
      "name": "Praca Dyplomowa.ipynb",
      "provenance": [],
      "collapsed_sections": [],
      "include_colab_link": true
    }
  },
  "cells": [
    {
      "cell_type": "markdown",
      "metadata": {
        "id": "view-in-github",
        "colab_type": "text"
      },
      "source": [
        "<a href=\"https://colab.research.google.com/github/DarekGit/FACES_DNN/blob/master/notebooks/Bibliografia.ipynb\" target=\"_parent\"><img src=\"https://colab.research.google.com/assets/colab-badge.svg\" alt=\"Open In Colab\"/></a>"
      ]
    },
    {
      "cell_type": "markdown",
      "metadata": {
        "id": "en5qybg3KWoT",
        "colab_type": "text"
      },
      "source": [
        "# [Spis treści](https://github.com/DarekGit/FACES_DNN/blob/master/notebooks/Praca_Dyplomowa.ipynb)\n"
      ]
    },
    {
      "cell_type": "markdown",
      "metadata": {
        "id": "eydg77jWKWoV",
        "colab_type": "text"
      },
      "source": [
        "### [Bibliografia](Bibliografia.ipynb)\n",
        "\n",
        "1. Jain, Vidit, and Erik Learned-Miller. Fddb: A benchmark for face detection in unconstrained settings. Vol. 2. No. 4. UMass Amherst technical report, 2010.\n",
        "\n",
        "1. Yang, Shuo, et al. \"Wider face: A face detection benchmark.\" Proceedings of the IEEE conference on computer vision and pattern recognition. 2016.\n",
        "\n",
        "1. Berg, Tamara L., et al. \"Who's in the picture.\" Advances in neural information processing systems. 2005.\n",
        "\n",
        "1. Viola, Paul, and Michael J. Jones. \"Robust real-time face detection.\" International journal of computer vision 57.2 (2004): 137-154.\n",
        "\n",
        "1. Mikolajczyk, Krystian, Cordelia Schmid, and Andrew Zisserman. \"Human detection based on a probabilistic assembly of robust part detectors.\" European Conference on Computer Vision. Springer, Berlin, Heidelberg, 2004.\n",
        "\n",
        "1. Kienzle, Wolf, et al. \"Face detection---efficient and rank deficient.\" Advances in Neural Information Processing Systems. 2005.\n",
        "\n",
        "1. Zitnick, C. Lawrence, and Piotr Dollár. \"Edge boxes: Locating object proposals from edges.\" European conference on computer vision. Springer, Cham, 2014.\n",
        "\n",
        "1. Girshick, Ross, et al. \"Rich feature hierarchies for accurate object detection and semantic segmentation.\" Proceedings of the IEEE conference on computer vision and pattern recognition. 2014.\n",
        "\n",
        "1. Hui, Jonathan. \"What do we learn from region based object detectors (Faster R-CNN, R-FCN, FPN).\" Medium. Retrieved October 15 (2018): 2018.\n",
        "\n",
        "<br>"
      ]
    }
  ]
}