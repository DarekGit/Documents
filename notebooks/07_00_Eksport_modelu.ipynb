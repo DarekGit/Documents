{
  "nbformat": 4,
  "nbformat_minor": 0,
  "metadata": {
    "colab": {
      "name": "07_00_Eksport_modelu.ipynb",
      "provenance": [],
      "collapsed_sections": [],
      "include_colab_link": true
    },
    "kernelspec": {
      "name": "python3",
      "display_name": "Python 3"
    }
  },
  "cells": [
    {
      "cell_type": "markdown",
      "metadata": {
        "id": "view-in-github",
        "colab_type": "text"
      },
      "source": [
        "<a href=\"https://colab.research.google.com/github/DarekGit/FACES_DNN/blob/master/notebooks/07_00_Eksport_modelu.ipynb\" target=\"_parent\"><img src=\"https://colab.research.google.com/assets/colab-badge.svg\" alt=\"Open In Colab\"/></a>"
      ]
    },
    {
      "cell_type": "markdown",
      "metadata": {
        "id": "XaZ20Z_bZrAT",
        "colab_type": "text"
      },
      "source": [
        "###[Spis Treści](https://github.com/DarekGit/FACES_DNN/blob/master/notebooks/Praca_Dyplomowa.ipynb)\n",
        "[6. Porównanie modeli](06_00_Porownanie.ipynb) \n",
        "\n"
      ]
    },
    {
      "cell_type": "markdown",
      "metadata": {
        "id": "G-apsfMb1Vot",
        "colab_type": "text"
      },
      "source": [
        "# 7. Eksport modelu"
      ]
    },
    {
      "cell_type": "markdown",
      "metadata": {
        "id": "hwP_NtIXX42w",
        "colab_type": "text"
      },
      "source": [
        "Przykład wykonania eksportu modeli podane są w notebooku:\n",
        "<br>[ONNX/jit/Caffe export](07_01_mobilenet_ONNX_export.ipynb)"
      ]
    },
    {
      "cell_type": "markdown",
      "metadata": {
        "id": "9xiT72dfWavV",
        "colab_type": "text"
      },
      "source": [
        "Przykład grafu modelu mobilenetV2 stworzonego na bazie ONNX:\n",
        "\n",
        "<img src=\"https://github.com/DarekGit/FACES_DNN/blob/master/Figures/Det2MobilenetV2.png?raw=1\" alt=\"drawing\" width=\"4000\"/>\n"
      ]
    },
    {
      "cell_type": "markdown",
      "metadata": {
        "id": "RU-xeheTeptF",
        "colab_type": "text"
      },
      "source": [
        "<br><br>\n",
        "[7.1 ONNX/jit/Caffe export](07_01_mobilenet_ONNX_export.ipynb)<br>\n",
        "[8. Podsumowanie i wnioski](08_00_Podsumowanie.ipynb)<br>\n",
        "###[Spis Treści](https://github.com/DarekGit/FACES_DNN/blob/master/notebooks/Praca_Dyplomowa.ipynb)"
      ]
    }
  ]
}