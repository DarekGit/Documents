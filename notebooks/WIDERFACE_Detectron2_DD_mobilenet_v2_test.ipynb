{
  "nbformat": 4,
  "nbformat_minor": 0,
  "metadata": {
    "colab": {
      "name": "WIDERFACE_Detectron2_DD_mobilenet_v2_test.ipynb",
      "provenance": [],
      "collapsed_sections": [],
      "toc_visible": true,
      "machine_shape": "hm",
      "include_colab_link": true
    },
    "kernelspec": {
      "name": "python3",
      "display_name": "Python 3"
    },
    "accelerator": "GPU"
  },
  "cells": [
    {
      "cell_type": "markdown",
      "metadata": {
        "id": "view-in-github",
        "colab_type": "text"
      },
      "source": [
        "<a href=\"https://colab.research.google.com/github/DarekGit/FACES_DNN/blob/master/notebooks/WIDERFACE_Detectron2_DD_mobilenet_v2_test.ipynb\" target=\"_parent\"><img src=\"https://colab.research.google.com/assets/colab-badge.svg\" alt=\"Open In Colab\"/></a>"
      ]
    },
    {
      "cell_type": "markdown",
      "metadata": {
        "id": "7CHNa32TdpuN",
        "colab_type": "text"
      },
      "source": [
        "# Install detectron2\n",
        "\n",
        "Detectron2  https://github.com/facebookresearch/detectron2 <br>\n",
        "Detectron2 Beginner's Tutorial https://colab.research.google.com/drive/16jcaJoc6bCFAQ96jDe2HwtXj7BMD_-m5 <br>\n",
        "Documentation https://detectron2.readthedocs.io <br>\n",
        "Detectron2 Model Zoo and Baselines https://github.com/facebookresearch/detectron2/blob/master/MODEL_ZOO.md <br>\n",
        "Rethinking ImageNet Pre-training https://arxiv.org/pdf/1811.08883.pdf <br>\n",
        "\n",
        "Wykorzystano kody z <br>\n",
        "https://github.com/youngwanLEE/vovnet-detectron2"
      ]
    },
    {
      "cell_type": "code",
      "metadata": {
        "id": "Ms2PvHwVPYRS",
        "colab_type": "code",
        "colab": {}
      },
      "source": [
        "import os\n",
        "def Wider_load(val=True,train=True,test=False):\n",
        "  os.makedirs('WIDER/', exist_ok=True)\n",
        "\n",
        "  if val:\n",
        "    #!gdown https://drive.google.com/uc?id=0B6eKvaijfFUDd3dIRmpvSk8tLUk\n",
        "    !gdown https://drive.google.com/uc?id=1-5A_pa_jDS7gk8mHVCBB7ApV5KN8jWDr -O WIDER/tempv.zip\n",
        "    !unzip -q WIDER/tempv.zip -d WIDER\n",
        "    !rm WIDER/tempv.zip  \n",
        "\n",
        "  if train:\n",
        "    ### WIDER Face Training Images\n",
        "    #!gdown https://drive.google.com/uc?id=0B6eKvaijfFUDQUUwd21EckhUbWs\n",
        "    !gdown https://drive.google.com/uc?id=1-1iJfmXKYvAx9uLdRDX5W6HHG_KZv1jH -O WIDER/temptr.zip\n",
        "    !unzip -q WIDER/temptr.zip -d WIDER\n",
        "    !rm WIDER/temptr.zip\n",
        "  \n",
        "  if test:\n",
        "    #!gdown https://drive.google.com/uc?id=0B6eKvaijfFUDbW4tdGpaYjgzZkU\n",
        "    !gdown https://drive.google.com/uc?id=1tTpUJZEQMKDVxKT6100V5FwDuGX_8sDi -O WIDER/tempt.zip\n",
        "    !unzip -q WIDER/tempt.zip -d WIDER\n",
        "    !rm WIDER/tempt.zip\n",
        "\n",
        "\n",
        "  ### Face annotations\n",
        "  !wget mmlab.ie.cuhk.edu.hk/projects/WIDERFace/support/bbx_annotation/wider_face_split.zip -O WIDER/tempa.zip\n",
        "  !unzip -q WIDER/tempa.zip -d WIDER\n",
        "  !rm WIDER/tempa.zip\n",
        "\n",
        "  #annotations tool\n",
        "  !gdown https://drive.google.com/uc?id=1_9ydMZlTNFXBOMl16xsU8FSBmK2PW4lN -O WIDER/tools.py\n",
        "\n",
        "  #zestaw z danymi wyników trenowania\n",
        "  !gdown https://drive.google.com/uc?id=1Sk6JWWZFHfxvAJtF7JKOk9ptfyVZWNoU -O WIDER/WIDER_test_set.json\n",
        "\n",
        "\n",
        "  #mAP tools\n",
        "  !wget -q -O WIDER/mAP.py https://drive.google.com/uc?id=1PtEsobTFah3eiCDbSsYblOGbe2fmkjGR\n",
        "\n",
        "  ### Examples and formats of the submissions\n",
        "  #!wget mmlab.ie.cuhk.edu.hk/projects/WIDERFace/support/example/Submission_example.zip\n"
      ],
      "execution_count": null,
      "outputs": []
    },
    {
      "cell_type": "code",
      "metadata": {
        "id": "ZTdlDENQMRB4",
        "colab_type": "code",
        "colab": {
          "base_uri": "https://localhost:8080/",
          "height": 957
        },
        "outputId": "218f7630-81f0-4c29-f8d0-72a6eaf52297"
      },
      "source": [
        "def repo_load():\n",
        "  !pip install cython pyyaml==5.1\n",
        "  !pip install -U 'git+https://github.com/cocodataset/cocoapi.git#subdirectory=PythonAPI'\n",
        "\n",
        "  # install detectron2:\n",
        "  !git clone https://github.com/facebookresearch/detectron2 detectron2_repo\n",
        "  !pip install -q -e detectron2_repo\n",
        "\n",
        "  !gdown https://drive.google.com/uc?id=1U0SVkSaSio4TBiXvF1QfTZI65WYpXpZ9\n",
        "  !unzip -qo mobilenet.zip\n",
        "  !rm -f mobilenet.zip\n",
        "\n",
        "repo_load()"
      ],
      "execution_count": null,
      "outputs": [
        {
          "output_type": "stream",
          "text": [
            "Requirement already satisfied: cython in /usr/local/lib/python3.6/dist-packages (0.29.19)\n",
            "Collecting pyyaml==5.1\n",
            "\u001b[?25l  Downloading https://files.pythonhosted.org/packages/9f/2c/9417b5c774792634834e730932745bc09a7d36754ca00acf1ccd1ac2594d/PyYAML-5.1.tar.gz (274kB)\n",
            "\r\u001b[K     |█▏                              | 10kB 26.5MB/s eta 0:00:01\r\u001b[K     |██▍                             | 20kB 2.8MB/s eta 0:00:01\r\u001b[K     |███▋                            | 30kB 3.8MB/s eta 0:00:01\r\u001b[K     |████▉                           | 40kB 4.2MB/s eta 0:00:01\r\u001b[K     |██████                          | 51kB 3.3MB/s eta 0:00:01\r\u001b[K     |███████▏                        | 61kB 3.8MB/s eta 0:00:01\r\u001b[K     |████████▍                       | 71kB 4.0MB/s eta 0:00:01\r\u001b[K     |█████████▋                      | 81kB 4.3MB/s eta 0:00:01\r\u001b[K     |██████████▊                     | 92kB 4.7MB/s eta 0:00:01\r\u001b[K     |████████████                    | 102kB 4.5MB/s eta 0:00:01\r\u001b[K     |█████████████▏                  | 112kB 4.5MB/s eta 0:00:01\r\u001b[K     |██████████████▍                 | 122kB 4.5MB/s eta 0:00:01\r\u001b[K     |███████████████▌                | 133kB 4.5MB/s eta 0:00:01\r\u001b[K     |████████████████▊               | 143kB 4.5MB/s eta 0:00:01\r\u001b[K     |██████████████████              | 153kB 4.5MB/s eta 0:00:01\r\u001b[K     |███████████████████▏            | 163kB 4.5MB/s eta 0:00:01\r\u001b[K     |████████████████████▎           | 174kB 4.5MB/s eta 0:00:01\r\u001b[K     |█████████████████████▌          | 184kB 4.5MB/s eta 0:00:01\r\u001b[K     |██████████████████████▊         | 194kB 4.5MB/s eta 0:00:01\r\u001b[K     |████████████████████████        | 204kB 4.5MB/s eta 0:00:01\r\u001b[K     |█████████████████████████       | 215kB 4.5MB/s eta 0:00:01\r\u001b[K     |██████████████████████████▎     | 225kB 4.5MB/s eta 0:00:01\r\u001b[K     |███████████████████████████▌    | 235kB 4.5MB/s eta 0:00:01\r\u001b[K     |████████████████████████████▊   | 245kB 4.5MB/s eta 0:00:01\r\u001b[K     |█████████████████████████████▉  | 256kB 4.5MB/s eta 0:00:01\r\u001b[K     |███████████████████████████████ | 266kB 4.5MB/s eta 0:00:01\r\u001b[K     |████████████████████████████████| 276kB 4.5MB/s \n",
            "\u001b[?25hBuilding wheels for collected packages: pyyaml\n",
            "  Building wheel for pyyaml (setup.py) ... \u001b[?25l\u001b[?25hdone\n",
            "  Created wheel for pyyaml: filename=PyYAML-5.1-cp36-cp36m-linux_x86_64.whl size=44074 sha256=6903ad338eb2af6b3dfde74b9d4284d1b7aa4751356b01843bba319e061a5fb0\n",
            "  Stored in directory: /root/.cache/pip/wheels/ad/56/bc/1522f864feb2a358ea6f1a92b4798d69ac783a28e80567a18b\n",
            "Successfully built pyyaml\n",
            "Installing collected packages: pyyaml\n",
            "  Found existing installation: PyYAML 3.13\n",
            "    Uninstalling PyYAML-3.13:\n",
            "      Successfully uninstalled PyYAML-3.13\n",
            "Successfully installed pyyaml-5.1\n",
            "Collecting git+https://github.com/cocodataset/cocoapi.git#subdirectory=PythonAPI\n",
            "  Cloning https://github.com/cocodataset/cocoapi.git to /tmp/pip-req-build-50xawzed\n",
            "  Running command git clone -q https://github.com/cocodataset/cocoapi.git /tmp/pip-req-build-50xawzed\n",
            "Requirement already satisfied, skipping upgrade: setuptools>=18.0 in /usr/local/lib/python3.6/dist-packages (from pycocotools==2.0) (47.1.1)\n",
            "Requirement already satisfied, skipping upgrade: cython>=0.27.3 in /usr/local/lib/python3.6/dist-packages (from pycocotools==2.0) (0.29.19)\n",
            "Requirement already satisfied, skipping upgrade: matplotlib>=2.1.0 in /usr/local/lib/python3.6/dist-packages (from pycocotools==2.0) (3.2.1)\n",
            "Requirement already satisfied, skipping upgrade: python-dateutil>=2.1 in /usr/local/lib/python3.6/dist-packages (from matplotlib>=2.1.0->pycocotools==2.0) (2.8.1)\n",
            "Requirement already satisfied, skipping upgrade: cycler>=0.10 in /usr/local/lib/python3.6/dist-packages (from matplotlib>=2.1.0->pycocotools==2.0) (0.10.0)\n",
            "Requirement already satisfied, skipping upgrade: kiwisolver>=1.0.1 in /usr/local/lib/python3.6/dist-packages (from matplotlib>=2.1.0->pycocotools==2.0) (1.2.0)\n",
            "Requirement already satisfied, skipping upgrade: numpy>=1.11 in /usr/local/lib/python3.6/dist-packages (from matplotlib>=2.1.0->pycocotools==2.0) (1.18.4)\n",
            "Requirement already satisfied, skipping upgrade: pyparsing!=2.0.4,!=2.1.2,!=2.1.6,>=2.0.1 in /usr/local/lib/python3.6/dist-packages (from matplotlib>=2.1.0->pycocotools==2.0) (2.4.7)\n",
            "Requirement already satisfied, skipping upgrade: six>=1.5 in /usr/local/lib/python3.6/dist-packages (from python-dateutil>=2.1->matplotlib>=2.1.0->pycocotools==2.0) (1.12.0)\n",
            "Building wheels for collected packages: pycocotools\n",
            "  Building wheel for pycocotools (setup.py) ... \u001b[?25l\u001b[?25hdone\n",
            "  Created wheel for pycocotools: filename=pycocotools-2.0-cp36-cp36m-linux_x86_64.whl size=267012 sha256=abecbac27b658ae4d5a996ea24d9e3100d06351ce89c13ea579051d064ed222d\n",
            "  Stored in directory: /tmp/pip-ephem-wheel-cache-ddf_8cia/wheels/90/51/41/646daf401c3bc408ff10de34ec76587a9b3ebfac8d21ca5c3a\n",
            "Successfully built pycocotools\n",
            "Installing collected packages: pycocotools\n",
            "  Found existing installation: pycocotools 2.0.0\n",
            "    Uninstalling pycocotools-2.0.0:\n",
            "      Successfully uninstalled pycocotools-2.0.0\n",
            "Successfully installed pycocotools-2.0\n",
            "Cloning into 'detectron2_repo'...\n",
            "remote: Enumerating objects: 5352, done.\u001b[K\n",
            "remote: Total 5352 (delta 0), reused 0 (delta 0), pack-reused 5352\u001b[K\n",
            "Receiving objects: 100% (5352/5352), 2.51 MiB | 26.23 MiB/s, done.\n",
            "Resolving deltas: 100% (3848/3848), done.\n",
            "  Building wheel for fvcore (setup.py) ... \u001b[?25l\u001b[?25hdone\n",
            "Downloading...\n",
            "From: https://drive.google.com/uc?id=1U0SVkSaSio4TBiXvF1QfTZI65WYpXpZ9\n",
            "To: /content/mobilenet.zip\n",
            "100% 11.8k/11.8k [00:00<00:00, 10.5MB/s]\n"
          ],
          "name": "stdout"
        }
      ]
    },
    {
      "cell_type": "code",
      "metadata": {
        "id": "MpCvj21UPayq",
        "colab_type": "code",
        "colab": {
          "base_uri": "https://localhost:8080/",
          "height": 477
        },
        "outputId": "00940f55-ff0e-4f11-80f3-afb3e9d23e37"
      },
      "source": [
        "Wider_load(train=False)"
      ],
      "execution_count": null,
      "outputs": [
        {
          "output_type": "stream",
          "text": [
            "Downloading...\n",
            "From: https://drive.google.com/uc?id=1-5A_pa_jDS7gk8mHVCBB7ApV5KN8jWDr\n",
            "To: /content/WIDER/tempv.zip\n",
            "363MB [00:03, 103MB/s]\n",
            "--2020-06-07 08:40:25--  http://mmlab.ie.cuhk.edu.hk/projects/WIDERFace/support/bbx_annotation/wider_face_split.zip\n",
            "Resolving mmlab.ie.cuhk.edu.hk (mmlab.ie.cuhk.edu.hk)... 137.189.99.12\n",
            "Connecting to mmlab.ie.cuhk.edu.hk (mmlab.ie.cuhk.edu.hk)|137.189.99.12|:80... connected.\n",
            "HTTP request sent, awaiting response... 200 OK\n",
            "Length: 3591642 (3.4M) [application/zip]\n",
            "Saving to: ‘WIDER/tempa.zip’\n",
            "\n",
            "WIDER/tempa.zip     100%[===================>]   3.42M  3.63MB/s    in 0.9s    \n",
            "\n",
            "2020-06-07 08:40:27 (3.63 MB/s) - ‘WIDER/tempa.zip’ saved [3591642/3591642]\n",
            "\n",
            "Downloading...\n",
            "From: https://drive.google.com/uc?id=1_9ydMZlTNFXBOMl16xsU8FSBmK2PW4lN\n",
            "To: /content/WIDER/tools.py\n",
            "100% 4.23k/4.23k [00:00<00:00, 3.76MB/s]\n",
            "Downloading...\n",
            "From: https://drive.google.com/uc?id=1Sk6JWWZFHfxvAJtF7JKOk9ptfyVZWNoU\n",
            "To: /content/WIDER/WIDER_test_set.json\n",
            "100% 14.7k/14.7k [00:00<00:00, 23.2MB/s]\n"
          ],
          "name": "stdout"
        }
      ]
    },
    {
      "cell_type": "code",
      "metadata": {
        "colab_type": "code",
        "id": "GwcmfbV2Cv7F",
        "colab": {
          "base_uri": "https://localhost:8080/",
          "height": 357
        },
        "outputId": "31847d16-18a0-4332-afa7-63c625bde1ff"
      },
      "source": [
        "#Faces_DD set\n",
        "!pip install gdown\n",
        "import gdown\n",
        "url = 'https://drive.google.com/uc?export=download&id=1XwVm-2EMFdy9Zq39pKFr5UoSJvgTOm-7'\n",
        "output = 'Faces_DD.zip'\n",
        "gdown.download(url, output, False)\n",
        "!unzip -qo Faces_DD.zip\n",
        "!rm Faces_DD.zip\n",
        "\n",
        "url = 'https://drive.google.com/uc?export=download&id=1gIIUK518Ft9zi3VDVQZLRVozI-Hkpgt2'\n",
        "output = 'Faces_DD/Faces_DD_metrics.json'\n",
        "gdown.download(url, output, False)"
      ],
      "execution_count": null,
      "outputs": [
        {
          "output_type": "stream",
          "text": [
            "Requirement already satisfied: gdown in /usr/local/lib/python3.6/dist-packages (3.6.4)\n",
            "Requirement already satisfied: six in /usr/local/lib/python3.6/dist-packages (from gdown) (1.12.0)\n",
            "Requirement already satisfied: requests in /usr/local/lib/python3.6/dist-packages (from gdown) (2.23.0)\n",
            "Requirement already satisfied: tqdm in /usr/local/lib/python3.6/dist-packages (from gdown) (4.41.1)\n",
            "Requirement already satisfied: urllib3!=1.25.0,!=1.25.1,<1.26,>=1.21.1 in /usr/local/lib/python3.6/dist-packages (from requests->gdown) (1.24.3)\n",
            "Requirement already satisfied: idna<3,>=2.5 in /usr/local/lib/python3.6/dist-packages (from requests->gdown) (2.9)\n",
            "Requirement already satisfied: certifi>=2017.4.17 in /usr/local/lib/python3.6/dist-packages (from requests->gdown) (2020.4.5.1)\n",
            "Requirement already satisfied: chardet<4,>=3.0.2 in /usr/local/lib/python3.6/dist-packages (from requests->gdown) (3.0.4)\n"
          ],
          "name": "stdout"
        },
        {
          "output_type": "stream",
          "text": [
            "Downloading...\n",
            "From: https://drive.google.com/uc?export=download&id=1XwVm-2EMFdy9Zq39pKFr5UoSJvgTOm-7\n",
            "To: /content/Faces_DD.zip\n",
            "2.37GB [00:27, 86.3MB/s]\n",
            "Downloading...\n",
            "From: https://drive.google.com/uc?export=download&id=1gIIUK518Ft9zi3VDVQZLRVozI-Hkpgt2\n",
            "To: /content/Faces_DD/Faces_DD_metrics.json\n",
            "100%|██████████| 336k/336k [00:00<00:00, 139MB/s]\n"
          ],
          "name": "stderr"
        },
        {
          "output_type": "execute_result",
          "data": {
            "text/plain": [
              "'Faces_DD/Faces_DD_metrics.json'"
            ]
          },
          "metadata": {
            "tags": []
          },
          "execution_count": 4
        }
      ]
    },
    {
      "cell_type": "markdown",
      "metadata": {
        "id": "qzx4JAMasOcs",
        "colab_type": "text"
      },
      "source": [
        "<font color=red> Restart runtime to continue... <b>Crtl+M.</b> </font>"
      ]
    },
    {
      "cell_type": "code",
      "metadata": {
        "id": "oGYW4qkoKnHt",
        "colab_type": "code",
        "colab": {
          "base_uri": "https://localhost:8080/",
          "height": 397
        },
        "outputId": "c668a67b-cc35-4417-f05f-2d2c1100e7dd"
      },
      "source": [
        "!nvidia-smi\n",
        "from psutil import virtual_memory\n",
        "print('Your runtime has {:.1f} gigabytes of available RAM\\n'.format(virtual_memory().total / 1e9))"
      ],
      "execution_count": null,
      "outputs": [
        {
          "output_type": "stream",
          "text": [
            "Sun Jun  7 10:47:43 2020       \n",
            "+-----------------------------------------------------------------------------+\n",
            "| NVIDIA-SMI 440.82       Driver Version: 418.67       CUDA Version: 10.1     |\n",
            "|-------------------------------+----------------------+----------------------+\n",
            "| GPU  Name        Persistence-M| Bus-Id        Disp.A | Volatile Uncorr. ECC |\n",
            "| Fan  Temp  Perf  Pwr:Usage/Cap|         Memory-Usage | GPU-Util  Compute M. |\n",
            "|===============================+======================+======================|\n",
            "|   0  Tesla P100-PCIE...  Off  | 00000000:00:04.0 Off |                    0 |\n",
            "| N/A   40C    P0    31W / 250W |      0MiB / 16280MiB |      0%      Default |\n",
            "+-------------------------------+----------------------+----------------------+\n",
            "                                                                               \n",
            "+-----------------------------------------------------------------------------+\n",
            "| Processes:                                                       GPU Memory |\n",
            "|  GPU       PID   Type   Process name                             Usage      |\n",
            "|=============================================================================|\n",
            "|  No running processes found                                                 |\n",
            "+-----------------------------------------------------------------------------+\n",
            "Your runtime has 27.4 gigabytes of available RAM\n",
            "\n"
          ],
          "name": "stdout"
        }
      ]
    },
    {
      "cell_type": "code",
      "metadata": {
        "id": "xhlK2dYaw2ZM",
        "colab_type": "code",
        "colab": {}
      },
      "source": [
        "#!gdown https://drive.google.com/uc?id=1Sk6JWWZFHfxvAJtF7JKOk9ptfyVZWNoU -O WIDER/WIDER_test_set.json"
      ],
      "execution_count": null,
      "outputs": []
    },
    {
      "cell_type": "code",
      "metadata": {
        "id": "Ucz8h0sBtzkJ",
        "colab_type": "code",
        "colab": {}
      },
      "source": [
        "import time\n",
        "\n",
        "import torch, torchvision\n",
        "import detectron2\n",
        "from detectron2.utils.logger import setup_logger\n",
        "setup_logger()\n",
        "\n",
        "from google.colab import drive\n",
        "import os\n",
        "import cv2\n",
        "import random\n",
        "import itertools\n",
        "import shutil\n",
        "import glob\n",
        "import json\n",
        "import numpy as np\n",
        "import pandas as pd\n",
        "from PIL import ImageDraw, Image\n",
        "from collections import defaultdict\n",
        "import matplotlib.pyplot as plt\n",
        "from matplotlib.patches import Ellipse\n",
        "from matplotlib import collections as mc\n",
        "\n",
        "from google.colab.patches import cv2_imshow\n",
        "\n",
        "from detectron2 import model_zoo\n",
        "import detectron2.utils.comm as comm\n",
        "from detectron2.engine import DefaultPredictor, DefaultTrainer, HookBase\n",
        "from detectron2.config import get_cfg\n",
        "from detectron2.utils.visualizer import Visualizer\n",
        "from detectron2.data import DatasetCatalog, MetadataCatalog, build_detection_train_loader\n",
        "from detectron2.structures import BoxMode\n",
        "from detectron2.data import build_detection_test_loader\n",
        "from detectron2.data.datasets import register_coco_instances\n",
        "from detectron2.evaluation import COCOEvaluator, inference_on_dataset"
      ],
      "execution_count": null,
      "outputs": []
    },
    {
      "cell_type": "code",
      "metadata": {
        "id": "aSh762BHzDlP",
        "colab_type": "code",
        "colab": {}
      },
      "source": [
        "from mobilenet.utils import  add_mobilenet_config, build_mobilenetv2_fpn_backbone\n",
        "from WIDER.mAP import mAP, plot_mAP\n",
        "from WIDER.tools import annotations,output_Files\n",
        "\n",
        "#sciezki do trenowanych wag modeli mobilenet\n",
        "with open('WIDER/WIDER_test_set.json','r') as f:\n",
        "  test_set=json.load(f)\n"
      ],
      "execution_count": null,
      "outputs": []
    },
    {
      "cell_type": "code",
      "metadata": {
        "id": "X1wI2_C_P24F",
        "colab_type": "code",
        "colab": {}
      },
      "source": [
        "output_files=output_Files()\n",
        "with open('Faces_DD/Faces_DD_metrics.json','r') as f:\n",
        "  Faces_DD=json.load(f)\n",
        "resF,resW ={},{}  # wyniki dla Feces i Wider {gbxs,dbxs,metric}"
      ],
      "execution_count": null,
      "outputs": []
    },
    {
      "cell_type": "code",
      "metadata": {
        "id": "WIwrwy_xuIzd",
        "colab_type": "code",
        "colab": {
          "base_uri": "https://localhost:8080/",
          "height": 77
        },
        "outputId": "720be8ce-1547-48db-c319-2af41a28ab37"
      },
      "source": [
        "test_set['BN_Mish_V2_250+F_2_100k'] #best model BN+Mish V2 250k iterations + FrozenBN 100k iterations"
      ],
      "execution_count": null,
      "outputs": [
        {
          "output_type": "execute_result",
          "data": {
            "text/plain": [
              "{'config': 'BN_Mish_V2F',\n",
              " 'pth': 'https://drive.google.com/uc?id=1-ZFjV1a8Wz3wz1f1CrjPWFFChW-4aAlN',\n",
              " 'weights_name': 'model_0099999.pth'}"
            ]
          },
          "metadata": {
            "tags": []
          },
          "execution_count": 6
        }
      ]
    },
    {
      "cell_type": "code",
      "metadata": {
        "id": "FAfgxKKBtT4m",
        "colab_type": "code",
        "colab": {
          "base_uri": "https://localhost:8080/",
          "height": 77
        },
        "outputId": "cd51fe0f-ab7e-47ba-fac1-9ba846ccd140"
      },
      "source": [
        "len(test_set.keys()),test_set.keys()"
      ],
      "execution_count": null,
      "outputs": [
        {
          "output_type": "execute_result",
          "data": {
            "text/plain": [
              "(96,\n",
              " dict_keys(['100k', '400k', '800k', 'BN_10k', 'BN_20k', 'BN_30k', 'BN_40k', 'BN_50k', 'BN_100k', 'BN_120k', 'BN_130k', 'BN_150k', 'BN_200k', 'BN_230k', 'BN_250k', 'BN_300k', 'BN_350k', 'BN_400k', 'BN_410k', 'BN_420k', 'BN_450k', 'BN_500k', 'BN_550k', 'BN_600k', 'BN_650k', 'BN_700k', 'BN_800k', 'BN_V2_10k', 'BN_V2_30k', 'BN_V2_50k', 'BN_V2_100k', 'BN_V2_150k', 'BN_V2_200k', 'BN_V2_250k', 'BN_V2_300k', 'BN_Mish_10k', 'BN_Mish_30k', 'BN_Mish_50k', 'BN_Mish_100k', 'BN_Mish_150k', 'BN_Mish_200k', 'BN_Mish_V2_10k', 'BN_Mish_V2_20k', 'BN_Mish_V2_50k', 'BN_Mish_V2_100k', 'BN_Mish_250k', 'BN_Mish_300k', 'BN_Mish_V2_150k', 'BN_Mish_V2_200k', 'BN_Mish_V2_250k', 'BN_Mish_V2_300k', 'BN_Mish_V3_10k', 'BN_Mish_V3_20k', 'BN_Mish_V2_270k', 'BN_Mish_V2_400k', 'BN_Mish_V3_50k', 'BN_Mish_V3_80k', 'BN_V2_400k', 'BN_Mish_V3_100k', 'BN_Mish_V3_80+_10k', 'BN_Mish_V3_80+_20k', 'BN_Mish_V3_80+_30k', 'BN_Mish_V3_80+_40k', 'BN_V2_500k', 'BN_Mish_V2_250+_10k', 'BN_Mish_V3_80+_50k', 'BN_Mish_V2_250+_20k', 'BN_Mish_V3_80+_70k', 'BN_Mish_V2_250+_50k', 'BN_Mish_V2_250+_70k', 'BN_Mish_400k', 'BN_Mish_V2_250+_80k', 'BN_Mish_V2_250+F_10k', 'BN_Mish_V2_250+F_20k', 'BN_Mish_V2_250+_100k', 'BN_Mish_V2_250+F_50k', 'BN_Mish_V2_250+_120k', 'BN_Mish_V2_250+F_2_10k', 'BN_Mish_V2_250+F_2_20k', 'BN_Mish_V2_250+F_100k', 'BN_Mish_V2_250+F_2_50k', 'BN_Mish_V2_250+F_3_10k', 'BN_Mish_V2_250+F_3_20k', 'BN_Mish_V2_250+F_3_50k', 'BN_Mish_V2_250+F_2_100k', 'BN_Mish_V2_250+F_2_60k', 'BN_Mish_V2_250+F_2_40k', 'BN_Mish_V2_250+F_3_100k', 'BN_Mish_V2_250+F_4_10k', 'BN_Mish_V2_250+F_4_20k', 'BN_Mish_V2_250+F_4_50k', 'BN_Mish_V2_250+F_4_100k', 'BN_Mish_600k', 'BN_Mish_800k', 'BN_Mish_V2F_250+F_2_50k', 'BN_Mish_V2F_250+F_22_300k']))"
            ]
          },
          "metadata": {
            "tags": []
          },
          "execution_count": 7
        }
      ]
    },
    {
      "cell_type": "markdown",
      "metadata": {
        "id": "qQzn2qdj9dBD",
        "colab_type": "text"
      },
      "source": [
        "800k - trenowanie na parametrach domyslnych do 800k iteracji\n",
        "\n",
        "BN_800k - z BatchNormalization do 800k\n",
        "\n",
        "BN_V2_300k - BN + normalizacja w preprocesing + poprawiony format na RGB\n",
        "\n",
        "BN_Mish  - zmieniona funkcja aktywacji na Mish z ReLU6\n",
        "\n",
        "BN_Mish + F - douczania ze zmienionym BN na FrozenBN"
      ]
    },
    {
      "cell_type": "markdown",
      "metadata": {
        "id": "XXMv27Egzvf5",
        "colab_type": "text"
      },
      "source": [
        "# Prepare the dataset\n",
        "\n",
        "## WIDER FACE: A Face Detection Benchmark\n",
        "http://shuoyang1213.me/WIDERFACE/ <br>\n",
        "\n",
        "https://arxiv.org/pdf/1511.06523.pdf <br>\n"
      ]
    },
    {
      "cell_type": "code",
      "metadata": {
        "id": "RMwVqEK1v9zo",
        "colab_type": "code",
        "colab": {}
      },
      "source": [
        "train = annotations(\"val\")\n",
        "val = annotations('val')\n",
        "\n",
        "for d in [\"train\",\"val\"]:\n",
        "  DatasetCatalog.register(\"face_\" + d, lambda d=d: train if d == \"train\" else val)\n",
        "  MetadataCatalog.get(\"face_\" + d).set(thing_classes = ['face'])\n",
        "\n",
        "faces_metadata = MetadataCatalog.get(\"face_train\")"
      ],
      "execution_count": null,
      "outputs": []
    },
    {
      "cell_type": "markdown",
      "metadata": {
        "id": "MyQ2-ALw54Qt",
        "colab_type": "text"
      },
      "source": [
        "# \"Base-RCNN-MobileNet-FPN_v1.yaml\"\n",
        "mobilenet/configs\n"
      ]
    },
    {
      "cell_type": "markdown",
      "metadata": {
        "id": "oehRmfi00F_t",
        "colab_type": "text"
      },
      "source": [
        "Użycie modelu"
      ]
    },
    {
      "cell_type": "code",
      "metadata": {
        "id": "vy65_D8LFhrA",
        "colab_type": "code",
        "colab": {}
      },
      "source": [
        "# pelny zestaw kodow, wynikow\n",
        "# https://drive.google.com/drive/folders/1ApEnn3br2Z2Nt3-0Ve9DKYKMiDkFVpAR?usp=sharing\n",
        "\n",
        "#zestawy z konfiguracja cfg\n",
        "cfg_set = {\n",
        "    'FrozenBN':'https://drive.google.com/uc?id=1rZFzJaR_g7uYuTguTdbUuCQYD4eXLeqw',\n",
        "    'BN': 'https://drive.google.com/uc?id=1-doXtwe5iZHoqPzKGc2ZZbxj6Ebhxsn4',\n",
        "    'BN_V2':'https://drive.google.com/uc?id=1wywB8UAaOO5KZx3IS35kV-rLsvJMIse6',\n",
        "    'BN_Mish':'https://drive.google.com/uc?id=1-axV3KKg8-YiZZ7uDBh_2v181JoC9Nj3',\n",
        "    'BN_Mish_V2':'https://drive.google.com/uc?id=1WoESx5RYvpapNicpSrmMoNJeE2GVm3zK',\n",
        "    'BN_Mish_V3':'https://drive.google.com/uc?id=1-Kgd_2AS4EsD_ZPqP7SxkscyDjP-Qhnr',\n",
        "    'BN_Mish_V2F':'https://drive.google.com/uc?id=1pCwyYCjIoduro2vIKMZi5HhlpaypH0_x',\n",
        "    'R50_C4':'https://drive.google.com/uc?id=1-5P5Xyx5GM26p7g89CY-SSX0aluB7H9U',\n",
        "\n",
        "\n",
        "      }\n",
        "\n",
        "def test_set_add(config,count,pth,ext=''): #config name or index of cf_set.keys(), count @ .000\n",
        "  set_list=list(cfg_set.keys())\n",
        "  if (isinstance(config,str) and not config in set_list) or (isinstance(config,int)) and config >=len(set_list): \n",
        "    print('No ',config,' on the list: ', cfg_set.keys())\n",
        "  else:\n",
        "    config=list(cfg_set.keys())[config] if isinstance(config,int) else config\n",
        "    set_choice=config+ext+'_'+str(count)+'k'\n",
        "    weights='model_{:07}.pth'.format((count*1000)-1)\n",
        "    test_set[set_choice]={'pth':'https://drive.google.com/uc?id='+pth,\n",
        "                          'weights_name': weights,\n",
        "                          'config': config,}\n",
        "  return set_choice,test_set[set_choice]"
      ],
      "execution_count": null,
      "outputs": []
    },
    {
      "cell_type": "code",
      "metadata": {
        "colab_type": "code",
        "id": "l2uZtVOGks2o",
        "colab": {}
      },
      "source": [
        "#Weights and cfg configuration from training\n",
        "cfg = get_cfg()\n",
        "add_mobilenet_config(cfg)\n",
        "\n",
        "def cfg_write(cfg,cfg_all):\n",
        "  for key in cfg_all.keys():\n",
        "    if isinstance(cfg_all[key],dict): cfg_write(cfg[key],cfg_all[key])\n",
        "    else: cfg[key]=cfg_all[key]\n",
        "  return cfg\n",
        "\n",
        "def set_predictor(set_choice,device='cuda'):\n",
        "    print('PREPARATION: ',set_choice)\n",
        "    path = test_set[set_choice]['pth']   #sciezka do wag modelu\n",
        "    out = test_set[set_choice]['weights_name']\n",
        "    !gdown $path #-O $out #bez, mamy kontrole zgodnosci nazwy pliku \n",
        "    path=cfg_set[test_set[set_choice]['config']] #sciezka do konfiguracji\n",
        "    !gdown -q $path -O 'Base-RCNN-MobileNet-FPN_V1_ALL.json'\n",
        "\n",
        "\n",
        "    with open('Base-RCNN-MobileNet-FPN_V1_ALL.json','r') as f:\n",
        "      cfg_all=json.load(f)  \n",
        "    \n",
        "    cfg = get_cfg(); add_mobilenet_config(cfg)\n",
        "    cfg=cfg_write(cfg,cfg_all)\n",
        "    cfg.MODEL.WEIGHTS = test_set[set_choice]['weights_name']\n",
        "    cfg.MODEL.ROI_HEADS.SCORE_THRESH_TEST = 0.5   # set the testing threshold for this model\n",
        "    cfg.MODEL.DEVICE=device\n",
        " \n",
        "    return DefaultPredictor(cfg),cfg,set_choice\n"
      ],
      "execution_count": null,
      "outputs": []
    },
    {
      "cell_type": "markdown",
      "metadata": {
        "id": "G60JHKE01Kdy",
        "colab_type": "text"
      },
      "source": [
        "AP metric on val"
      ]
    },
    {
      "cell_type": "code",
      "metadata": {
        "colab_type": "code",
        "id": "Qs0iQ6td92fe",
        "colab": {}
      },
      "source": [
        "def plot_marks(img,metric,dbxs=[],figsize=(14,14)): \n",
        "\n",
        "  fig, ax = plt.subplots(1,1,figsize=figsize); ax.imshow(img)\n",
        "  Ms=np.array(metric['marks'])\n",
        "  color,color_det,lw=('white','red',1)\n",
        "  for k,dbx in enumerate(metric['marks']):\n",
        "    annot=str(k)+'  -   '+metric['persons'][k]\n",
        "    ax.annotate(annot,np.array(dbx[:2])+2,color='k')\n",
        "    ax.annotate(annot,dbx[:2],color='w')\n",
        "  if dbxs != []:\n",
        "    cbox = mc.LineCollection([[[l,t],[r,t],[r,b],[l,b],[l,t]] for l,t,r,b,_ in dbxs], linewidth=lw+1, colors=color_det)\n",
        "    ax.add_collection(cbox)\n",
        "\n",
        "  cbox = mc.LineCollection([[[l,t],[r,t],[r,b],[l,b],[l,t]] for l,t,r,b in Ms], linewidth=lw, colors=color)\n",
        "  ax.add_collection(cbox)\n",
        "  print(len(metric['marks']),end=',  ')\n",
        "  print('Annotated Boxes',end=', ')\n",
        "  print('        '+metric['path'])\n",
        "  for name in metric['persons']:\n",
        "    if name !='': print(name,end=',  ')  \n",
        "  #plt.axis('off')\n",
        "  plt.show()"
      ],
      "execution_count": null,
      "outputs": []
    },
    {
      "cell_type": "code",
      "metadata": {
        "colab_type": "code",
        "id": "bGPVwnC0uN92",
        "colab": {}
      },
      "source": [
        "def results(d_set,predictor,name='mAP_',ext='---',pres=False):\n",
        "    start=time.time()\n",
        "    gbxs=[]; dbxs=[]; dset=d_set\n",
        "    if 'annotations' in d_set[0].keys():  #zmiana metryki z Wider do Faces, wybrane pola\n",
        "      dset=[]\n",
        "      for r in d_set:\n",
        "        dset.append({'path' : r['file_name'],'marks' : [b['bbox'] for b in r['annotations']],\n",
        "                     'persons': ['' for b in r['annotations']]})\n",
        "\n",
        "    Len=len(dset); print(ext,' ',Len,' imgs : 0 +',end='')\n",
        "    for i,d in enumerate(dset):   #przypisanie listy detetected i ground truth boxes\n",
        "        im = cv2.imread(d[\"path\"])\n",
        "        outputs = predictor(im)\n",
        "        pbxs=outputs['instances'].pred_boxes.tensor.tolist()\n",
        "        pconfs=outputs['instances'].scores.tolist()\n",
        "        dbx=[[*(np.array(bx)+0.5).astype('int'),pconfs[i]] for i,bx in enumerate(pbxs)]\n",
        "        dbxs.append(dbx)\n",
        "        gbxs.append(d['marks'])\n",
        "\n",
        "        if not i%100 : print('\\r',ext,' ',Len,' imgs : ',i//100*100,' +',end='')\n",
        "        if not (i+1)%10 : print(' ',(i+1)%100,end='')\n",
        "        \n",
        "    total=time.time()-start\n",
        "    print('\\r',name,ext,' - total time {:.2f} s  per img {:.4f} s'.format(total,total/(i+1)))\n",
        "      \n",
        "    # IoUs=[.5,.55,.6,.65,.7,.75,.8,.85,.9,.95,.0]\n",
        "    # keys ['All {:.2f}' for x in IoUs] + ['large','medium','small'] for IoUs[0]\n",
        "    # r_p: 0 - interpolated, 1 - full\n",
        "    m,d=mAP(gbxs,dbxs,data=True)\n",
        "    plot_mAP(m,d,['All 0.50','All 0.00','large','medium','small'],1,name+ext+'  conf>0',file=name+ext)\n",
        "\n",
        "    if pres:\n",
        "      for l in [58,233,259,365,388,394,413,424,446,455,483,532,683,709,722,802,809,874,759]:\n",
        "        if l < Len:\n",
        "          m=dset[l]\n",
        "          print('------------------------  idx  ',l,'  gtx/dbxs',len(m['marks']),'/',len(dbxs[l]))\n",
        "          plot_marks(Image.open(m['path']),m,dbxs[l],figsize=(18,14))  \n",
        "    \n",
        "    return {'gbxs':gbxs,'dbxs':dbxs,'metric':dset} \n"
      ],
      "execution_count": null,
      "outputs": []
    },
    {
      "cell_type": "code",
      "metadata": {
        "id": "hWVsDvWeqi59",
        "colab_type": "code",
        "colab": {
          "base_uri": "https://localhost:8080/",
          "height": 97
        },
        "outputId": "47e81c85-47cc-4d18-ce6b-5ccee2c7938a"
      },
      "source": [
        "#['FrozenBN', 'BN', 'BN_V2', 'BN_Mish', 'BN_Mish_V2', 'BN_Mish_V3', 'BN_Mish_V2F','R50_C4] cfg sets\n",
        "test_set_add(6,300,'10JXHtaSjBtDt0b0Sa6X4esBSysnBb2v-','_250+F_22')\n",
        "test_set_add(4,250,'1-NY6ZeI_0YsI6axbBG9kGpcAr-M0S4wT',)  #najlepszy wynik do dalszego douczania\n",
        "test_set_add(6,50,'1-I6YSAs9NrORI4cFISfK_-4Yhm1twfDi','_250+F_2') # najlepszy wynik douczania\n",
        "test_set_add(7,270,'1-I4m091opkwIRHhvMLftt0eAQp6G0CmJ')\n"
      ],
      "execution_count": null,
      "outputs": [
        {
          "output_type": "execute_result",
          "data": {
            "text/plain": [
              "('BN_Mish_V2F_250+F_2_50k',\n",
              " {'config': 'BN_Mish_V2F',\n",
              "  'pth': 'https://drive.google.com/uc?id=1-I6YSAs9NrORI4cFISfK_-4Yhm1twfDi',\n",
              "  'weights_name': 'model_0049999.pth'})"
            ]
          },
          "metadata": {
            "tags": []
          },
          "execution_count": 13
        }
      ]
    },
    {
      "cell_type": "code",
      "metadata": {
        "id": "cCq6LU9-hYxN",
        "colab_type": "code",
        "colab": {}
      },
      "source": [
        "with open('WIDER_test_set.json','w')as f:\n",
        "  json.dump(test_set,f)"
      ],
      "execution_count": null,
      "outputs": []
    },
    {
      "cell_type": "markdown",
      "metadata": {
        "id": "aTHK483Hc-Gs",
        "colab_type": "text"
      },
      "source": [
        "#wybór zestawów do analizy"
      ]
    },
    {
      "cell_type": "code",
      "metadata": {
        "id": "SjLQMwthXx2M",
        "colab_type": "code",
        "colab": {
          "base_uri": "https://localhost:8080/",
          "height": 197
        },
        "outputId": "b35bc917-2ece-45fb-fee3-44e86352a34a"
      },
      "source": [
        "for key in test_set.keys():\n",
        "  if 'F_2' in key: print(key)"
      ],
      "execution_count": null,
      "outputs": [
        {
          "output_type": "stream",
          "text": [
            "BN_Mish_V2_250+F_20k\n",
            "BN_Mish_V2_250+F_2_10k\n",
            "BN_Mish_V2_250+F_2_20k\n",
            "BN_Mish_V2_250+F_2_50k\n",
            "BN_Mish_V2_250+F_2_100k\n",
            "BN_Mish_V2_250+F_2_60k\n",
            "BN_Mish_V2_250+F_2_40k\n",
            "BN_Mish_V2F_250+F_2_50k\n",
            "BN_Mish_V2F_250+F_22_300k\n"
          ],
          "name": "stdout"
        }
      ]
    },
    {
      "cell_type": "code",
      "metadata": {
        "id": "sHr2mX_tmoS0",
        "colab_type": "code",
        "colab": {
          "base_uri": "https://localhost:8080/",
          "height": 37
        },
        "outputId": "854c6e9f-242d-44e4-8236-4c2b72f6af3b"
      },
      "source": [
        "set_choices=['BN_Mish_V2_250+F_2_100k','BN_Mish_V2F_250+F_22_300k']\n",
        "for c in set_choices:\n",
        "  if c in  test_set.keys(): print(c,' is OK, ',end='')\n",
        "  else: print('\\n!!!!!!! ',c,' is not in test_set!, ',end='')"
      ],
      "execution_count": null,
      "outputs": [
        {
          "output_type": "stream",
          "text": [
            "BN_Mish_V2_250+F_2_100k  is OK, BN_Mish_V2F_250+F_22_300k  is OK, "
          ],
          "name": "stdout"
        }
      ]
    },
    {
      "cell_type": "code",
      "metadata": {
        "id": "Qb4wLZWw8QKw",
        "colab_type": "code",
        "colab": {
          "base_uri": "https://localhost:8080/",
          "height": 97
        },
        "outputId": "e65f6e49-6ed8-4ef1-98de-1bd0a6407643"
      },
      "source": [
        "set_choices[0],test_set[set_choices[0]]"
      ],
      "execution_count": null,
      "outputs": [
        {
          "output_type": "execute_result",
          "data": {
            "text/plain": [
              "('BN_Mish_V2_250+F_2_100k',\n",
              " {'config': 'BN_Mish_V2F',\n",
              "  'pth': 'https://drive.google.com/uc?id=1-ZFjV1a8Wz3wz1f1CrjPWFFChW-4aAlN',\n",
              "  'weights_name': 'model_0099999.pth'})"
            ]
          },
          "metadata": {
            "tags": []
          },
          "execution_count": 17
        }
      ]
    },
    {
      "cell_type": "code",
      "metadata": {
        "id": "YIhVPyIhvprd",
        "colab_type": "code",
        "colab": {
          "base_uri": "https://localhost:8080/",
          "height": 1000
        },
        "outputId": "3767b2c9-a9b8-47d4-de3f-68df1e57b0d8"
      },
      "source": [
        "predictor,cfg,ext=set_predictor(set_choices[-1],device='cuda') #normalnie cuda\n",
        "print(cfg.dump())"
      ],
      "execution_count": null,
      "outputs": [
        {
          "output_type": "stream",
          "text": [
            "PREPARATION:  BN_Mish_V2F_250+F_22_300k\n",
            "Downloading...\n",
            "From: https://drive.google.com/uc?id=10JXHtaSjBtDt0b0Sa6X4esBSysnBb2v-\n",
            "To: /content/model_0299999.pth\n",
            "150MB [00:02, 66.3MB/s]\n",
            "CUDNN_BENCHMARK: false\n",
            "DATALOADER:\n",
            "  ASPECT_RATIO_GROUPING: true\n",
            "  FILTER_EMPTY_ANNOTATIONS: true\n",
            "  NUM_WORKERS: 4\n",
            "  REPEAT_THRESHOLD: 0.0\n",
            "  SAMPLER_TRAIN: TrainingSampler\n",
            "DATASETS:\n",
            "  PRECOMPUTED_PROPOSAL_TOPK_TEST: 1000\n",
            "  PRECOMPUTED_PROPOSAL_TOPK_TRAIN: 2000\n",
            "  PROPOSAL_FILES_TEST: []\n",
            "  PROPOSAL_FILES_TRAIN: []\n",
            "  TEST:\n",
            "  - face_val\n",
            "  TRAIN:\n",
            "  - face_train\n",
            "  VAL:\n",
            "  - face_val\n",
            "GLOBAL:\n",
            "  HACK: 1.0\n",
            "INPUT:\n",
            "  CROP:\n",
            "    ENABLED: false\n",
            "    SIZE:\n",
            "    - 0.9\n",
            "    - 0.9\n",
            "    TYPE: relative_range\n",
            "  FORMAT: RGB\n",
            "  MASK_FORMAT: polygon\n",
            "  MAX_SIZE_TEST: 1333\n",
            "  MAX_SIZE_TRAIN: 1333\n",
            "  MIN_SIZE_TEST: 800\n",
            "  MIN_SIZE_TRAIN:\n",
            "  - 640\n",
            "  - 672\n",
            "  - 704\n",
            "  - 736\n",
            "  - 768\n",
            "  - 800\n",
            "  MIN_SIZE_TRAIN_SAMPLING: choice\n",
            "MODEL:\n",
            "  ANCHOR_GENERATOR:\n",
            "    ANGLES:\n",
            "    - - -90\n",
            "      - 0\n",
            "      - 90\n",
            "    ASPECT_RATIOS:\n",
            "    - - 0.5\n",
            "      - 1.0\n",
            "      - 2.0\n",
            "    NAME: DefaultAnchorGenerator\n",
            "    OFFSET: 0.0\n",
            "    SIZES:\n",
            "    - - 32\n",
            "    - - 64\n",
            "    - - 128\n",
            "    - - 256\n",
            "    - - 512\n",
            "  BACKBONE:\n",
            "    FREEZE_AT: 0\n",
            "    NAME: build_mobilenetv2_fpn_backbone\n",
            "  DEVICE: cuda\n",
            "  FORMAT: RGB\n",
            "  FPN:\n",
            "    FUSE_TYPE: sum\n",
            "    IN_FEATURES:\n",
            "    - res2\n",
            "    - res3\n",
            "    - res4\n",
            "    - res5\n",
            "    NORM: ''\n",
            "    OUT_CHANNELS: 256\n",
            "  KEYPOINT_ON: false\n",
            "  LOAD_PROPOSALS: false\n",
            "  MASK_ON: false\n",
            "  META_ARCHITECTURE: GeneralizedRCNN\n",
            "  MOBILENET:\n",
            "    ACTIVATION: Mish\n",
            "    BACKBONE_OUT_CHANNELS: 256\n",
            "    CONV_BODY: V-39-eSE\n",
            "    NORM: FrozenBN\n",
            "    OUT_CHANNELS: 256\n",
            "    OUT_FEATURES:\n",
            "    - stage2\n",
            "    - stage3\n",
            "    - stage4\n",
            "    - stage5\n",
            "    VERSION: 2\n",
            "  PANOPTIC_FPN:\n",
            "    COMBINE:\n",
            "      ENABLED: true\n",
            "      INSTANCES_CONFIDENCE_THRESH: 0.5\n",
            "      OVERLAP_THRESH: 0.5\n",
            "      STUFF_AREA_LIMIT: 4096\n",
            "    INSTANCE_LOSS_WEIGHT: 1.0\n",
            "  PIXEL_MEAN:\n",
            "  - 119.857\n",
            "  - 110.808\n",
            "  - 104.148\n",
            "  PIXEL_STD:\n",
            "  - 0.6076259372440945\n",
            "  - 0.5876417505511812\n",
            "  - 0.5971849743307086\n",
            "  PROPOSAL_GENERATOR:\n",
            "    MIN_SIZE: 0\n",
            "    NAME: RPN\n",
            "  RESNETS:\n",
            "    DEFORM_MODULATED: false\n",
            "    DEFORM_NUM_GROUPS: 1\n",
            "    DEFORM_ON_PER_STAGE:\n",
            "    - false\n",
            "    - false\n",
            "    - false\n",
            "    - false\n",
            "    DEPTH: 50\n",
            "    NORM: FrozenBN\n",
            "    NUM_GROUPS: 1\n",
            "    OUT_FEATURES:\n",
            "    - res2\n",
            "    - res3\n",
            "    - res4\n",
            "    - res5\n",
            "    RES2_OUT_CHANNELS: 256\n",
            "    RES5_DILATION: 1\n",
            "    STEM_OUT_CHANNELS: 64\n",
            "    STRIDE_IN_1X1: true\n",
            "    WIDTH_PER_GROUP: 64\n",
            "  RETINANET:\n",
            "    BBOX_REG_WEIGHTS:\n",
            "    - 1.0\n",
            "    - 1.0\n",
            "    - 1.0\n",
            "    - 1.0\n",
            "    FOCAL_LOSS_ALPHA: 0.25\n",
            "    FOCAL_LOSS_GAMMA: 2.0\n",
            "    IN_FEATURES:\n",
            "    - p3\n",
            "    - p4\n",
            "    - p5\n",
            "    - p6\n",
            "    - p7\n",
            "    IOU_LABELS:\n",
            "    - 0\n",
            "    - -1\n",
            "    - 1\n",
            "    IOU_THRESHOLDS:\n",
            "    - 0.4\n",
            "    - 0.5\n",
            "    NMS_THRESH_TEST: 0.5\n",
            "    NUM_CLASSES: 80\n",
            "    NUM_CONVS: 4\n",
            "    PRIOR_PROB: 0.01\n",
            "    SCORE_THRESH_TEST: 0.05\n",
            "    SMOOTH_L1_LOSS_BETA: 0.1\n",
            "    TOPK_CANDIDATES_TEST: 1000\n",
            "  ROI_BOX_CASCADE_HEAD:\n",
            "    BBOX_REG_WEIGHTS:\n",
            "    - - 10.0\n",
            "      - 10.0\n",
            "      - 5.0\n",
            "      - 5.0\n",
            "    - - 20.0\n",
            "      - 20.0\n",
            "      - 10.0\n",
            "      - 10.0\n",
            "    - - 30.0\n",
            "      - 30.0\n",
            "      - 15.0\n",
            "      - 15.0\n",
            "    IOUS:\n",
            "    - 0.5\n",
            "    - 0.6\n",
            "    - 0.7\n",
            "  ROI_BOX_HEAD:\n",
            "    BBOX_REG_WEIGHTS:\n",
            "    - 10.0\n",
            "    - 10.0\n",
            "    - 5.0\n",
            "    - 5.0\n",
            "    CLS_AGNOSTIC_BBOX_REG: false\n",
            "    CONV_DIM: 256\n",
            "    FC_DIM: 1024\n",
            "    NAME: FastRCNNConvFCHead\n",
            "    NORM: ''\n",
            "    NUM_CONV: 0\n",
            "    NUM_FC: 2\n",
            "    POOLER_RESOLUTION: 7\n",
            "    POOLER_SAMPLING_RATIO: 0\n",
            "    POOLER_TYPE: ROIAlignV2\n",
            "    SMOOTH_L1_BETA: 0.0\n",
            "    TRAIN_ON_PRED_BOXES: false\n",
            "  ROI_HEADS:\n",
            "    BATCH_SIZE_PER_IMAGE: 512\n",
            "    IN_FEATURES:\n",
            "    - p2\n",
            "    - p3\n",
            "    - p4\n",
            "    - p5\n",
            "    IOU_LABELS:\n",
            "    - 0\n",
            "    - 1\n",
            "    IOU_THRESHOLDS:\n",
            "    - 0.5\n",
            "    NAME: StandardROIHeads\n",
            "    NMS_THRESH_TEST: 0.5\n",
            "    NUM_CLASSES: 1\n",
            "    POSITIVE_FRACTION: 0.25\n",
            "    PROPOSAL_APPEND_GT: true\n",
            "    SCORE_THRESH_TEST: 0.5\n",
            "  ROI_KEYPOINT_HEAD:\n",
            "    CONV_DIMS:\n",
            "    - 512\n",
            "    - 512\n",
            "    - 512\n",
            "    - 512\n",
            "    - 512\n",
            "    - 512\n",
            "    - 512\n",
            "    - 512\n",
            "    LOSS_WEIGHT: 1.0\n",
            "    MIN_KEYPOINTS_PER_IMAGE: 1\n",
            "    NAME: KRCNNConvDeconvUpsampleHead\n",
            "    NORMALIZE_LOSS_BY_VISIBLE_KEYPOINTS: true\n",
            "    NUM_KEYPOINTS: 17\n",
            "    POOLER_RESOLUTION: 14\n",
            "    POOLER_SAMPLING_RATIO: 0\n",
            "    POOLER_TYPE: ROIAlignV2\n",
            "  ROI_MASK_HEAD:\n",
            "    CLS_AGNOSTIC_MASK: false\n",
            "    CONV_DIM: 256\n",
            "    NAME: MaskRCNNConvUpsampleHead\n",
            "    NORM: ''\n",
            "    NUM_CONV: 4\n",
            "    POOLER_RESOLUTION: 14\n",
            "    POOLER_SAMPLING_RATIO: 0\n",
            "    POOLER_TYPE: ROIAlignV2\n",
            "  RPN:\n",
            "    BATCH_SIZE_PER_IMAGE: 256\n",
            "    BBOX_REG_WEIGHTS:\n",
            "    - 1.0\n",
            "    - 1.0\n",
            "    - 1.0\n",
            "    - 1.0\n",
            "    BOUNDARY_THRESH: -1\n",
            "    HEAD_NAME: StandardRPNHead\n",
            "    IN_FEATURES:\n",
            "    - p2\n",
            "    - p3\n",
            "    - p4\n",
            "    - p5\n",
            "    - p6\n",
            "    IOU_LABELS:\n",
            "    - 0\n",
            "    - -1\n",
            "    - 1\n",
            "    IOU_THRESHOLDS:\n",
            "    - 0.3\n",
            "    - 0.7\n",
            "    LOSS_WEIGHT: 1.0\n",
            "    NMS_THRESH: 0.7\n",
            "    POSITIVE_FRACTION: 0.5\n",
            "    POST_NMS_TOPK_TEST: 1000\n",
            "    POST_NMS_TOPK_TRAIN: 1000\n",
            "    PRE_NMS_TOPK_TEST: 1000\n",
            "    PRE_NMS_TOPK_TRAIN: 2000\n",
            "    SMOOTH_L1_BETA: 0.0\n",
            "  SEM_SEG_HEAD:\n",
            "    COMMON_STRIDE: 4\n",
            "    CONVS_DIM: 128\n",
            "    IGNORE_VALUE: 255\n",
            "    IN_FEATURES:\n",
            "    - p2\n",
            "    - p3\n",
            "    - p4\n",
            "    - p5\n",
            "    LOSS_WEIGHT: 1.0\n",
            "    NAME: SemSegFPNHead\n",
            "    NORM: GN\n",
            "    NUM_CLASSES: 1\n",
            "  WEIGHTS: model_0299999.pth\n",
            "OUTPUT_DIR: ./drive/My Drive/Face detection/WIDER_Mish_V2/V22F\n",
            "SEED: -1\n",
            "SOLVER:\n",
            "  BASE_LR: 4.0e-06\n",
            "  BIAS_LR_FACTOR: 1.0\n",
            "  CHECKPOINT_PERIOD: 10000\n",
            "  CLIP_GRADIENTS:\n",
            "    CLIP_TYPE: value\n",
            "    CLIP_VALUE: 1.0\n",
            "    ENABLED: false\n",
            "    NORM_TYPE: 2.0\n",
            "  GAMMA: 0.2\n",
            "  IMS_PER_BATCH: 2\n",
            "  LR_SCHEDULER_NAME: WarmupMultiStepLR\n",
            "  MAX_ITER: 100000\n",
            "  MOMENTUM: 0.9\n",
            "  NESTEROV: false\n",
            "  STEPS:\n",
            "  - 30000\n",
            "  - 50000\n",
            "  WARMUP_FACTOR: 0.001\n",
            "  WARMUP_ITERS: 1000\n",
            "  WARMUP_METHOD: linear\n",
            "  WEIGHT_DECAY: 0.0001\n",
            "  WEIGHT_DECAY_BIAS: 0.0001\n",
            "  WEIGHT_DECAY_NORM: 0.0\n",
            "TEST:\n",
            "  AUG:\n",
            "    ENABLED: false\n",
            "    FLIP: true\n",
            "    MAX_SIZE: 4000\n",
            "    MIN_SIZES:\n",
            "    - 400\n",
            "    - 500\n",
            "    - 600\n",
            "    - 700\n",
            "    - 800\n",
            "    - 900\n",
            "    - 1000\n",
            "    - 1100\n",
            "    - 1200\n",
            "  DETECTIONS_PER_IMAGE: 100\n",
            "  EVAL_PERIOD: 0\n",
            "  EXPECTED_RESULTS: []\n",
            "  KEYPOINT_OKS_SIGMAS: []\n",
            "  PRECISE_BN:\n",
            "    ENABLED: false\n",
            "    NUM_ITER: 200\n",
            "VERSION: 2\n",
            "VIS_PERIOD: 0\n",
            "\n"
          ],
          "name": "stdout"
        }
      ]
    },
    {
      "cell_type": "code",
      "metadata": {
        "id": "02GIDL6O0GYP",
        "colab_type": "code",
        "colab": {}
      },
      "source": [
        "l = [58,233,259,365,388,394,413,424,446,455,483,532,683,709,722,802,809,874,759]\n",
        "for i in l:\n",
        "    d=val[i]     \n",
        "    im = cv2.imread(d[\"file_name\"])\n",
        "    outputs = predictor(im[:, :, ::])\n",
        "    v = Visualizer(im,metadata=faces_metadata, scale=.7)\n",
        "    v = v.draw_instance_predictions(outputs[\"instances\"].to(\"cpu\"))\n",
        "    cv2_imshow(v.get_image()[:, :, ::])\n",
        "    \n",
        "for d in random.sample(val, 5):    \n",
        "    im = cv2.imread(d[\"file_name\"])\n",
        "    outputs = predictor(im[:, :, ::])\n",
        "    v = Visualizer(im,metadata=faces_metadata, scale=0.7)\n",
        "    v = v.draw_instance_predictions(outputs[\"instances\"].to(\"cpu\"))\n",
        "    cv2_imshow(v.get_image()[:, :, ::])"
      ],
      "execution_count": null,
      "outputs": []
    },
    {
      "cell_type": "code",
      "metadata": {
        "id": "VLyqox4CVmyt",
        "colab_type": "code",
        "colab": {}
      },
      "source": [
        "!rm D*"
      ],
      "execution_count": null,
      "outputs": []
    },
    {
      "cell_type": "code",
      "metadata": {
        "id": "KKtsPHp2VlVj",
        "colab_type": "code",
        "colab": {
          "base_uri": "https://localhost:8080/",
          "height": 1000
        },
        "outputId": "a4e4a23a-318e-494f-83a3-f29084f00ca6"
      },
      "source": [
        "for c in set_choices:\n",
        "  predictor,cfg,ext =set_predictor(c)\n",
        "  resF[c]=results(Faces_DD,predictor,'Detectron2_Faces_DD_mAP_MN2_',ext,pres=False)\n",
        "  resW[c]=results(val,predictor,'Detectron2_Wider_Face_mAP_MN2_',ext,pres=False)"
      ],
      "execution_count": null,
      "outputs": [
        {
          "output_type": "stream",
          "text": [
            "PREPARATION:  BN_Mish_V2_250+F_2_100k\n",
            "Downloading...\n",
            "From: https://drive.google.com/uc?id=1-ZFjV1a8Wz3wz1f1CrjPWFFChW-4aAlN\n",
            "To: /content/model_0099999.pth\n",
            "150MB [00:00, 210MB/s]\n",
            " Detectron2_Faces_DD_mAP_MN2_ BN_Mish_V2_250+F_2_100k  - total time 301.49 s  per img 0.3259 s\n",
            "All 0.50:   AP: 92.82%   Recall: 93.64%   IoU: 0.50\n",
            "All 0.00:   AP: 94.26%   Recall: 94.98%   IoU: 0.00\n",
            "large   :   AP: 97.32%   Recall: 97.70%   IoU: 0.50\n",
            "medium  :   AP: 81.85%   Recall: 85.07%   IoU: 0.50\n",
            "small   :   AP: 59.98%   Recall: 66.09%   IoU: 0.50\n"
          ],
          "name": "stdout"
        },
        {
          "output_type": "display_data",
          "data": {
            "image/png": "[encoded data removed]",
            "text/plain": [
              "<Figure size 1152x720 with 1 Axes>"
            ]
          },
          "metadata": {
            "tags": [],
            "needs_background": "light"
          }
        },
        {
          "output_type": "stream",
          "text": [
            " Detectron2_Wider_Face_mAP_MN2_ BN_Mish_V2_250+F_2_100k  - total time 303.95 s  per img 0.0942 s\n",
            "All 0.50:   AP: 55.27%   Recall: 56.23%   IoU: 0.50\n",
            "All 0.00:   AP: 58.37%   Recall: 59.11%   IoU: 0.00\n",
            "large   :   AP: 93.95%   Recall: 94.23%   IoU: 0.50\n",
            "medium  :   AP: 87.67%   Recall: 88.13%   IoU: 0.50\n",
            "small   :   AP: 41.56%   Recall: 42.95%   IoU: 0.50\n"
          ],
          "name": "stdout"
        },
        {
          "output_type": "display_data",
          "data": {
            "image/png": "[encoded data removed]",
            "text/plain": [
              "<Figure size 1152x720 with 1 Axes>"
            ]
          },
          "metadata": {
            "tags": [],
            "needs_background": "light"
          }
        },
        {
          "output_type": "stream",
          "text": [
            "PREPARATION:  BN_Mish_V2F_250+F_22_300k\n",
            "Downloading...\n",
            "From: https://drive.google.com/uc?id=10JXHtaSjBtDt0b0Sa6X4esBSysnBb2v-\n",
            "To: /content/model_0299999.pth\n",
            "150MB [00:01, 92.9MB/s]\n",
            " Detectron2_Faces_DD_mAP_MN2_ BN_Mish_V2F_250+F_22_300k  - total time 300.96 s  per img 0.3254 s\n",
            "All 0.50:   AP: 92.58%   Recall: 93.49%   IoU: 0.50\n",
            "All 0.00:   AP: 94.39%   Recall: 95.13%   IoU: 0.00\n",
            "large   :   AP: 97.13%   Recall: 97.55%   IoU: 0.50\n",
            "medium  :   AP: 81.71%   Recall: 85.42%   IoU: 0.50\n",
            "small   :   AP: 57.02%   Recall: 63.48%   IoU: 0.50\n"
          ],
          "name": "stdout"
        },
        {
          "output_type": "display_data",
          "data": {
            "image/png": "[encoded data removed]",
            "text/plain": [
              "<Figure size 1152x720 with 1 Axes>"
            ]
          },
          "metadata": {
            "tags": [],
            "needs_background": "light"
          }
        },
        {
          "output_type": "stream",
          "text": [
            " Detectron2_Wider_Face_mAP_MN2_ BN_Mish_V2F_250+F_22_300k  - total time 304.14 s  per img 0.0943 s\n",
            "All 0.50:   AP: 55.13%   Recall: 56.09%   IoU: 0.50\n",
            "All 0.00:   AP: 58.32%   Recall: 59.05%   IoU: 0.00\n",
            "large   :   AP: 93.89%   Recall: 94.15%   IoU: 0.50\n",
            "medium  :   AP: 87.72%   Recall: 88.18%   IoU: 0.50\n",
            "small   :   AP: 41.33%   Recall: 42.74%   IoU: 0.50\n"
          ],
          "name": "stdout"
        },
        {
          "output_type": "display_data",
          "data": {
            "image/png": "[encoded data removed]",
            "text/plain": [
              "<Figure size 1152x720 with 1 Axes>"
            ]
          },
          "metadata": {
            "tags": [],
            "needs_background": "light"
          }
        }
      ]
    },
    {
      "cell_type": "code",
      "metadata": {
        "id": "hSHyPOuHEbxS",
        "colab_type": "code",
        "colab": {
          "base_uri": "https://localhost:8080/",
          "height": 117
        },
        "outputId": "48ef63c7-18ed-486b-890d-7ce5e277b9fd"
      },
      "source": [
        "for c in set_choices:\n",
        "  res=mAP(resW[c]['gbxs'],resW[c]['dbxs'],data=False)\n",
        "  Ap=[]\n",
        "  for i in range(10):\n",
        "    Ap.append(res[0]['All {:.2f}'.format(0.5+i*0.05)][0])\n",
        "  print(c,' mAP: ',sum(Ap)/10,'\\nset: ', Ap)  #srednie AP dla conf [.5 ... 0.95]"
      ],
      "execution_count": null,
      "outputs": [
        {
          "output_type": "stream",
          "text": [
            "BN_Mish_V2_250+F_2_100k  mAP:  0.3166104165378291 \n",
            "set:  [0.5527466920980653, 0.5369778853450278, 0.5106115578752803, 0.471661830118787, 0.4169904903398224, 0.33363662142073364, 0.22333259644470427, 0.10094707651724524, 0.01873168352928583, 0.00046773168933942873]\n",
            "BN_Mish_V2F_250+F_22_300k  mAP:  0.3139645312184273 \n",
            "set:  [0.5512928096538713, 0.5354521156542177, 0.5076438621733479, 0.46853439028360105, 0.4122057066095441, 0.32896362182210426, 0.2190019665034784, 0.09798182571390686, 0.018157207364947504, 0.000411806405254488]\n"
          ],
          "name": "stdout"
        }
      ]
    },
    {
      "cell_type": "code",
      "metadata": {
        "id": "AUr-r9aLDYNq",
        "colab_type": "code",
        "colab": {
          "base_uri": "https://localhost:8080/",
          "height": 177
        },
        "outputId": "e71f2bdd-0105-40ed-e432-db111dd4e549"
      },
      "source": [
        "resF[set_choices[0]]['metric'][0]"
      ],
      "execution_count": null,
      "outputs": [
        {
          "output_type": "execute_result",
          "data": {
            "text/plain": [
              "{'depth': 3,\n",
              " 'grey': False,\n",
              " 'marks': [[488.0, 658.0, 1414.0, 1778.0]],\n",
              " 'mean_std': [[120.13626572107435, 108.362532642924, 99.86483683920541],\n",
              "  [69.45270481118739, 68.85858604223439, 72.785191769202]],\n",
              " 'ori_size': [1944, 2592],\n",
              " 'path': 'Faces_DD/2004/DSC04759.JPG',\n",
              " 'persons': ['ZBD']}"
            ]
          },
          "metadata": {
            "tags": []
          },
          "execution_count": 23
        }
      ]
    },
    {
      "cell_type": "code",
      "metadata": {
        "id": "GU_6kPWU2Cqm",
        "colab_type": "code",
        "colab": {}
      },
      "source": [
        "import json\n",
        "def to_int(data):\n",
        "  if isinstance(data,dict):\n",
        "    for key in data.keys(): data[key]=to_int(data[key])\n",
        "  if isinstance(data,list):\n",
        "    for k in range(len(data)): data[k]=to_int(data[k])\n",
        "  if isinstance(data,tuple):\n",
        "    data=list(data)\n",
        "    for k in range(len(data)): data[k]=to_int(data[k]) \n",
        "  if 'int' in data.__class__.__name__: \n",
        "    data=int(data)\n",
        "  return data\n",
        "\n",
        "#json obsluguje calkowite tylko w typie int\n",
        "\n",
        "iresF = to_int(resF)\n",
        "iresW = to_int(resW)\n",
        "with open('Results Detectron2_mobilenetV2_Faces.json','w') as f:\n",
        "  json.dump(iresF,f)\n",
        "with open('Results Detectron2_mobilenetV2_Wider.json','w') as f:\n",
        "  json.dump(iresW,f)"
      ],
      "execution_count": null,
      "outputs": []
    },
    {
      "cell_type": "code",
      "metadata": {
        "id": "3I15uXWI_15T",
        "colab_type": "code",
        "colab": {}
      },
      "source": [
        "for c in list(iresF.keys())[:1]:\n",
        "  \n",
        "  _,d,ms=iresF[c].values(); num=len(ms) #d dbxs, ms metrics\n",
        "  for l in [58,233,259,365,388,394,413,424,446,455,483,532,683,709,722,802,809,874,759]:\n",
        "    if l < num:\n",
        "      m=ms[l]\n",
        "      print('------------------------  idx  ',l,'  gtx/dbxs',len(m['marks']),'/',len(d[l]))\n",
        "      plot_marks(Image.open(m['path']),m,d[l],figsize=(16,12)) \n"
      ],
      "execution_count": null,
      "outputs": []
    },
    {
      "cell_type": "code",
      "metadata": {
        "id": "-K8MbTnzqIGU",
        "colab_type": "code",
        "colab": {}
      },
      "source": [
        "for c in list(iresW.keys())[-1:]:\n",
        "\n",
        "  _,d,ms=iresW[c].values(); num=len(ms) #d dbxs, ms metrics\n",
        "  for l in [58,233,259,365,388,394,413,424,446,455,483,532,683,709,722,802,809,874,759]:\n",
        "    if l < num:\n",
        "      m=ms[l]\n",
        "      print('------------------------  idx  ',l,'  gtx/dbxs',len(m['marks']),'/',len(d[l]))\n",
        "      plot_marks(Image.open(m['path']),m,d[l],figsize=(16,12)) \n"
      ],
      "execution_count": null,
      "outputs": []
    },
    {
      "cell_type": "code",
      "metadata": {
        "id": "NSbPSc58z7pp",
        "colab_type": "code",
        "colab": {
          "base_uri": "https://localhost:8080/",
          "height": 97
        },
        "outputId": "5a70bc87-d4fb-422d-88d5-2e3a4be27f46"
      },
      "source": [
        "!zip -u PNG D*.png"
      ],
      "execution_count": null,
      "outputs": [
        {
          "output_type": "stream",
          "text": [
            "updating: Detectron2_Faces_DD_mAP_MN2_BN_Mish_V2_250+F_2_100k.png (deflated 12%)\n",
            "updating: Detectron2_Wider_Face_mAP_MN2_BN_Mish_V2_250+F_2_100k.png (deflated 9%)\n",
            "  adding: Detectron2_Faces_DD_mAP_MN2_BN_Mish_V2F_250+F_22_300k.png (deflated 12%)\n",
            "  adding: Detectron2_Wider_Face_mAP_MN2_BN_Mish_V2F_250+F_22_300k.png (deflated 10%)\n"
          ],
          "name": "stdout"
        }
      ]
    },
    {
      "cell_type": "code",
      "metadata": {
        "colab_type": "code",
        "id": "ITxhhiNe4WMZ",
        "colab": {}
      },
      "source": [
        "#inicjalizacja sieci mtcnn, pelny opis dostepny: help(MTCNN)\n",
        "#mtcnn = MTCNN(image_size=224, margin=0, keep_all=True) "
      ],
      "execution_count": null,
      "outputs": []
    },
    {
      "cell_type": "markdown",
      "metadata": {
        "id": "69y-Xkg-NZZW",
        "colab_type": "text"
      },
      "source": [
        "total time 1317.56  per img 0.4084"
      ]
    },
    {
      "cell_type": "code",
      "metadata": {
        "colab_type": "code",
        "id": "YdREK8BQ5Bwj",
        "colab": {
          "base_uri": "https://localhost:8080/",
          "height": 1000
        },
        "outputId": "d0686653-53ec-4316-eb49-bd50de04b972"
      },
      "source": [
        "from detectron2.evaluation import COCOEvaluator, inference_on_dataset\n",
        "from detectron2.data import build_detection_test_loader\n",
        "\n",
        "evaluator = COCOEvaluator(\"face_val\", cfg, False, output_dir=\"./OUTPUT/\")\n",
        "val_loader = build_detection_test_loader(cfg, \"face_val\")\n",
        "inference_on_dataset(predictor.model, val_loader, evaluator)"
      ],
      "execution_count": null,
      "outputs": [
        {
          "output_type": "stream",
          "text": [
            "\u001b[5m\u001b[31mWARNING\u001b[0m \u001b[32m[06/07 11:09:19 d2.evaluation.coco_evaluation]: \u001b[0mjson_file was not found in MetaDataCatalog for 'face_val'. Trying to convert it to COCO format ...\n",
            "\u001b[5m\u001b[31mWARNING\u001b[0m \u001b[32m[06/07 11:09:19 d2.data.datasets.coco]: \u001b[0mUsing previously cached COCO format annotations at './OUTPUT/face_val_coco_format.json'. You need to clear the cache file if your dataset has been modified.\n",
            "\u001b[32m[06/07 11:09:19 d2.data.build]: \u001b[0mDistribution of instances among all 1 categories:\n",
            "\u001b[36m|  category  | #instances   |\n",
            "|:----------:|:-------------|\n",
            "|    face    | 39708        |\n",
            "|            |              |\u001b[0m\n",
            "\u001b[32m[06/07 11:09:19 d2.data.common]: \u001b[0mSerializing 3226 elements to byte tensors and concatenating them all ...\n",
            "\u001b[32m[06/07 11:09:19 d2.data.common]: \u001b[0mSerialized dataset takes 3.16 MiB\n",
            "\u001b[32m[06/07 11:09:19 d2.evaluation.evaluator]: \u001b[0mStart inference on 3226 images\n",
            "\u001b[32m[06/07 11:09:20 d2.evaluation.evaluator]: \u001b[0mInference done 11/3226. 0.0498 s / img. ETA=0:02:43\n",
            "\u001b[32m[06/07 11:09:25 d2.evaluation.evaluator]: \u001b[0mInference done 111/3226. 0.0490 s / img. ETA=0:02:36\n",
            "\u001b[32m[06/07 11:09:30 d2.evaluation.evaluator]: \u001b[0mInference done 209/3226. 0.0496 s / img. ETA=0:02:33\n",
            "\u001b[32m[06/07 11:09:35 d2.evaluation.evaluator]: \u001b[0mInference done 307/3226. 0.0497 s / img. ETA=0:02:29\n",
            "\u001b[32m[06/07 11:09:40 d2.evaluation.evaluator]: \u001b[0mInference done 406/3226. 0.0496 s / img. ETA=0:02:23\n",
            "\u001b[32m[06/07 11:09:45 d2.evaluation.evaluator]: \u001b[0mInference done 505/3226. 0.0496 s / img. ETA=0:02:18\n",
            "\u001b[32m[06/07 11:09:50 d2.evaluation.evaluator]: \u001b[0mInference done 602/3226. 0.0497 s / img. ETA=0:02:13\n",
            "\u001b[32m[06/07 11:09:55 d2.evaluation.evaluator]: \u001b[0mInference done 701/3226. 0.0497 s / img. ETA=0:02:08\n",
            "\u001b[32m[06/07 11:10:01 d2.evaluation.evaluator]: \u001b[0mInference done 801/3226. 0.0496 s / img. ETA=0:02:03\n",
            "\u001b[32m[06/07 11:10:06 d2.evaluation.evaluator]: \u001b[0mInference done 898/3226. 0.0497 s / img. ETA=0:01:58\n",
            "\u001b[32m[06/07 11:10:11 d2.evaluation.evaluator]: \u001b[0mInference done 997/3226. 0.0496 s / img. ETA=0:01:53\n",
            "\u001b[32m[06/07 11:10:16 d2.evaluation.evaluator]: \u001b[0mInference done 1097/3226. 0.0496 s / img. ETA=0:01:48\n",
            "\u001b[32m[06/07 11:10:21 d2.evaluation.evaluator]: \u001b[0mInference done 1196/3226. 0.0495 s / img. ETA=0:01:43\n",
            "\u001b[32m[06/07 11:10:26 d2.evaluation.evaluator]: \u001b[0mInference done 1295/3226. 0.0495 s / img. ETA=0:01:38\n",
            "\u001b[32m[06/07 11:10:31 d2.evaluation.evaluator]: \u001b[0mInference done 1394/3226. 0.0495 s / img. ETA=0:01:33\n",
            "\u001b[32m[06/07 11:10:36 d2.evaluation.evaluator]: \u001b[0mInference done 1496/3226. 0.0494 s / img. ETA=0:01:27\n",
            "\u001b[32m[06/07 11:10:41 d2.evaluation.evaluator]: \u001b[0mInference done 1597/3226. 0.0493 s / img. ETA=0:01:22\n",
            "\u001b[32m[06/07 11:10:46 d2.evaluation.evaluator]: \u001b[0mInference done 1695/3226. 0.0494 s / img. ETA=0:01:17\n",
            "\u001b[32m[06/07 11:10:51 d2.evaluation.evaluator]: \u001b[0mInference done 1794/3226. 0.0494 s / img. ETA=0:01:12\n",
            "\u001b[32m[06/07 11:10:56 d2.evaluation.evaluator]: \u001b[0mInference done 1893/3226. 0.0494 s / img. ETA=0:01:07\n",
            "\u001b[32m[06/07 11:11:01 d2.evaluation.evaluator]: \u001b[0mInference done 1992/3226. 0.0494 s / img. ETA=0:01:02\n",
            "\u001b[32m[06/07 11:11:06 d2.evaluation.evaluator]: \u001b[0mInference done 2089/3226. 0.0494 s / img. ETA=0:00:57\n",
            "\u001b[32m[06/07 11:11:11 d2.evaluation.evaluator]: \u001b[0mInference done 2188/3226. 0.0494 s / img. ETA=0:00:52\n",
            "\u001b[32m[06/07 11:11:16 d2.evaluation.evaluator]: \u001b[0mInference done 2286/3226. 0.0494 s / img. ETA=0:00:47\n",
            "\u001b[32m[06/07 11:11:21 d2.evaluation.evaluator]: \u001b[0mInference done 2384/3226. 0.0495 s / img. ETA=0:00:42\n",
            "\u001b[32m[06/07 11:11:26 d2.evaluation.evaluator]: \u001b[0mInference done 2482/3226. 0.0495 s / img. ETA=0:00:37\n",
            "\u001b[32m[06/07 11:11:31 d2.evaluation.evaluator]: \u001b[0mInference done 2581/3226. 0.0495 s / img. ETA=0:00:32\n",
            "\u001b[32m[06/07 11:11:36 d2.evaluation.evaluator]: \u001b[0mInference done 2680/3226. 0.0495 s / img. ETA=0:00:27\n",
            "\u001b[32m[06/07 11:11:41 d2.evaluation.evaluator]: \u001b[0mInference done 2778/3226. 0.0495 s / img. ETA=0:00:22\n",
            "\u001b[32m[06/07 11:11:46 d2.evaluation.evaluator]: \u001b[0mInference done 2877/3226. 0.0495 s / img. ETA=0:00:17\n",
            "\u001b[32m[06/07 11:11:51 d2.evaluation.evaluator]: \u001b[0mInference done 2975/3226. 0.0495 s / img. ETA=0:00:12\n",
            "\u001b[32m[06/07 11:11:56 d2.evaluation.evaluator]: \u001b[0mInference done 3074/3226. 0.0495 s / img. ETA=0:00:07\n",
            "\u001b[32m[06/07 11:12:01 d2.evaluation.evaluator]: \u001b[0mInference done 3172/3226. 0.0495 s / img. ETA=0:00:02\n",
            "\u001b[32m[06/07 11:12:04 d2.evaluation.evaluator]: \u001b[0mTotal inference time: 0:02:44.062716 (0.050935 s / img per device, on 1 devices)\n",
            "\u001b[32m[06/07 11:12:04 d2.evaluation.evaluator]: \u001b[0mTotal inference pure compute time: 0:02:39 (0.049505 s / img per device, on 1 devices)\n",
            "\u001b[32m[06/07 11:12:04 d2.evaluation.coco_evaluation]: \u001b[0mPreparing results for COCO format ...\n",
            "\u001b[32m[06/07 11:12:04 d2.evaluation.coco_evaluation]: \u001b[0mSaving results to ./OUTPUT/coco_instances_results.json\n",
            "\u001b[32m[06/07 11:12:04 d2.evaluation.coco_evaluation]: \u001b[0mEvaluating predictions ...\n",
            "Loading and preparing results...\n",
            "DONE (t=0.03s)\n",
            "creating index...\n",
            "index created!\n",
            "Running per image evaluation...\n",
            "Evaluate annotation type *bbox*\n",
            "DONE (t=44.45s).\n",
            "Accumulating evaluation results...\n",
            "DONE (t=0.44s).\n",
            " Average Precision  (AP) @[ IoU=0.50:0.95 | area=   all | maxDets=100 ] = 0.305\n",
            " Average Precision  (AP) @[ IoU=0.50      | area=   all | maxDets=100 ] = 0.545\n",
            " Average Precision  (AP) @[ IoU=0.75      | area=   all | maxDets=100 ] = 0.315\n",
            " Average Precision  (AP) @[ IoU=0.50:0.95 | area= small | maxDets=100 ] = 0.197\n",
            " Average Precision  (AP) @[ IoU=0.50:0.95 | area=medium | maxDets=100 ] = 0.558\n",
            " Average Precision  (AP) @[ IoU=0.50:0.95 | area= large | maxDets=100 ] = 0.639\n",
            " Average Recall     (AR) @[ IoU=0.50:0.95 | area=   all | maxDets=  1 ] = 0.056\n",
            " Average Recall     (AR) @[ IoU=0.50:0.95 | area=   all | maxDets= 10 ] = 0.211\n",
            " Average Recall     (AR) @[ IoU=0.50:0.95 | area=   all | maxDets=100 ] = 0.334\n",
            " Average Recall     (AR) @[ IoU=0.50:0.95 | area= small | maxDets=100 ] = 0.225\n",
            " Average Recall     (AR) @[ IoU=0.50:0.95 | area=medium | maxDets=100 ] = 0.603\n",
            " Average Recall     (AR) @[ IoU=0.50:0.95 | area= large | maxDets=100 ] = 0.685\n",
            "\u001b[32m[06/07 11:12:49 d2.evaluation.coco_evaluation]: \u001b[0mEvaluation results for bbox: \n",
            "|   AP   |  AP50  |  AP75  |  APs   |  APm   |  APl   |\n",
            "|:------:|:------:|:------:|:------:|:------:|:------:|\n",
            "| 30.492 | 54.485 | 31.527 | 19.708 | 55.829 | 63.922 |\n"
          ],
          "name": "stdout"
        },
        {
          "output_type": "execute_result",
          "data": {
            "text/plain": [
              "OrderedDict([('bbox',\n",
              "              {'AP': 30.491706843400724,\n",
              "               'AP50': 54.48469037322392,\n",
              "               'AP75': 31.527132331083934,\n",
              "               'APl': 63.92235941451505,\n",
              "               'APm': 55.82875090566174,\n",
              "               'APs': 19.70819716278125})])"
            ]
          },
          "metadata": {
            "tags": []
          },
          "execution_count": 29
        }
      ]
    }
  ]
}