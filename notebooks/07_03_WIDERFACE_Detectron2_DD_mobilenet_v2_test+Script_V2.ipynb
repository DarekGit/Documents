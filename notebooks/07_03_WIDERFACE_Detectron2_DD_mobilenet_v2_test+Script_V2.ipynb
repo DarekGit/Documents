{
  "nbformat": 4,
  "nbformat_minor": 0,
  "metadata": {
    "colab": {
      "name": "WIDERFACE_Detectron2_DD_mobilenet_v2_test+Script_V2.ipynb",
      "provenance": [],
      "collapsed_sections": [],
      "toc_visible": true,
      "machine_shape": "hm",
      "include_colab_link": true
    },
    "kernelspec": {
      "name": "python3",
      "display_name": "Python 3"
    },
    "accelerator": "GPU"
  },
  "cells": [
    {
      "cell_type": "markdown",
      "metadata": {
        "id": "view-in-github",
        "colab_type": "text"
      },
      "source": [
        "<a href=\"https://colab.research.google.com/github/DarekGit/FACES_DNN/blob/master/notebooks/07_03_WIDERFACE_Detectron2_DD_mobilenet_v2_test%2BScript_V2.ipynb\" target=\"_parent\"><img src=\"https://colab.research.google.com/assets/colab-badge.svg\" alt=\"Open In Colab\"/></a>"
      ]
    },
    {
      "cell_type": "markdown",
      "metadata": {
        "id": "XaZ20Z_bZrAT",
        "colab_type": "text"
      },
      "source": [
        "###[Spis Treści](https://github.com/DarekGit/FACES_DNN/blob/master/notebooks/Praca_Dyplomowa.ipynb)\n",
        "[7. Eksport modelu](07_00_Eksport_modelu.ipynb)\n",
        "\n"
      ]
    },
    {
      "cell_type": "markdown",
      "metadata": {
        "id": "7CHNa32TdpuN",
        "colab_type": "text"
      },
      "source": [
        "# Install detectron2\n",
        "\n",
        "Detectron2  https://github.com/facebookresearch/detectron2 <br>\n",
        "Detectron2 Beginner's Tutorial https://colab.research.google.com/drive/16jcaJoc6bCFAQ96jDe2HwtXj7BMD_-m5 <br>\n",
        "Documentation https://detectron2.readthedocs.io <br>\n",
        "Detectron2 Model Zoo and Baselines https://github.com/facebookresearch/detectron2/blob/master/MODEL_ZOO.md <br>\n",
        "Rethinking ImageNet Pre-training https://arxiv.org/pdf/1811.08883.pdf <br>\n",
        "\n",
        "Wykorzystano kody z <br>\n",
        "https://github.com/youngwanLEE/vovnet-detectron2"
      ]
    },
    {
      "cell_type": "code",
      "metadata": {
        "id": "Ms2PvHwVPYRS",
        "colab_type": "code",
        "colab": {}
      },
      "source": [
        "import os\n",
        "def Wider_load(val=True,train=True,test=False):\n",
        "  os.makedirs('WIDER/', exist_ok=True)\n",
        "\n",
        "  if val:\n",
        "    #!gdown https://drive.google.com/uc?id=0B6eKvaijfFUDd3dIRmpvSk8tLUk\n",
        "    !gdown https://drive.google.com/uc?id=1-5A_pa_jDS7gk8mHVCBB7ApV5KN8jWDr -O WIDER/tempv.zip\n",
        "    !unzip -q WIDER/tempv.zip -d WIDER\n",
        "    !rm WIDER/tempv.zip  \n",
        "\n",
        "  if train:\n",
        "    ### WIDER Face Training Images\n",
        "    #!gdown https://drive.google.com/uc?id=0B6eKvaijfFUDQUUwd21EckhUbWs\n",
        "    !gdown https://drive.google.com/uc?id=1-1iJfmXKYvAx9uLdRDX5W6HHG_KZv1jH -O WIDER/temptr.zip\n",
        "    !unzip -q WIDER/temptr.zip -d WIDER\n",
        "    !rm WIDER/temptr.zip\n",
        "  \n",
        "  if test:\n",
        "    #!gdown https://drive.google.com/uc?id=0B6eKvaijfFUDbW4tdGpaYjgzZkU\n",
        "    !gdown https://drive.google.com/uc?id=1tTpUJZEQMKDVxKT6100V5FwDuGX_8sDi -O WIDER/tempt.zip\n",
        "    !unzip -q WIDER/tempt.zip -d WIDER\n",
        "    !rm WIDER/tempt.zip\n",
        "\n",
        "\n",
        "  ### Face annotations\n",
        "  !wget mmlab.ie.cuhk.edu.hk/projects/WIDERFace/support/bbx_annotation/wider_face_split.zip -O WIDER/tempa.zip\n",
        "  !unzip -q WIDER/tempa.zip -d WIDER\n",
        "  !rm WIDER/tempa.zip\n",
        "\n",
        "  #annotations tool\n",
        "  !gdown https://drive.google.com/uc?id=1_9ydMZlTNFXBOMl16xsU8FSBmK2PW4lN -O WIDER/tools.py\n",
        "\n",
        "  #zestaw z danymi wyników trenowania\n",
        "  !gdown https://drive.google.com/uc?id=1Sk6JWWZFHfxvAJtF7JKOk9ptfyVZWNoU -O WIDER/WIDER_test_set.json\n",
        "\n",
        "\n",
        "  #mAP tools\n",
        "  !wget -q -O WIDER/mAP.py https://drive.google.com/uc?id=1PtEsobTFah3eiCDbSsYblOGbe2fmkjGR\n",
        "\n",
        "  ### Examples and formats of the submissions\n",
        "  #!wget mmlab.ie.cuhk.edu.hk/projects/WIDERFace/support/example/Submission_example.zip\n"
      ],
      "execution_count": null,
      "outputs": []
    },
    {
      "cell_type": "code",
      "metadata": {
        "id": "ZTdlDENQMRB4",
        "colab_type": "code",
        "colab": {
          "base_uri": "https://localhost:8080/",
          "height": 997
        },
        "outputId": "95a51133-e655-44df-c25b-280238ef403e"
      },
      "source": [
        "def repo_load():\n",
        "  !pip install cython pyyaml==5.1\n",
        "  !pip install -U 'git+https://github.com/cocodataset/cocoapi.git#subdirectory=PythonAPI'\n",
        "\n",
        "  # install detectron2:\n",
        "  !git clone https://github.com/facebookresearch/detectron2 detectron2_repo\n",
        "  !pip install -q -e detectron2_repo\n",
        "\n",
        "  !gdown https://drive.google.com/uc?id=1U0SVkSaSio4TBiXvF1QfTZI65WYpXpZ9\n",
        "  !unzip -qo mobilenet.zip\n",
        "  !rm -f mobilenet.zip\n",
        "\n",
        "repo_load()"
      ],
      "execution_count": null,
      "outputs": [
        {
          "output_type": "stream",
          "text": [
            "Requirement already satisfied: cython in /usr/local/lib/python3.6/dist-packages (0.29.19)\n",
            "Collecting pyyaml==5.1\n",
            "\u001b[?25l  Downloading https://files.pythonhosted.org/packages/9f/2c/9417b5c774792634834e730932745bc09a7d36754ca00acf1ccd1ac2594d/PyYAML-5.1.tar.gz (274kB)\n",
            "\u001b[K     |████████████████████████████████| 276kB 1.9MB/s \n",
            "\u001b[?25hBuilding wheels for collected packages: pyyaml\n",
            "  Building wheel for pyyaml (setup.py) ... \u001b[?25l\u001b[?25hdone\n",
            "  Created wheel for pyyaml: filename=PyYAML-5.1-cp36-cp36m-linux_x86_64.whl size=44074 sha256=c30a37d6bff04a2420c8406570b9f29208f7394bd5154bca9b6dd94f5887a513\n",
            "  Stored in directory: /root/.cache/pip/wheels/ad/56/bc/1522f864feb2a358ea6f1a92b4798d69ac783a28e80567a18b\n",
            "Successfully built pyyaml\n",
            "Installing collected packages: pyyaml\n",
            "  Found existing installation: PyYAML 3.13\n",
            "    Uninstalling PyYAML-3.13:\n",
            "      Successfully uninstalled PyYAML-3.13\n",
            "Successfully installed pyyaml-5.1\n",
            "Collecting git+https://github.com/cocodataset/cocoapi.git#subdirectory=PythonAPI\n",
            "  Cloning https://github.com/cocodataset/cocoapi.git to /tmp/pip-req-build-beavwi0k\n",
            "  Running command git clone -q https://github.com/cocodataset/cocoapi.git /tmp/pip-req-build-beavwi0k\n",
            "Requirement already satisfied, skipping upgrade: setuptools>=18.0 in /usr/local/lib/python3.6/dist-packages (from pycocotools==2.0) (47.1.1)\n",
            "Requirement already satisfied, skipping upgrade: cython>=0.27.3 in /usr/local/lib/python3.6/dist-packages (from pycocotools==2.0) (0.29.19)\n",
            "Requirement already satisfied, skipping upgrade: matplotlib>=2.1.0 in /usr/local/lib/python3.6/dist-packages (from pycocotools==2.0) (3.2.1)\n",
            "Requirement already satisfied, skipping upgrade: kiwisolver>=1.0.1 in /usr/local/lib/python3.6/dist-packages (from matplotlib>=2.1.0->pycocotools==2.0) (1.2.0)\n",
            "Requirement already satisfied, skipping upgrade: numpy>=1.11 in /usr/local/lib/python3.6/dist-packages (from matplotlib>=2.1.0->pycocotools==2.0) (1.18.5)\n",
            "Requirement already satisfied, skipping upgrade: pyparsing!=2.0.4,!=2.1.2,!=2.1.6,>=2.0.1 in /usr/local/lib/python3.6/dist-packages (from matplotlib>=2.1.0->pycocotools==2.0) (2.4.7)\n",
            "Requirement already satisfied, skipping upgrade: python-dateutil>=2.1 in /usr/local/lib/python3.6/dist-packages (from matplotlib>=2.1.0->pycocotools==2.0) (2.8.1)\n",
            "Requirement already satisfied, skipping upgrade: cycler>=0.10 in /usr/local/lib/python3.6/dist-packages (from matplotlib>=2.1.0->pycocotools==2.0) (0.10.0)\n",
            "Requirement already satisfied, skipping upgrade: six>=1.5 in /usr/local/lib/python3.6/dist-packages (from python-dateutil>=2.1->matplotlib>=2.1.0->pycocotools==2.0) (1.12.0)\n",
            "Building wheels for collected packages: pycocotools\n",
            "  Building wheel for pycocotools (setup.py) ... \u001b[?25l\u001b[?25hdone\n",
            "  Created wheel for pycocotools: filename=pycocotools-2.0-cp36-cp36m-linux_x86_64.whl size=267014 sha256=a4c21c97e3ead02db3da218704fe77260efd3d610c16ba2ea71a60bd725d5688\n",
            "  Stored in directory: /tmp/pip-ephem-wheel-cache-5i8rb2c6/wheels/90/51/41/646daf401c3bc408ff10de34ec76587a9b3ebfac8d21ca5c3a\n",
            "Successfully built pycocotools\n",
            "Installing collected packages: pycocotools\n",
            "  Found existing installation: pycocotools 2.0.0\n",
            "    Uninstalling pycocotools-2.0.0:\n",
            "      Successfully uninstalled pycocotools-2.0.0\n",
            "Successfully installed pycocotools-2.0\n",
            "Cloning into 'detectron2_repo'...\n",
            "remote: Enumerating objects: 36, done.\u001b[K\n",
            "remote: Counting objects: 100% (36/36), done.\u001b[K\n",
            "remote: Compressing objects: 100% (32/32), done.\u001b[K\n",
            "remote: Total 5388 (delta 5), reused 9 (delta 4), pack-reused 5352\u001b[K\n",
            "Receiving objects: 100% (5388/5388), 2.57 MiB | 16.47 MiB/s, done.\n",
            "Resolving deltas: 100% (3850/3850), done.\n",
            "  Building wheel for fvcore (setup.py) ... \u001b[?25l\u001b[?25hdone\n",
            "Downloading...\n",
            "From: https://drive.google.com/uc?id=1U0SVkSaSio4TBiXvF1QfTZI65WYpXpZ9\n",
            "To: /content/mobilenet.zip\n",
            "100% 11.8k/11.8k [00:00<00:00, 17.6MB/s]\n"
          ],
          "name": "stdout"
        }
      ]
    },
    {
      "cell_type": "code",
      "metadata": {
        "id": "MpCvj21UPayq",
        "colab_type": "code",
        "colab": {
          "base_uri": "https://localhost:8080/",
          "height": 477
        },
        "outputId": "69993bb2-471d-47e4-fe38-26dc92860e28"
      },
      "source": [
        "Wider_load(train=False) #Wider_load(train=False) #"
      ],
      "execution_count": null,
      "outputs": [
        {
          "output_type": "stream",
          "text": [
            "Downloading...\n",
            "From: https://drive.google.com/uc?id=1-5A_pa_jDS7gk8mHVCBB7ApV5KN8jWDr\n",
            "To: /content/WIDER/tempv.zip\n",
            "363MB [00:05, 62.2MB/s]\n",
            "--2020-06-09 19:02:38--  http://mmlab.ie.cuhk.edu.hk/projects/WIDERFace/support/bbx_annotation/wider_face_split.zip\n",
            "Resolving mmlab.ie.cuhk.edu.hk (mmlab.ie.cuhk.edu.hk)... 137.189.99.12\n",
            "Connecting to mmlab.ie.cuhk.edu.hk (mmlab.ie.cuhk.edu.hk)|137.189.99.12|:80... connected.\n",
            "HTTP request sent, awaiting response... 200 OK\n",
            "Length: 3591642 (3.4M) [application/zip]\n",
            "Saving to: ‘WIDER/tempa.zip’\n",
            "\n",
            "WIDER/tempa.zip     100%[===================>]   3.42M  2.58MB/s    in 1.3s    \n",
            "\n",
            "2020-06-09 19:02:40 (2.58 MB/s) - ‘WIDER/tempa.zip’ saved [3591642/3591642]\n",
            "\n",
            "Downloading...\n",
            "From: https://drive.google.com/uc?id=1_9ydMZlTNFXBOMl16xsU8FSBmK2PW4lN\n",
            "To: /content/WIDER/tools.py\n",
            "100% 4.47k/4.47k [00:00<00:00, 3.99MB/s]\n",
            "Downloading...\n",
            "From: https://drive.google.com/uc?id=1Sk6JWWZFHfxvAJtF7JKOk9ptfyVZWNoU\n",
            "To: /content/WIDER/WIDER_test_set.json\n",
            "100% 14.7k/14.7k [00:00<00:00, 22.8MB/s]\n"
          ],
          "name": "stdout"
        }
      ]
    },
    {
      "cell_type": "code",
      "metadata": {
        "colab_type": "code",
        "id": "GwcmfbV2Cv7F",
        "colab": {
          "base_uri": "https://localhost:8080/",
          "height": 357
        },
        "outputId": "2847ab97-b471-496c-dba8-186ecfc0dfc0"
      },
      "source": [
        "#Faces_DD set\n",
        "!pip install gdown\n",
        "import gdown\n",
        "url = 'https://drive.google.com/uc?export=download&id=1XwVm-2EMFdy9Zq39pKFr5UoSJvgTOm-7'\n",
        "output = 'Faces_DD.zip'\n",
        "gdown.download(url, output, False)\n",
        "!unzip -qo Faces_DD.zip\n",
        "!rm Faces_DD.zip\n",
        "\n",
        "url = 'https://drive.google.com/uc?export=download&id=1gIIUK518Ft9zi3VDVQZLRVozI-Hkpgt2'\n",
        "output = 'Faces_DD/Faces_DD_metrics.json'\n",
        "gdown.download(url, output, False)"
      ],
      "execution_count": null,
      "outputs": [
        {
          "output_type": "stream",
          "text": [
            "Requirement already satisfied: gdown in /usr/local/lib/python3.6/dist-packages (3.6.4)\n",
            "Requirement already satisfied: six in /usr/local/lib/python3.6/dist-packages (from gdown) (1.12.0)\n",
            "Requirement already satisfied: tqdm in /usr/local/lib/python3.6/dist-packages (from gdown) (4.41.1)\n",
            "Requirement already satisfied: requests in /usr/local/lib/python3.6/dist-packages (from gdown) (2.23.0)\n",
            "Requirement already satisfied: certifi>=2017.4.17 in /usr/local/lib/python3.6/dist-packages (from requests->gdown) (2020.4.5.1)\n",
            "Requirement already satisfied: chardet<4,>=3.0.2 in /usr/local/lib/python3.6/dist-packages (from requests->gdown) (3.0.4)\n",
            "Requirement already satisfied: urllib3!=1.25.0,!=1.25.1,<1.26,>=1.21.1 in /usr/local/lib/python3.6/dist-packages (from requests->gdown) (1.24.3)\n",
            "Requirement already satisfied: idna<3,>=2.5 in /usr/local/lib/python3.6/dist-packages (from requests->gdown) (2.9)\n"
          ],
          "name": "stdout"
        },
        {
          "output_type": "stream",
          "text": [
            "Downloading...\n",
            "From: https://drive.google.com/uc?export=download&id=1XwVm-2EMFdy9Zq39pKFr5UoSJvgTOm-7\n",
            "To: /content/Faces_DD.zip\n",
            "2.37GB [00:29, 81.0MB/s]\n",
            "Downloading...\n",
            "From: https://drive.google.com/uc?export=download&id=1gIIUK518Ft9zi3VDVQZLRVozI-Hkpgt2\n",
            "To: /content/Faces_DD/Faces_DD_metrics.json\n",
            "100%|██████████| 336k/336k [00:00<00:00, 113MB/s]\n"
          ],
          "name": "stderr"
        },
        {
          "output_type": "execute_result",
          "data": {
            "text/plain": [
              "'Faces_DD/Faces_DD_metrics.json'"
            ]
          },
          "metadata": {
            "tags": []
          },
          "execution_count": 4
        }
      ]
    },
    {
      "cell_type": "markdown",
      "metadata": {
        "id": "qzx4JAMasOcs",
        "colab_type": "text"
      },
      "source": [
        "<font color=red> Restart runtime to continue... <b>Crtl+M.</b> </font>"
      ]
    },
    {
      "cell_type": "code",
      "metadata": {
        "id": "oGYW4qkoKnHt",
        "colab_type": "code",
        "colab": {
          "base_uri": "https://localhost:8080/",
          "height": 397
        },
        "outputId": "9ec8b443-408e-4fa8-b66e-cd90d88fc9aa"
      },
      "source": [
        "!nvidia-smi\n",
        "from psutil import virtual_memory\n",
        "print('Your runtime has {:.1f} gigabytes of available RAM\\n'.format(virtual_memory().total / 1e9))"
      ],
      "execution_count": null,
      "outputs": [
        {
          "output_type": "stream",
          "text": [
            "Tue Jun  9 14:24:46 2020       \n",
            "+-----------------------------------------------------------------------------+\n",
            "| NVIDIA-SMI 440.82       Driver Version: 418.67       CUDA Version: 10.1     |\n",
            "|-------------------------------+----------------------+----------------------+\n",
            "| GPU  Name        Persistence-M| Bus-Id        Disp.A | Volatile Uncorr. ECC |\n",
            "| Fan  Temp  Perf  Pwr:Usage/Cap|         Memory-Usage | GPU-Util  Compute M. |\n",
            "|===============================+======================+======================|\n",
            "|   0  Tesla P100-PCIE...  Off  | 00000000:00:04.0 Off |                    0 |\n",
            "| N/A   52C    P0    28W / 250W |      0MiB / 16280MiB |      0%      Default |\n",
            "+-------------------------------+----------------------+----------------------+\n",
            "                                                                               \n",
            "+-----------------------------------------------------------------------------+\n",
            "| Processes:                                                       GPU Memory |\n",
            "|  GPU       PID   Type   Process name                             Usage      |\n",
            "|=============================================================================|\n",
            "|  No running processes found                                                 |\n",
            "+-----------------------------------------------------------------------------+\n",
            "Your runtime has 27.4 gigabytes of available RAM\n",
            "\n"
          ],
          "name": "stdout"
        }
      ]
    },
    {
      "cell_type": "code",
      "metadata": {
        "id": "xhlK2dYaw2ZM",
        "colab_type": "code",
        "colab": {}
      },
      "source": [
        "#!gdown https://drive.google.com/uc?id=1Sk6JWWZFHfxvAJtF7JKOk9ptfyVZWNoU -O WIDER/WIDER_test_set.json"
      ],
      "execution_count": null,
      "outputs": []
    },
    {
      "cell_type": "code",
      "metadata": {
        "id": "Ucz8h0sBtzkJ",
        "colab_type": "code",
        "colab": {}
      },
      "source": [
        "import time\n",
        "\n",
        "import torch, torchvision\n",
        "import detectron2\n",
        "from detectron2.utils.logger import setup_logger\n",
        "setup_logger()\n",
        "\n",
        "from google.colab import drive\n",
        "import os\n",
        "import cv2\n",
        "import random\n",
        "import itertools\n",
        "import shutil\n",
        "import glob\n",
        "import json\n",
        "import numpy as np\n",
        "import pandas as pd\n",
        "from PIL import ImageDraw, Image\n",
        "from collections import defaultdict\n",
        "import matplotlib.pyplot as plt\n",
        "from matplotlib.patches import Ellipse\n",
        "from matplotlib import collections as mc\n",
        "\n",
        "from google.colab.patches import cv2_imshow\n",
        "\n",
        "from detectron2 import model_zoo\n",
        "import detectron2.utils.comm as comm\n",
        "from detectron2.engine import DefaultPredictor, DefaultTrainer, HookBase\n",
        "from detectron2.config import get_cfg\n",
        "from detectron2.utils.visualizer import Visualizer\n",
        "from detectron2.data import DatasetCatalog, MetadataCatalog, build_detection_train_loader\n",
        "from detectron2.structures import BoxMode\n",
        "from detectron2.data import build_detection_test_loader\n",
        "from detectron2.data.datasets import register_coco_instances\n",
        "from detectron2.evaluation import COCOEvaluator, inference_on_dataset"
      ],
      "execution_count": null,
      "outputs": []
    },
    {
      "cell_type": "code",
      "metadata": {
        "id": "aSh762BHzDlP",
        "colab_type": "code",
        "colab": {}
      },
      "source": [
        "from mobilenet.utils import  add_mobilenet_config, build_mobilenetv2_fpn_backbone\n",
        "from WIDER.mAP import mAP, plot_mAP\n",
        "from WIDER.tools import annotations,output_Files\n",
        "\n",
        "#sciezki do trenowanych wag modeli mobilenet\n",
        "with open('WIDER/WIDER_test_set.json','r') as f:\n",
        "  test_set=json.load(f)\n"
      ],
      "execution_count": null,
      "outputs": []
    },
    {
      "cell_type": "code",
      "metadata": {
        "id": "X1wI2_C_P24F",
        "colab_type": "code",
        "colab": {}
      },
      "source": [
        "output_files=output_Files()\n",
        "with open('Faces_DD/Faces_DD_metrics.json','r') as f:\n",
        "  Faces_DD=json.load(f)\n",
        "resF,resW ={},{}  # wyniki dla Feces i Wider {gbxs,dbxs,metric}"
      ],
      "execution_count": null,
      "outputs": []
    },
    {
      "cell_type": "code",
      "metadata": {
        "id": "WIwrwy_xuIzd",
        "colab_type": "code",
        "colab": {
          "base_uri": "https://localhost:8080/",
          "height": 77
        },
        "outputId": "007c7f71-94f1-401c-ece6-568d5db4af30"
      },
      "source": [
        "test_set['BN_Mish_V2_250+F_2_100k'] #best model BN+Mish V2 250k iterations + FrozenBN 100k iterations"
      ],
      "execution_count": null,
      "outputs": [
        {
          "output_type": "execute_result",
          "data": {
            "text/plain": [
              "{'config': 'BN_Mish_V2F',\n",
              " 'pth': 'https://drive.google.com/uc?id=1-ZFjV1a8Wz3wz1f1CrjPWFFChW-4aAlN',\n",
              " 'weights_name': 'model_0099999.pth'}"
            ]
          },
          "metadata": {
            "tags": []
          },
          "execution_count": 4
        }
      ]
    },
    {
      "cell_type": "code",
      "metadata": {
        "id": "FAfgxKKBtT4m",
        "colab_type": "code",
        "colab": {
          "base_uri": "https://localhost:8080/",
          "height": 77
        },
        "outputId": "fe0fe016-e786-4d54-91c8-7309a7dbd2b6"
      },
      "source": [
        "len(test_set.keys()),test_set.keys()"
      ],
      "execution_count": null,
      "outputs": [
        {
          "output_type": "execute_result",
          "data": {
            "text/plain": [
              "(96,\n",
              " dict_keys(['100k', '400k', '800k', 'BN_10k', 'BN_20k', 'BN_30k', 'BN_40k', 'BN_50k', 'BN_100k', 'BN_120k', 'BN_130k', 'BN_150k', 'BN_200k', 'BN_230k', 'BN_250k', 'BN_300k', 'BN_350k', 'BN_400k', 'BN_410k', 'BN_420k', 'BN_450k', 'BN_500k', 'BN_550k', 'BN_600k', 'BN_650k', 'BN_700k', 'BN_800k', 'BN_V2_10k', 'BN_V2_30k', 'BN_V2_50k', 'BN_V2_100k', 'BN_V2_150k', 'BN_V2_200k', 'BN_V2_250k', 'BN_V2_300k', 'BN_Mish_10k', 'BN_Mish_30k', 'BN_Mish_50k', 'BN_Mish_100k', 'BN_Mish_150k', 'BN_Mish_200k', 'BN_Mish_V2_10k', 'BN_Mish_V2_20k', 'BN_Mish_V2_50k', 'BN_Mish_V2_100k', 'BN_Mish_250k', 'BN_Mish_300k', 'BN_Mish_V2_150k', 'BN_Mish_V2_200k', 'BN_Mish_V2_250k', 'BN_Mish_V2_300k', 'BN_Mish_V3_10k', 'BN_Mish_V3_20k', 'BN_Mish_V2_270k', 'BN_Mish_V2_400k', 'BN_Mish_V3_50k', 'BN_Mish_V3_80k', 'BN_V2_400k', 'BN_Mish_V3_100k', 'BN_Mish_V3_80+_10k', 'BN_Mish_V3_80+_20k', 'BN_Mish_V3_80+_30k', 'BN_Mish_V3_80+_40k', 'BN_V2_500k', 'BN_Mish_V2_250+_10k', 'BN_Mish_V3_80+_50k', 'BN_Mish_V2_250+_20k', 'BN_Mish_V3_80+_70k', 'BN_Mish_V2_250+_50k', 'BN_Mish_V2_250+_70k', 'BN_Mish_400k', 'BN_Mish_V2_250+_80k', 'BN_Mish_V2_250+F_10k', 'BN_Mish_V2_250+F_20k', 'BN_Mish_V2_250+_100k', 'BN_Mish_V2_250+F_50k', 'BN_Mish_V2_250+_120k', 'BN_Mish_V2_250+F_2_10k', 'BN_Mish_V2_250+F_2_20k', 'BN_Mish_V2_250+F_100k', 'BN_Mish_V2_250+F_2_50k', 'BN_Mish_V2_250+F_3_10k', 'BN_Mish_V2_250+F_3_20k', 'BN_Mish_V2_250+F_3_50k', 'BN_Mish_V2_250+F_2_100k', 'BN_Mish_V2_250+F_2_60k', 'BN_Mish_V2_250+F_2_40k', 'BN_Mish_V2_250+F_3_100k', 'BN_Mish_V2_250+F_4_10k', 'BN_Mish_V2_250+F_4_20k', 'BN_Mish_V2_250+F_4_50k', 'BN_Mish_V2_250+F_4_100k', 'BN_Mish_600k', 'BN_Mish_800k', 'BN_Mish_V2F_250+F_2_50k', 'BN_Mish_V2F_250+F_22_300k']))"
            ]
          },
          "metadata": {
            "tags": []
          },
          "execution_count": 5
        }
      ]
    },
    {
      "cell_type": "markdown",
      "metadata": {
        "id": "qQzn2qdj9dBD",
        "colab_type": "text"
      },
      "source": [
        "800k - trenowanie na parametrach domyslnych do 800k iteracji\n",
        "\n",
        "BN_800k - z BatchNormalization do 800k\n",
        "\n",
        "BN_V2_300k - BN + normalizacja w preprocesing + poprawiony format na RGB\n",
        "\n",
        "BN_Mish  - zmieniona funkcja aktywacji na Mish z ReLU6\n",
        "\n",
        "BN_Mish + F - douczania ze zmienionym BN na FrozenBN"
      ]
    },
    {
      "cell_type": "markdown",
      "metadata": {
        "id": "XXMv27Egzvf5",
        "colab_type": "text"
      },
      "source": [
        "# Prepare the dataset\n",
        "\n",
        "## WIDER FACE: A Face Detection Benchmark\n",
        "http://shuoyang1213.me/WIDERFACE/ <br>\n",
        "\n",
        "https://arxiv.org/pdf/1511.06523.pdf <br>\n"
      ]
    },
    {
      "cell_type": "code",
      "metadata": {
        "id": "RMwVqEK1v9zo",
        "colab_type": "code",
        "colab": {
          "base_uri": "https://localhost:8080/",
          "height": 37
        },
        "outputId": "b532212c-5590-4c30-dea3-0e52d57113a8"
      },
      "source": [
        "from detectron2.data.datasets.coco import convert_to_coco_json\n",
        "\n",
        "annos={}\n",
        "train = annotations(\"train\")\n",
        "if len(train)>0: annos['train']=train\n",
        "\n",
        "val = annotations('val')\n",
        "if len(val)>0: annos['val']=val\n",
        "\n",
        "test = annotations('test') #random.samples(annotations('test'),5000)\n",
        "if len(test)>0: annos['test']=test\n",
        "\n",
        "\n",
        "for d in annos.keys():\n",
        "  DatasetCatalog.register(\"face_\" + d, lambda d=d: annos[d])\n",
        "  MetadataCatalog.get(\"face_\" + d).set(thing_classes = ['face'])\n",
        "\n",
        "'''\n",
        "faces_metadata = MetadataCatalog.get(\"face_train\")\n",
        "convert_to_coco_json('face_train', \"./OUTPUT/face_train_coco_format.json\")\n",
        "'''"
      ],
      "execution_count": null,
      "outputs": [
        {
          "output_type": "execute_result",
          "data": {
            "text/plain": [
              "'\\nfaces_metadata = MetadataCatalog.get(\"face_train\")\\nconvert_to_coco_json(\\'face_train\\', \"./OUTPUT/face_train_coco_format.json\")\\n'"
            ]
          },
          "metadata": {
            "tags": []
          },
          "execution_count": 6
        }
      ]
    },
    {
      "cell_type": "markdown",
      "metadata": {
        "id": "MyQ2-ALw54Qt",
        "colab_type": "text"
      },
      "source": [
        "# \"Base-RCNN-MobileNet-FPN_v1.yaml\"\n",
        "mobilenet/configs\n"
      ]
    },
    {
      "cell_type": "markdown",
      "metadata": {
        "id": "oehRmfi00F_t",
        "colab_type": "text"
      },
      "source": [
        "Użycie modelu"
      ]
    },
    {
      "cell_type": "code",
      "metadata": {
        "id": "vy65_D8LFhrA",
        "colab_type": "code",
        "colab": {}
      },
      "source": [
        "# pelny zestaw kodow, wynikow\n",
        "# https://drive.google.com/drive/folders/1ApEnn3br2Z2Nt3-0Ve9DKYKMiDkFVpAR?usp=sharing\n",
        "\n",
        "#zestawy z konfiguracja cfg\n",
        "cfg_set = {\n",
        "    'FrozenBN':'https://drive.google.com/uc?id=1rZFzJaR_g7uYuTguTdbUuCQYD4eXLeqw',\n",
        "    'BN': 'https://drive.google.com/uc?id=1-doXtwe5iZHoqPzKGc2ZZbxj6Ebhxsn4',\n",
        "    'BN_V2':'https://drive.google.com/uc?id=1wywB8UAaOO5KZx3IS35kV-rLsvJMIse6',\n",
        "    'BN_Mish':'https://drive.google.com/uc?id=1-axV3KKg8-YiZZ7uDBh_2v181JoC9Nj3',\n",
        "    'BN_Mish_V2':'https://drive.google.com/uc?id=1WoESx5RYvpapNicpSrmMoNJeE2GVm3zK',\n",
        "    'BN_Mish_V3':'https://drive.google.com/uc?id=1-Kgd_2AS4EsD_ZPqP7SxkscyDjP-Qhnr',\n",
        "    'BN_Mish_V2F':'https://drive.google.com/uc?id=1pCwyYCjIoduro2vIKMZi5HhlpaypH0_x',\n",
        "\n",
        "\n",
        "      }\n",
        "\n",
        "def test_set_add(config,count,pth,ext=''): #config name or index of cf_set.keys(), count @ .000\n",
        "  set_list=list(cfg_set.keys())\n",
        "  if (isinstance(config,str) and not config in set_list) or (isinstance(config,int)) and config >=len(set_list): \n",
        "    print('No ',config,' on the list: ', cfg_set.keys())\n",
        "  else:\n",
        "    config=list(cfg_set.keys())[config] if isinstance(config,int) else config\n",
        "    set_choice=config+ext+'_'+str(count)+'k'\n",
        "    weights='model_{:07}.pth'.format((count*1000)-1)\n",
        "    test_set[set_choice]={'pth':'https://drive.google.com/uc?id='+pth,\n",
        "                          'weights_name': weights,\n",
        "                          'config': config,}\n",
        "  return set_choice,test_set[set_choice]"
      ],
      "execution_count": null,
      "outputs": []
    },
    {
      "cell_type": "code",
      "metadata": {
        "colab_type": "code",
        "id": "l2uZtVOGks2o",
        "colab": {}
      },
      "source": [
        "#Weights and cfg configuration from training\n",
        "cfg = get_cfg()\n",
        "add_mobilenet_config(cfg)\n",
        "\n",
        "def cfg_write(cfg,cfg_all):\n",
        "  for key in cfg_all.keys():\n",
        "    if isinstance(cfg_all[key],dict): cfg_write(cfg[key],cfg_all[key])\n",
        "    else: cfg[key]=cfg_all[key]\n",
        "  return cfg\n",
        "\n",
        "def set_predictor(set_choice,device='cuda'):\n",
        "    print('PREPARATION: ',set_choice)\n",
        "    path = test_set[set_choice]['pth']   #sciezka do wag modelu\n",
        "    out = test_set[set_choice]['weights_name']\n",
        "    !gdown $path #-O $out #bez, mamy kontrole zgodnosci nazwy pliku \n",
        "    path=cfg_set[test_set[set_choice]['config']] #sciezka do konfiguracji\n",
        "    !gdown -q $path -O 'Base-RCNN-MobileNet-FPN_V1_ALL.json'\n",
        "\n",
        "\n",
        "    with open('Base-RCNN-MobileNet-FPN_V1_ALL.json','r') as f:\n",
        "      cfg_all=json.load(f)  \n",
        "    \n",
        "    cfg = get_cfg(); add_mobilenet_config(cfg)\n",
        "    cfg=cfg_write(cfg,cfg_all)\n",
        "    cfg.MODEL.WEIGHTS = test_set[set_choice]['weights_name']\n",
        "    cfg.MODEL.ROI_HEADS.SCORE_THRESH_TEST = 0.5   # set the testing threshold for this model\n",
        "    cfg.MODEL.DEVICE=device\n",
        "\n",
        "    return DefaultPredictor(cfg),cfg,set_choice\n"
      ],
      "execution_count": null,
      "outputs": []
    },
    {
      "cell_type": "markdown",
      "metadata": {
        "id": "G60JHKE01Kdy",
        "colab_type": "text"
      },
      "source": [
        "AP metric on val"
      ]
    },
    {
      "cell_type": "code",
      "metadata": {
        "colab_type": "code",
        "id": "Qs0iQ6td92fe",
        "colab": {}
      },
      "source": [
        "def plot_marks(img,metric,dbxs=[],figsize=(14,14)): \n",
        "\n",
        "  fig, ax = plt.subplots(1,1,figsize=figsize); ax.imshow(img)\n",
        "  Ms=np.array(metric['marks'])\n",
        "  color,color_det,lw=('white','red',1)\n",
        "  for k,dbx in enumerate(metric['marks']):\n",
        "    annot=str(k)+'  -   '+metric['persons'][k]\n",
        "    ax.annotate(annot,np.array(dbx[:2])+2,color='k')\n",
        "    ax.annotate(annot,dbx[:2],color='w')\n",
        "  if dbxs != []:\n",
        "    cbox = mc.LineCollection([[[l,t],[r,t],[r,b],[l,b],[l,t]] for l,t,r,b,_ in dbxs], linewidth=lw+1, colors=color_det)\n",
        "    ax.add_collection(cbox)\n",
        "\n",
        "  cbox = mc.LineCollection([[[l,t],[r,t],[r,b],[l,b],[l,t]] for l,t,r,b in Ms], linewidth=lw, colors=color)\n",
        "  ax.add_collection(cbox)\n",
        "  print(len(metric['marks']),end=',  ')\n",
        "  print('Annotated Boxes',end=', ')\n",
        "  print('        '+metric['path'])\n",
        "  for name in metric['persons']:\n",
        "    if name !='': print(name,end=',  ')  \n",
        "  #plt.axis('off')\n",
        "  plt.show()"
      ],
      "execution_count": null,
      "outputs": []
    },
    {
      "cell_type": "code",
      "metadata": {
        "colab_type": "code",
        "id": "bGPVwnC0uN92",
        "colab": {}
      },
      "source": [
        "def results(d_set,predictor,name='mAP_',ext='---',pres=False):\n",
        "    start=time.time()\n",
        "    gbxs=[]; dbxs=[]; dset=d_set\n",
        "    if 'annotations' in d_set[0].keys():  #zmiana metryki z Wider do Faces, wybrane pola\n",
        "      dset=[]\n",
        "      for r in d_set:\n",
        "        dset.append({'path' : r['file_name'],'marks' : [b['bbox'] for b in r['annotations']],\n",
        "                     'persons': ['' for b in r['annotations']]})\n",
        "\n",
        "    Len=len(dset); print(ext,' ',Len,' imgs : 0 +',end='')\n",
        "    for i,d in enumerate(dset):   #przypisanie listy detetected i ground truth boxes\n",
        "        im = cv2.imread(d[\"path\"])\n",
        "        outputs = predictor(im)\n",
        "        pbxs=outputs['instances'].pred_boxes.tensor.tolist()\n",
        "        pconfs=outputs['instances'].scores.tolist()\n",
        "        dbx=[[*(np.array(bx)+0.5).astype('int'),pconfs[i]] for i,bx in enumerate(pbxs)]\n",
        "        dbxs.append(dbx)\n",
        "        gbxs.append(d['marks'] if d['marks']!=[0,0,0,0] else [])  #########################\n",
        "\n",
        "        if not i%100 : print('\\r',ext,' ',Len,' imgs : ',i//100*100,' +',end='')\n",
        "        if not (i+1)%10 : print(' ',(i+1)%100,end='')\n",
        "        \n",
        "    total=time.time()-start\n",
        "    print('\\r',name,ext,' - total time {:.2f} s  per img {:.4f} s'.format(total,total/(i+1)))\n",
        "      \n",
        "    # IoUs=[.5,.55,.6,.65,.7,.75,.8,.85,.9,.95,.0]\n",
        "    # keys ['All {:.2f}' for x in IoUs] + ['large','medium','small'] for IoUs[0]\n",
        "    # r_p: 0 - interpolated, 1 - full\n",
        "    m,d=mAP(gbxs,dbxs,data=True)\n",
        "    plot_mAP(m,d,['All 0.50','All 0.00','large','medium','small'],1,name+ext+'  conf>0',file=name+ext)\n",
        "\n",
        "    if pres:\n",
        "      for l in [58,233,259,365,388,394,413,424,446,455,483,532,683,709,722,802,809,874,759]:\n",
        "        if l < Len:\n",
        "          m=dset[l]\n",
        "          print('------------------------  idx  ',l,'  gtx/dbxs',len(m['marks']),'/',len(dbxs[l]))\n",
        "          plot_marks(Image.open(m['path']),m,dbxs[l],figsize=(18,14))  \n",
        "    \n",
        "    return {'gbxs':gbxs,'dbxs':dbxs,'metric':dset} \n"
      ],
      "execution_count": null,
      "outputs": []
    },
    {
      "cell_type": "code",
      "metadata": {
        "id": "hWVsDvWeqi59",
        "colab_type": "code",
        "colab": {
          "base_uri": "https://localhost:8080/",
          "height": 97
        },
        "outputId": "d6a609d6-4aa7-444c-8c95-04424be4cf83"
      },
      "source": [
        "#['FrozenBN', 'BN', 'BN_V2', 'BN_Mish', 'BN_Mish_V2', 'BN_Mish_V3', 'BN_Mish_V2F'] cfg sets\n",
        "test_set_add(6,300,'10JXHtaSjBtDt0b0Sa6X4esBSysnBb2v-','_250+F_22')\n",
        "test_set_add(4,250,'1-NY6ZeI_0YsI6axbBG9kGpcAr-M0S4wT',)  #najlepszy wynik do dalszego douczania\n",
        "test_set_add(6,50,'1-I6YSAs9NrORI4cFISfK_-4Yhm1twfDi','_250+F_2') # najlepszy wynik douczania\n"
      ],
      "execution_count": null,
      "outputs": [
        {
          "output_type": "execute_result",
          "data": {
            "text/plain": [
              "('BN_Mish_V2F_250+F_2_50k',\n",
              " {'config': 'BN_Mish_V2F',\n",
              "  'pth': 'https://drive.google.com/uc?id=1-I6YSAs9NrORI4cFISfK_-4Yhm1twfDi',\n",
              "  'weights_name': 'model_0049999.pth'})"
            ]
          },
          "metadata": {
            "tags": []
          },
          "execution_count": 12
        }
      ]
    },
    {
      "cell_type": "code",
      "metadata": {
        "id": "cCq6LU9-hYxN",
        "colab_type": "code",
        "colab": {}
      },
      "source": [
        "with open('WIDER_test_set.json','w')as f:\n",
        "  json.dump(test_set,f)"
      ],
      "execution_count": null,
      "outputs": []
    },
    {
      "cell_type": "markdown",
      "metadata": {
        "id": "aTHK483Hc-Gs",
        "colab_type": "text"
      },
      "source": [
        "#wybór zestawów do analizy"
      ]
    },
    {
      "cell_type": "code",
      "metadata": {
        "id": "SjLQMwthXx2M",
        "colab_type": "code",
        "colab": {
          "base_uri": "https://localhost:8080/",
          "height": 197
        },
        "outputId": "7eb3ec3e-513f-424c-d92d-275eb4b26f4d"
      },
      "source": [
        "for key in test_set.keys():\n",
        "  if 'F_2' in key: print(key)"
      ],
      "execution_count": null,
      "outputs": [
        {
          "output_type": "stream",
          "text": [
            "BN_Mish_V2_250+F_20k\n",
            "BN_Mish_V2_250+F_2_10k\n",
            "BN_Mish_V2_250+F_2_20k\n",
            "BN_Mish_V2_250+F_2_50k\n",
            "BN_Mish_V2_250+F_2_100k\n",
            "BN_Mish_V2_250+F_2_60k\n",
            "BN_Mish_V2_250+F_2_40k\n",
            "BN_Mish_V2F_250+F_2_50k\n",
            "BN_Mish_V2F_250+F_22_300k\n"
          ],
          "name": "stdout"
        }
      ]
    },
    {
      "cell_type": "code",
      "metadata": {
        "id": "sHr2mX_tmoS0",
        "colab_type": "code",
        "colab": {
          "base_uri": "https://localhost:8080/",
          "height": 37
        },
        "outputId": "480f1df2-f24e-44a4-b9a5-0c6e095880bd"
      },
      "source": [
        "set_choices=['BN_Mish_V2_250+F_2_100k',] #'BN_Mish_V2F_250+F_22_300k']\n",
        "for c in set_choices:\n",
        "  if c in  test_set.keys(): print(c,' is OK, ',end='')\n",
        "  else: print('\\n!!!!!!! ',c,' is not in test_set!, ',end='')"
      ],
      "execution_count": null,
      "outputs": [
        {
          "output_type": "stream",
          "text": [
            "BN_Mish_V2_250+F_2_100k  is OK, "
          ],
          "name": "stdout"
        }
      ]
    },
    {
      "cell_type": "code",
      "metadata": {
        "id": "Qb4wLZWw8QKw",
        "colab_type": "code",
        "colab": {
          "base_uri": "https://localhost:8080/",
          "height": 97
        },
        "outputId": "b06d2322-7cfe-43ea-9641-d4c69306d5b0"
      },
      "source": [
        "set_choices[0],test_set[set_choices[0]]"
      ],
      "execution_count": null,
      "outputs": [
        {
          "output_type": "execute_result",
          "data": {
            "text/plain": [
              "('BN_Mish_V2_250+F_2_100k',\n",
              " {'config': 'BN_Mish_V2F',\n",
              "  'pth': 'https://drive.google.com/uc?id=1-ZFjV1a8Wz3wz1f1CrjPWFFChW-4aAlN',\n",
              "  'weights_name': 'model_0099999.pth'})"
            ]
          },
          "metadata": {
            "tags": []
          },
          "execution_count": 15
        }
      ]
    },
    {
      "cell_type": "code",
      "metadata": {
        "id": "YIhVPyIhvprd",
        "colab_type": "code",
        "colab": {
          "base_uri": "https://localhost:8080/",
          "height": 1000
        },
        "outputId": "3a8a1bd9-d625-42a6-eb2f-18f8d56d6ae7"
      },
      "source": [
        "predictor,cfg,ext=set_predictor(set_choices[-1],device='cuda') #normalnie cuda\n",
        "print(cfg.dump())"
      ],
      "execution_count": null,
      "outputs": [
        {
          "output_type": "stream",
          "text": [
            "PREPARATION:  BN_Mish_V2_250+F_2_100k\n",
            "Downloading...\n",
            "From: https://drive.google.com/uc?id=1-ZFjV1a8Wz3wz1f1CrjPWFFChW-4aAlN\n",
            "To: /content/model_0099999.pth\n",
            "150MB [00:00, 174MB/s]\n",
            "CUDNN_BENCHMARK: false\n",
            "DATALOADER:\n",
            "  ASPECT_RATIO_GROUPING: true\n",
            "  FILTER_EMPTY_ANNOTATIONS: true\n",
            "  NUM_WORKERS: 4\n",
            "  REPEAT_THRESHOLD: 0.0\n",
            "  SAMPLER_TRAIN: TrainingSampler\n",
            "DATASETS:\n",
            "  PRECOMPUTED_PROPOSAL_TOPK_TEST: 1000\n",
            "  PRECOMPUTED_PROPOSAL_TOPK_TRAIN: 2000\n",
            "  PROPOSAL_FILES_TEST: []\n",
            "  PROPOSAL_FILES_TRAIN: []\n",
            "  TEST:\n",
            "  - face_val\n",
            "  TRAIN:\n",
            "  - face_train\n",
            "  VAL:\n",
            "  - face_val\n",
            "GLOBAL:\n",
            "  HACK: 1.0\n",
            "INPUT:\n",
            "  CROP:\n",
            "    ENABLED: false\n",
            "    SIZE:\n",
            "    - 0.9\n",
            "    - 0.9\n",
            "    TYPE: relative_range\n",
            "  FORMAT: RGB\n",
            "  MASK_FORMAT: polygon\n",
            "  MAX_SIZE_TEST: 1333\n",
            "  MAX_SIZE_TRAIN: 1333\n",
            "  MIN_SIZE_TEST: 800\n",
            "  MIN_SIZE_TRAIN:\n",
            "  - 640\n",
            "  - 672\n",
            "  - 704\n",
            "  - 736\n",
            "  - 768\n",
            "  - 800\n",
            "  MIN_SIZE_TRAIN_SAMPLING: choice\n",
            "MODEL:\n",
            "  ANCHOR_GENERATOR:\n",
            "    ANGLES:\n",
            "    - - -90\n",
            "      - 0\n",
            "      - 90\n",
            "    ASPECT_RATIOS:\n",
            "    - - 0.5\n",
            "      - 1.0\n",
            "      - 2.0\n",
            "    NAME: DefaultAnchorGenerator\n",
            "    OFFSET: 0.0\n",
            "    SIZES:\n",
            "    - - 32\n",
            "    - - 64\n",
            "    - - 128\n",
            "    - - 256\n",
            "    - - 512\n",
            "  BACKBONE:\n",
            "    FREEZE_AT: 0\n",
            "    NAME: build_mobilenetv2_fpn_backbone\n",
            "  DEVICE: cuda\n",
            "  FORMAT: RGB\n",
            "  FPN:\n",
            "    FUSE_TYPE: sum\n",
            "    IN_FEATURES:\n",
            "    - res2\n",
            "    - res3\n",
            "    - res4\n",
            "    - res5\n",
            "    NORM: ''\n",
            "    OUT_CHANNELS: 256\n",
            "  KEYPOINT_ON: false\n",
            "  LOAD_PROPOSALS: false\n",
            "  MASK_ON: false\n",
            "  META_ARCHITECTURE: GeneralizedRCNN\n",
            "  MOBILENET:\n",
            "    ACTIVATION: Mish\n",
            "    BACKBONE_OUT_CHANNELS: 256\n",
            "    CONV_BODY: V-39-eSE\n",
            "    NORM: FrozenBN\n",
            "    OUT_CHANNELS: 256\n",
            "    OUT_FEATURES:\n",
            "    - stage2\n",
            "    - stage3\n",
            "    - stage4\n",
            "    - stage5\n",
            "    VERSION: 2\n",
            "  PANOPTIC_FPN:\n",
            "    COMBINE:\n",
            "      ENABLED: true\n",
            "      INSTANCES_CONFIDENCE_THRESH: 0.5\n",
            "      OVERLAP_THRESH: 0.5\n",
            "      STUFF_AREA_LIMIT: 4096\n",
            "    INSTANCE_LOSS_WEIGHT: 1.0\n",
            "  PIXEL_MEAN:\n",
            "  - 119.857\n",
            "  - 110.808\n",
            "  - 104.148\n",
            "  PIXEL_STD:\n",
            "  - 0.6076259372440945\n",
            "  - 0.5876417505511812\n",
            "  - 0.5971849743307086\n",
            "  PROPOSAL_GENERATOR:\n",
            "    MIN_SIZE: 0\n",
            "    NAME: RPN\n",
            "  RESNETS:\n",
            "    DEFORM_MODULATED: false\n",
            "    DEFORM_NUM_GROUPS: 1\n",
            "    DEFORM_ON_PER_STAGE:\n",
            "    - false\n",
            "    - false\n",
            "    - false\n",
            "    - false\n",
            "    DEPTH: 50\n",
            "    NORM: FrozenBN\n",
            "    NUM_GROUPS: 1\n",
            "    OUT_FEATURES:\n",
            "    - res2\n",
            "    - res3\n",
            "    - res4\n",
            "    - res5\n",
            "    RES2_OUT_CHANNELS: 256\n",
            "    RES5_DILATION: 1\n",
            "    STEM_OUT_CHANNELS: 64\n",
            "    STRIDE_IN_1X1: true\n",
            "    WIDTH_PER_GROUP: 64\n",
            "  RETINANET:\n",
            "    BBOX_REG_WEIGHTS:\n",
            "    - 1.0\n",
            "    - 1.0\n",
            "    - 1.0\n",
            "    - 1.0\n",
            "    FOCAL_LOSS_ALPHA: 0.25\n",
            "    FOCAL_LOSS_GAMMA: 2.0\n",
            "    IN_FEATURES:\n",
            "    - p3\n",
            "    - p4\n",
            "    - p5\n",
            "    - p6\n",
            "    - p7\n",
            "    IOU_LABELS:\n",
            "    - 0\n",
            "    - -1\n",
            "    - 1\n",
            "    IOU_THRESHOLDS:\n",
            "    - 0.4\n",
            "    - 0.5\n",
            "    NMS_THRESH_TEST: 0.5\n",
            "    NUM_CLASSES: 80\n",
            "    NUM_CONVS: 4\n",
            "    PRIOR_PROB: 0.01\n",
            "    SCORE_THRESH_TEST: 0.05\n",
            "    SMOOTH_L1_LOSS_BETA: 0.1\n",
            "    TOPK_CANDIDATES_TEST: 1000\n",
            "  ROI_BOX_CASCADE_HEAD:\n",
            "    BBOX_REG_WEIGHTS:\n",
            "    - - 10.0\n",
            "      - 10.0\n",
            "      - 5.0\n",
            "      - 5.0\n",
            "    - - 20.0\n",
            "      - 20.0\n",
            "      - 10.0\n",
            "      - 10.0\n",
            "    - - 30.0\n",
            "      - 30.0\n",
            "      - 15.0\n",
            "      - 15.0\n",
            "    IOUS:\n",
            "    - 0.5\n",
            "    - 0.6\n",
            "    - 0.7\n",
            "  ROI_BOX_HEAD:\n",
            "    BBOX_REG_WEIGHTS:\n",
            "    - 10.0\n",
            "    - 10.0\n",
            "    - 5.0\n",
            "    - 5.0\n",
            "    CLS_AGNOSTIC_BBOX_REG: false\n",
            "    CONV_DIM: 256\n",
            "    FC_DIM: 1024\n",
            "    NAME: FastRCNNConvFCHead\n",
            "    NORM: ''\n",
            "    NUM_CONV: 0\n",
            "    NUM_FC: 2\n",
            "    POOLER_RESOLUTION: 7\n",
            "    POOLER_SAMPLING_RATIO: 0\n",
            "    POOLER_TYPE: ROIAlignV2\n",
            "    SMOOTH_L1_BETA: 0.0\n",
            "    TRAIN_ON_PRED_BOXES: false\n",
            "  ROI_HEADS:\n",
            "    BATCH_SIZE_PER_IMAGE: 512\n",
            "    IN_FEATURES:\n",
            "    - p2\n",
            "    - p3\n",
            "    - p4\n",
            "    - p5\n",
            "    IOU_LABELS:\n",
            "    - 0\n",
            "    - 1\n",
            "    IOU_THRESHOLDS:\n",
            "    - 0.5\n",
            "    NAME: StandardROIHeads\n",
            "    NMS_THRESH_TEST: 0.5\n",
            "    NUM_CLASSES: 1\n",
            "    POSITIVE_FRACTION: 0.25\n",
            "    PROPOSAL_APPEND_GT: true\n",
            "    SCORE_THRESH_TEST: 0.5\n",
            "  ROI_KEYPOINT_HEAD:\n",
            "    CONV_DIMS:\n",
            "    - 512\n",
            "    - 512\n",
            "    - 512\n",
            "    - 512\n",
            "    - 512\n",
            "    - 512\n",
            "    - 512\n",
            "    - 512\n",
            "    LOSS_WEIGHT: 1.0\n",
            "    MIN_KEYPOINTS_PER_IMAGE: 1\n",
            "    NAME: KRCNNConvDeconvUpsampleHead\n",
            "    NORMALIZE_LOSS_BY_VISIBLE_KEYPOINTS: true\n",
            "    NUM_KEYPOINTS: 17\n",
            "    POOLER_RESOLUTION: 14\n",
            "    POOLER_SAMPLING_RATIO: 0\n",
            "    POOLER_TYPE: ROIAlignV2\n",
            "  ROI_MASK_HEAD:\n",
            "    CLS_AGNOSTIC_MASK: false\n",
            "    CONV_DIM: 256\n",
            "    NAME: MaskRCNNConvUpsampleHead\n",
            "    NORM: ''\n",
            "    NUM_CONV: 4\n",
            "    POOLER_RESOLUTION: 14\n",
            "    POOLER_SAMPLING_RATIO: 0\n",
            "    POOLER_TYPE: ROIAlignV2\n",
            "  RPN:\n",
            "    BATCH_SIZE_PER_IMAGE: 256\n",
            "    BBOX_REG_WEIGHTS:\n",
            "    - 1.0\n",
            "    - 1.0\n",
            "    - 1.0\n",
            "    - 1.0\n",
            "    BOUNDARY_THRESH: -1\n",
            "    HEAD_NAME: StandardRPNHead\n",
            "    IN_FEATURES:\n",
            "    - p2\n",
            "    - p3\n",
            "    - p4\n",
            "    - p5\n",
            "    - p6\n",
            "    IOU_LABELS:\n",
            "    - 0\n",
            "    - -1\n",
            "    - 1\n",
            "    IOU_THRESHOLDS:\n",
            "    - 0.3\n",
            "    - 0.7\n",
            "    LOSS_WEIGHT: 1.0\n",
            "    NMS_THRESH: 0.7\n",
            "    POSITIVE_FRACTION: 0.5\n",
            "    POST_NMS_TOPK_TEST: 1000\n",
            "    POST_NMS_TOPK_TRAIN: 1000\n",
            "    PRE_NMS_TOPK_TEST: 1000\n",
            "    PRE_NMS_TOPK_TRAIN: 2000\n",
            "    SMOOTH_L1_BETA: 0.0\n",
            "  SEM_SEG_HEAD:\n",
            "    COMMON_STRIDE: 4\n",
            "    CONVS_DIM: 128\n",
            "    IGNORE_VALUE: 255\n",
            "    IN_FEATURES:\n",
            "    - p2\n",
            "    - p3\n",
            "    - p4\n",
            "    - p5\n",
            "    LOSS_WEIGHT: 1.0\n",
            "    NAME: SemSegFPNHead\n",
            "    NORM: GN\n",
            "    NUM_CLASSES: 1\n",
            "  WEIGHTS: model_0099999.pth\n",
            "OUTPUT_DIR: ./drive/My Drive/Face detection/WIDER_Mish_V2/V22F\n",
            "SEED: -1\n",
            "SOLVER:\n",
            "  BASE_LR: 4.0e-06\n",
            "  BIAS_LR_FACTOR: 1.0\n",
            "  CHECKPOINT_PERIOD: 10000\n",
            "  CLIP_GRADIENTS:\n",
            "    CLIP_TYPE: value\n",
            "    CLIP_VALUE: 1.0\n",
            "    ENABLED: false\n",
            "    NORM_TYPE: 2.0\n",
            "  GAMMA: 0.2\n",
            "  IMS_PER_BATCH: 2\n",
            "  LR_SCHEDULER_NAME: WarmupMultiStepLR\n",
            "  MAX_ITER: 100000\n",
            "  MOMENTUM: 0.9\n",
            "  NESTEROV: false\n",
            "  STEPS:\n",
            "  - 30000\n",
            "  - 50000\n",
            "  WARMUP_FACTOR: 0.001\n",
            "  WARMUP_ITERS: 1000\n",
            "  WARMUP_METHOD: linear\n",
            "  WEIGHT_DECAY: 0.0001\n",
            "  WEIGHT_DECAY_BIAS: 0.0001\n",
            "  WEIGHT_DECAY_NORM: 0.0\n",
            "TEST:\n",
            "  AUG:\n",
            "    ENABLED: false\n",
            "    FLIP: true\n",
            "    MAX_SIZE: 4000\n",
            "    MIN_SIZES:\n",
            "    - 400\n",
            "    - 500\n",
            "    - 600\n",
            "    - 700\n",
            "    - 800\n",
            "    - 900\n",
            "    - 1000\n",
            "    - 1100\n",
            "    - 1200\n",
            "  DETECTIONS_PER_IMAGE: 100\n",
            "  EVAL_PERIOD: 0\n",
            "  EXPECTED_RESULTS: []\n",
            "  KEYPOINT_OKS_SIGMAS: []\n",
            "  PRECISE_BN:\n",
            "    ENABLED: false\n",
            "    NUM_ITER: 200\n",
            "VERSION: 2\n",
            "VIS_PERIOD: 0\n",
            "\n"
          ],
          "name": "stdout"
        }
      ]
    },
    {
      "cell_type": "code",
      "metadata": {
        "id": "02GIDL6O0GYP",
        "colab_type": "code",
        "colab": {}
      },
      "source": [
        "l = [58,233,259,365,388,394,413,424,446,455,483,532,683,709,722,802,809,874,759]\n",
        "for i in l:\n",
        "    d=val[i]     \n",
        "    im = cv2.imread(d[\"file_name\"])\n",
        "    outputs = predictor(im[:, :, ::])\n",
        "    v = Visualizer(im,metadata=faces_metadata, scale=.7)\n",
        "    v = v.draw_instance_predictions(outputs[\"instances\"].to(\"cpu\"))\n",
        "    cv2_imshow(v.get_image()[:, :, ::])\n",
        "    \n",
        "for d in random.sample(val, 5):    \n",
        "    im = cv2.imread(d[\"file_name\"])\n",
        "    outputs = predictor(im[:, :, ::])\n",
        "    v = Visualizer(im,metadata=faces_metadata, scale=0.7)\n",
        "    v = v.draw_instance_predictions(outputs[\"instances\"].to(\"cpu\"))\n",
        "    cv2_imshow(v.get_image()[:, :, ::])"
      ],
      "execution_count": null,
      "outputs": []
    },
    {
      "cell_type": "code",
      "metadata": {
        "id": "VLyqox4CVmyt",
        "colab_type": "code",
        "colab": {}
      },
      "source": [
        "!rm D*"
      ],
      "execution_count": null,
      "outputs": []
    },
    {
      "cell_type": "code",
      "metadata": {
        "id": "KKtsPHp2VlVj",
        "colab_type": "code",
        "colab": {
          "base_uri": "https://localhost:8080/",
          "height": 1000
        },
        "outputId": "6f4155f0-f348-4700-c4da-ce8bc5f11cdd"
      },
      "source": [
        "for c in set_choices:\n",
        "  predictor,cfg,ext =set_predictor(c)\n",
        "  resF[c]=results(Faces_DD,predictor,'Detectron2_Faces_DD_mAP_MN2_',ext,pres=False)\n",
        "  resW[c]=results(val,predictor,'Detectron2_Wider_Face_mAP_MN2_',ext,pres=False)"
      ],
      "execution_count": null,
      "outputs": [
        {
          "output_type": "stream",
          "text": [
            "PREPARATION:  BN_Mish_V2_250+F_2_100k\n",
            "Downloading...\n",
            "From: https://drive.google.com/uc?id=1-ZFjV1a8Wz3wz1f1CrjPWFFChW-4aAlN\n",
            "To: /content/model_0099999.pth\n",
            "150MB [00:00, 226MB/s]\n",
            " Detectron2_Faces_DD_mAP_MN2_ BN_Mish_V2_250+F_2_100k  - total time 325.60 s  per img 0.3520 s\n",
            "All 0.50:   AP: 92.82%   Recall: 93.64%   IoU: 0.50\n",
            "All 0.00:   AP: 94.26%   Recall: 94.98%   IoU: 0.00\n",
            "large   :   AP: 97.32%   Recall: 97.70%   IoU: 0.50\n",
            "medium  :   AP: 81.85%   Recall: 85.07%   IoU: 0.50\n",
            "small   :   AP: 59.98%   Recall: 66.09%   IoU: 0.50\n"
          ],
          "name": "stdout"
        },
        {
          "output_type": "display_data",
          "data": {
            "image/png": "[encoded data removed]",
            "text/plain": [
              "<Figure size 1152x720 with 1 Axes>"
            ]
          },
          "metadata": {
            "tags": [],
            "needs_background": "light"
          }
        },
        {
          "output_type": "stream",
          "text": [
            " Detectron2_Wider_Face_mAP_MN2_ BN_Mish_V2_250+F_2_100k  - total time 322.72 s  per img 0.1000 s\n",
            "All 0.50:   AP: 55.27%   Recall: 56.23%   IoU: 0.50\n",
            "All 0.00:   AP: 58.37%   Recall: 59.11%   IoU: 0.00\n",
            "large   :   AP: 93.95%   Recall: 94.23%   IoU: 0.50\n",
            "medium  :   AP: 87.67%   Recall: 88.13%   IoU: 0.50\n",
            "small   :   AP: 41.56%   Recall: 42.95%   IoU: 0.50\n"
          ],
          "name": "stdout"
        },
        {
          "output_type": "display_data",
          "data": {
            "image/png": "[encoded data removed]",
            "text/plain": [
              "<Figure size 1152x720 with 1 Axes>"
            ]
          },
          "metadata": {
            "tags": [],
            "needs_background": "light"
          }
        }
      ]
    },
    {
      "cell_type": "code",
      "metadata": {
        "id": "hSHyPOuHEbxS",
        "colab_type": "code",
        "colab": {
          "base_uri": "https://localhost:8080/",
          "height": 77
        },
        "outputId": "9ea26f35-5ae2-4abe-85d8-3df28803107e"
      },
      "source": [
        "for c in set_choices:\n",
        "  res=mAP(resW[c]['gbxs'],resW[c]['dbxs'],data=False)\n",
        "  Ap=[]\n",
        "  for i in range(10):\n",
        "    Ap.append(res[0]['All {:.2f}'.format(0.5+i*0.05)][0])\n",
        "  print(c,' mAP: ',sum(Ap)/10,'\\nset: ', Ap)  #srednie AP dla conf [.5 ... 0.95]"
      ],
      "execution_count": null,
      "outputs": [
        {
          "output_type": "stream",
          "text": [
            "BN_Mish_V2_250+F_2_100k  mAP:  0.3166104165378291 \n",
            "set:  [0.5527466920980653, 0.5369778853450278, 0.5106115578752803, 0.471661830118787, 0.4169904903398224, 0.33363662142073364, 0.22333259644470427, 0.10094707651724524, 0.01873168352928583, 0.00046773168933942873]\n"
          ],
          "name": "stdout"
        }
      ]
    },
    {
      "cell_type": "code",
      "metadata": {
        "id": "AUr-r9aLDYNq",
        "colab_type": "code",
        "colab": {
          "base_uri": "https://localhost:8080/",
          "height": 177
        },
        "outputId": "d90d0046-e6b6-4ccc-8e13-3b01b8276884"
      },
      "source": [
        "resF[set_choices[0]]['metric'][0]"
      ],
      "execution_count": null,
      "outputs": [
        {
          "output_type": "execute_result",
          "data": {
            "text/plain": [
              "{'depth': 3,\n",
              " 'grey': False,\n",
              " 'marks': [[488.0, 658.0, 1414.0, 1778.0]],\n",
              " 'mean_std': [[120.13626572107435, 108.362532642924, 99.86483683920541],\n",
              "  [69.45270481118739, 68.85858604223439, 72.785191769202]],\n",
              " 'ori_size': [1944, 2592],\n",
              " 'path': 'Faces_DD/2004/DSC04759.JPG',\n",
              " 'persons': ['ZBD']}"
            ]
          },
          "metadata": {
            "tags": []
          },
          "execution_count": 23
        }
      ]
    },
    {
      "cell_type": "code",
      "metadata": {
        "id": "GU_6kPWU2Cqm",
        "colab_type": "code",
        "colab": {}
      },
      "source": [
        "import json\n",
        "def to_int(data):\n",
        "  if isinstance(data,dict):\n",
        "    for key in data.keys(): data[key]=to_int(data[key])\n",
        "  if isinstance(data,list):\n",
        "    for k in range(len(data)): data[k]=to_int(data[k])\n",
        "  if isinstance(data,tuple):\n",
        "    data=list(data)\n",
        "    for k in range(len(data)): data[k]=to_int(data[k]) \n",
        "  if 'int' in data.__class__.__name__: \n",
        "    data=int(data)\n",
        "  return data\n",
        "\n",
        "#json obsluguje calkowite tylko w typie int\n",
        "\n",
        "iresF = to_int(resF)\n",
        "iresW = to_int(resW)\n",
        "with open('Results Detectron2_mobilenetV2_Faces.json','w') as f:\n",
        "  json.dump(iresF,f)\n",
        "with open('Results Detectron2_mobilenetV2_Wider.json','w') as f:\n",
        "  json.dump(iresW,f)"
      ],
      "execution_count": null,
      "outputs": []
    },
    {
      "cell_type": "code",
      "metadata": {
        "id": "3I15uXWI_15T",
        "colab_type": "code",
        "colab": {}
      },
      "source": [
        "for c in list(iresF.keys())[:1]:\n",
        "  \n",
        "  _,d,ms=iresF[c].values(); num=len(ms) #d dbxs, ms metrics\n",
        "  for l in [58,233,259,365,388,394,413,424,446,455,483,532,683,709,722,802,809,874,759]:\n",
        "    if l < num:\n",
        "      m=ms[l]\n",
        "      print('------------------------  idx  ',l,'  gtx/dbxs',len(m['marks']),'/',len(d[l]))\n",
        "      plot_marks(Image.open(m['path']),m,d[l],figsize=(16,12)) \n"
      ],
      "execution_count": null,
      "outputs": []
    },
    {
      "cell_type": "code",
      "metadata": {
        "id": "-K8MbTnzqIGU",
        "colab_type": "code",
        "colab": {}
      },
      "source": [
        "for c in list(iresW.keys())[-1:]:\n",
        "\n",
        "  _,d,ms=iresW[c].values(); num=len(ms) #d dbxs, ms metrics\n",
        "  for l in [58,233,259,365,388,394,413,424,446,455,483,532,683,709,722,802,809,874,759]:\n",
        "    if l < num:\n",
        "      m=ms[l]\n",
        "      print('------------------------  idx  ',l,'  gtx/dbxs',len(m['marks']),'/',len(d[l]))\n",
        "      plot_marks(Image.open(m['path']),m,d[l],figsize=(16,12)) \n"
      ],
      "execution_count": null,
      "outputs": []
    },
    {
      "cell_type": "code",
      "metadata": {
        "id": "NSbPSc58z7pp",
        "colab_type": "code",
        "colab": {
          "base_uri": "https://localhost:8080/",
          "height": 77
        },
        "outputId": "3976383e-8e1f-417b-eb1d-089a01f74525"
      },
      "source": [
        "!zip -u PNG D*.png"
      ],
      "execution_count": null,
      "outputs": [
        {
          "output_type": "stream",
          "text": [
            "\tzip warning: PNG.zip not found or empty\n",
            "  adding: Detectron2_Faces_DD_mAP_MN2_BN_Mish_V2_250+F_2_100k.png (deflated 12%)\n",
            "  adding: Detectron2_Wider_Face_mAP_MN2_BN_Mish_V2_250+F_2_100k.png (deflated 9%)\n"
          ],
          "name": "stdout"
        }
      ]
    },
    {
      "cell_type": "code",
      "metadata": {
        "colab_type": "code",
        "id": "ITxhhiNe4WMZ",
        "colab": {}
      },
      "source": [
        "#inicjalizacja sieci mtcnn, pelny opis dostepny: help(MTCNN)\n",
        "#mtcnn = MTCNN(image_size=224, margin=0, keep_all=True) "
      ],
      "execution_count": null,
      "outputs": []
    },
    {
      "cell_type": "markdown",
      "metadata": {
        "id": "69y-Xkg-NZZW",
        "colab_type": "text"
      },
      "source": [
        "total time 1317.56  per img 0.4084"
      ]
    },
    {
      "cell_type": "markdown",
      "metadata": {
        "id": "HfC7Dm-2LAKG",
        "colab_type": "text"
      },
      "source": [
        "#Eval na train"
      ]
    },
    {
      "cell_type": "code",
      "metadata": {
        "id": "Nlqg7dE7IUeS",
        "colab_type": "code",
        "colab": {
          "base_uri": "https://localhost:8080/",
          "height": 1000
        },
        "outputId": "4a7b3d3d-eced-4f6c-f724-5bca0085e955"
      },
      "source": [
        "cfg.OUTPUT_DIR='./OUTPUT'\n",
        "cfg.MODEL.ROI_HEADS.SCORE_THRESH_TEST = 0.05   # set the testing threshold for this model\n",
        "cfg.DATASETS.TEST = (\"face_train\", )\n",
        "cfg.DATASETS.VAL = (\"face_val\", ) \n",
        "trainer =DefaultTrainer(cfg)\n",
        "trainer.resume_or_load(resume=True)\n",
        "cfg.MODEL.WEIGHTS"
      ],
      "execution_count": null,
      "outputs": [
        {
          "output_type": "stream",
          "text": [
            "\u001b[32m[06/09 14:55:33 d2.engine.defaults]: \u001b[0mModel:\n",
            "GeneralizedRCNN(\n",
            "  (backbone): FPN(\n",
            "    (fpn_lateral2): Conv2d(24, 256, kernel_size=(1, 1), stride=(1, 1))\n",
            "    (fpn_output2): Conv2d(256, 256, kernel_size=(3, 3), stride=(1, 1), padding=(1, 1))\n",
            "    (fpn_lateral3): Conv2d(32, 256, kernel_size=(1, 1), stride=(1, 1))\n",
            "    (fpn_output3): Conv2d(256, 256, kernel_size=(3, 3), stride=(1, 1), padding=(1, 1))\n",
            "    (fpn_lateral4): Conv2d(96, 256, kernel_size=(1, 1), stride=(1, 1))\n",
            "    (fpn_output4): Conv2d(256, 256, kernel_size=(3, 3), stride=(1, 1), padding=(1, 1))\n",
            "    (fpn_lateral5): Conv2d(320, 256, kernel_size=(1, 1), stride=(1, 1))\n",
            "    (fpn_output5): Conv2d(256, 256, kernel_size=(3, 3), stride=(1, 1), padding=(1, 1))\n",
            "    (top_block): LastLevelMaxPool()\n",
            "    (bottom_up): MobileNetV2(\n",
            "      (features): ModuleList(\n",
            "        (0): Sequential(\n",
            "          (0): Conv2d(3, 32, kernel_size=(3, 3), stride=(2, 2), padding=(1, 1), bias=False)\n",
            "          (1): FrozenBatchNorm2d(num_features=32, eps=1e-05)\n",
            "          (2): Mish()\n",
            "        )\n",
            "        (1): InvertedResidual(\n",
            "          (conv): Sequential(\n",
            "            (0): Conv2d(32, 32, kernel_size=(3, 3), stride=(1, 1), padding=(1, 1), groups=32, bias=False)\n",
            "            (1): FrozenBatchNorm2d(num_features=32, eps=1e-05)\n",
            "            (2): Mish()\n",
            "            (3): Conv2d(32, 16, kernel_size=(1, 1), stride=(1, 1), bias=False)\n",
            "            (4): FrozenBatchNorm2d(num_features=16, eps=1e-05)\n",
            "          )\n",
            "        )\n",
            "        (2): InvertedResidual(\n",
            "          (conv): Sequential(\n",
            "            (0): Conv2d(16, 96, kernel_size=(1, 1), stride=(1, 1), bias=False)\n",
            "            (1): FrozenBatchNorm2d(num_features=96, eps=1e-05)\n",
            "            (2): Mish()\n",
            "            (3): Conv2d(96, 96, kernel_size=(3, 3), stride=(2, 2), padding=(1, 1), groups=96, bias=False)\n",
            "            (4): FrozenBatchNorm2d(num_features=96, eps=1e-05)\n",
            "            (5): Mish()\n",
            "            (6): Conv2d(96, 24, kernel_size=(1, 1), stride=(1, 1), bias=False)\n",
            "            (7): FrozenBatchNorm2d(num_features=24, eps=1e-05)\n",
            "          )\n",
            "        )\n",
            "        (3): InvertedResidual(\n",
            "          (conv): Sequential(\n",
            "            (0): Conv2d(24, 144, kernel_size=(1, 1), stride=(1, 1), bias=False)\n",
            "            (1): FrozenBatchNorm2d(num_features=144, eps=1e-05)\n",
            "            (2): Mish()\n",
            "            (3): Conv2d(144, 144, kernel_size=(3, 3), stride=(1, 1), padding=(1, 1), groups=144, bias=False)\n",
            "            (4): FrozenBatchNorm2d(num_features=144, eps=1e-05)\n",
            "            (5): Mish()\n",
            "            (6): Conv2d(144, 24, kernel_size=(1, 1), stride=(1, 1), bias=False)\n",
            "            (7): FrozenBatchNorm2d(num_features=24, eps=1e-05)\n",
            "          )\n",
            "        )\n",
            "        (4): InvertedResidual(\n",
            "          (conv): Sequential(\n",
            "            (0): Conv2d(24, 144, kernel_size=(1, 1), stride=(1, 1), bias=False)\n",
            "            (1): FrozenBatchNorm2d(num_features=144, eps=1e-05)\n",
            "            (2): Mish()\n",
            "            (3): Conv2d(144, 144, kernel_size=(3, 3), stride=(2, 2), padding=(1, 1), groups=144, bias=False)\n",
            "            (4): FrozenBatchNorm2d(num_features=144, eps=1e-05)\n",
            "            (5): Mish()\n",
            "            (6): Conv2d(144, 32, kernel_size=(1, 1), stride=(1, 1), bias=False)\n",
            "            (7): FrozenBatchNorm2d(num_features=32, eps=1e-05)\n",
            "          )\n",
            "        )\n",
            "        (5): InvertedResidual(\n",
            "          (conv): Sequential(\n",
            "            (0): Conv2d(32, 192, kernel_size=(1, 1), stride=(1, 1), bias=False)\n",
            "            (1): FrozenBatchNorm2d(num_features=192, eps=1e-05)\n",
            "            (2): Mish()\n",
            "            (3): Conv2d(192, 192, kernel_size=(3, 3), stride=(1, 1), padding=(1, 1), groups=192, bias=False)\n",
            "            (4): FrozenBatchNorm2d(num_features=192, eps=1e-05)\n",
            "            (5): Mish()\n",
            "            (6): Conv2d(192, 32, kernel_size=(1, 1), stride=(1, 1), bias=False)\n",
            "            (7): FrozenBatchNorm2d(num_features=32, eps=1e-05)\n",
            "          )\n",
            "        )\n",
            "        (6): InvertedResidual(\n",
            "          (conv): Sequential(\n",
            "            (0): Conv2d(32, 192, kernel_size=(1, 1), stride=(1, 1), bias=False)\n",
            "            (1): FrozenBatchNorm2d(num_features=192, eps=1e-05)\n",
            "            (2): Mish()\n",
            "            (3): Conv2d(192, 192, kernel_size=(3, 3), stride=(1, 1), padding=(1, 1), groups=192, bias=False)\n",
            "            (4): FrozenBatchNorm2d(num_features=192, eps=1e-05)\n",
            "            (5): Mish()\n",
            "            (6): Conv2d(192, 32, kernel_size=(1, 1), stride=(1, 1), bias=False)\n",
            "            (7): FrozenBatchNorm2d(num_features=32, eps=1e-05)\n",
            "          )\n",
            "        )\n",
            "        (7): InvertedResidual(\n",
            "          (conv): Sequential(\n",
            "            (0): Conv2d(32, 192, kernel_size=(1, 1), stride=(1, 1), bias=False)\n",
            "            (1): FrozenBatchNorm2d(num_features=192, eps=1e-05)\n",
            "            (2): Mish()\n",
            "            (3): Conv2d(192, 192, kernel_size=(3, 3), stride=(2, 2), padding=(1, 1), groups=192, bias=False)\n",
            "            (4): FrozenBatchNorm2d(num_features=192, eps=1e-05)\n",
            "            (5): Mish()\n",
            "            (6): Conv2d(192, 64, kernel_size=(1, 1), stride=(1, 1), bias=False)\n",
            "            (7): FrozenBatchNorm2d(num_features=64, eps=1e-05)\n",
            "          )\n",
            "        )\n",
            "        (8): InvertedResidual(\n",
            "          (conv): Sequential(\n",
            "            (0): Conv2d(64, 384, kernel_size=(1, 1), stride=(1, 1), bias=False)\n",
            "            (1): FrozenBatchNorm2d(num_features=384, eps=1e-05)\n",
            "            (2): Mish()\n",
            "            (3): Conv2d(384, 384, kernel_size=(3, 3), stride=(1, 1), padding=(1, 1), groups=384, bias=False)\n",
            "            (4): FrozenBatchNorm2d(num_features=384, eps=1e-05)\n",
            "            (5): Mish()\n",
            "            (6): Conv2d(384, 64, kernel_size=(1, 1), stride=(1, 1), bias=False)\n",
            "            (7): FrozenBatchNorm2d(num_features=64, eps=1e-05)\n",
            "          )\n",
            "        )\n",
            "        (9): InvertedResidual(\n",
            "          (conv): Sequential(\n",
            "            (0): Conv2d(64, 384, kernel_size=(1, 1), stride=(1, 1), bias=False)\n",
            "            (1): FrozenBatchNorm2d(num_features=384, eps=1e-05)\n",
            "            (2): Mish()\n",
            "            (3): Conv2d(384, 384, kernel_size=(3, 3), stride=(1, 1), padding=(1, 1), groups=384, bias=False)\n",
            "            (4): FrozenBatchNorm2d(num_features=384, eps=1e-05)\n",
            "            (5): Mish()\n",
            "            (6): Conv2d(384, 64, kernel_size=(1, 1), stride=(1, 1), bias=False)\n",
            "            (7): FrozenBatchNorm2d(num_features=64, eps=1e-05)\n",
            "          )\n",
            "        )\n",
            "        (10): InvertedResidual(\n",
            "          (conv): Sequential(\n",
            "            (0): Conv2d(64, 384, kernel_size=(1, 1), stride=(1, 1), bias=False)\n",
            "            (1): FrozenBatchNorm2d(num_features=384, eps=1e-05)\n",
            "            (2): Mish()\n",
            "            (3): Conv2d(384, 384, kernel_size=(3, 3), stride=(1, 1), padding=(1, 1), groups=384, bias=False)\n",
            "            (4): FrozenBatchNorm2d(num_features=384, eps=1e-05)\n",
            "            (5): Mish()\n",
            "            (6): Conv2d(384, 64, kernel_size=(1, 1), stride=(1, 1), bias=False)\n",
            "            (7): FrozenBatchNorm2d(num_features=64, eps=1e-05)\n",
            "          )\n",
            "        )\n",
            "        (11): InvertedResidual(\n",
            "          (conv): Sequential(\n",
            "            (0): Conv2d(64, 384, kernel_size=(1, 1), stride=(1, 1), bias=False)\n",
            "            (1): FrozenBatchNorm2d(num_features=384, eps=1e-05)\n",
            "            (2): Mish()\n",
            "            (3): Conv2d(384, 384, kernel_size=(3, 3), stride=(1, 1), padding=(1, 1), groups=384, bias=False)\n",
            "            (4): FrozenBatchNorm2d(num_features=384, eps=1e-05)\n",
            "            (5): Mish()\n",
            "            (6): Conv2d(384, 96, kernel_size=(1, 1), stride=(1, 1), bias=False)\n",
            "            (7): FrozenBatchNorm2d(num_features=96, eps=1e-05)\n",
            "          )\n",
            "        )\n",
            "        (12): InvertedResidual(\n",
            "          (conv): Sequential(\n",
            "            (0): Conv2d(96, 576, kernel_size=(1, 1), stride=(1, 1), bias=False)\n",
            "            (1): FrozenBatchNorm2d(num_features=576, eps=1e-05)\n",
            "            (2): Mish()\n",
            "            (3): Conv2d(576, 576, kernel_size=(3, 3), stride=(1, 1), padding=(1, 1), groups=576, bias=False)\n",
            "            (4): FrozenBatchNorm2d(num_features=576, eps=1e-05)\n",
            "            (5): Mish()\n",
            "            (6): Conv2d(576, 96, kernel_size=(1, 1), stride=(1, 1), bias=False)\n",
            "            (7): FrozenBatchNorm2d(num_features=96, eps=1e-05)\n",
            "          )\n",
            "        )\n",
            "        (13): InvertedResidual(\n",
            "          (conv): Sequential(\n",
            "            (0): Conv2d(96, 576, kernel_size=(1, 1), stride=(1, 1), bias=False)\n",
            "            (1): FrozenBatchNorm2d(num_features=576, eps=1e-05)\n",
            "            (2): Mish()\n",
            "            (3): Conv2d(576, 576, kernel_size=(3, 3), stride=(1, 1), padding=(1, 1), groups=576, bias=False)\n",
            "            (4): FrozenBatchNorm2d(num_features=576, eps=1e-05)\n",
            "            (5): Mish()\n",
            "            (6): Conv2d(576, 96, kernel_size=(1, 1), stride=(1, 1), bias=False)\n",
            "            (7): FrozenBatchNorm2d(num_features=96, eps=1e-05)\n",
            "          )\n",
            "        )\n",
            "        (14): InvertedResidual(\n",
            "          (conv): Sequential(\n",
            "            (0): Conv2d(96, 576, kernel_size=(1, 1), stride=(1, 1), bias=False)\n",
            "            (1): FrozenBatchNorm2d(num_features=576, eps=1e-05)\n",
            "            (2): Mish()\n",
            "            (3): Conv2d(576, 576, kernel_size=(3, 3), stride=(2, 2), padding=(1, 1), groups=576, bias=False)\n",
            "            (4): FrozenBatchNorm2d(num_features=576, eps=1e-05)\n",
            "            (5): Mish()\n",
            "            (6): Conv2d(576, 160, kernel_size=(1, 1), stride=(1, 1), bias=False)\n",
            "            (7): FrozenBatchNorm2d(num_features=160, eps=1e-05)\n",
            "          )\n",
            "        )\n",
            "        (15): InvertedResidual(\n",
            "          (conv): Sequential(\n",
            "            (0): Conv2d(160, 960, kernel_size=(1, 1), stride=(1, 1), bias=False)\n",
            "            (1): FrozenBatchNorm2d(num_features=960, eps=1e-05)\n",
            "            (2): Mish()\n",
            "            (3): Conv2d(960, 960, kernel_size=(3, 3), stride=(1, 1), padding=(1, 1), groups=960, bias=False)\n",
            "            (4): FrozenBatchNorm2d(num_features=960, eps=1e-05)\n",
            "            (5): Mish()\n",
            "            (6): Conv2d(960, 160, kernel_size=(1, 1), stride=(1, 1), bias=False)\n",
            "            (7): FrozenBatchNorm2d(num_features=160, eps=1e-05)\n",
            "          )\n",
            "        )\n",
            "        (16): InvertedResidual(\n",
            "          (conv): Sequential(\n",
            "            (0): Conv2d(160, 960, kernel_size=(1, 1), stride=(1, 1), bias=False)\n",
            "            (1): FrozenBatchNorm2d(num_features=960, eps=1e-05)\n",
            "            (2): Mish()\n",
            "            (3): Conv2d(960, 960, kernel_size=(3, 3), stride=(1, 1), padding=(1, 1), groups=960, bias=False)\n",
            "            (4): FrozenBatchNorm2d(num_features=960, eps=1e-05)\n",
            "            (5): Mish()\n",
            "            (6): Conv2d(960, 160, kernel_size=(1, 1), stride=(1, 1), bias=False)\n",
            "            (7): FrozenBatchNorm2d(num_features=160, eps=1e-05)\n",
            "          )\n",
            "        )\n",
            "        (17): InvertedResidual(\n",
            "          (conv): Sequential(\n",
            "            (0): Conv2d(160, 960, kernel_size=(1, 1), stride=(1, 1), bias=False)\n",
            "            (1): FrozenBatchNorm2d(num_features=960, eps=1e-05)\n",
            "            (2): Mish()\n",
            "            (3): Conv2d(960, 960, kernel_size=(3, 3), stride=(1, 1), padding=(1, 1), groups=960, bias=False)\n",
            "            (4): FrozenBatchNorm2d(num_features=960, eps=1e-05)\n",
            "            (5): Mish()\n",
            "            (6): Conv2d(960, 320, kernel_size=(1, 1), stride=(1, 1), bias=False)\n",
            "            (7): FrozenBatchNorm2d(num_features=320, eps=1e-05)\n",
            "          )\n",
            "        )\n",
            "      )\n",
            "    )\n",
            "  )\n",
            "  (proposal_generator): RPN(\n",
            "    (rpn_head): StandardRPNHead(\n",
            "      (conv): Conv2d(256, 256, kernel_size=(3, 3), stride=(1, 1), padding=(1, 1))\n",
            "      (objectness_logits): Conv2d(256, 3, kernel_size=(1, 1), stride=(1, 1))\n",
            "      (anchor_deltas): Conv2d(256, 12, kernel_size=(1, 1), stride=(1, 1))\n",
            "    )\n",
            "    (anchor_generator): DefaultAnchorGenerator(\n",
            "      (cell_anchors): BufferList()\n",
            "    )\n",
            "  )\n",
            "  (roi_heads): StandardROIHeads(\n",
            "    (box_pooler): ROIPooler(\n",
            "      (level_poolers): ModuleList(\n",
            "        (0): ROIAlign(output_size=(7, 7), spatial_scale=0.25, sampling_ratio=0, aligned=True)\n",
            "        (1): ROIAlign(output_size=(7, 7), spatial_scale=0.125, sampling_ratio=0, aligned=True)\n",
            "        (2): ROIAlign(output_size=(7, 7), spatial_scale=0.0625, sampling_ratio=0, aligned=True)\n",
            "        (3): ROIAlign(output_size=(7, 7), spatial_scale=0.03125, sampling_ratio=0, aligned=True)\n",
            "      )\n",
            "    )\n",
            "    (box_head): FastRCNNConvFCHead(\n",
            "      (fc1): Linear(in_features=12544, out_features=1024, bias=True)\n",
            "      (fc2): Linear(in_features=1024, out_features=1024, bias=True)\n",
            "    )\n",
            "    (box_predictor): FastRCNNOutputLayers(\n",
            "      (cls_score): Linear(in_features=1024, out_features=2, bias=True)\n",
            "      (bbox_pred): Linear(in_features=1024, out_features=4, bias=True)\n",
            "    )\n",
            "  )\n",
            ")\n",
            "\u001b[32m[06/09 14:55:33 d2.data.build]: \u001b[0mRemoved 0 images with no usable annotations. 12880 images left.\n",
            "\u001b[32m[06/09 14:55:33 d2.data.build]: \u001b[0mDistribution of instances among all 1 categories:\n",
            "\u001b[36m|  category  | #instances   |\n",
            "|:----------:|:-------------|\n",
            "|    face    | 159424       |\n",
            "|            |              |\u001b[0m\n",
            "\u001b[32m[06/09 14:55:33 d2.data.common]: \u001b[0mSerializing 12880 elements to byte tensors and concatenating them all ...\n",
            "\u001b[32m[06/09 14:55:34 d2.data.common]: \u001b[0mSerialized dataset takes 12.74 MiB\n",
            "\u001b[32m[06/09 14:55:34 d2.data.detection_utils]: \u001b[0mTransformGens used in training: [ResizeShortestEdge(short_edge_length=[640, 672, 704, 736, 768, 800], max_size=1333, sample_style='choice'), RandomFlip()]\n",
            "\u001b[32m[06/09 14:55:34 d2.data.build]: \u001b[0mUsing training sampler TrainingSampler\n"
          ],
          "name": "stdout"
        },
        {
          "output_type": "execute_result",
          "data": {
            "text/plain": [
              "'model_0099999.pth'"
            ]
          },
          "metadata": {
            "tags": []
          },
          "execution_count": 17
        }
      ]
    },
    {
      "cell_type": "code",
      "metadata": {
        "id": "OeEJFcqIkXfc",
        "colab_type": "code",
        "colab": {
          "base_uri": "https://localhost:8080/",
          "height": 37
        },
        "outputId": "8f4d1f51-4aec-4985-fd39-aeee024fe57f"
      },
      "source": [
        "MetadataCatalog.get('face_val'),MetadataCatalog.get('face_train')"
      ],
      "execution_count": null,
      "outputs": [
        {
          "output_type": "execute_result",
          "data": {
            "text/plain": [
              "Metadata(name='face_val', thing_classes=['face'])"
            ]
          },
          "metadata": {
            "tags": []
          },
          "execution_count": 28
        }
      ]
    },
    {
      "cell_type": "code",
      "metadata": {
        "colab_type": "code",
        "id": "YdREK8BQ5Bwj",
        "colab": {
          "base_uri": "https://localhost:8080/",
          "height": 1000
        },
        "outputId": "e5053059-8bd1-41a7-c488-6b336ab22f93"
      },
      "source": [
        "from detectron2.evaluation import COCOEvaluator, inference_on_dataset\n",
        "from detectron2.data import build_detection_test_loader\n",
        "\n",
        "\n",
        "evaluator = COCOEvaluator(\"face_train\", cfg, False, output_dir=\"./OUTPUT/\")\n",
        "\n",
        "val_loader = build_detection_test_loader(cfg, \"face_train\")\n",
        "\n",
        "inference_on_dataset(trainer.model, val_loader, evaluator)\n"
      ],
      "execution_count": null,
      "outputs": [
        {
          "output_type": "stream",
          "text": [
            "\u001b[5m\u001b[31mWARNING\u001b[0m \u001b[32m[06/09 14:55:45 d2.evaluation.coco_evaluation]: \u001b[0mjson_file was not found in MetaDataCatalog for 'face_train'. Trying to convert it to COCO format ...\n",
            "\u001b[32m[06/09 14:55:45 d2.data.datasets.coco]: \u001b[0mConverting annotations of dataset 'face_train' to COCO format ...)\n",
            "\u001b[32m[06/09 14:55:45 d2.data.datasets.coco]: \u001b[0mConverting dataset dicts into COCO format\n",
            "\u001b[32m[06/09 14:56:19 d2.data.datasets.coco]: \u001b[0mConversion finished, #images: 12880, #annotations: 159424\n",
            "\u001b[32m[06/09 14:56:19 d2.data.datasets.coco]: \u001b[0mCaching COCO format annotations at './OUTPUT/face_train_coco_format.json' ...\n",
            "\u001b[32m[06/09 14:56:26 d2.data.common]: \u001b[0mSerializing 12880 elements to byte tensors and concatenating them all ...\n",
            "\u001b[32m[06/09 14:56:26 d2.data.common]: \u001b[0mSerialized dataset takes 12.74 MiB\n",
            "\u001b[32m[06/09 14:56:26 d2.evaluation.evaluator]: \u001b[0mStart inference on 12880 images\n",
            "\u001b[32m[06/09 14:56:27 d2.evaluation.evaluator]: \u001b[0mInference done 11/12880. 0.0502 s / img. ETA=0:11:00\n",
            "\u001b[32m[06/09 14:56:32 d2.evaluation.evaluator]: \u001b[0mInference done 105/12880. 0.0519 s / img. ETA=0:11:24\n",
            "\u001b[32m[06/09 14:56:37 d2.evaluation.evaluator]: \u001b[0mInference done 199/12880. 0.0518 s / img. ETA=0:11:17\n",
            "\u001b[32m[06/09 14:56:42 d2.evaluation.evaluator]: \u001b[0mInference done 293/12880. 0.0518 s / img. ETA=0:11:13\n",
            "\u001b[32m[06/09 14:56:47 d2.evaluation.evaluator]: \u001b[0mInference done 387/12880. 0.0518 s / img. ETA=0:11:09\n",
            "\u001b[32m[06/09 14:56:52 d2.evaluation.evaluator]: \u001b[0mInference done 480/12880. 0.0518 s / img. ETA=0:11:04\n",
            "\u001b[32m[06/09 14:56:57 d2.evaluation.evaluator]: \u001b[0mInference done 574/12880. 0.0518 s / img. ETA=0:10:59\n",
            "\u001b[32m[06/09 14:57:02 d2.evaluation.evaluator]: \u001b[0mInference done 667/12880. 0.0518 s / img. ETA=0:10:55\n",
            "\u001b[32m[06/09 14:57:07 d2.evaluation.evaluator]: \u001b[0mInference done 760/12880. 0.0519 s / img. ETA=0:10:50\n",
            "\u001b[32m[06/09 14:57:12 d2.evaluation.evaluator]: \u001b[0mInference done 853/12880. 0.0519 s / img. ETA=0:10:46\n",
            "\u001b[32m[06/09 14:57:17 d2.evaluation.evaluator]: \u001b[0mInference done 948/12880. 0.0519 s / img. ETA=0:10:40\n",
            "\u001b[32m[06/09 14:57:22 d2.evaluation.evaluator]: \u001b[0mInference done 1042/12880. 0.0518 s / img. ETA=0:10:34\n",
            "\u001b[32m[06/09 14:57:28 d2.evaluation.evaluator]: \u001b[0mInference done 1137/12880. 0.0518 s / img. ETA=0:10:29\n",
            "\u001b[32m[06/09 14:57:33 d2.evaluation.evaluator]: \u001b[0mInference done 1231/12880. 0.0518 s / img. ETA=0:10:24\n",
            "\u001b[32m[06/09 14:57:38 d2.evaluation.evaluator]: \u001b[0mInference done 1325/12880. 0.0518 s / img. ETA=0:10:19\n",
            "\u001b[32m[06/09 14:57:43 d2.evaluation.evaluator]: \u001b[0mInference done 1419/12880. 0.0518 s / img. ETA=0:10:14\n",
            "\u001b[32m[06/09 14:57:48 d2.evaluation.evaluator]: \u001b[0mInference done 1514/12880. 0.0518 s / img. ETA=0:10:08\n",
            "\u001b[32m[06/09 14:57:53 d2.evaluation.evaluator]: \u001b[0mInference done 1608/12880. 0.0518 s / img. ETA=0:10:03\n",
            "\u001b[32m[06/09 14:57:58 d2.evaluation.evaluator]: \u001b[0mInference done 1702/12880. 0.0518 s / img. ETA=0:09:58\n",
            "\u001b[32m[06/09 14:58:03 d2.evaluation.evaluator]: \u001b[0mInference done 1795/12880. 0.0518 s / img. ETA=0:09:53\n",
            "\u001b[32m[06/09 14:58:08 d2.evaluation.evaluator]: \u001b[0mInference done 1889/12880. 0.0518 s / img. ETA=0:09:48\n",
            "\u001b[32m[06/09 14:58:13 d2.evaluation.evaluator]: \u001b[0mInference done 1984/12880. 0.0518 s / img. ETA=0:09:43\n",
            "\u001b[32m[06/09 14:58:18 d2.evaluation.evaluator]: \u001b[0mInference done 2077/12880. 0.0518 s / img. ETA=0:09:38\n",
            "\u001b[32m[06/09 14:58:23 d2.evaluation.evaluator]: \u001b[0mInference done 2172/12880. 0.0517 s / img. ETA=0:09:33\n",
            "\u001b[32m[06/09 14:58:28 d2.evaluation.evaluator]: \u001b[0mInference done 2265/12880. 0.0518 s / img. ETA=0:09:28\n",
            "\u001b[32m[06/09 14:58:33 d2.evaluation.evaluator]: \u001b[0mInference done 2357/12880. 0.0518 s / img. ETA=0:09:24\n",
            "\u001b[32m[06/09 14:58:38 d2.evaluation.evaluator]: \u001b[0mInference done 2451/12880. 0.0518 s / img. ETA=0:09:19\n",
            "\u001b[32m[06/09 14:58:43 d2.evaluation.evaluator]: \u001b[0mInference done 2544/12880. 0.0518 s / img. ETA=0:09:14\n",
            "\u001b[32m[06/09 14:58:48 d2.evaluation.evaluator]: \u001b[0mInference done 2639/12880. 0.0518 s / img. ETA=0:09:08\n",
            "\u001b[32m[06/09 14:58:53 d2.evaluation.evaluator]: \u001b[0mInference done 2733/12880. 0.0518 s / img. ETA=0:09:03\n",
            "\u001b[32m[06/09 14:58:58 d2.evaluation.evaluator]: \u001b[0mInference done 2828/12880. 0.0518 s / img. ETA=0:08:58\n",
            "\u001b[32m[06/09 14:59:03 d2.evaluation.evaluator]: \u001b[0mInference done 2923/12880. 0.0517 s / img. ETA=0:08:53\n",
            "\u001b[32m[06/09 14:59:08 d2.evaluation.evaluator]: \u001b[0mInference done 3016/12880. 0.0518 s / img. ETA=0:08:48\n",
            "\u001b[32m[06/09 14:59:13 d2.evaluation.evaluator]: \u001b[0mInference done 3108/12880. 0.0518 s / img. ETA=0:08:43\n",
            "\u001b[32m[06/09 14:59:18 d2.evaluation.evaluator]: \u001b[0mInference done 3199/12880. 0.0518 s / img. ETA=0:08:39\n",
            "\u001b[32m[06/09 14:59:23 d2.evaluation.evaluator]: \u001b[0mInference done 3292/12880. 0.0518 s / img. ETA=0:08:34\n",
            "\u001b[32m[06/09 14:59:28 d2.evaluation.evaluator]: \u001b[0mInference done 3384/12880. 0.0519 s / img. ETA=0:08:29\n",
            "\u001b[32m[06/09 14:59:33 d2.evaluation.evaluator]: \u001b[0mInference done 3477/12880. 0.0519 s / img. ETA=0:08:24\n",
            "\u001b[32m[06/09 14:59:38 d2.evaluation.evaluator]: \u001b[0mInference done 3569/12880. 0.0519 s / img. ETA=0:08:20\n",
            "\u001b[32m[06/09 14:59:43 d2.evaluation.evaluator]: \u001b[0mInference done 3662/12880. 0.0519 s / img. ETA=0:08:15\n",
            "\u001b[32m[06/09 14:59:48 d2.evaluation.evaluator]: \u001b[0mInference done 3755/12880. 0.0519 s / img. ETA=0:08:10\n",
            "\u001b[32m[06/09 14:59:53 d2.evaluation.evaluator]: \u001b[0mInference done 3848/12880. 0.0519 s / img. ETA=0:08:05\n",
            "\u001b[32m[06/09 14:59:58 d2.evaluation.evaluator]: \u001b[0mInference done 3942/12880. 0.0519 s / img. ETA=0:08:00\n",
            "\u001b[32m[06/09 15:00:03 d2.evaluation.evaluator]: \u001b[0mInference done 4037/12880. 0.0519 s / img. ETA=0:07:55\n",
            "\u001b[32m[06/09 15:00:08 d2.evaluation.evaluator]: \u001b[0mInference done 4132/12880. 0.0519 s / img. ETA=0:07:49\n",
            "\u001b[32m[06/09 15:00:13 d2.evaluation.evaluator]: \u001b[0mInference done 4216/12880. 0.0520 s / img. ETA=0:07:46\n",
            "\u001b[32m[06/09 15:00:18 d2.evaluation.evaluator]: \u001b[0mInference done 4309/12880. 0.0520 s / img. ETA=0:07:41\n",
            "\u001b[32m[06/09 15:00:24 d2.evaluation.evaluator]: \u001b[0mInference done 4404/12880. 0.0520 s / img. ETA=0:07:36\n",
            "\u001b[32m[06/09 15:00:29 d2.evaluation.evaluator]: \u001b[0mInference done 4498/12880. 0.0520 s / img. ETA=0:07:30\n",
            "\u001b[32m[06/09 15:00:34 d2.evaluation.evaluator]: \u001b[0mInference done 4592/12880. 0.0520 s / img. ETA=0:07:25\n",
            "\u001b[32m[06/09 15:00:39 d2.evaluation.evaluator]: \u001b[0mInference done 4686/12880. 0.0520 s / img. ETA=0:07:20\n",
            "\u001b[32m[06/09 15:00:44 d2.evaluation.evaluator]: \u001b[0mInference done 4779/12880. 0.0520 s / img. ETA=0:07:15\n",
            "\u001b[32m[06/09 15:00:49 d2.evaluation.evaluator]: \u001b[0mInference done 4872/12880. 0.0520 s / img. ETA=0:07:10\n",
            "\u001b[32m[06/09 15:00:54 d2.evaluation.evaluator]: \u001b[0mInference done 4966/12880. 0.0520 s / img. ETA=0:07:05\n",
            "\u001b[32m[06/09 15:00:59 d2.evaluation.evaluator]: \u001b[0mInference done 5059/12880. 0.0520 s / img. ETA=0:07:00\n",
            "\u001b[32m[06/09 15:01:04 d2.evaluation.evaluator]: \u001b[0mInference done 5155/12880. 0.0520 s / img. ETA=0:06:55\n",
            "\u001b[32m[06/09 15:01:09 d2.evaluation.evaluator]: \u001b[0mInference done 5249/12880. 0.0520 s / img. ETA=0:06:50\n",
            "\u001b[32m[06/09 15:01:14 d2.evaluation.evaluator]: \u001b[0mInference done 5343/12880. 0.0520 s / img. ETA=0:06:45\n",
            "\u001b[32m[06/09 15:01:19 d2.evaluation.evaluator]: \u001b[0mInference done 5435/12880. 0.0520 s / img. ETA=0:06:40\n",
            "\u001b[32m[06/09 15:01:24 d2.evaluation.evaluator]: \u001b[0mInference done 5528/12880. 0.0520 s / img. ETA=0:06:35\n",
            "\u001b[32m[06/09 15:01:29 d2.evaluation.evaluator]: \u001b[0mInference done 5622/12880. 0.0520 s / img. ETA=0:06:30\n",
            "\u001b[32m[06/09 15:01:34 d2.evaluation.evaluator]: \u001b[0mInference done 5716/12880. 0.0520 s / img. ETA=0:06:25\n",
            "\u001b[32m[06/09 15:01:39 d2.evaluation.evaluator]: \u001b[0mInference done 5812/12880. 0.0520 s / img. ETA=0:06:19\n",
            "\u001b[32m[06/09 15:01:44 d2.evaluation.evaluator]: \u001b[0mInference done 5910/12880. 0.0519 s / img. ETA=0:06:14\n",
            "\u001b[32m[06/09 15:01:49 d2.evaluation.evaluator]: \u001b[0mInference done 6008/12880. 0.0519 s / img. ETA=0:06:08\n",
            "\u001b[32m[06/09 15:01:54 d2.evaluation.evaluator]: \u001b[0mInference done 6105/12880. 0.0518 s / img. ETA=0:06:03\n",
            "\u001b[32m[06/09 15:01:59 d2.evaluation.evaluator]: \u001b[0mInference done 6199/12880. 0.0518 s / img. ETA=0:05:58\n",
            "\u001b[32m[06/09 15:02:04 d2.evaluation.evaluator]: \u001b[0mInference done 6293/12880. 0.0518 s / img. ETA=0:05:53\n",
            "\u001b[32m[06/09 15:02:09 d2.evaluation.evaluator]: \u001b[0mInference done 6387/12880. 0.0518 s / img. ETA=0:05:48\n",
            "\u001b[32m[06/09 15:02:14 d2.evaluation.evaluator]: \u001b[0mInference done 6482/12880. 0.0518 s / img. ETA=0:05:43\n",
            "\u001b[32m[06/09 15:02:19 d2.evaluation.evaluator]: \u001b[0mInference done 6577/12880. 0.0518 s / img. ETA=0:05:37\n",
            "\u001b[32m[06/09 15:02:24 d2.evaluation.evaluator]: \u001b[0mInference done 6670/12880. 0.0518 s / img. ETA=0:05:32\n",
            "\u001b[32m[06/09 15:02:29 d2.evaluation.evaluator]: \u001b[0mInference done 6764/12880. 0.0518 s / img. ETA=0:05:27\n",
            "\u001b[32m[06/09 15:02:34 d2.evaluation.evaluator]: \u001b[0mInference done 6858/12880. 0.0518 s / img. ETA=0:05:22\n",
            "\u001b[32m[06/09 15:02:39 d2.evaluation.evaluator]: \u001b[0mInference done 6952/12880. 0.0518 s / img. ETA=0:05:17\n",
            "\u001b[32m[06/09 15:02:44 d2.evaluation.evaluator]: \u001b[0mInference done 7046/12880. 0.0518 s / img. ETA=0:05:12\n",
            "\u001b[32m[06/09 15:02:49 d2.evaluation.evaluator]: \u001b[0mInference done 7141/12880. 0.0518 s / img. ETA=0:05:07\n",
            "\u001b[32m[06/09 15:02:54 d2.evaluation.evaluator]: \u001b[0mInference done 7235/12880. 0.0518 s / img. ETA=0:05:02\n",
            "\u001b[32m[06/09 15:02:59 d2.evaluation.evaluator]: \u001b[0mInference done 7329/12880. 0.0518 s / img. ETA=0:04:57\n",
            "\u001b[32m[06/09 15:03:04 d2.evaluation.evaluator]: \u001b[0mInference done 7423/12880. 0.0518 s / img. ETA=0:04:52\n",
            "\u001b[32m[06/09 15:03:09 d2.evaluation.evaluator]: \u001b[0mInference done 7517/12880. 0.0518 s / img. ETA=0:04:47\n",
            "\u001b[32m[06/09 15:03:14 d2.evaluation.evaluator]: \u001b[0mInference done 7613/12880. 0.0518 s / img. ETA=0:04:42\n",
            "\u001b[32m[06/09 15:03:19 d2.evaluation.evaluator]: \u001b[0mInference done 7708/12880. 0.0518 s / img. ETA=0:04:37\n",
            "\u001b[32m[06/09 15:03:24 d2.evaluation.evaluator]: \u001b[0mInference done 7803/12880. 0.0518 s / img. ETA=0:04:31\n",
            "\u001b[32m[06/09 15:03:29 d2.evaluation.evaluator]: \u001b[0mInference done 7899/12880. 0.0518 s / img. ETA=0:04:26\n",
            "\u001b[32m[06/09 15:03:34 d2.evaluation.evaluator]: \u001b[0mInference done 7992/12880. 0.0518 s / img. ETA=0:04:21\n",
            "\u001b[32m[06/09 15:03:39 d2.evaluation.evaluator]: \u001b[0mInference done 8086/12880. 0.0518 s / img. ETA=0:04:16\n",
            "\u001b[32m[06/09 15:03:45 d2.evaluation.evaluator]: \u001b[0mInference done 8180/12880. 0.0518 s / img. ETA=0:04:11\n",
            "\u001b[32m[06/09 15:03:50 d2.evaluation.evaluator]: \u001b[0mInference done 8274/12880. 0.0518 s / img. ETA=0:04:06\n",
            "\u001b[32m[06/09 15:03:55 d2.evaluation.evaluator]: \u001b[0mInference done 8368/12880. 0.0518 s / img. ETA=0:04:01\n",
            "\u001b[32m[06/09 15:04:00 d2.evaluation.evaluator]: \u001b[0mInference done 8462/12880. 0.0518 s / img. ETA=0:03:56\n",
            "\u001b[32m[06/09 15:04:05 d2.evaluation.evaluator]: \u001b[0mInference done 8555/12880. 0.0518 s / img. ETA=0:03:51\n",
            "\u001b[32m[06/09 15:04:10 d2.evaluation.evaluator]: \u001b[0mInference done 8649/12880. 0.0518 s / img. ETA=0:03:46\n",
            "\u001b[32m[06/09 15:04:15 d2.evaluation.evaluator]: \u001b[0mInference done 8744/12880. 0.0518 s / img. ETA=0:03:41\n",
            "\u001b[32m[06/09 15:04:20 d2.evaluation.evaluator]: \u001b[0mInference done 8839/12880. 0.0517 s / img. ETA=0:03:36\n",
            "\u001b[32m[06/09 15:04:25 d2.evaluation.evaluator]: \u001b[0mInference done 8935/12880. 0.0517 s / img. ETA=0:03:31\n",
            "\u001b[32m[06/09 15:04:30 d2.evaluation.evaluator]: \u001b[0mInference done 9030/12880. 0.0517 s / img. ETA=0:03:26\n",
            "\u001b[32m[06/09 15:04:35 d2.evaluation.evaluator]: \u001b[0mInference done 9124/12880. 0.0517 s / img. ETA=0:03:21\n",
            "\u001b[32m[06/09 15:04:40 d2.evaluation.evaluator]: \u001b[0mInference done 9217/12880. 0.0517 s / img. ETA=0:03:16\n",
            "\u001b[32m[06/09 15:04:45 d2.evaluation.evaluator]: \u001b[0mInference done 9310/12880. 0.0517 s / img. ETA=0:03:11\n",
            "\u001b[32m[06/09 15:04:50 d2.evaluation.evaluator]: \u001b[0mInference done 9405/12880. 0.0517 s / img. ETA=0:03:05\n",
            "\u001b[32m[06/09 15:04:55 d2.evaluation.evaluator]: \u001b[0mInference done 9499/12880. 0.0517 s / img. ETA=0:03:00\n",
            "\u001b[32m[06/09 15:05:00 d2.evaluation.evaluator]: \u001b[0mInference done 9593/12880. 0.0517 s / img. ETA=0:02:55\n",
            "\u001b[32m[06/09 15:05:05 d2.evaluation.evaluator]: \u001b[0mInference done 9687/12880. 0.0517 s / img. ETA=0:02:50\n",
            "\u001b[32m[06/09 15:05:10 d2.evaluation.evaluator]: \u001b[0mInference done 9781/12880. 0.0517 s / img. ETA=0:02:45\n",
            "\u001b[32m[06/09 15:05:15 d2.evaluation.evaluator]: \u001b[0mInference done 9875/12880. 0.0517 s / img. ETA=0:02:40\n",
            "\u001b[32m[06/09 15:05:20 d2.evaluation.evaluator]: \u001b[0mInference done 9969/12880. 0.0517 s / img. ETA=0:02:35\n",
            "\u001b[32m[06/09 15:05:25 d2.evaluation.evaluator]: \u001b[0mInference done 10062/12880. 0.0517 s / img. ETA=0:02:30\n",
            "\u001b[32m[06/09 15:05:30 d2.evaluation.evaluator]: \u001b[0mInference done 10156/12880. 0.0517 s / img. ETA=0:02:25\n",
            "\u001b[32m[06/09 15:05:35 d2.evaluation.evaluator]: \u001b[0mInference done 10251/12880. 0.0517 s / img. ETA=0:02:20\n",
            "\u001b[32m[06/09 15:05:40 d2.evaluation.evaluator]: \u001b[0mInference done 10345/12880. 0.0517 s / img. ETA=0:02:15\n",
            "\u001b[32m[06/09 15:05:45 d2.evaluation.evaluator]: \u001b[0mInference done 10439/12880. 0.0517 s / img. ETA=0:02:10\n",
            "\u001b[32m[06/09 15:05:50 d2.evaluation.evaluator]: \u001b[0mInference done 10534/12880. 0.0517 s / img. ETA=0:02:05\n",
            "\u001b[32m[06/09 15:05:55 d2.evaluation.evaluator]: \u001b[0mInference done 10628/12880. 0.0517 s / img. ETA=0:02:00\n",
            "\u001b[32m[06/09 15:06:00 d2.evaluation.evaluator]: \u001b[0mInference done 10722/12880. 0.0517 s / img. ETA=0:01:55\n",
            "\u001b[32m[06/09 15:06:05 d2.evaluation.evaluator]: \u001b[0mInference done 10815/12880. 0.0517 s / img. ETA=0:01:50\n",
            "\u001b[32m[06/09 15:06:10 d2.evaluation.evaluator]: \u001b[0mInference done 10908/12880. 0.0517 s / img. ETA=0:01:45\n",
            "\u001b[32m[06/09 15:06:15 d2.evaluation.evaluator]: \u001b[0mInference done 11003/12880. 0.0517 s / img. ETA=0:01:40\n",
            "\u001b[32m[06/09 15:06:20 d2.evaluation.evaluator]: \u001b[0mInference done 11099/12880. 0.0517 s / img. ETA=0:01:35\n",
            "\u001b[32m[06/09 15:06:25 d2.evaluation.evaluator]: \u001b[0mInference done 11195/12880. 0.0517 s / img. ETA=0:01:30\n",
            "\u001b[32m[06/09 15:06:30 d2.evaluation.evaluator]: \u001b[0mInference done 11291/12880. 0.0517 s / img. ETA=0:01:24\n",
            "\u001b[32m[06/09 15:06:35 d2.evaluation.evaluator]: \u001b[0mInference done 11385/12880. 0.0517 s / img. ETA=0:01:19\n",
            "\u001b[32m[06/09 15:06:40 d2.evaluation.evaluator]: \u001b[0mInference done 11477/12880. 0.0517 s / img. ETA=0:01:15\n",
            "\u001b[32m[06/09 15:06:45 d2.evaluation.evaluator]: \u001b[0mInference done 11572/12880. 0.0517 s / img. ETA=0:01:09\n",
            "\u001b[32m[06/09 15:06:51 d2.evaluation.evaluator]: \u001b[0mInference done 11667/12880. 0.0517 s / img. ETA=0:01:04\n",
            "\u001b[32m[06/09 15:06:56 d2.evaluation.evaluator]: \u001b[0mInference done 11759/12880. 0.0517 s / img. ETA=0:00:59\n",
            "\u001b[32m[06/09 15:07:01 d2.evaluation.evaluator]: \u001b[0mInference done 11853/12880. 0.0517 s / img. ETA=0:00:54\n",
            "\u001b[32m[06/09 15:07:06 d2.evaluation.evaluator]: \u001b[0mInference done 11946/12880. 0.0517 s / img. ETA=0:00:49\n",
            "\u001b[32m[06/09 15:07:11 d2.evaluation.evaluator]: \u001b[0mInference done 12040/12880. 0.0517 s / img. ETA=0:00:44\n",
            "\u001b[32m[06/09 15:07:16 d2.evaluation.evaluator]: \u001b[0mInference done 12134/12880. 0.0517 s / img. ETA=0:00:39\n",
            "\u001b[32m[06/09 15:07:21 d2.evaluation.evaluator]: \u001b[0mInference done 12228/12880. 0.0517 s / img. ETA=0:00:34\n",
            "\u001b[32m[06/09 15:07:26 d2.evaluation.evaluator]: \u001b[0mInference done 12321/12880. 0.0517 s / img. ETA=0:00:29\n",
            "\u001b[32m[06/09 15:07:31 d2.evaluation.evaluator]: \u001b[0mInference done 12415/12880. 0.0517 s / img. ETA=0:00:24\n",
            "\u001b[32m[06/09 15:07:36 d2.evaluation.evaluator]: \u001b[0mInference done 12508/12880. 0.0517 s / img. ETA=0:00:19\n",
            "\u001b[32m[06/09 15:07:41 d2.evaluation.evaluator]: \u001b[0mInference done 12601/12880. 0.0517 s / img. ETA=0:00:14\n",
            "\u001b[32m[06/09 15:07:46 d2.evaluation.evaluator]: \u001b[0mInference done 12693/12880. 0.0517 s / img. ETA=0:00:10\n",
            "\u001b[32m[06/09 15:07:51 d2.evaluation.evaluator]: \u001b[0mInference done 12785/12880. 0.0517 s / img. ETA=0:00:05\n",
            "\u001b[32m[06/09 15:07:56 d2.evaluation.evaluator]: \u001b[0mInference done 12878/12880. 0.0517 s / img. ETA=0:00:00\n",
            "\u001b[32m[06/09 15:07:56 d2.evaluation.evaluator]: \u001b[0mTotal inference time: 0:11:29.173771 (0.053528 s / img per device, on 1 devices)\n",
            "\u001b[32m[06/09 15:07:56 d2.evaluation.evaluator]: \u001b[0mTotal inference pure compute time: 0:11:06 (0.051730 s / img per device, on 1 devices)\n",
            "\u001b[32m[06/09 15:07:58 d2.evaluation.coco_evaluation]: \u001b[0mPreparing results for COCO format ...\n",
            "\u001b[32m[06/09 15:07:58 d2.evaluation.coco_evaluation]: \u001b[0mSaving results to ./OUTPUT/coco_instances_results.json\n",
            "\u001b[32m[06/09 15:07:59 d2.evaluation.coco_evaluation]: \u001b[0mEvaluating predictions ...\n",
            "Loading and preparing results...\n",
            "DONE (t=0.91s)\n",
            "creating index...\n",
            "index created!\n",
            "Running per image evaluation...\n",
            "Evaluate annotation type *bbox*\n",
            "DONE (t=341.15s).\n",
            "Accumulating evaluation results...\n",
            "DONE (t=4.84s).\n",
            " Average Precision  (AP) @[ IoU=0.50:0.95 | area=   all | maxDets=100 ] = 0.343\n",
            " Average Precision  (AP) @[ IoU=0.50      | area=   all | maxDets=100 ] = 0.616\n",
            " Average Precision  (AP) @[ IoU=0.75      | area=   all | maxDets=100 ] = 0.355\n",
            " Average Precision  (AP) @[ IoU=0.50:0.95 | area= small | maxDets=100 ] = 0.235\n",
            " Average Precision  (AP) @[ IoU=0.50:0.95 | area=medium | maxDets=100 ] = 0.608\n",
            " Average Precision  (AP) @[ IoU=0.50:0.95 | area= large | maxDets=100 ] = 0.699\n",
            " Average Recall     (AR) @[ IoU=0.50:0.95 | area=   all | maxDets=  1 ] = 0.059\n",
            " Average Recall     (AR) @[ IoU=0.50:0.95 | area=   all | maxDets= 10 ] = 0.225\n",
            " Average Recall     (AR) @[ IoU=0.50:0.95 | area=   all | maxDets=100 ] = 0.382\n",
            " Average Recall     (AR) @[ IoU=0.50:0.95 | area= small | maxDets=100 ] = 0.275\n",
            " Average Recall     (AR) @[ IoU=0.50:0.95 | area=medium | maxDets=100 ] = 0.660\n",
            " Average Recall     (AR) @[ IoU=0.50:0.95 | area= large | maxDets=100 ] = 0.751\n",
            "\u001b[32m[06/09 15:13:47 d2.evaluation.coco_evaluation]: \u001b[0mEvaluation results for bbox: \n",
            "|   AP   |  AP50  |  AP75  |  APs   |  APm   |  APl   |\n",
            "|:------:|:------:|:------:|:------:|:------:|:------:|\n",
            "| 34.341 | 61.622 | 35.481 | 23.531 | 60.754 | 69.919 |\n"
          ],
          "name": "stdout"
        },
        {
          "output_type": "execute_result",
          "data": {
            "text/plain": [
              "OrderedDict([('bbox',\n",
              "              {'AP': 34.34056585711527,\n",
              "               'AP50': 61.62226254112261,\n",
              "               'AP75': 35.48098384460268,\n",
              "               'APl': 69.9191467360881,\n",
              "               'APm': 60.75444731162003,\n",
              "               'APs': 23.531161076590415})])"
            ]
          },
          "metadata": {
            "tags": []
          },
          "execution_count": 18
        }
      ]
    },
    {
      "cell_type": "markdown",
      "metadata": {
        "id": "WCSZ_rZMK3_f",
        "colab_type": "text"
      },
      "source": [
        "#eval +100k"
      ]
    },
    {
      "cell_type": "code",
      "metadata": {
        "colab_type": "code",
        "id": "qca_DPdJZBpM",
        "colab": {
          "base_uri": "https://localhost:8080/",
          "height": 1000
        },
        "outputId": "2b902674-a5da-4372-c9d5-0e0917e5e58a"
      },
      "source": [
        "from detectron2.evaluation import COCOEvaluator, inference_on_dataset\n",
        "from detectron2.data import build_detection_test_loader\n",
        "\n",
        "\n",
        "evaluator = COCOEvaluator(\"face_val\", cfg, False, output_dir=\"./OUTPUT/\")\n",
        "val_loader = build_detection_test_loader(cfg, \"face_val\")\n",
        "inference_on_dataset(trainer.model, val_loader, evaluator)"
      ],
      "execution_count": null,
      "outputs": [
        {
          "output_type": "stream",
          "text": [
            "\u001b[5m\u001b[31mWARNING\u001b[0m \u001b[32m[06/09 13:31:35 d2.evaluation.coco_evaluation]: \u001b[0mjson_file was not found in MetaDataCatalog for 'face_val'. Trying to convert it to COCO format ...\n",
            "\u001b[5m\u001b[31mWARNING\u001b[0m \u001b[32m[06/09 13:31:35 d2.data.datasets.coco]: \u001b[0mUsing previously cached COCO format annotations at './OUTPUT/face_val_coco_format.json'. You need to clear the cache file if your dataset has been modified.\n",
            "\u001b[32m[06/09 13:31:35 d2.data.common]: \u001b[0mSerializing 3226 elements to byte tensors and concatenating them all ...\n",
            "\u001b[32m[06/09 13:31:35 d2.data.common]: \u001b[0mSerialized dataset takes 3.16 MiB\n",
            "\u001b[32m[06/09 13:31:35 d2.evaluation.evaluator]: \u001b[0mStart inference on 3226 images\n",
            "\u001b[32m[06/09 13:31:36 d2.evaluation.evaluator]: \u001b[0mInference done 11/3226. 0.0518 s / img. ETA=0:02:50\n",
            "\u001b[32m[06/09 13:31:41 d2.evaluation.evaluator]: \u001b[0mInference done 106/3226. 0.0513 s / img. ETA=0:02:45\n",
            "\u001b[32m[06/09 13:31:46 d2.evaluation.evaluator]: \u001b[0mInference done 201/3226. 0.0514 s / img. ETA=0:02:40\n",
            "\u001b[32m[06/09 13:31:51 d2.evaluation.evaluator]: \u001b[0mInference done 294/3226. 0.0518 s / img. ETA=0:02:36\n",
            "\u001b[32m[06/09 13:31:56 d2.evaluation.evaluator]: \u001b[0mInference done 389/3226. 0.0517 s / img. ETA=0:02:31\n",
            "\u001b[32m[06/09 13:32:01 d2.evaluation.evaluator]: \u001b[0mInference done 484/3226. 0.0516 s / img. ETA=0:02:26\n",
            "\u001b[32m[06/09 13:32:06 d2.evaluation.evaluator]: \u001b[0mInference done 577/3226. 0.0517 s / img. ETA=0:02:21\n",
            "\u001b[32m[06/09 13:32:11 d2.evaluation.evaluator]: \u001b[0mInference done 671/3226. 0.0517 s / img. ETA=0:02:16\n",
            "\u001b[32m[06/09 13:32:16 d2.evaluation.evaluator]: \u001b[0mInference done 766/3226. 0.0517 s / img. ETA=0:02:11\n",
            "\u001b[32m[06/09 13:32:21 d2.evaluation.evaluator]: \u001b[0mInference done 859/3226. 0.0517 s / img. ETA=0:02:06\n",
            "\u001b[32m[06/09 13:32:26 d2.evaluation.evaluator]: \u001b[0mInference done 952/3226. 0.0518 s / img. ETA=0:02:01\n",
            "\u001b[32m[06/09 13:32:31 d2.evaluation.evaluator]: \u001b[0mInference done 1041/3226. 0.0520 s / img. ETA=0:01:57\n",
            "\u001b[32m[06/09 13:32:36 d2.evaluation.evaluator]: \u001b[0mInference done 1136/3226. 0.0519 s / img. ETA=0:01:52\n",
            "\u001b[32m[06/09 13:32:41 d2.evaluation.evaluator]: \u001b[0mInference done 1230/3226. 0.0519 s / img. ETA=0:01:47\n",
            "\u001b[32m[06/09 13:32:46 d2.evaluation.evaluator]: \u001b[0mInference done 1325/3226. 0.0519 s / img. ETA=0:01:41\n",
            "\u001b[32m[06/09 13:32:52 d2.evaluation.evaluator]: \u001b[0mInference done 1420/3226. 0.0519 s / img. ETA=0:01:36\n",
            "\u001b[32m[06/09 13:32:57 d2.evaluation.evaluator]: \u001b[0mInference done 1518/3226. 0.0517 s / img. ETA=0:01:31\n",
            "\u001b[32m[06/09 13:33:02 d2.evaluation.evaluator]: \u001b[0mInference done 1614/3226. 0.0517 s / img. ETA=0:01:26\n",
            "\u001b[32m[06/09 13:33:07 d2.evaluation.evaluator]: \u001b[0mInference done 1708/3226. 0.0517 s / img. ETA=0:01:21\n",
            "\u001b[32m[06/09 13:33:12 d2.evaluation.evaluator]: \u001b[0mInference done 1803/3226. 0.0517 s / img. ETA=0:01:15\n",
            "\u001b[32m[06/09 13:33:17 d2.evaluation.evaluator]: \u001b[0mInference done 1898/3226. 0.0516 s / img. ETA=0:01:10\n",
            "\u001b[32m[06/09 13:33:22 d2.evaluation.evaluator]: \u001b[0mInference done 1993/3226. 0.0516 s / img. ETA=0:01:05\n",
            "\u001b[32m[06/09 13:33:27 d2.evaluation.evaluator]: \u001b[0mInference done 2086/3226. 0.0516 s / img. ETA=0:01:00\n",
            "\u001b[32m[06/09 13:33:32 d2.evaluation.evaluator]: \u001b[0mInference done 2180/3226. 0.0516 s / img. ETA=0:00:55\n",
            "\u001b[32m[06/09 13:33:37 d2.evaluation.evaluator]: \u001b[0mInference done 2275/3226. 0.0516 s / img. ETA=0:00:50\n",
            "\u001b[32m[06/09 13:33:42 d2.evaluation.evaluator]: \u001b[0mInference done 2368/3226. 0.0516 s / img. ETA=0:00:45\n",
            "\u001b[32m[06/09 13:33:47 d2.evaluation.evaluator]: \u001b[0mInference done 2460/3226. 0.0517 s / img. ETA=0:00:40\n",
            "\u001b[32m[06/09 13:33:52 d2.evaluation.evaluator]: \u001b[0mInference done 2555/3226. 0.0516 s / img. ETA=0:00:35\n",
            "\u001b[32m[06/09 13:33:57 d2.evaluation.evaluator]: \u001b[0mInference done 2649/3226. 0.0516 s / img. ETA=0:00:30\n",
            "\u001b[32m[06/09 13:34:02 d2.evaluation.evaluator]: \u001b[0mInference done 2743/3226. 0.0517 s / img. ETA=0:00:25\n",
            "\u001b[32m[06/09 13:34:07 d2.evaluation.evaluator]: \u001b[0mInference done 2838/3226. 0.0516 s / img. ETA=0:00:20\n",
            "\u001b[32m[06/09 13:34:12 d2.evaluation.evaluator]: \u001b[0mInference done 2931/3226. 0.0516 s / img. ETA=0:00:15\n",
            "\u001b[32m[06/09 13:34:17 d2.evaluation.evaluator]: \u001b[0mInference done 3025/3226. 0.0516 s / img. ETA=0:00:10\n",
            "\u001b[32m[06/09 13:34:22 d2.evaluation.evaluator]: \u001b[0mInference done 3120/3226. 0.0516 s / img. ETA=0:00:05\n",
            "\u001b[32m[06/09 13:34:27 d2.evaluation.evaluator]: \u001b[0mInference done 3212/3226. 0.0517 s / img. ETA=0:00:00\n",
            "\u001b[32m[06/09 13:34:28 d2.evaluation.evaluator]: \u001b[0mTotal inference time: 0:02:52.001140 (0.053400 s / img per device, on 1 devices)\n",
            "\u001b[32m[06/09 13:34:28 d2.evaluation.evaluator]: \u001b[0mTotal inference pure compute time: 0:02:46 (0.051666 s / img per device, on 1 devices)\n",
            "\u001b[32m[06/09 13:34:28 d2.evaluation.coco_evaluation]: \u001b[0mPreparing results for COCO format ...\n",
            "\u001b[32m[06/09 13:34:28 d2.evaluation.coco_evaluation]: \u001b[0mSaving results to ./OUTPUT/coco_instances_results.json\n",
            "\u001b[32m[06/09 13:34:29 d2.evaluation.coco_evaluation]: \u001b[0mEvaluating predictions ...\n",
            "Loading and preparing results...\n",
            "DONE (t=0.09s)\n",
            "creating index...\n",
            "index created!\n",
            "Running per image evaluation...\n",
            "Evaluate annotation type *bbox*\n",
            "DONE (t=84.41s).\n",
            "Accumulating evaluation results...\n",
            "DONE (t=0.90s).\n",
            " Average Precision  (AP) @[ IoU=0.50:0.95 | area=   all | maxDets=100 ] = 0.319\n",
            " Average Precision  (AP) @[ IoU=0.50      | area=   all | maxDets=100 ] = 0.585\n",
            " Average Precision  (AP) @[ IoU=0.75      | area=   all | maxDets=100 ] = 0.320\n",
            " Average Precision  (AP) @[ IoU=0.50:0.95 | area= small | maxDets=100 ] = 0.212\n",
            " Average Precision  (AP) @[ IoU=0.50:0.95 | area=medium | maxDets=100 ] = 0.572\n",
            " Average Precision  (AP) @[ IoU=0.50:0.95 | area= large | maxDets=100 ] = 0.649\n",
            " Average Recall     (AR) @[ IoU=0.50:0.95 | area=   all | maxDets=  1 ] = 0.056\n",
            " Average Recall     (AR) @[ IoU=0.50:0.95 | area=   all | maxDets= 10 ] = 0.215\n",
            " Average Recall     (AR) @[ IoU=0.50:0.95 | area=   all | maxDets=100 ] = 0.357\n",
            " Average Recall     (AR) @[ IoU=0.50:0.95 | area= small | maxDets=100 ] = 0.250\n",
            " Average Recall     (AR) @[ IoU=0.50:0.95 | area=medium | maxDets=100 ] = 0.621\n",
            " Average Recall     (AR) @[ IoU=0.50:0.95 | area= large | maxDets=100 ] = 0.698\n",
            "\u001b[32m[06/09 13:35:54 d2.evaluation.coco_evaluation]: \u001b[0mEvaluation results for bbox: \n",
            "|   AP   |  AP50  |  AP75  |  APs   |  APm   |  APl   |\n",
            "|:------:|:------:|:------:|:------:|:------:|:------:|\n",
            "| 31.931 | 58.539 | 31.988 | 21.161 | 57.242 | 64.907 |\n"
          ],
          "name": "stdout"
        },
        {
          "output_type": "execute_result",
          "data": {
            "text/plain": [
              "OrderedDict([('bbox',\n",
              "              {'AP': 31.93090232138276,\n",
              "               'AP50': 58.538810492956806,\n",
              "               'AP75': 31.987857560560705,\n",
              "               'APl': 64.9068460579368,\n",
              "               'APm': 57.24235410071088,\n",
              "               'APs': 21.160769566260267})])"
            ]
          },
          "metadata": {
            "tags": []
          },
          "execution_count": 30
        }
      ]
    },
    {
      "cell_type": "code",
      "metadata": {
        "id": "1HgF1F-kZpyw",
        "colab_type": "code",
        "colab": {}
      },
      "source": [
        ""
      ],
      "execution_count": null,
      "outputs": []
    },
    {
      "cell_type": "markdown",
      "metadata": {
        "id": "IGIEj12dsz6m",
        "colab_type": "text"
      },
      "source": [
        "#test Script modelu"
      ]
    },
    {
      "cell_type": "code",
      "metadata": {
        "id": "xj0LNZtD03Sp",
        "colab_type": "code",
        "colab": {}
      },
      "source": [
        "import time\n",
        "import torch\n",
        "import json\n",
        "import numpy as np\n",
        "from PIL import Image\n",
        "from WIDER.mAP import mAP, plot_mAP\n",
        "from WIDER.tools import annotations,output_Files"
      ],
      "execution_count": null,
      "outputs": []
    },
    {
      "cell_type": "code",
      "metadata": {
        "colab_type": "code",
        "id": "Inb6yjiK03ka",
        "colab": {}
      },
      "source": [
        "train = annotations(\"val\")\n",
        "val = annotations('val')\n",
        "with open('Faces_DD/Faces_DD_metrics.json','r') as f:\n",
        "  Faces_DD=json.load(f)\n",
        "resF,resW ={},{}  # wyniki dla Feces i Wider {gbxs,dbxs,metric}\n"
      ],
      "execution_count": null,
      "outputs": []
    },
    {
      "cell_type": "code",
      "metadata": {
        "id": "tHpkNRqnUvc1",
        "colab_type": "code",
        "colab": {}
      },
      "source": [
        "#zaladuj model, wejscie o stalym rozmiarze ([image BGR<3,800,1216>,],[[h,w,skala],]) (h,w) okno do odczytu,skala do odtworzenia oryginalu\n",
        "!wget -q -O model.ts https://drive.google.com/uc?id=107Ym7yjAQlA6FhzAQvHoPITZnsm8Z5Co\n",
        "model=torch.jit.load('model.ts')"
      ],
      "execution_count": null,
      "outputs": []
    },
    {
      "cell_type": "code",
      "metadata": {
        "colab_type": "code",
        "id": "mCuMziVr2OqA",
        "colab": {}
      },
      "source": [
        "#keep aspect to match size(800,1216) of model\n",
        "def to_inputs(img):\n",
        "  #zmian rozmiaru, aby najwiekszy wymiar pokrywal sie z jednym rozmiarow wejsciowych modelu (800,1216) \n",
        "  scale=1216/img.size[0]\n",
        "  size=(int(img.size[1]*scale),1216)\n",
        "  if size[0]>800:\n",
        "    scale=800/size[0]\n",
        "    size=(800,int(size[1]*scale))\n",
        "\n",
        "  scale=size[1]/img.size[0]\n",
        "  img_arg=torch.tensor([*size,scale]) #argumenty do wejscia\n",
        "  img=img.resize((size[1],size[0])).crop((0,0,1216,800))\n",
        "  imgs=torch.tensor(np.array(img)[:,:,::-1].copy()).permute(2,0,1).expand(1,3,800,1216).cuda() #BGR 3,800,1216\n",
        "  return (imgs,img_arg.expand(1,3).cuda())"
      ],
      "execution_count": null,
      "outputs": []
    },
    {
      "cell_type": "code",
      "metadata": {
        "id": "g-Efn8bE5m8t",
        "colab_type": "code",
        "colab": {}
      },
      "source": [
        "def script_results(d_set,model,name='mAP_',ext='ScriptModel',pres=False):\n",
        "    start=time.time()\n",
        "    gbxs=[]; dbxs=[]; dset=d_set\n",
        "    if 'annotations' in d_set[0].keys():  #zmiana metryki z Wider do Faces, wybrane pola\n",
        "      dset=[]\n",
        "      for r in d_set:\n",
        "        dset.append({'path' : r['file_name'],'marks' : [b['bbox'] for b in r['annotations']],\n",
        "                     'persons': ['' for b in r['annotations']]})\n",
        "\n",
        "    Len=len(dset); print(ext,' ',Len,' imgs : 0 +',end='')\n",
        "    if 'Script' in model.__class__.__name__:\n",
        "      for i,d in enumerate(dset):   #przypisanie listy detetected i ground truth boxes\n",
        "        img = Image.open(d[\"path\"])\n",
        "        inputs=to_inputs(img)\n",
        "        _,_,s = inputs[1][0].cpu() #skala\n",
        "        outputs=model(inputs)\n",
        "        pbxs=outputs[0].cpu()\n",
        "        pconfs=outputs[1].cpu()\n",
        "        dbx=[[*(np.array(bx)+0.5).astype('int'),pconfs[i]] for i,bx in enumerate(pbxs)]\n",
        "        dbxs.append(dbx)\n",
        "        gbxs.append([[int(x*s+0.5) for x in bx] for bx in d['marks']]) #przeskalowanie anotacji\n",
        "\n",
        "        if not i%100 : print('\\r',ext,' ',Len,' imgs : ',i//100*100,' +',end='')\n",
        "        if not (i+1)%10 : print(' ',(i+1)%100,end='')\n",
        "        \n",
        "    total=time.time()-start\n",
        "    print('\\r',name,ext,' - total time {:.2f} s  per img {:.4f} s'.format(total,total/(i+1)))\n",
        "      \n",
        "    # IoUs=[.5,.55,.6,.65,.7,.75,.8,.85,.9,.95,.0]\n",
        "    # keys ['All {:.2f}' for x in IoUs] + ['large','medium','small'] for IoUs[0]\n",
        "    # r_p: 0 - interpolated, 1 - full\n",
        "    m,d=mAP(gbxs,dbxs,data=True)\n",
        "\n",
        "    plot_mAP(m,d,['All 0.50','All 0.00','large','medium','small'],1,name+ext+'  conf>0',file=name+ext)\n",
        "\n",
        "    if pres:\n",
        "      for l in [58,233,259,365,388,394,413,424,446,455,483,532,683,709,722,802,809,874,759]:\n",
        "        if l < Len:\n",
        "          m=dset[l]\n",
        "          print('------------------------  idx  ',l,'  gtx/dbxs',len(m['marks']),'/',len(dbxs[l]))\n",
        "          plot_marks(Image.open(m['path']),m,dbxs[l],figsize=(18,14))  \n",
        "    \n",
        "    return {'gbxs':gbxs,'dbxs':dbxs,'metric':dset} \n"
      ],
      "execution_count": null,
      "outputs": []
    },
    {
      "cell_type": "code",
      "metadata": {
        "colab_type": "code",
        "id": "X65H0tehZ2k7",
        "colab": {
          "base_uri": "https://localhost:8080/",
          "height": 1000
        },
        "outputId": "bf76ed44-3d9d-48c6-e4f4-a229b5cae7d5"
      },
      "source": [
        "set_choices=['ScriptModel',]\n",
        "for c in set_choices:\n",
        "  resF[c]=script_results(Faces_DD,model,'Detectron2_Faces_DD_mAP_',c,pres=False)\n",
        "  resW[c]=script_results(val,model,'Detectron2_Wider_Face_mAP_',c,pres=False)"
      ],
      "execution_count": null,
      "outputs": [
        {
          "output_type": "stream",
          "text": [
            " Detectron2_Faces_DD_mAP_ ScriptModel  - total time 252.16 s  per img 0.2726 s\n",
            "All 0.50:   AP: 80.86%   Recall: 81.52%   IoU: 0.50\n",
            "All 0.00:   AP: 83.01%   Recall: 83.46%   IoU: 0.00\n",
            "large   :   AP: 93.25%   Recall: 93.61%   IoU: 0.50\n",
            "medium  :   AP: 89.61%   Recall: 90.09%   IoU: 0.50\n",
            "small   :   AP: 40.55%   Recall: 43.97%   IoU: 0.50\n"
          ],
          "name": "stdout"
        },
        {
          "output_type": "display_data",
          "data": {
            "image/png": "[encoded data removed]",
            "text/plain": [
              "<Figure size 1152x720 with 1 Axes>"
            ]
          },
          "metadata": {
            "tags": [],
            "needs_background": "light"
          }
        },
        {
          "output_type": "stream",
          "text": [
            " Detectron2_Wider_Face_mAP_ ScriptModel  - total time 360.02 s  per img 0.1116 s\n",
            "All 0.50:   AP: 33.21%   Recall: 33.69%   IoU: 0.50\n",
            "All 0.00:   AP: 34.94%   Recall: 35.38%   IoU: 0.00\n",
            "large   :   AP: 84.89%   Recall: 85.12%   IoU: 0.50\n",
            "medium  :   AP: 70.62%   Recall: 70.95%   IoU: 0.50\n",
            "small   :   AP: 15.09%   Recall: 15.95%   IoU: 0.50\n"
          ],
          "name": "stdout"
        },
        {
          "output_type": "display_data",
          "data": {
            "image/png": "[encoded data removed]",
            "text/plain": [
              "<Figure size 1152x720 with 1 Axes>"
            ]
          },
          "metadata": {
            "tags": [],
            "needs_background": "light"
          }
        }
      ]
    },
    {
      "cell_type": "code",
      "metadata": {
        "colab_type": "code",
        "id": "nWcO7mLzZ2k_",
        "colab": {
          "base_uri": "https://localhost:8080/",
          "height": 77
        },
        "outputId": "5d00e84c-d916-4999-f21b-5e4825855f14"
      },
      "source": [
        "for c in set_choices:\n",
        "  res=mAP(resW[c]['gbxs'],resW[c]['dbxs'],data=False)\n",
        "  Ap=[]\n",
        "  for i in range(10):\n",
        "    Ap.append(res[0]['All {:.2f}'.format(0.5+i*0.05)][0])\n",
        "  print(c,' mAP: ',sum(Ap)/10,'\\nset: ', Ap)  #srednie AP dla conf [.5 ... 0.95]"
      ],
      "execution_count": null,
      "outputs": [
        {
          "output_type": "stream",
          "text": [
            "ScriptModel  mAP:  0.1973720957646327 \n",
            "set:  [0.33208081961232644, 0.32570206550399844, 0.3136654792806785, 0.29561912677906693, 0.26671122099859357, 0.21989697332418934, 0.14747823513893749, 0.06251798777313747, 0.009883669111389833, 0.0001653801240088671]\n"
          ],
          "name": "stdout"
        }
      ]
    },
    {
      "cell_type": "markdown",
      "metadata": {
        "colab_type": "text",
        "id": "fR1CiBV7Ob5z"
      },
      "source": [
        "<br><br>\n",
        "[7. Eksport modelu](07_00_Eksport_modelu.ipynb)\n",
        "###[Spis Treści](https://github.com/DarekGit/FACES_DNN/blob/master/notebooks/Praca_Dyplomowa.ipynb)\n",
        "\n",
        "\n"
      ]
    }
  ]
}