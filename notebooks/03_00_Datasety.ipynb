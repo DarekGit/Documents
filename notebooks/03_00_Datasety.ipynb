{
  "nbformat": 4,
  "nbformat_minor": 0,
  "metadata": {
    "colab": {
      "name": "03_00_Datasety.ipynb",
      "provenance": [],
      "include_colab_link": true
    },
    "kernelspec": {
      "name": "python3",
      "display_name": "Python 3"
    }
  },
  "cells": [
    {
      "cell_type": "markdown",
      "metadata": {
        "id": "view-in-github",
        "colab_type": "text"
      },
      "source": [
        "<a href=\"https://colab.research.google.com/github/DarekGit/FACES_DNN/blob/master/notebooks/03_00_Datasety.ipynb\" target=\"_parent\"><img src=\"https://colab.research.google.com/assets/colab-badge.svg\" alt=\"Open In Colab\"/></a>"
      ]
    },
    {
      "cell_type": "markdown",
      "metadata": {
        "id": "hGpMmA4D-9mV",
        "colab_type": "text"
      },
      "source": [
        "\n",
        "---\n",
        "\n",
        "[Spis treści](https://github.com/DarekGit/FACES_DNN/blob/master/notebooks/Praca_Dyplomowa.ipynb) | [1. Wstęp](01_00_Wstep.ipynb) | [2. Metryki oceny detekcji](02_00_Miary.ipynb) | [3 .Bazy danych](03_00_Datasety.ipynb) | [4. Przegląd metod detekcji](04_00_Modele.ipynb) | [5. Detekcja twarzy z wykorzystaniem wybranych architektur GSN](05_00_Modyfikacje.ipynb) | [6. Porównanie modeli](06_00_Porownanie.ipynb) | [7. Eksport modelu](07_00_Eksport_modelu.ipynb) | [8. Podsumowanie i wnioski](08_00_Podsumowanie.ipynb) | [Bibliografia](Bibliografia.ipynb)\n",
        "\n",
        "\n",
        "---\n",
        "\n"
      ]
    },
    {
      "cell_type": "markdown",
      "metadata": {
        "id": "c3O405I3_CGx",
        "colab_type": "text"
      },
      "source": [
        "## 3. Bazy danych"
      ]
    },
    {
      "cell_type": "markdown",
      "metadata": {
        "id": "C-OcKy3i-_CR",
        "colab_type": "text"
      },
      "source": [
        "\n",
        "W niniejszej pracy w zagadnieniach detekcji twarzy zostały wykorzystane powszechnie dostępne bazy danych:<br><br>\n",
        "\n",
        "- [FDDB](03_01_FDDB.ipynb) (Face Detection Data Set and Benchmark) [[1]](Bibliografia.ipynb)  – dataset dostępny publicznie na stronie [http://vis-www.cs.umass.edu/fddb/](http://vis-www.cs.umass.edu/fddb/) zawierający 2845 zdjęć z 5171 oznaczonymi twarzami ze zbioru danych [\"Faces in the Wild\"](http://tamaraberg.com/faceDataset/index.html). Opis datasetu został umieszczony w pliku [03_01_FDDB.ipynb](03_01_FDDB.ipynb) \n",
        "\n",
        "  Do pracy został dołączony również dodatkowy załącznik zawierający pomiary i testy datasetu [03_01_FDDB_DD.ipynb](03_01_FDDB_DD.ipynb)\n",
        "<br><br>\n",
        "- [WIDER FACE](03_02_WIDER_FACE.ipynb) [[2]](https://github.com/DarekGit/Faces_DNN/blob/master/Bibliografia.ipynb)  - zbiór dostępny publicznie http://shuoyang1213.me/WIDERFACE/ zawierajacy 32,203 z 393,703 oznaczonymi twarzami. \n",
        "  Opracowanie datasetu zostało umieszczone w pliku: [03_02_WIDER_FACE.ipynb](03_02_WIDER_FACE.ipynb)\n",
        "<br><br>\n",
        "- [FACES_DD](03_03_FACES_DD.ipynb) - jest zbiorem prywatnych zdjęć. Opracowanie datasetu zostało umieszczone w pliku: [03_03_FACES_DD.ipynb](03_03_FACES_DD.ipynb)\n",
        "\n",
        "<br>\n",
        "\n"
      ]
    },
    {
      "cell_type": "markdown",
      "metadata": {
        "id": "ldj8VGF4hKo-",
        "colab_type": "text"
      },
      "source": [
        "\n",
        "\n",
        "---\n",
        "\n"
      ]
    }
  ]
}