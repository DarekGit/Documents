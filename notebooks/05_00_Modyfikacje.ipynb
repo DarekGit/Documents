{
  "nbformat": 4,
  "nbformat_minor": 0,
  "metadata": {
    "colab": {
      "name": "05_00_Modyfikacje.ipynb",
      "provenance": [],
      "authorship_tag": "ABX9TyPMw6IoPvrVAB0Tz9xzXJmT",
      "include_colab_link": true
    },
    "kernelspec": {
      "name": "python3",
      "display_name": "Python 3"
    }
  },
  "cells": [
    {
      "cell_type": "markdown",
      "metadata": {
        "id": "view-in-github",
        "colab_type": "text"
      },
      "source": [
        "<a href=\"https://colab.research.google.com/github/DarekGit/FACES_DNN/blob/master/notebooks/05_00_Modyfikacje.ipynb\" target=\"_parent\"><img src=\"https://colab.research.google.com/assets/colab-badge.svg\" alt=\"Open In Colab\"/></a>"
      ]
    },
    {
      "cell_type": "markdown",
      "metadata": {
        "id": "7P4290g5hSCs",
        "colab_type": "text"
      },
      "source": [
        "### [Spis treści](https://github.com/DarekGit/FACES_DNN/blob/master/notebooks/Praca_Dyplomowa.ipynb)"
      ]
    },
    {
      "cell_type": "markdown",
      "metadata": {
        "id": "cM8CTuKDhSq9",
        "colab_type": "text"
      },
      "source": [
        "## [5. Detekcja twarzy z wykorzystaniem wybranych architektur GNN](05_00_Modyfikacje.ipynb)"
      ]
    },
    {
      "cell_type": "markdown",
      "metadata": {
        "id": "iQPGN3KghStr",
        "colab_type": "text"
      },
      "source": [
        ""
      ]
    },
    {
      "cell_type": "markdown",
      "metadata": {
        "id": "D_EQekDOhSxM",
        "colab_type": "text"
      },
      "source": [
        "* '800k' - parametry domyślne - jako punkt odniesienia\n",
        "* 'BN_800k' - dodano BN - pokazanie wpływu BN przy małym batchu=2\n",
        "* 'BN_Mish_V2_250+F_2_50k' - najlepszy wynik uczenie z Mish BN 250k + 50k z FrozenBN\n",
        "* 'BN_Mish_V3_80+30k' - najszybsze uczenie 110k iteracji\n",
        "* faster_rcnn_R_50_FPN_3x - \n",
        "* scratch_faster_rcnn_R_50_FPN_gn - \n",
        "\n"
      ]
    }
  ]
}