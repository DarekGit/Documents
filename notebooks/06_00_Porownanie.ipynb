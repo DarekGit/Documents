{
  "nbformat": 4,
  "nbformat_minor": 0,
  "metadata": {
    "colab": {
      "name": "06_00_Porownanie.ipynb",
      "provenance": [],
      "toc_visible": true,
      "include_colab_link": true
    },
    "kernelspec": {
      "name": "python3",
      "display_name": "Python 3"
    }
  },
  "cells": [
    {
      "cell_type": "markdown",
      "metadata": {
        "id": "view-in-github",
        "colab_type": "text"
      },
      "source": [
        "<a href=\"https://colab.research.google.com/github/DarekGit/FACES_DNN/blob/master/notebooks/06_00_Porownanie.ipynb\" target=\"_parent\"><img src=\"https://colab.research.google.com/assets/colab-badge.svg\" alt=\"Open In Colab\"/></a>"
      ]
    },
    {
      "cell_type": "markdown",
      "metadata": {
        "id": "7P4290g5hSCs",
        "colab_type": "text"
      },
      "source": [
        "---\n",
        "\n",
        "[Spis treści](https://github.com/DarekGit/FACES_DNN/blob/master/notebooks/Praca_Dyplomowa.ipynb) | [1. Wstęp](01_00_Wstep.ipynb) | [2. Metryki oceny detekcji](02_00_Miary.ipynb) | [3. Bazy danych](03_00_Datasety.ipynb) | [4. Przegląd metod detekcji](04_00_Modele.ipynb) | [5. Detekcja twarzy z wykorzystaniem wybranych architektur GSN](05_00_Modyfikacje.ipynb) | [6. Porównanie modeli](06_00_Porownanie.ipynb) | [7. Eksport modelu](07_00_Eksport_modelu.ipynb) | [8. Podsumowanie i wnioski](08_00_Podsumowanie.ipynb) | [Bibliografia](Bibliografia.ipynb)\n",
        "\n",
        "\n",
        "---"
      ]
    },
    {
      "cell_type": "markdown",
      "metadata": {
        "id": "cM8CTuKDhSq9",
        "colab_type": "text"
      },
      "source": [
        "# 6. Porównanie modeli"
      ]
    },
    {
      "cell_type": "markdown",
      "metadata": {
        "id": "y-90Y2Xki1cJ",
        "colab_type": "text"
      },
      "source": [
        "Pomiary czasu interferencji wybranych modeli, wyliczenie metryk mAP oraz Coco AP wykonano dla zestawów danych FDDB, WIDER FACE oraz FACES_DD. \n",
        "Testy zostały zamieszczone w plikach: \n",
        "\n",
        " * 6.1. [Wyniki na zbiorze FDDB](06_01_FDDB_TEST.ipynb)  \n",
        " * 6.2. [Wyniki na zbiorze WIDER FACE](06_02_WIDERFACE_TEST.ipynb) \n",
        " * 6.3. [Wyniki na zbiorze FACES_DD](06_03_FACES_DD_TEST.ipynb)   \n",
        "\n",
        "<br>\n",
        "\n",
        "### Porównanie wyników testów\n"
      ]
    },
    {
      "cell_type": "markdown",
      "metadata": {
        "id": "CSuIBriji1f4",
        "colab_type": "text"
      },
      "source": [
        "Załadowania wyników testów modeli."
      ]
    },
    {
      "cell_type": "code",
      "metadata": {
        "id": "zGtvg_q7-KOi",
        "colab_type": "code",
        "colab": {}
      },
      "source": [
        "from google.colab import drive\n",
        "import pandas as pd\n",
        "import os\n",
        "import json\n",
        "\n",
        "drive.mount('/content/drive')\n",
        "\n",
        "time_measurement= \"time_measurement_results.json\"\n",
        "unified_mAP = \"unified_mAP_dataframe.json\"\n",
        "COCO_AP_FDDB = \"df_AP_FDDB.json\"\n",
        "COCO_AP_WIDERFACE = \"df_AP_WIDERFACE.json\"\n",
        "COCO_AP_FACES_DD = \"df_AP_FACES_DD.json\"\n",
        "\n",
        "unified_mAP_FDDB = os.path.join(\"./drive/My Drive\", \"FDDB_OUTPUT_DIR\", unified_mAP)\n",
        "unified_mAP_WIDERFACE = os.path.join(\"./drive/My Drive\", \"WIDERFACE_OUTPUT_DIR\", unified_mAP)\n",
        "unified_mAP_FACES_DD = os.path.join(\"./drive/My Drive\", \"FACES_DD_OUTPUT_DIR\", unified_mAP)\n",
        "\n",
        "time_measurement_FDDB = os.path.join(\"./drive/My Drive\", \"FDDB_OUTPUT_DIR\", time_measurement)\n",
        "time_measurement_WIDERFACE = os.path.join(\"./drive/My Drive\", \"WIDERFACE_OUTPUT_DIR\", time_measurement)\n",
        "time_measurement_FACES_DD = os.path.join(\"./drive/My Drive\", \"FACES_DD_OUTPUT_DIR\", time_measurement)\n",
        "\n",
        "AP_FDDB = os.path.join(\"./drive/My Drive\", \"FDDB_OUTPUT_DIR\", COCO_AP_FDDB)\n",
        "AP_WIDERFACE = os.path.join(\"./drive/My Drive\", \"WIDERFACE_OUTPUT_DIR\", COCO_AP_WIDERFACE )\n",
        "AP_FACES_DD = os.path.join(\"./drive/My Drive\", \"FACES_DD_OUTPUT_DIR\", COCO_AP_FACES_DD)\n"
      ],
      "execution_count": null,
      "outputs": []
    },
    {
      "cell_type": "code",
      "metadata": {
        "id": "AVn3Sy77IVBM",
        "colab_type": "code",
        "colab": {}
      },
      "source": [
        "#time\n",
        "with open(time_measurement_FDDB) as data_file:\n",
        "    data_loaded = json.load(data_file)\n",
        "df_time_FDDB = pd.read_json(data_loaded, orient=\"table\" ).sort_values(by=['total_time'], ascending=True)\n",
        "\n",
        "with open(time_measurement_WIDERFACE) as data_file:\n",
        "    data_loaded = json.load(data_file)\n",
        "df_time_WIDERFACE = pd.read_json(data_loaded, orient=\"table\" ).sort_values(by=['total_time'], ascending=True)\n",
        "\n",
        "with open(time_measurement_FACES_DD) as data_file:\n",
        "    data_loaded = json.load(data_file)\n",
        "df_time_FACES_DD= pd.read_json(data_loaded, orient=\"table\" ).sort_values(by=['total_time'], ascending=True)"
      ],
      "execution_count": 3,
      "outputs": []
    },
    {
      "cell_type": "code",
      "metadata": {
        "id": "YXGC7a5lIVGV",
        "colab_type": "code",
        "colab": {}
      },
      "source": [
        "# unified_mAP\n",
        "with open(unified_mAP_FDDB) as data_file:\n",
        "    data_loaded = json.load(data_file)\n",
        "df_mAP_FDDB = pd.read_json(data_loaded, orient=\"table\" )[['mAP', 'All 0.50']].sort_values(by=['All 0.50'], ascending=False)*100\n",
        "\n",
        "with open(unified_mAP_WIDERFACE) as data_file:\n",
        "    data_loaded = json.load(data_file)\n",
        "df_mAP_WIDERFACE = pd.read_json(data_loaded, orient=\"table\" )[['mAP', 'All 0.50']].sort_values(by=['All 0.50'], ascending=False)*100\n",
        "\n",
        "with open(unified_mAP_FACES_DD) as data_file:\n",
        "    data_loaded = json.load(data_file)\n",
        "df_mAP_FACES_DD= pd.read_json(data_loaded, orient=\"table\" ).sort_values(by=['mAP'], ascending=False)"
      ],
      "execution_count": 86,
      "outputs": []
    },
    {
      "cell_type": "code",
      "metadata": {
        "id": "yojYHvzFIVS-",
        "colab_type": "code",
        "colab": {}
      },
      "source": [
        "# COCO AP\n",
        "with open(AP_FDDB) as data_file:\n",
        "    data_loaded = json.load(data_file)\n",
        "df_AP_FDDB = pd.read_json(data_loaded, orient=\"table\" )[['AP', 'AP50']].sort_values(by=['AP50'], ascending=False)\n",
        "\n",
        "with open(AP_WIDERFACE) as data_file:\n",
        "    data_loaded = json.load(data_file)\n",
        "df_AP_WIDERFACE = pd.read_json(data_loaded, orient=\"table\" )[['AP', 'AP50']].sort_values(by=['AP50'], ascending=False)\n",
        "\n",
        "\n",
        "with open(AP_FACES_DD) as data_file:\n",
        "    data_loaded = json.load(data_file)\n",
        "df_AP_FACES_DD= pd.read_json(data_loaded, orient=\"table\" )[['AP', 'AP50']].sort_values(by=['AP50'], ascending=False)"
      ],
      "execution_count": 88,
      "outputs": []
    },
    {
      "cell_type": "markdown",
      "metadata": {
        "id": "2qzyG2nKQb7w",
        "colab_type": "text"
      },
      "source": [
        "### Wyniki pomiaru czasu interferencji "
      ]
    },
    {
      "cell_type": "markdown",
      "metadata": {
        "id": "RHmgSxa3IjOL",
        "colab_type": "text"
      },
      "source": [
        "Pomiary czasu inferencji wykonano na Colabie z wykorzystaniem karty graficznej NVidia Tesla P100 16GB. Na datasecie FDDB najlepsze wyniki z wytrenowanych modeli osiągnął model '800k' z wynikiem FPS na poziomie 15.9. Najsłabiej wypadły modele z ResNet-50 (12.1 i 11.2 PFS). W przypadku datasetów zawierających zdjęcia o wiekszej rozdzielczości (WIDER FACE, FACES_DD) najlepsze wyniki osiągnał model 'BN_800k'. Można zauważyć również poprawę wyników modeli z ResNet-50 FPN. NAjsłąbiej w tym porównaniu wypadł detektor MTCNN.\n",
        "\n",
        "Otrzymane wyniki zostały zaprezentowane w poniższych tabelach."
      ]
    },
    {
      "cell_type": "markdown",
      "metadata": {
        "id": "Vw9cbnHspKVS",
        "colab_type": "text"
      },
      "source": [
        "Wynik dla FDDB"
      ]
    },
    {
      "cell_type": "code",
      "metadata": {
        "id": "D2wosCuKQjrO",
        "colab_type": "code",
        "colab": {
          "base_uri": "https://localhost:8080/",
          "height": 269
        },
        "outputId": "fd1750e9-830c-4e37-e5ce-3ca833cc69ba"
      },
      "source": [
        "df_time_FDDB"
      ],
      "execution_count": 6,
      "outputs": [
        {
          "output_type": "execute_result",
          "data": {
            "text/html": [
              "<div>\n",
              "<style scoped>\n",
              "    .dataframe tbody tr th:only-of-type {\n",
              "        vertical-align: middle;\n",
              "    }\n",
              "\n",
              "    .dataframe tbody tr th {\n",
              "        vertical-align: top;\n",
              "    }\n",
              "\n",
              "    .dataframe thead th {\n",
              "        text-align: right;\n",
              "    }\n",
              "</style>\n",
              "<table border=\"1\" class=\"dataframe\">\n",
              "  <thead>\n",
              "    <tr style=\"text-align: right;\">\n",
              "      <th></th>\n",
              "      <th>total_time</th>\n",
              "      <th>mean_diff</th>\n",
              "      <th>fps</th>\n",
              "    </tr>\n",
              "  </thead>\n",
              "  <tbody>\n",
              "    <tr>\n",
              "      <th>MTCNN</th>\n",
              "      <td>91.830989</td>\n",
              "      <td>0.032278</td>\n",
              "      <td>30.980827</td>\n",
              "    </tr>\n",
              "    <tr>\n",
              "      <th>800k</th>\n",
              "      <td>178.880448</td>\n",
              "      <td>0.062875</td>\n",
              "      <td>15.904477</td>\n",
              "    </tr>\n",
              "    <tr>\n",
              "      <th>BN_800k</th>\n",
              "      <td>179.575302</td>\n",
              "      <td>0.063120</td>\n",
              "      <td>15.842936</td>\n",
              "    </tr>\n",
              "    <tr>\n",
              "      <th>BN_Mish_V3_80+_30k</th>\n",
              "      <td>200.774246</td>\n",
              "      <td>0.070571</td>\n",
              "      <td>14.170144</td>\n",
              "    </tr>\n",
              "    <tr>\n",
              "      <th>BN_Mish_V2_250+F_2_50k</th>\n",
              "      <td>200.794809</td>\n",
              "      <td>0.070578</td>\n",
              "      <td>14.168693</td>\n",
              "    </tr>\n",
              "    <tr>\n",
              "      <th>faster_rcnn_R_50_FPN_3x</th>\n",
              "      <td>234.852265</td>\n",
              "      <td>0.082549</td>\n",
              "      <td>12.113999</td>\n",
              "    </tr>\n",
              "    <tr>\n",
              "      <th>scratch_faster_rcnn_R_50_FPN_gn</th>\n",
              "      <td>253.903901</td>\n",
              "      <td>0.089246</td>\n",
              "      <td>11.205027</td>\n",
              "    </tr>\n",
              "  </tbody>\n",
              "</table>\n",
              "</div>"
            ],
            "text/plain": [
              "                                 total_time  mean_diff        fps\n",
              "MTCNN                             91.830989   0.032278  30.980827\n",
              "800k                             178.880448   0.062875  15.904477\n",
              "BN_800k                          179.575302   0.063120  15.842936\n",
              "BN_Mish_V3_80+_30k               200.774246   0.070571  14.170144\n",
              "BN_Mish_V2_250+F_2_50k           200.794809   0.070578  14.168693\n",
              "faster_rcnn_R_50_FPN_3x          234.852265   0.082549  12.113999\n",
              "scratch_faster_rcnn_R_50_FPN_gn  253.903901   0.089246  11.205027"
            ]
          },
          "metadata": {
            "tags": []
          },
          "execution_count": 6
        }
      ]
    },
    {
      "cell_type": "markdown",
      "metadata": {
        "id": "ACFVAPxjReGx",
        "colab_type": "text"
      },
      "source": [
        "Wynik dla WIDER FACE"
      ]
    },
    {
      "cell_type": "code",
      "metadata": {
        "id": "8AJSuTqnQj2B",
        "colab_type": "code",
        "colab": {
          "base_uri": "https://localhost:8080/",
          "height": 269
        },
        "outputId": "60730ed6-fc2f-4810-e21b-bb86f3c1fb81"
      },
      "source": [
        "df_time_WIDERFACE"
      ],
      "execution_count": 7,
      "outputs": [
        {
          "output_type": "execute_result",
          "data": {
            "text/html": [
              "<div>\n",
              "<style scoped>\n",
              "    .dataframe tbody tr th:only-of-type {\n",
              "        vertical-align: middle;\n",
              "    }\n",
              "\n",
              "    .dataframe tbody tr th {\n",
              "        vertical-align: top;\n",
              "    }\n",
              "\n",
              "    .dataframe thead th {\n",
              "        text-align: right;\n",
              "    }\n",
              "</style>\n",
              "<table border=\"1\" class=\"dataframe\">\n",
              "  <thead>\n",
              "    <tr style=\"text-align: right;\">\n",
              "      <th></th>\n",
              "      <th>total_time</th>\n",
              "      <th>mean_diff</th>\n",
              "      <th>fps</th>\n",
              "    </tr>\n",
              "  </thead>\n",
              "  <tbody>\n",
              "    <tr>\n",
              "      <th>BN_800k</th>\n",
              "      <td>244.897014</td>\n",
              "      <td>0.075914</td>\n",
              "      <td>13.172884</td>\n",
              "    </tr>\n",
              "    <tr>\n",
              "      <th>800k</th>\n",
              "      <td>248.565521</td>\n",
              "      <td>0.077051</td>\n",
              "      <td>12.978469</td>\n",
              "    </tr>\n",
              "    <tr>\n",
              "      <th>faster_rcnn_R_50_FPN_3x</th>\n",
              "      <td>307.453097</td>\n",
              "      <td>0.095305</td>\n",
              "      <td>10.492657</td>\n",
              "    </tr>\n",
              "    <tr>\n",
              "      <th>BN_Mish_V3_80+_30k</th>\n",
              "      <td>311.967525</td>\n",
              "      <td>0.096704</td>\n",
              "      <td>10.340820</td>\n",
              "    </tr>\n",
              "    <tr>\n",
              "      <th>BN_Mish_V2_250+F_2_50k</th>\n",
              "      <td>314.006855</td>\n",
              "      <td>0.097336</td>\n",
              "      <td>10.273661</td>\n",
              "    </tr>\n",
              "    <tr>\n",
              "      <th>MTCNN</th>\n",
              "      <td>329.380084</td>\n",
              "      <td>0.102102</td>\n",
              "      <td>9.794156</td>\n",
              "    </tr>\n",
              "    <tr>\n",
              "      <th>scratch_faster_rcnn_R_50_FPN_gn</th>\n",
              "      <td>332.273322</td>\n",
              "      <td>0.102999</td>\n",
              "      <td>9.708875</td>\n",
              "    </tr>\n",
              "  </tbody>\n",
              "</table>\n",
              "</div>"
            ],
            "text/plain": [
              "                                 total_time  mean_diff        fps\n",
              "BN_800k                          244.897014   0.075914  13.172884\n",
              "800k                             248.565521   0.077051  12.978469\n",
              "faster_rcnn_R_50_FPN_3x          307.453097   0.095305  10.492657\n",
              "BN_Mish_V3_80+_30k               311.967525   0.096704  10.340820\n",
              "BN_Mish_V2_250+F_2_50k           314.006855   0.097336  10.273661\n",
              "MTCNN                            329.380084   0.102102   9.794156\n",
              "scratch_faster_rcnn_R_50_FPN_gn  332.273322   0.102999   9.708875"
            ]
          },
          "metadata": {
            "tags": []
          },
          "execution_count": 7
        }
      ]
    },
    {
      "cell_type": "markdown",
      "metadata": {
        "id": "aKxp4fT8RooN",
        "colab_type": "text"
      },
      "source": [
        "Wynik dla FACES_DD"
      ]
    },
    {
      "cell_type": "code",
      "metadata": {
        "colab_type": "code",
        "id": "jXezosbb7-Ag",
        "colab": {
          "base_uri": "https://localhost:8080/",
          "height": 269
        },
        "outputId": "be945cb0-e275-4404-e062-4e0fcef7c6fd"
      },
      "source": [
        "df_time_WIDERFACE"
      ],
      "execution_count": 56,
      "outputs": [
        {
          "output_type": "execute_result",
          "data": {
            "text/html": [
              "<div>\n",
              "<style scoped>\n",
              "    .dataframe tbody tr th:only-of-type {\n",
              "        vertical-align: middle;\n",
              "    }\n",
              "\n",
              "    .dataframe tbody tr th {\n",
              "        vertical-align: top;\n",
              "    }\n",
              "\n",
              "    .dataframe thead th {\n",
              "        text-align: right;\n",
              "    }\n",
              "</style>\n",
              "<table border=\"1\" class=\"dataframe\">\n",
              "  <thead>\n",
              "    <tr style=\"text-align: right;\">\n",
              "      <th></th>\n",
              "      <th>total_time</th>\n",
              "      <th>mean_diff</th>\n",
              "      <th>fps</th>\n",
              "    </tr>\n",
              "  </thead>\n",
              "  <tbody>\n",
              "    <tr>\n",
              "      <th>BN_800k</th>\n",
              "      <td>244.897014</td>\n",
              "      <td>0.075914</td>\n",
              "      <td>13.172884</td>\n",
              "    </tr>\n",
              "    <tr>\n",
              "      <th>800k</th>\n",
              "      <td>248.565521</td>\n",
              "      <td>0.077051</td>\n",
              "      <td>12.978469</td>\n",
              "    </tr>\n",
              "    <tr>\n",
              "      <th>faster_rcnn_R_50_FPN_3x</th>\n",
              "      <td>307.453097</td>\n",
              "      <td>0.095305</td>\n",
              "      <td>10.492657</td>\n",
              "    </tr>\n",
              "    <tr>\n",
              "      <th>BN_Mish_V3_80+_30k</th>\n",
              "      <td>311.967525</td>\n",
              "      <td>0.096704</td>\n",
              "      <td>10.340820</td>\n",
              "    </tr>\n",
              "    <tr>\n",
              "      <th>BN_Mish_V2_250+F_2_50k</th>\n",
              "      <td>314.006855</td>\n",
              "      <td>0.097336</td>\n",
              "      <td>10.273661</td>\n",
              "    </tr>\n",
              "    <tr>\n",
              "      <th>MTCNN</th>\n",
              "      <td>329.380084</td>\n",
              "      <td>0.102102</td>\n",
              "      <td>9.794156</td>\n",
              "    </tr>\n",
              "    <tr>\n",
              "      <th>scratch_faster_rcnn_R_50_FPN_gn</th>\n",
              "      <td>332.273322</td>\n",
              "      <td>0.102999</td>\n",
              "      <td>9.708875</td>\n",
              "    </tr>\n",
              "  </tbody>\n",
              "</table>\n",
              "</div>"
            ],
            "text/plain": [
              "                                 total_time  mean_diff        fps\n",
              "BN_800k                          244.897014   0.075914  13.172884\n",
              "800k                             248.565521   0.077051  12.978469\n",
              "faster_rcnn_R_50_FPN_3x          307.453097   0.095305  10.492657\n",
              "BN_Mish_V3_80+_30k               311.967525   0.096704  10.340820\n",
              "BN_Mish_V2_250+F_2_50k           314.006855   0.097336  10.273661\n",
              "MTCNN                            329.380084   0.102102   9.794156\n",
              "scratch_faster_rcnn_R_50_FPN_gn  332.273322   0.102999   9.708875"
            ]
          },
          "metadata": {
            "tags": []
          },
          "execution_count": 56
        }
      ]
    },
    {
      "cell_type": "markdown",
      "metadata": {
        "id": "TJ1_8eaZ8jhV",
        "colab_type": "text"
      },
      "source": [
        "### COCO AP"
      ]
    },
    {
      "cell_type": "markdown",
      "metadata": {
        "id": "XXDmNFXi9jhk",
        "colab_type": "text"
      },
      "source": [
        "Najlepszy wynik AP50 na FDDB osiagnął model 'faster_rcnn_R_50_FPN_3x' (91.43). AP dla wszystkich modeli za wyjątkiem '800k' mieściło się w zakresie od 37.6 do 39.45. \n",
        "\n",
        "'scratch_faster_rcnn_R_50_FPN_gn' trenowany od zera na zbiorze treningowy WIDER FACE uzyskał nejlepszy wynik na zbiorze validacyjnym datasetu. Model ma najwyższe AP50 = 91.43 przy AP = 39.45. Modele 'BN_Mish_V3_80+_30k' i 'BN_800k' mimo, że osiagneły wyższe wartości AP (kolejno 39.49 i 39.69) to ich AP50 nie przekroczył 90.5. Model osiagnał znacznie lepszy wynik 'faster_rcnn_R_50_FPN_3x' można wnioskować zatem o słuszności założeń prezentowanych w artykule \"Rethinking ImageNet Pre-training\" <a href=\"https://github.com/DarekGit/FACES_DNN/blob/master/notebooks/Bibliografia.ipynb\">[15]</a>, które skutecznie udało się zastosować. \n",
        "\n",
        "Najlepsze wyniki na zbiorze FACES_DD uzyskał model 'BN_Mish_V2_250+F_2_50k'  \tz AP = 62.25 i AP50 =\t92.21. Pozostałe modele z wyjątkiem '800k' osiagneły porównywalne wyniki: AP w zakresie 58.02-60.86 i\tAP50 w zakresie 88.98-90.89.\n",
        "\n",
        "Otrzymane wyniki zostały zaprezentowane w poniższych tabelach.\n"
      ]
    },
    {
      "cell_type": "markdown",
      "metadata": {
        "id": "vGj0-0Q-8j4S",
        "colab_type": "text"
      },
      "source": [
        "Wynik dla FDDB\n"
      ]
    },
    {
      "cell_type": "code",
      "metadata": {
        "id": "4a0lztF4816d",
        "colab_type": "code",
        "colab": {
          "base_uri": "https://localhost:8080/",
          "height": 238
        },
        "outputId": "c5ccd0da-dc97-4aa4-9355-8dc695b41385"
      },
      "source": [
        "df_AP_FDDB"
      ],
      "execution_count": 79,
      "outputs": [
        {
          "output_type": "execute_result",
          "data": {
            "text/html": [
              "<div>\n",
              "<style scoped>\n",
              "    .dataframe tbody tr th:only-of-type {\n",
              "        vertical-align: middle;\n",
              "    }\n",
              "\n",
              "    .dataframe tbody tr th {\n",
              "        vertical-align: top;\n",
              "    }\n",
              "\n",
              "    .dataframe thead th {\n",
              "        text-align: right;\n",
              "    }\n",
              "</style>\n",
              "<table border=\"1\" class=\"dataframe\">\n",
              "  <thead>\n",
              "    <tr style=\"text-align: right;\">\n",
              "      <th></th>\n",
              "      <th>AP</th>\n",
              "      <th>AP50</th>\n",
              "    </tr>\n",
              "  </thead>\n",
              "  <tbody>\n",
              "    <tr>\n",
              "      <th>faster_rcnn_R_50_FPN_3x</th>\n",
              "      <td>39.450135</td>\n",
              "      <td>91.435634</td>\n",
              "    </tr>\n",
              "    <tr>\n",
              "      <th>BN_Mish_V2_250+F_2_50k</th>\n",
              "      <td>37.604153</td>\n",
              "      <td>90.541335</td>\n",
              "    </tr>\n",
              "    <tr>\n",
              "      <th>BN_Mish_V3_80+_30k</th>\n",
              "      <td>39.490323</td>\n",
              "      <td>90.495200</td>\n",
              "    </tr>\n",
              "    <tr>\n",
              "      <th>BN_800k</th>\n",
              "      <td>39.692626</td>\n",
              "      <td>89.397019</td>\n",
              "    </tr>\n",
              "    <tr>\n",
              "      <th>scratch_faster_rcnn_R_50_FPN_gn</th>\n",
              "      <td>37.811685</td>\n",
              "      <td>89.204056</td>\n",
              "    </tr>\n",
              "    <tr>\n",
              "      <th>800k</th>\n",
              "      <td>19.019075</td>\n",
              "      <td>57.739784</td>\n",
              "    </tr>\n",
              "  </tbody>\n",
              "</table>\n",
              "</div>"
            ],
            "text/plain": [
              "                                        AP       AP50\n",
              "faster_rcnn_R_50_FPN_3x          39.450135  91.435634\n",
              "BN_Mish_V2_250+F_2_50k           37.604153  90.541335\n",
              "BN_Mish_V3_80+_30k               39.490323  90.495200\n",
              "BN_800k                          39.692626  89.397019\n",
              "scratch_faster_rcnn_R_50_FPN_gn  37.811685  89.204056\n",
              "800k                             19.019075  57.739784"
            ]
          },
          "metadata": {
            "tags": []
          },
          "execution_count": 79
        }
      ]
    },
    {
      "cell_type": "markdown",
      "metadata": {
        "id": "m5DBl1l98nLn",
        "colab_type": "text"
      },
      "source": [
        "Wynik dla WIDER FACE"
      ]
    },
    {
      "cell_type": "code",
      "metadata": {
        "id": "HtKihXRN87E9",
        "colab_type": "code",
        "colab": {
          "base_uri": "https://localhost:8080/",
          "height": 238
        },
        "outputId": "5c4daf63-a250-4f5f-f5b7-a74d78d4c0b5"
      },
      "source": [
        "df_AP_WIDERFACE"
      ],
      "execution_count": 81,
      "outputs": [
        {
          "output_type": "execute_result",
          "data": {
            "text/html": [
              "<div>\n",
              "<style scoped>\n",
              "    .dataframe tbody tr th:only-of-type {\n",
              "        vertical-align: middle;\n",
              "    }\n",
              "\n",
              "    .dataframe tbody tr th {\n",
              "        vertical-align: top;\n",
              "    }\n",
              "\n",
              "    .dataframe thead th {\n",
              "        text-align: right;\n",
              "    }\n",
              "</style>\n",
              "<table border=\"1\" class=\"dataframe\">\n",
              "  <thead>\n",
              "    <tr style=\"text-align: right;\">\n",
              "      <th></th>\n",
              "      <th>AP</th>\n",
              "      <th>AP50</th>\n",
              "    </tr>\n",
              "  </thead>\n",
              "  <tbody>\n",
              "    <tr>\n",
              "      <th>scratch_faster_rcnn_R_50_FPN_gn</th>\n",
              "      <td>31.400140</td>\n",
              "      <td>57.145298</td>\n",
              "    </tr>\n",
              "    <tr>\n",
              "      <th>BN_Mish_V2_250+F_2_50k</th>\n",
              "      <td>30.202843</td>\n",
              "      <td>54.445577</td>\n",
              "    </tr>\n",
              "    <tr>\n",
              "      <th>BN_Mish_V3_80+_30k</th>\n",
              "      <td>29.157098</td>\n",
              "      <td>51.745406</td>\n",
              "    </tr>\n",
              "    <tr>\n",
              "      <th>faster_rcnn_R_50_FPN_3x</th>\n",
              "      <td>27.965053</td>\n",
              "      <td>50.158303</td>\n",
              "    </tr>\n",
              "    <tr>\n",
              "      <th>BN_800k</th>\n",
              "      <td>27.766038</td>\n",
              "      <td>49.522419</td>\n",
              "    </tr>\n",
              "    <tr>\n",
              "      <th>800k</th>\n",
              "      <td>23.100826</td>\n",
              "      <td>42.814369</td>\n",
              "    </tr>\n",
              "  </tbody>\n",
              "</table>\n",
              "</div>"
            ],
            "text/plain": [
              "                                        AP       AP50\n",
              "scratch_faster_rcnn_R_50_FPN_gn  31.400140  57.145298\n",
              "BN_Mish_V2_250+F_2_50k           30.202843  54.445577\n",
              "BN_Mish_V3_80+_30k               29.157098  51.745406\n",
              "faster_rcnn_R_50_FPN_3x          27.965053  50.158303\n",
              "BN_800k                          27.766038  49.522419\n",
              "800k                             23.100826  42.814369"
            ]
          },
          "metadata": {
            "tags": []
          },
          "execution_count": 81
        }
      ]
    },
    {
      "cell_type": "markdown",
      "metadata": {
        "id": "m_dOdku28rwo",
        "colab_type": "text"
      },
      "source": [
        "Wynik dla FACES_DD"
      ]
    },
    {
      "cell_type": "code",
      "metadata": {
        "id": "M4CvNAic87vL",
        "colab_type": "code",
        "colab": {
          "base_uri": "https://localhost:8080/",
          "height": 238
        },
        "outputId": "6125d773-bcef-4bc1-b6b8-f2def6d38346"
      },
      "source": [
        "df_AP_FACES_DD"
      ],
      "execution_count": 83,
      "outputs": [
        {
          "output_type": "execute_result",
          "data": {
            "text/html": [
              "<div>\n",
              "<style scoped>\n",
              "    .dataframe tbody tr th:only-of-type {\n",
              "        vertical-align: middle;\n",
              "    }\n",
              "\n",
              "    .dataframe tbody tr th {\n",
              "        vertical-align: top;\n",
              "    }\n",
              "\n",
              "    .dataframe thead th {\n",
              "        text-align: right;\n",
              "    }\n",
              "</style>\n",
              "<table border=\"1\" class=\"dataframe\">\n",
              "  <thead>\n",
              "    <tr style=\"text-align: right;\">\n",
              "      <th></th>\n",
              "      <th>AP</th>\n",
              "      <th>AP50</th>\n",
              "    </tr>\n",
              "  </thead>\n",
              "  <tbody>\n",
              "    <tr>\n",
              "      <th>BN_Mish_V2_250+F_2_50k</th>\n",
              "      <td>62.258940</td>\n",
              "      <td>92.213344</td>\n",
              "    </tr>\n",
              "    <tr>\n",
              "      <th>BN_Mish_V3_80+_30k</th>\n",
              "      <td>62.476118</td>\n",
              "      <td>91.280964</td>\n",
              "    </tr>\n",
              "    <tr>\n",
              "      <th>scratch_faster_rcnn_R_50_FPN_gn</th>\n",
              "      <td>58.026158</td>\n",
              "      <td>90.890998</td>\n",
              "    </tr>\n",
              "    <tr>\n",
              "      <th>BN_800k</th>\n",
              "      <td>60.860485</td>\n",
              "      <td>89.135235</td>\n",
              "    </tr>\n",
              "    <tr>\n",
              "      <th>faster_rcnn_R_50_FPN_3x</th>\n",
              "      <td>59.622354</td>\n",
              "      <td>88.986689</td>\n",
              "    </tr>\n",
              "    <tr>\n",
              "      <th>800k</th>\n",
              "      <td>47.816123</td>\n",
              "      <td>72.677722</td>\n",
              "    </tr>\n",
              "  </tbody>\n",
              "</table>\n",
              "</div>"
            ],
            "text/plain": [
              "                                        AP       AP50\n",
              "BN_Mish_V2_250+F_2_50k           62.258940  92.213344\n",
              "BN_Mish_V3_80+_30k               62.476118  91.280964\n",
              "scratch_faster_rcnn_R_50_FPN_gn  58.026158  90.890998\n",
              "BN_800k                          60.860485  89.135235\n",
              "faster_rcnn_R_50_FPN_3x          59.622354  88.986689\n",
              "800k                             47.816123  72.677722"
            ]
          },
          "metadata": {
            "tags": []
          },
          "execution_count": 83
        }
      ]
    },
    {
      "cell_type": "markdown",
      "metadata": {
        "id": "7dzkbsnaQb-M",
        "colab_type": "text"
      },
      "source": [
        "### Ujednolicona miara oceny wyników detekcj mAP "
      ]
    },
    {
      "cell_type": "markdown",
      "metadata": {
        "id": "t8mgkTaJR9Sv",
        "colab_type": "text"
      },
      "source": [
        "Na bazie FDDB najlepszy wyniki mAP osiągnał model 'BN_800k' uzyskujac mAP 40.33. Najwyższy mAP50 osiagnał model faster_rcnn_R_50_FPN_3x z wynikiem 92.22. Model '800k' ktory uzyskał najwyższy czas interferencji na zbiorze danych FDDB wypadł bardzo słabo (mAP = 19.07, mAP50 = 56.74). Moża zauważyć wpływ Batch normalization dzięki któremu model 'BN_800k' o porownywalnym czasem interferencji osiągnął znacznie lepszy wynik precyzji detekcji.\n",
        "\n",
        "Na zbiorze WIDER FACE najlepszy wynik mAP uzyskał model 'scratch_faster_rcnn_R_50_FPN_gn' z mAP = 32.45 i mAP50 = 58.03. Fakt ten dowodzi skuteczności metody trenowania od zera na docelowym zbiorze treningowym z pomieciem procedury czasochłonnego pretrenowania na dużym zbiorze danych typu COCO.\n",
        "'scratch_faster_rcnn_R_50_FPN_gn' osiagnał również lepszy wynik od 'faster_rcnn_R_50_FPN_3x' na zbiorze FACES_DD. Mimo porównywalnych wyników wypadł gorzej od modelu 'BN_Mish_V2_250+F_2_50k' z najwyższym mAP50 = 92.96 i mAP = 62.64.\n",
        "\n",
        "Zauważyć można skuteczność ujednoliconej miara mAP. W wiekszości przypadków uzyskane wyniki były porównywalne z COCO AP. Zastosowanie tej miary pozwoliło również porównać wyniki detektora MTCNN, który na wszystich datasetach wypadł bardzo słabo uzyskując wyniki porównywalne z modelem '800k'\n",
        "\n",
        "Otrzymane wyniki zostały zaprezentowane w poniższych tabelach."
      ]
    },
    {
      "cell_type": "markdown",
      "metadata": {
        "id": "Qezp7AkVRa4f",
        "colab_type": "text"
      },
      "source": [
        "Wynik dla FDDB"
      ]
    },
    {
      "cell_type": "code",
      "metadata": {
        "id": "RtG3YIim6kbE",
        "colab_type": "code",
        "colab": {
          "base_uri": "https://localhost:8080/",
          "height": 269
        },
        "outputId": "a67cf18e-e6d3-439c-b652-0a9dc12c044f"
      },
      "source": [
        "df_mAP_FDDB"
      ],
      "execution_count": 85,
      "outputs": [
        {
          "output_type": "execute_result",
          "data": {
            "text/html": [
              "<div>\n",
              "<style scoped>\n",
              "    .dataframe tbody tr th:only-of-type {\n",
              "        vertical-align: middle;\n",
              "    }\n",
              "\n",
              "    .dataframe tbody tr th {\n",
              "        vertical-align: top;\n",
              "    }\n",
              "\n",
              "    .dataframe thead th {\n",
              "        text-align: right;\n",
              "    }\n",
              "</style>\n",
              "<table border=\"1\" class=\"dataframe\">\n",
              "  <thead>\n",
              "    <tr style=\"text-align: right;\">\n",
              "      <th></th>\n",
              "      <th>mAP</th>\n",
              "      <th>All 0.50</th>\n",
              "    </tr>\n",
              "  </thead>\n",
              "  <tbody>\n",
              "    <tr>\n",
              "      <th>faster_rcnn_R_50_FPN_3x</th>\n",
              "      <td>40.083175</td>\n",
              "      <td>92.229347</td>\n",
              "    </tr>\n",
              "    <tr>\n",
              "      <th>BN_Mish_V2_250+F_2_50k</th>\n",
              "      <td>38.287100</td>\n",
              "      <td>91.693780</td>\n",
              "    </tr>\n",
              "    <tr>\n",
              "      <th>BN_Mish_V3_80+_30k</th>\n",
              "      <td>40.209249</td>\n",
              "      <td>91.085791</td>\n",
              "    </tr>\n",
              "    <tr>\n",
              "      <th>scratch_faster_rcnn_R_50_FPN_gn</th>\n",
              "      <td>38.440094</td>\n",
              "      <td>90.080635</td>\n",
              "    </tr>\n",
              "    <tr>\n",
              "      <th>BN_800k</th>\n",
              "      <td>40.337337</td>\n",
              "      <td>89.777419</td>\n",
              "    </tr>\n",
              "    <tr>\n",
              "      <th>MTCNN</th>\n",
              "      <td>22.670603</td>\n",
              "      <td>76.760127</td>\n",
              "    </tr>\n",
              "    <tr>\n",
              "      <th>800k</th>\n",
              "      <td>19.072028</td>\n",
              "      <td>56.749778</td>\n",
              "    </tr>\n",
              "  </tbody>\n",
              "</table>\n",
              "</div>"
            ],
            "text/plain": [
              "                                       mAP   All 0.50\n",
              "faster_rcnn_R_50_FPN_3x          40.083175  92.229347\n",
              "BN_Mish_V2_250+F_2_50k           38.287100  91.693780\n",
              "BN_Mish_V3_80+_30k               40.209249  91.085791\n",
              "scratch_faster_rcnn_R_50_FPN_gn  38.440094  90.080635\n",
              "BN_800k                          40.337337  89.777419\n",
              "MTCNN                            22.670603  76.760127\n",
              "800k                             19.072028  56.749778"
            ]
          },
          "metadata": {
            "tags": []
          },
          "execution_count": 85
        }
      ]
    },
    {
      "cell_type": "markdown",
      "metadata": {
        "id": "5Vrknzx18uav",
        "colab_type": "text"
      },
      "source": [
        "Wynik dla WIDER FACE"
      ]
    },
    {
      "cell_type": "code",
      "metadata": {
        "id": "fJqIkhCjQ1mJ",
        "colab_type": "code",
        "colab": {
          "base_uri": "https://localhost:8080/",
          "height": 269
        },
        "outputId": "08bf13a3-decb-4125-b910-946e85534d7a"
      },
      "source": [
        "df_mAP_WIDERFACE"
      ],
      "execution_count": 87,
      "outputs": [
        {
          "output_type": "execute_result",
          "data": {
            "text/html": [
              "<div>\n",
              "<style scoped>\n",
              "    .dataframe tbody tr th:only-of-type {\n",
              "        vertical-align: middle;\n",
              "    }\n",
              "\n",
              "    .dataframe tbody tr th {\n",
              "        vertical-align: top;\n",
              "    }\n",
              "\n",
              "    .dataframe thead th {\n",
              "        text-align: right;\n",
              "    }\n",
              "</style>\n",
              "<table border=\"1\" class=\"dataframe\">\n",
              "  <thead>\n",
              "    <tr style=\"text-align: right;\">\n",
              "      <th></th>\n",
              "      <th>mAP</th>\n",
              "      <th>All 0.50</th>\n",
              "    </tr>\n",
              "  </thead>\n",
              "  <tbody>\n",
              "    <tr>\n",
              "      <th>scratch_faster_rcnn_R_50_FPN_gn</th>\n",
              "      <td>32.450105</td>\n",
              "      <td>58.031785</td>\n",
              "    </tr>\n",
              "    <tr>\n",
              "      <th>BN_Mish_V2_250+F_2_50k</th>\n",
              "      <td>31.210473</td>\n",
              "      <td>55.337262</td>\n",
              "    </tr>\n",
              "    <tr>\n",
              "      <th>BN_Mish_V3_80+_30k</th>\n",
              "      <td>29.948815</td>\n",
              "      <td>52.611733</td>\n",
              "    </tr>\n",
              "    <tr>\n",
              "      <th>faster_rcnn_R_50_FPN_3x</th>\n",
              "      <td>28.727083</td>\n",
              "      <td>50.917348</td>\n",
              "    </tr>\n",
              "    <tr>\n",
              "      <th>BN_800k</th>\n",
              "      <td>28.487464</td>\n",
              "      <td>50.312515</td>\n",
              "    </tr>\n",
              "    <tr>\n",
              "      <th>800k</th>\n",
              "      <td>23.825164</td>\n",
              "      <td>43.351190</td>\n",
              "    </tr>\n",
              "    <tr>\n",
              "      <th>MTCNN</th>\n",
              "      <td>13.332950</td>\n",
              "      <td>22.858543</td>\n",
              "    </tr>\n",
              "  </tbody>\n",
              "</table>\n",
              "</div>"
            ],
            "text/plain": [
              "                                       mAP   All 0.50\n",
              "scratch_faster_rcnn_R_50_FPN_gn  32.450105  58.031785\n",
              "BN_Mish_V2_250+F_2_50k           31.210473  55.337262\n",
              "BN_Mish_V3_80+_30k               29.948815  52.611733\n",
              "faster_rcnn_R_50_FPN_3x          28.727083  50.917348\n",
              "BN_800k                          28.487464  50.312515\n",
              "800k                             23.825164  43.351190\n",
              "MTCNN                            13.332950  22.858543"
            ]
          },
          "metadata": {
            "tags": []
          },
          "execution_count": 87
        }
      ]
    },
    {
      "cell_type": "markdown",
      "metadata": {
        "id": "3QueTGbZRnAQ",
        "colab_type": "text"
      },
      "source": [
        "Wynik dla FACES_DD"
      ]
    },
    {
      "cell_type": "code",
      "metadata": {
        "id": "lqKFvX3BQ2xc",
        "colab_type": "code",
        "colab": {
          "base_uri": "https://localhost:8080/",
          "height": 269
        },
        "outputId": "fa296e0b-a1a0-46cd-db49-c85da0fb9131"
      },
      "source": [
        "df_mAP_FACES_DD"
      ],
      "execution_count": 70,
      "outputs": [
        {
          "output_type": "execute_result",
          "data": {
            "text/html": [
              "<div>\n",
              "<style scoped>\n",
              "    .dataframe tbody tr th:only-of-type {\n",
              "        vertical-align: middle;\n",
              "    }\n",
              "\n",
              "    .dataframe tbody tr th {\n",
              "        vertical-align: top;\n",
              "    }\n",
              "\n",
              "    .dataframe thead th {\n",
              "        text-align: right;\n",
              "    }\n",
              "</style>\n",
              "<table border=\"1\" class=\"dataframe\">\n",
              "  <thead>\n",
              "    <tr style=\"text-align: right;\">\n",
              "      <th></th>\n",
              "      <th>mAP</th>\n",
              "      <th>All 0.50</th>\n",
              "    </tr>\n",
              "  </thead>\n",
              "  <tbody>\n",
              "    <tr>\n",
              "      <th>BN_Mish_V2_250+F_2_50k</th>\n",
              "      <td>62.647906</td>\n",
              "      <td>92.960066</td>\n",
              "    </tr>\n",
              "    <tr>\n",
              "      <th>BN_Mish_V3_80+_30k</th>\n",
              "      <td>62.839073</td>\n",
              "      <td>91.776324</td>\n",
              "    </tr>\n",
              "    <tr>\n",
              "      <th>scratch_faster_rcnn_R_50_FPN_gn</th>\n",
              "      <td>58.432762</td>\n",
              "      <td>91.688343</td>\n",
              "    </tr>\n",
              "    <tr>\n",
              "      <th>BN_800k</th>\n",
              "      <td>61.244431</td>\n",
              "      <td>89.821441</td>\n",
              "    </tr>\n",
              "    <tr>\n",
              "      <th>faster_rcnn_R_50_FPN_3x</th>\n",
              "      <td>60.223579</td>\n",
              "      <td>89.792963</td>\n",
              "    </tr>\n",
              "    <tr>\n",
              "      <th>800k</th>\n",
              "      <td>48.101412</td>\n",
              "      <td>73.135868</td>\n",
              "    </tr>\n",
              "    <tr>\n",
              "      <th>MTCNN</th>\n",
              "      <td>46.517802</td>\n",
              "      <td>62.864947</td>\n",
              "    </tr>\n",
              "  </tbody>\n",
              "</table>\n",
              "</div>"
            ],
            "text/plain": [
              "                                       mAP   All 0.50\n",
              "BN_Mish_V2_250+F_2_50k           62.647906  92.960066\n",
              "BN_Mish_V3_80+_30k               62.839073  91.776324\n",
              "scratch_faster_rcnn_R_50_FPN_gn  58.432762  91.688343\n",
              "BN_800k                          61.244431  89.821441\n",
              "faster_rcnn_R_50_FPN_3x          60.223579  89.792963\n",
              "800k                             48.101412  73.135868\n",
              "MTCNN                            46.517802  62.864947"
            ]
          },
          "metadata": {
            "tags": []
          },
          "execution_count": 70
        }
      ]
    },
    {
      "cell_type": "markdown",
      "metadata": {
        "id": "GoqtkcUGCW9X",
        "colab_type": "text"
      },
      "source": [
        "<br>"
      ]
    },
    {
      "cell_type": "markdown",
      "metadata": {
        "colab_type": "text",
        "id": "hFPnMU1twWrX"
      },
      "source": [
        "<br>\n",
        "\n",
        "---\n",
        "\n",
        "[Spis treści](https://github.com/DarekGit/FACES_DNN/blob/master/notebooks/Praca_Dyplomowa.ipynb) | [1. Wstęp](01_00_Wstep.ipynb) | [2. Metryki oceny detekcji](02_00_Miary.ipynb) | [3. Bazy danych](03_00_Datasety.ipynb) | [4. Przegląd metod detekcji](04_00_Modele.ipynb) | [5. Detekcja twarzy z wykorzystaniem wybranych architektur GSN](05_00_Modyfikacje.ipynb) | [6. Porównanie modeli](06_00_Porownanie.ipynb) | [7. Eksport modelu](07_00_Eksport_modelu.ipynb) | [8. Podsumowanie i wnioski](08_00_Podsumowanie.ipynb) | [Bibliografia](Bibliografia.ipynb)\n",
        "\n",
        "\n",
        "---"
      ]
    }
  ]
}