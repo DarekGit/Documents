{
  "nbformat": 4,
  "nbformat_minor": 0,
  "metadata": {
    "colab": {
      "name": "06_00_Porownanie.ipynb",
      "provenance": [],
      "authorship_tag": "ABX9TyPot8wb5NQ21QTutsReAFci",
      "include_colab_link": true
    },
    "kernelspec": {
      "name": "python3",
      "display_name": "Python 3"
    }
  },
  "cells": [
    {
      "cell_type": "markdown",
      "metadata": {
        "id": "view-in-github",
        "colab_type": "text"
      },
      "source": [
        "<a href=\"https://colab.research.google.com/github/DarekGit/FACES_DNN/blob/master/notebooks/06_00_Porownanie.ipynb\" target=\"_parent\"><img src=\"https://colab.research.google.com/assets/colab-badge.svg\" alt=\"Open In Colab\"/></a>"
      ]
    },
    {
      "cell_type": "markdown",
      "metadata": {
        "id": "7P4290g5hSCs",
        "colab_type": "text"
      },
      "source": [
        "### [Spis treści](https://github.com/DarekGit/FACES_DNN/blob/master/notebooks/Praca_Dyplomowa.ipynb)"
      ]
    },
    {
      "cell_type": "markdown",
      "metadata": {
        "id": "cM8CTuKDhSq9",
        "colab_type": "text"
      },
      "source": [
        "## [6. Porównanie modeli](06_00_Porownanie.ipynb)  "
      ]
    },
    {
      "cell_type": "markdown",
      "metadata": {
        "id": "y-90Y2Xki1cJ",
        "colab_type": "text"
      },
      "source": [
        "Pomiary czasu interferencji wybranych modeli, wyliczenie metryk mAP oraz Coco AP wykonano dla zestawów danych FDDB, WIDER FACE oraz FACES_DD. \n",
        "Testy zostały zamieszczone w plikach: \n",
        "\n",
        " * 6.1. [Wyniki na zbiorze FDDB](06_01_FDDB_TEST.ipynb)  \n",
        " * 6.2. [Wyniki na zbiorze WIDER FACE](06_02_WIDERFACE_TEST.ipynb) \n",
        " * 6.3. [Wyniki na zbiorze FACES_DD](06_03_FACES_DD_TEST.ipynb)   \n",
        "\n",
        "<br>\n",
        "\n",
        "### Porównanie wyników testów\n"
      ]
    },
    {
      "cell_type": "markdown",
      "metadata": {
        "id": "CSuIBriji1f4",
        "colab_type": "text"
      },
      "source": [
        "Załadowania wyników testów modeli."
      ]
    },
    {
      "cell_type": "code",
      "metadata": {
        "id": "zGtvg_q7-KOi",
        "colab_type": "code",
        "colab": {}
      },
      "source": [
        "# finalnie do przeniesienia do pliku i załadowaie jako biblioteki zwracającej potrzebne ramki\n",
        "from google.colab import drive\n",
        "import pandas as pd\n",
        "import os\n",
        "import json\n",
        "\n",
        "drive.mount('/content/drive')\n",
        "\n",
        "time_measurement= \"time_measurement_results.json\"\n",
        "unified_mAP = \"unified_mAP_dataframe.json\"\n",
        "COCO_AP_FDDB = \"df_AP_FDDB.json\"\n",
        "COCO_AP_WIDERFACE = \"df_AP_WIDERFACE.json\"\n",
        "COCO_AP_FACES_DD = \"df_AP_FACES_DD.json\"\n",
        "\n",
        "unified_mAP_FDDB = os.path.join(\"./drive/My Drive\", \"FDDB_OUTPUT_DIR\", unified_mAP)\n",
        "unified_mAP_WIDERFACE = os.path.join(\"./drive/My Drive\", \"WIDERFACE_OUTPUT_DIR\", unified_mAP)\n",
        "unified_mAP_FACES_DD = os.path.join(\"./drive/My Drive\", \"FACES_DD_OUTPUT_DIR\", unified_mAP)\n",
        "\n",
        "time_measurement_FDDB = os.path.join(\"./drive/My Drive\", \"FDDB_OUTPUT_DIR\", time_measurement)\n",
        "time_measurement_WIDERFACE = os.path.join(\"./drive/My Drive\", \"WIDERFACE_OUTPUT_DIR\", time_measurement)\n",
        "time_measurement_FACES_DD = os.path.join(\"./drive/My Drive\", \"FACES_DD_OUTPUT_DIR\", time_measurement)\n",
        "\n",
        "AP_FDDB = os.path.join(\"./drive/My Drive\", \"FDDB_OUTPUT_DIR\", COCO_AP_FDDB)\n",
        "AP_WIDERFACE = os.path.join(\"./drive/My Drive\", \"WIDERFACE_OUTPUT_DIR\", COCO_AP_WIDERFACE )\n",
        "AP_FACES_DD = os.path.join(\"./drive/My Drive\", \"FACES_DD_OUTPUT_DIR\", COCO_AP_FACES_DD)\n",
        "\n",
        "#time\n",
        "with open(time_measurement_FDDB) as data_file:\n",
        "    data_loaded = json.load(data_file)\n",
        "df_time_FDDB = pd.read_json(data_loaded, orient=\"table\" ).sort_values(by=['total_time'], ascending=True)\n",
        "\n",
        "with open(time_measurement_WIDERFACE) as data_file:\n",
        "    data_loaded = json.load(data_file)\n",
        "df_time_WIDERFACE = pd.read_json(data_loaded, orient=\"table\" ).sort_values(by=['total_time'], ascending=True)\n",
        "\n",
        "with open(time_measurement_FACES_DD) as data_file:\n",
        "    data_loaded = json.load(data_file)\n",
        "df_time_FACES_DD= pd.read_json(data_loaded, orient=\"table\" ).sort_values(by=['total_time'], ascending=True)\n",
        "\n",
        "# unified_mAP\n",
        "with open(unified_mAP_FDDB) as data_file:\n",
        "    data_loaded = json.load(data_file)\n",
        "df_mAP_FDDB = pd.read_json(data_loaded, orient=\"table\" ).sort_values(by=['All 0.50'], ascending=True)\n",
        "\n",
        "with open(unified_mAP_WIDERFACE) as data_file:\n",
        "    data_loaded = json.load(data_file)\n",
        "df_mAP_WIDERFACE = pd.read_json(data_loaded, orient=\"table\" ).sort_values(by=['All 0.50'], ascending=True)\n",
        "\n",
        "with open(unified_mAP_FACES_DD) as data_file:\n",
        "    data_loaded = json.load(data_file)\n",
        "df_mAP_FACES_DD= pd.read_json(data_loaded, orient=\"table\" ).sort_values(by=['All 0.50'], ascending=True)\n",
        "\n",
        "# COCO AP\n",
        "with open(AP_FDDB) as data_file:\n",
        "    data_loaded = json.load(data_file)\n",
        "df_AP_FDDB = pd.read_json(data_loaded, orient=\"table\" ).sort_values(by=['AP'], ascending=True)\n",
        "\n",
        "with open(AP_WIDERFACE) as data_file:\n",
        "    data_loaded = json.load(data_file)\n",
        "df_AP_WIDERFACE = pd.read_json(data_loaded, orient=\"table\" ).sort_values(by=['AP'], ascending=True)\n",
        "\n",
        "with open(AP_FACES_DD) as data_file:\n",
        "    data_loaded = json.load(data_file)\n",
        "df_AP_FACES_DD= pd.read_json(data_loaded, orient=\"table\" ).sort_values(by=['AP'], ascending=True)"
      ],
      "execution_count": null,
      "outputs": []
    },
    {
      "cell_type": "markdown",
      "metadata": {
        "id": "2qzyG2nKQb7w",
        "colab_type": "text"
      },
      "source": [
        "### Wyniki pomiaru czasu interferencji "
      ]
    },
    {
      "cell_type": "markdown",
      "metadata": {
        "id": "4mwBHcYwRUzf",
        "colab_type": "text"
      },
      "source": [
        "Wynik dla FDDB"
      ]
    },
    {
      "cell_type": "code",
      "metadata": {
        "id": "D2wosCuKQjrO",
        "colab_type": "code",
        "colab": {
          "base_uri": "https://localhost:8080/",
          "height": 269
        },
        "outputId": "268e4572-db7b-4c77-f5cc-ef002cbf7426"
      },
      "source": [
        "df_time_FDDB"
      ],
      "execution_count": 9,
      "outputs": [
        {
          "output_type": "execute_result",
          "data": {
            "text/html": [
              "<div>\n",
              "<style scoped>\n",
              "    .dataframe tbody tr th:only-of-type {\n",
              "        vertical-align: middle;\n",
              "    }\n",
              "\n",
              "    .dataframe tbody tr th {\n",
              "        vertical-align: top;\n",
              "    }\n",
              "\n",
              "    .dataframe thead th {\n",
              "        text-align: right;\n",
              "    }\n",
              "</style>\n",
              "<table border=\"1\" class=\"dataframe\">\n",
              "  <thead>\n",
              "    <tr style=\"text-align: right;\">\n",
              "      <th></th>\n",
              "      <th>total_time</th>\n",
              "      <th>mean_diff</th>\n",
              "      <th>fps</th>\n",
              "    </tr>\n",
              "  </thead>\n",
              "  <tbody>\n",
              "    <tr>\n",
              "      <th>MTCNN</th>\n",
              "      <td>91.830989</td>\n",
              "      <td>0.032278</td>\n",
              "      <td>30.980827</td>\n",
              "    </tr>\n",
              "    <tr>\n",
              "      <th>800k</th>\n",
              "      <td>178.880448</td>\n",
              "      <td>0.062875</td>\n",
              "      <td>15.904477</td>\n",
              "    </tr>\n",
              "    <tr>\n",
              "      <th>BN_800k</th>\n",
              "      <td>179.575302</td>\n",
              "      <td>0.063120</td>\n",
              "      <td>15.842936</td>\n",
              "    </tr>\n",
              "    <tr>\n",
              "      <th>BN_Mish_V3_80+_30k</th>\n",
              "      <td>200.774246</td>\n",
              "      <td>0.070571</td>\n",
              "      <td>14.170144</td>\n",
              "    </tr>\n",
              "    <tr>\n",
              "      <th>BN_Mish_V2_250+F_2_50k</th>\n",
              "      <td>200.794809</td>\n",
              "      <td>0.070578</td>\n",
              "      <td>14.168693</td>\n",
              "    </tr>\n",
              "    <tr>\n",
              "      <th>faster_rcnn_R_50_FPN_3x</th>\n",
              "      <td>234.852265</td>\n",
              "      <td>0.082549</td>\n",
              "      <td>12.113999</td>\n",
              "    </tr>\n",
              "    <tr>\n",
              "      <th>scratch_faster_rcnn_R_50_FPN_gn</th>\n",
              "      <td>253.903901</td>\n",
              "      <td>0.089246</td>\n",
              "      <td>11.205027</td>\n",
              "    </tr>\n",
              "  </tbody>\n",
              "</table>\n",
              "</div>"
            ],
            "text/plain": [
              "                                 total_time  mean_diff        fps\n",
              "MTCNN                             91.830989   0.032278  30.980827\n",
              "800k                             178.880448   0.062875  15.904477\n",
              "BN_800k                          179.575302   0.063120  15.842936\n",
              "BN_Mish_V3_80+_30k               200.774246   0.070571  14.170144\n",
              "BN_Mish_V2_250+F_2_50k           200.794809   0.070578  14.168693\n",
              "faster_rcnn_R_50_FPN_3x          234.852265   0.082549  12.113999\n",
              "scratch_faster_rcnn_R_50_FPN_gn  253.903901   0.089246  11.205027"
            ]
          },
          "metadata": {
            "tags": []
          },
          "execution_count": 9
        }
      ]
    },
    {
      "cell_type": "markdown",
      "metadata": {
        "id": "ACFVAPxjReGx",
        "colab_type": "text"
      },
      "source": [
        "Wynik dla WIDER FACE"
      ]
    },
    {
      "cell_type": "code",
      "metadata": {
        "id": "8AJSuTqnQj2B",
        "colab_type": "code",
        "colab": {
          "base_uri": "https://localhost:8080/",
          "height": 269
        },
        "outputId": "25ebad38-63af-4aaf-868e-1a01373f42ec"
      },
      "source": [
        "df_time_WIDERFACE"
      ],
      "execution_count": 10,
      "outputs": [
        {
          "output_type": "execute_result",
          "data": {
            "text/html": [
              "<div>\n",
              "<style scoped>\n",
              "    .dataframe tbody tr th:only-of-type {\n",
              "        vertical-align: middle;\n",
              "    }\n",
              "\n",
              "    .dataframe tbody tr th {\n",
              "        vertical-align: top;\n",
              "    }\n",
              "\n",
              "    .dataframe thead th {\n",
              "        text-align: right;\n",
              "    }\n",
              "</style>\n",
              "<table border=\"1\" class=\"dataframe\">\n",
              "  <thead>\n",
              "    <tr style=\"text-align: right;\">\n",
              "      <th></th>\n",
              "      <th>total_time</th>\n",
              "      <th>mean_diff</th>\n",
              "      <th>fps</th>\n",
              "    </tr>\n",
              "  </thead>\n",
              "  <tbody>\n",
              "    <tr>\n",
              "      <th>BN_800k</th>\n",
              "      <td>244.897014</td>\n",
              "      <td>0.075914</td>\n",
              "      <td>13.172884</td>\n",
              "    </tr>\n",
              "    <tr>\n",
              "      <th>800k</th>\n",
              "      <td>248.565521</td>\n",
              "      <td>0.077051</td>\n",
              "      <td>12.978469</td>\n",
              "    </tr>\n",
              "    <tr>\n",
              "      <th>faster_rcnn_R_50_FPN_3x</th>\n",
              "      <td>307.453097</td>\n",
              "      <td>0.095305</td>\n",
              "      <td>10.492657</td>\n",
              "    </tr>\n",
              "    <tr>\n",
              "      <th>BN_Mish_V3_80+_30k</th>\n",
              "      <td>311.967525</td>\n",
              "      <td>0.096704</td>\n",
              "      <td>10.340820</td>\n",
              "    </tr>\n",
              "    <tr>\n",
              "      <th>BN_Mish_V2_250+F_2_50k</th>\n",
              "      <td>314.006855</td>\n",
              "      <td>0.097336</td>\n",
              "      <td>10.273661</td>\n",
              "    </tr>\n",
              "    <tr>\n",
              "      <th>MTCNN</th>\n",
              "      <td>329.380084</td>\n",
              "      <td>0.102102</td>\n",
              "      <td>9.794156</td>\n",
              "    </tr>\n",
              "    <tr>\n",
              "      <th>scratch_faster_rcnn_R_50_FPN_gn</th>\n",
              "      <td>332.273322</td>\n",
              "      <td>0.102999</td>\n",
              "      <td>9.708875</td>\n",
              "    </tr>\n",
              "  </tbody>\n",
              "</table>\n",
              "</div>"
            ],
            "text/plain": [
              "                                 total_time  mean_diff        fps\n",
              "BN_800k                          244.897014   0.075914  13.172884\n",
              "800k                             248.565521   0.077051  12.978469\n",
              "faster_rcnn_R_50_FPN_3x          307.453097   0.095305  10.492657\n",
              "BN_Mish_V3_80+_30k               311.967525   0.096704  10.340820\n",
              "BN_Mish_V2_250+F_2_50k           314.006855   0.097336  10.273661\n",
              "MTCNN                            329.380084   0.102102   9.794156\n",
              "scratch_faster_rcnn_R_50_FPN_gn  332.273322   0.102999   9.708875"
            ]
          },
          "metadata": {
            "tags": []
          },
          "execution_count": 10
        }
      ]
    },
    {
      "cell_type": "markdown",
      "metadata": {
        "id": "aKxp4fT8RooN",
        "colab_type": "text"
      },
      "source": [
        "Wynik dla FACES_DD"
      ]
    },
    {
      "cell_type": "code",
      "metadata": {
        "id": "_czd8getQj_3",
        "colab_type": "code",
        "colab": {
          "base_uri": "https://localhost:8080/",
          "height": 269
        },
        "outputId": "364dab64-f37e-4c16-b275-7cda4b1e722e"
      },
      "source": [
        "df_time_FACES_DD"
      ],
      "execution_count": 11,
      "outputs": [
        {
          "output_type": "execute_result",
          "data": {
            "text/html": [
              "<div>\n",
              "<style scoped>\n",
              "    .dataframe tbody tr th:only-of-type {\n",
              "        vertical-align: middle;\n",
              "    }\n",
              "\n",
              "    .dataframe tbody tr th {\n",
              "        vertical-align: top;\n",
              "    }\n",
              "\n",
              "    .dataframe thead th {\n",
              "        text-align: right;\n",
              "    }\n",
              "</style>\n",
              "<table border=\"1\" class=\"dataframe\">\n",
              "  <thead>\n",
              "    <tr style=\"text-align: right;\">\n",
              "      <th></th>\n",
              "      <th>total_time</th>\n",
              "      <th>mean_diff</th>\n",
              "      <th>fps</th>\n",
              "    </tr>\n",
              "  </thead>\n",
              "  <tbody>\n",
              "    <tr>\n",
              "      <th>BN_800k</th>\n",
              "      <td>210.414673</td>\n",
              "      <td>0.227475</td>\n",
              "      <td>4.396081</td>\n",
              "    </tr>\n",
              "    <tr>\n",
              "      <th>800k</th>\n",
              "      <td>211.473241</td>\n",
              "      <td>0.228620</td>\n",
              "      <td>4.374076</td>\n",
              "    </tr>\n",
              "    <tr>\n",
              "      <th>faster_rcnn_R_50_FPN_3x</th>\n",
              "      <td>233.995587</td>\n",
              "      <td>0.252968</td>\n",
              "      <td>3.953066</td>\n",
              "    </tr>\n",
              "    <tr>\n",
              "      <th>scratch_faster_rcnn_R_50_FPN_gn</th>\n",
              "      <td>241.162454</td>\n",
              "      <td>0.260716</td>\n",
              "      <td>3.835589</td>\n",
              "    </tr>\n",
              "    <tr>\n",
              "      <th>BN_Mish_V2_250+F_2_50k</th>\n",
              "      <td>327.347029</td>\n",
              "      <td>0.353889</td>\n",
              "      <td>2.825747</td>\n",
              "    </tr>\n",
              "    <tr>\n",
              "      <th>BN_Mish_V3_80+_30k</th>\n",
              "      <td>333.371976</td>\n",
              "      <td>0.360402</td>\n",
              "      <td>2.774678</td>\n",
              "    </tr>\n",
              "    <tr>\n",
              "      <th>MTCNN</th>\n",
              "      <td>475.079065</td>\n",
              "      <td>0.513599</td>\n",
              "      <td>1.947044</td>\n",
              "    </tr>\n",
              "  </tbody>\n",
              "</table>\n",
              "</div>"
            ],
            "text/plain": [
              "                                 total_time  mean_diff       fps\n",
              "BN_800k                          210.414673   0.227475  4.396081\n",
              "800k                             211.473241   0.228620  4.374076\n",
              "faster_rcnn_R_50_FPN_3x          233.995587   0.252968  3.953066\n",
              "scratch_faster_rcnn_R_50_FPN_gn  241.162454   0.260716  3.835589\n",
              "BN_Mish_V2_250+F_2_50k           327.347029   0.353889  2.825747\n",
              "BN_Mish_V3_80+_30k               333.371976   0.360402  2.774678\n",
              "MTCNN                            475.079065   0.513599  1.947044"
            ]
          },
          "metadata": {
            "tags": []
          },
          "execution_count": 11
        }
      ]
    },
    {
      "cell_type": "markdown",
      "metadata": {
        "id": "7dzkbsnaQb-M",
        "colab_type": "text"
      },
      "source": [
        "### mAP  "
      ]
    },
    {
      "cell_type": "markdown",
      "metadata": {
        "id": "Qezp7AkVRa4f",
        "colab_type": "text"
      },
      "source": [
        "Wynik dla FDDB"
      ]
    },
    {
      "cell_type": "code",
      "metadata": {
        "id": "H4gyDgR7Qz-F",
        "colab_type": "code",
        "colab": {
          "base_uri": "https://localhost:8080/",
          "height": 269
        },
        "outputId": "06d93ca0-12a2-4fc2-82dd-b5ff8c666996"
      },
      "source": [
        "df_mAP_FDDB"
      ],
      "execution_count": 12,
      "outputs": [
        {
          "output_type": "execute_result",
          "data": {
            "text/html": [
              "<div>\n",
              "<style scoped>\n",
              "    .dataframe tbody tr th:only-of-type {\n",
              "        vertical-align: middle;\n",
              "    }\n",
              "\n",
              "    .dataframe tbody tr th {\n",
              "        vertical-align: top;\n",
              "    }\n",
              "\n",
              "    .dataframe thead th {\n",
              "        text-align: right;\n",
              "    }\n",
              "</style>\n",
              "<table border=\"1\" class=\"dataframe\">\n",
              "  <thead>\n",
              "    <tr style=\"text-align: right;\">\n",
              "      <th></th>\n",
              "      <th>mAP</th>\n",
              "      <th>All 0.50</th>\n",
              "      <th>large</th>\n",
              "      <th>medium</th>\n",
              "      <th>small</th>\n",
              "    </tr>\n",
              "  </thead>\n",
              "  <tbody>\n",
              "    <tr>\n",
              "      <th>800k</th>\n",
              "      <td>0.190720</td>\n",
              "      <td>0.567498</td>\n",
              "      <td>0.517141</td>\n",
              "      <td>0.712006</td>\n",
              "      <td>0.453871</td>\n",
              "    </tr>\n",
              "    <tr>\n",
              "      <th>MTCNN</th>\n",
              "      <td>0.226706</td>\n",
              "      <td>0.767601</td>\n",
              "      <td>0.876966</td>\n",
              "      <td>0.653019</td>\n",
              "      <td>0.295505</td>\n",
              "    </tr>\n",
              "    <tr>\n",
              "      <th>BN_800k</th>\n",
              "      <td>0.403373</td>\n",
              "      <td>0.897774</td>\n",
              "      <td>0.963604</td>\n",
              "      <td>0.822335</td>\n",
              "      <td>0.596383</td>\n",
              "    </tr>\n",
              "    <tr>\n",
              "      <th>scratch_faster_rcnn_R_50_FPN_gn</th>\n",
              "      <td>0.384401</td>\n",
              "      <td>0.900806</td>\n",
              "      <td>0.967853</td>\n",
              "      <td>0.823343</td>\n",
              "      <td>0.572182</td>\n",
              "    </tr>\n",
              "    <tr>\n",
              "      <th>BN_Mish_V3_80+_30k</th>\n",
              "      <td>0.402092</td>\n",
              "      <td>0.910858</td>\n",
              "      <td>0.970415</td>\n",
              "      <td>0.843167</td>\n",
              "      <td>0.605858</td>\n",
              "    </tr>\n",
              "    <tr>\n",
              "      <th>BN_Mish_V2_250+F_2_50k</th>\n",
              "      <td>0.382871</td>\n",
              "      <td>0.916938</td>\n",
              "      <td>0.969164</td>\n",
              "      <td>0.853672</td>\n",
              "      <td>0.645481</td>\n",
              "    </tr>\n",
              "    <tr>\n",
              "      <th>faster_rcnn_R_50_FPN_3x</th>\n",
              "      <td>0.400832</td>\n",
              "      <td>0.922293</td>\n",
              "      <td>0.978863</td>\n",
              "      <td>0.856809</td>\n",
              "      <td>0.628422</td>\n",
              "    </tr>\n",
              "  </tbody>\n",
              "</table>\n",
              "</div>"
            ],
            "text/plain": [
              "                                      mAP  All 0.50  ...    medium     small\n",
              "800k                             0.190720  0.567498  ...  0.712006  0.453871\n",
              "MTCNN                            0.226706  0.767601  ...  0.653019  0.295505\n",
              "BN_800k                          0.403373  0.897774  ...  0.822335  0.596383\n",
              "scratch_faster_rcnn_R_50_FPN_gn  0.384401  0.900806  ...  0.823343  0.572182\n",
              "BN_Mish_V3_80+_30k               0.402092  0.910858  ...  0.843167  0.605858\n",
              "BN_Mish_V2_250+F_2_50k           0.382871  0.916938  ...  0.853672  0.645481\n",
              "faster_rcnn_R_50_FPN_3x          0.400832  0.922293  ...  0.856809  0.628422\n",
              "\n",
              "[7 rows x 5 columns]"
            ]
          },
          "metadata": {
            "tags": []
          },
          "execution_count": 12
        }
      ]
    },
    {
      "cell_type": "markdown",
      "metadata": {
        "id": "sYue4btXRhcU",
        "colab_type": "text"
      },
      "source": [
        "Wynik dla WIDER FACE"
      ]
    },
    {
      "cell_type": "code",
      "metadata": {
        "id": "fJqIkhCjQ1mJ",
        "colab_type": "code",
        "colab": {
          "base_uri": "https://localhost:8080/",
          "height": 269
        },
        "outputId": "49d60a79-a3e4-40c8-8e5c-a824f1ca9ac4"
      },
      "source": [
        "df_mAP_WIDERFACE"
      ],
      "execution_count": 15,
      "outputs": [
        {
          "output_type": "execute_result",
          "data": {
            "text/html": [
              "<div>\n",
              "<style scoped>\n",
              "    .dataframe tbody tr th:only-of-type {\n",
              "        vertical-align: middle;\n",
              "    }\n",
              "\n",
              "    .dataframe tbody tr th {\n",
              "        vertical-align: top;\n",
              "    }\n",
              "\n",
              "    .dataframe thead th {\n",
              "        text-align: right;\n",
              "    }\n",
              "</style>\n",
              "<table border=\"1\" class=\"dataframe\">\n",
              "  <thead>\n",
              "    <tr style=\"text-align: right;\">\n",
              "      <th></th>\n",
              "      <th>mAP</th>\n",
              "      <th>All 0.50</th>\n",
              "      <th>large</th>\n",
              "      <th>medium</th>\n",
              "      <th>small</th>\n",
              "    </tr>\n",
              "  </thead>\n",
              "  <tbody>\n",
              "    <tr>\n",
              "      <th>MTCNN</th>\n",
              "      <td>0.133329</td>\n",
              "      <td>0.228585</td>\n",
              "      <td>0.617413</td>\n",
              "      <td>0.518723</td>\n",
              "      <td>0.103795</td>\n",
              "    </tr>\n",
              "    <tr>\n",
              "      <th>800k</th>\n",
              "      <td>0.238252</td>\n",
              "      <td>0.433512</td>\n",
              "      <td>0.686724</td>\n",
              "      <td>0.749513</td>\n",
              "      <td>0.310390</td>\n",
              "    </tr>\n",
              "    <tr>\n",
              "      <th>BN_800k</th>\n",
              "      <td>0.284875</td>\n",
              "      <td>0.503125</td>\n",
              "      <td>0.908312</td>\n",
              "      <td>0.838339</td>\n",
              "      <td>0.361031</td>\n",
              "    </tr>\n",
              "    <tr>\n",
              "      <th>faster_rcnn_R_50_FPN_3x</th>\n",
              "      <td>0.287271</td>\n",
              "      <td>0.509173</td>\n",
              "      <td>0.951802</td>\n",
              "      <td>0.872292</td>\n",
              "      <td>0.351544</td>\n",
              "    </tr>\n",
              "    <tr>\n",
              "      <th>BN_Mish_V3_80+_30k</th>\n",
              "      <td>0.299488</td>\n",
              "      <td>0.526117</td>\n",
              "      <td>0.922470</td>\n",
              "      <td>0.858282</td>\n",
              "      <td>0.385726</td>\n",
              "    </tr>\n",
              "    <tr>\n",
              "      <th>BN_Mish_V2_250+F_2_50k</th>\n",
              "      <td>0.312105</td>\n",
              "      <td>0.553373</td>\n",
              "      <td>0.937175</td>\n",
              "      <td>0.877947</td>\n",
              "      <td>0.415864</td>\n",
              "    </tr>\n",
              "    <tr>\n",
              "      <th>scratch_faster_rcnn_R_50_FPN_gn</th>\n",
              "      <td>0.324501</td>\n",
              "      <td>0.580318</td>\n",
              "      <td>0.924632</td>\n",
              "      <td>0.875298</td>\n",
              "      <td>0.454291</td>\n",
              "    </tr>\n",
              "  </tbody>\n",
              "</table>\n",
              "</div>"
            ],
            "text/plain": [
              "                                      mAP  All 0.50  ...    medium     small\n",
              "MTCNN                            0.133329  0.228585  ...  0.518723  0.103795\n",
              "800k                             0.238252  0.433512  ...  0.749513  0.310390\n",
              "BN_800k                          0.284875  0.503125  ...  0.838339  0.361031\n",
              "faster_rcnn_R_50_FPN_3x          0.287271  0.509173  ...  0.872292  0.351544\n",
              "BN_Mish_V3_80+_30k               0.299488  0.526117  ...  0.858282  0.385726\n",
              "BN_Mish_V2_250+F_2_50k           0.312105  0.553373  ...  0.877947  0.415864\n",
              "scratch_faster_rcnn_R_50_FPN_gn  0.324501  0.580318  ...  0.875298  0.454291\n",
              "\n",
              "[7 rows x 5 columns]"
            ]
          },
          "metadata": {
            "tags": []
          },
          "execution_count": 15
        }
      ]
    },
    {
      "cell_type": "markdown",
      "metadata": {
        "id": "3QueTGbZRnAQ",
        "colab_type": "text"
      },
      "source": [
        "Wynik dla FACES_DD"
      ]
    },
    {
      "cell_type": "code",
      "metadata": {
        "id": "lqKFvX3BQ2xc",
        "colab_type": "code",
        "colab": {
          "base_uri": "https://localhost:8080/",
          "height": 269
        },
        "outputId": "707488fb-e285-4ab0-83df-56dd9c0161da"
      },
      "source": [
        "df_mAP_FACES_DD"
      ],
      "execution_count": 14,
      "outputs": [
        {
          "output_type": "execute_result",
          "data": {
            "text/html": [
              "<div>\n",
              "<style scoped>\n",
              "    .dataframe tbody tr th:only-of-type {\n",
              "        vertical-align: middle;\n",
              "    }\n",
              "\n",
              "    .dataframe tbody tr th {\n",
              "        vertical-align: top;\n",
              "    }\n",
              "\n",
              "    .dataframe thead th {\n",
              "        text-align: right;\n",
              "    }\n",
              "</style>\n",
              "<table border=\"1\" class=\"dataframe\">\n",
              "  <thead>\n",
              "    <tr style=\"text-align: right;\">\n",
              "      <th></th>\n",
              "      <th>mAP</th>\n",
              "      <th>All 0.50</th>\n",
              "      <th>large</th>\n",
              "      <th>medium</th>\n",
              "      <th>small</th>\n",
              "    </tr>\n",
              "  </thead>\n",
              "  <tbody>\n",
              "    <tr>\n",
              "      <th>MTCNN</th>\n",
              "      <td>0.465178</td>\n",
              "      <td>0.628649</td>\n",
              "      <td>0.660909</td>\n",
              "      <td>0.542096</td>\n",
              "      <td>0.464101</td>\n",
              "    </tr>\n",
              "    <tr>\n",
              "      <th>800k</th>\n",
              "      <td>0.481014</td>\n",
              "      <td>0.731359</td>\n",
              "      <td>0.777617</td>\n",
              "      <td>0.633790</td>\n",
              "      <td>0.410361</td>\n",
              "    </tr>\n",
              "    <tr>\n",
              "      <th>faster_rcnn_R_50_FPN_3x</th>\n",
              "      <td>0.602236</td>\n",
              "      <td>0.897930</td>\n",
              "      <td>0.964779</td>\n",
              "      <td>0.719939</td>\n",
              "      <td>0.465102</td>\n",
              "    </tr>\n",
              "    <tr>\n",
              "      <th>BN_800k</th>\n",
              "      <td>0.612444</td>\n",
              "      <td>0.898214</td>\n",
              "      <td>0.957840</td>\n",
              "      <td>0.748719</td>\n",
              "      <td>0.525535</td>\n",
              "    </tr>\n",
              "    <tr>\n",
              "      <th>scratch_faster_rcnn_R_50_FPN_gn</th>\n",
              "      <td>0.584328</td>\n",
              "      <td>0.916883</td>\n",
              "      <td>0.963875</td>\n",
              "      <td>0.806975</td>\n",
              "      <td>0.543409</td>\n",
              "    </tr>\n",
              "    <tr>\n",
              "      <th>BN_Mish_V3_80+_30k</th>\n",
              "      <td>0.628391</td>\n",
              "      <td>0.917763</td>\n",
              "      <td>0.967092</td>\n",
              "      <td>0.815184</td>\n",
              "      <td>0.506664</td>\n",
              "    </tr>\n",
              "    <tr>\n",
              "      <th>BN_Mish_V2_250+F_2_50k</th>\n",
              "      <td>0.626479</td>\n",
              "      <td>0.929601</td>\n",
              "      <td>0.972834</td>\n",
              "      <td>0.821471</td>\n",
              "      <td>0.609895</td>\n",
              "    </tr>\n",
              "  </tbody>\n",
              "</table>\n",
              "</div>"
            ],
            "text/plain": [
              "                                      mAP  All 0.50  ...    medium     small\n",
              "MTCNN                            0.465178  0.628649  ...  0.542096  0.464101\n",
              "800k                             0.481014  0.731359  ...  0.633790  0.410361\n",
              "faster_rcnn_R_50_FPN_3x          0.602236  0.897930  ...  0.719939  0.465102\n",
              "BN_800k                          0.612444  0.898214  ...  0.748719  0.525535\n",
              "scratch_faster_rcnn_R_50_FPN_gn  0.584328  0.916883  ...  0.806975  0.543409\n",
              "BN_Mish_V3_80+_30k               0.628391  0.917763  ...  0.815184  0.506664\n",
              "BN_Mish_V2_250+F_2_50k           0.626479  0.929601  ...  0.821471  0.609895\n",
              "\n",
              "[7 rows x 5 columns]"
            ]
          },
          "metadata": {
            "tags": []
          },
          "execution_count": 14
        }
      ]
    },
    {
      "cell_type": "markdown",
      "metadata": {
        "id": "FmGymPuUQcAi",
        "colab_type": "text"
      },
      "source": [
        "### COCO AP"
      ]
    },
    {
      "cell_type": "markdown",
      "metadata": {
        "id": "thY6QM4mRb_j",
        "colab_type": "text"
      },
      "source": [
        "Wynik dla FDDB"
      ]
    },
    {
      "cell_type": "code",
      "metadata": {
        "id": "RuMu7C8ERCdR",
        "colab_type": "code",
        "colab": {
          "base_uri": "https://localhost:8080/",
          "height": 237
        },
        "outputId": "f555a218-d37b-45d0-e968-9c9f27f7aba9"
      },
      "source": [
        "df_AP_FDDB"
      ],
      "execution_count": 16,
      "outputs": [
        {
          "output_type": "execute_result",
          "data": {
            "text/html": [
              "<div>\n",
              "<style scoped>\n",
              "    .dataframe tbody tr th:only-of-type {\n",
              "        vertical-align: middle;\n",
              "    }\n",
              "\n",
              "    .dataframe tbody tr th {\n",
              "        vertical-align: top;\n",
              "    }\n",
              "\n",
              "    .dataframe thead th {\n",
              "        text-align: right;\n",
              "    }\n",
              "</style>\n",
              "<table border=\"1\" class=\"dataframe\">\n",
              "  <thead>\n",
              "    <tr style=\"text-align: right;\">\n",
              "      <th></th>\n",
              "      <th>AP</th>\n",
              "      <th>AP50</th>\n",
              "      <th>AP75</th>\n",
              "      <th>APs</th>\n",
              "      <th>APm</th>\n",
              "      <th>APl</th>\n",
              "    </tr>\n",
              "  </thead>\n",
              "  <tbody>\n",
              "    <tr>\n",
              "      <th>800k</th>\n",
              "      <td>19.019075</td>\n",
              "      <td>57.739784</td>\n",
              "      <td>3.562887</td>\n",
              "      <td>13.693709</td>\n",
              "      <td>25.407776</td>\n",
              "      <td>17.908660</td>\n",
              "    </tr>\n",
              "    <tr>\n",
              "      <th>BN_Mish_V2_250+F_2_50k</th>\n",
              "      <td>37.604153</td>\n",
              "      <td>90.541335</td>\n",
              "      <td>10.509456</td>\n",
              "      <td>19.019576</td>\n",
              "      <td>32.083840</td>\n",
              "      <td>42.632895</td>\n",
              "    </tr>\n",
              "    <tr>\n",
              "      <th>scratch_faster_rcnn_R_50_FPN_gn</th>\n",
              "      <td>37.811685</td>\n",
              "      <td>89.204056</td>\n",
              "      <td>14.963983</td>\n",
              "      <td>16.882938</td>\n",
              "      <td>31.184698</td>\n",
              "      <td>44.683578</td>\n",
              "    </tr>\n",
              "    <tr>\n",
              "      <th>faster_rcnn_R_50_FPN_3x</th>\n",
              "      <td>39.450135</td>\n",
              "      <td>91.435634</td>\n",
              "      <td>14.762144</td>\n",
              "      <td>18.345349</td>\n",
              "      <td>34.032336</td>\n",
              "      <td>45.124748</td>\n",
              "    </tr>\n",
              "    <tr>\n",
              "      <th>BN_Mish_V3_80+_30k</th>\n",
              "      <td>39.490323</td>\n",
              "      <td>90.495200</td>\n",
              "      <td>15.789375</td>\n",
              "      <td>18.186023</td>\n",
              "      <td>32.996425</td>\n",
              "      <td>46.237979</td>\n",
              "    </tr>\n",
              "    <tr>\n",
              "      <th>BN_800k</th>\n",
              "      <td>39.692626</td>\n",
              "      <td>89.397019</td>\n",
              "      <td>18.394331</td>\n",
              "      <td>18.949486</td>\n",
              "      <td>32.746256</td>\n",
              "      <td>46.565123</td>\n",
              "    </tr>\n",
              "  </tbody>\n",
              "</table>\n",
              "</div>"
            ],
            "text/plain": [
              "                                        AP       AP50  ...        APm        APl\n",
              "800k                             19.019075  57.739784  ...  25.407776  17.908660\n",
              "BN_Mish_V2_250+F_2_50k           37.604153  90.541335  ...  32.083840  42.632895\n",
              "scratch_faster_rcnn_R_50_FPN_gn  37.811685  89.204056  ...  31.184698  44.683578\n",
              "faster_rcnn_R_50_FPN_3x          39.450135  91.435634  ...  34.032336  45.124748\n",
              "BN_Mish_V3_80+_30k               39.490323  90.495200  ...  32.996425  46.237979\n",
              "BN_800k                          39.692626  89.397019  ...  32.746256  46.565123\n",
              "\n",
              "[6 rows x 6 columns]"
            ]
          },
          "metadata": {
            "tags": []
          },
          "execution_count": 16
        }
      ]
    },
    {
      "cell_type": "markdown",
      "metadata": {
        "id": "8Ch3VO7zRiqS",
        "colab_type": "text"
      },
      "source": [
        "Wynik dla WIDER FACE"
      ]
    },
    {
      "cell_type": "code",
      "metadata": {
        "id": "3DtzlxIURClG",
        "colab_type": "code",
        "colab": {
          "base_uri": "https://localhost:8080/",
          "height": 237
        },
        "outputId": "9ec638eb-6aec-4bac-ee7b-f33a054866be"
      },
      "source": [
        "df_AP_WIDERFACE"
      ],
      "execution_count": 17,
      "outputs": [
        {
          "output_type": "execute_result",
          "data": {
            "text/html": [
              "<div>\n",
              "<style scoped>\n",
              "    .dataframe tbody tr th:only-of-type {\n",
              "        vertical-align: middle;\n",
              "    }\n",
              "\n",
              "    .dataframe tbody tr th {\n",
              "        vertical-align: top;\n",
              "    }\n",
              "\n",
              "    .dataframe thead th {\n",
              "        text-align: right;\n",
              "    }\n",
              "</style>\n",
              "<table border=\"1\" class=\"dataframe\">\n",
              "  <thead>\n",
              "    <tr style=\"text-align: right;\">\n",
              "      <th></th>\n",
              "      <th>AP</th>\n",
              "      <th>AP50</th>\n",
              "      <th>AP75</th>\n",
              "      <th>APs</th>\n",
              "      <th>APm</th>\n",
              "      <th>APl</th>\n",
              "    </tr>\n",
              "  </thead>\n",
              "  <tbody>\n",
              "    <tr>\n",
              "      <th>800k</th>\n",
              "      <td>23.100826</td>\n",
              "      <td>42.814369</td>\n",
              "      <td>22.892047</td>\n",
              "      <td>14.973300</td>\n",
              "      <td>45.492286</td>\n",
              "      <td>40.228140</td>\n",
              "    </tr>\n",
              "    <tr>\n",
              "      <th>BN_800k</th>\n",
              "      <td>27.766038</td>\n",
              "      <td>49.522419</td>\n",
              "      <td>28.706231</td>\n",
              "      <td>17.277936</td>\n",
              "      <td>52.528106</td>\n",
              "      <td>60.480344</td>\n",
              "    </tr>\n",
              "    <tr>\n",
              "      <th>faster_rcnn_R_50_FPN_3x</th>\n",
              "      <td>27.965053</td>\n",
              "      <td>50.158303</td>\n",
              "      <td>28.700977</td>\n",
              "      <td>16.475099</td>\n",
              "      <td>55.023554</td>\n",
              "      <td>64.620984</td>\n",
              "    </tr>\n",
              "    <tr>\n",
              "      <th>BN_Mish_V3_80+_30k</th>\n",
              "      <td>29.157098</td>\n",
              "      <td>51.745406</td>\n",
              "      <td>30.291263</td>\n",
              "      <td>18.596021</td>\n",
              "      <td>53.954390</td>\n",
              "      <td>62.016662</td>\n",
              "    </tr>\n",
              "    <tr>\n",
              "      <th>BN_Mish_V2_250+F_2_50k</th>\n",
              "      <td>30.202843</td>\n",
              "      <td>54.445577</td>\n",
              "      <td>31.129081</td>\n",
              "      <td>19.483793</td>\n",
              "      <td>55.288928</td>\n",
              "      <td>63.485808</td>\n",
              "    </tr>\n",
              "    <tr>\n",
              "      <th>scratch_faster_rcnn_R_50_FPN_gn</th>\n",
              "      <td>31.400140</td>\n",
              "      <td>57.145298</td>\n",
              "      <td>31.569486</td>\n",
              "      <td>21.637873</td>\n",
              "      <td>53.463648</td>\n",
              "      <td>61.377793</td>\n",
              "    </tr>\n",
              "  </tbody>\n",
              "</table>\n",
              "</div>"
            ],
            "text/plain": [
              "                                        AP       AP50  ...        APm        APl\n",
              "800k                             23.100826  42.814369  ...  45.492286  40.228140\n",
              "BN_800k                          27.766038  49.522419  ...  52.528106  60.480344\n",
              "faster_rcnn_R_50_FPN_3x          27.965053  50.158303  ...  55.023554  64.620984\n",
              "BN_Mish_V3_80+_30k               29.157098  51.745406  ...  53.954390  62.016662\n",
              "BN_Mish_V2_250+F_2_50k           30.202843  54.445577  ...  55.288928  63.485808\n",
              "scratch_faster_rcnn_R_50_FPN_gn  31.400140  57.145298  ...  53.463648  61.377793\n",
              "\n",
              "[6 rows x 6 columns]"
            ]
          },
          "metadata": {
            "tags": []
          },
          "execution_count": 17
        }
      ]
    },
    {
      "cell_type": "markdown",
      "metadata": {
        "id": "CV6C4XQzRj4s",
        "colab_type": "text"
      },
      "source": [
        "Wynik dla FACES_DD"
      ]
    },
    {
      "cell_type": "code",
      "metadata": {
        "id": "ueHaA1AaRCpG",
        "colab_type": "code",
        "colab": {
          "base_uri": "https://localhost:8080/",
          "height": 237
        },
        "outputId": "fcf3f712-6d76-4d53-9638-b7b2ce0de03c"
      },
      "source": [
        "df_AP_FACES_DD"
      ],
      "execution_count": 18,
      "outputs": [
        {
          "output_type": "execute_result",
          "data": {
            "text/html": [
              "<div>\n",
              "<style scoped>\n",
              "    .dataframe tbody tr th:only-of-type {\n",
              "        vertical-align: middle;\n",
              "    }\n",
              "\n",
              "    .dataframe tbody tr th {\n",
              "        vertical-align: top;\n",
              "    }\n",
              "\n",
              "    .dataframe thead th {\n",
              "        text-align: right;\n",
              "    }\n",
              "</style>\n",
              "<table border=\"1\" class=\"dataframe\">\n",
              "  <thead>\n",
              "    <tr style=\"text-align: right;\">\n",
              "      <th></th>\n",
              "      <th>AP</th>\n",
              "      <th>AP50</th>\n",
              "      <th>AP75</th>\n",
              "      <th>APs</th>\n",
              "      <th>APm</th>\n",
              "      <th>APl</th>\n",
              "    </tr>\n",
              "  </thead>\n",
              "  <tbody>\n",
              "    <tr>\n",
              "      <th>800k</th>\n",
              "      <td>47.816123</td>\n",
              "      <td>72.677722</td>\n",
              "      <td>56.967739</td>\n",
              "      <td>21.091884</td>\n",
              "      <td>39.939450</td>\n",
              "      <td>51.833139</td>\n",
              "    </tr>\n",
              "    <tr>\n",
              "      <th>scratch_faster_rcnn_R_50_FPN_gn</th>\n",
              "      <td>58.026158</td>\n",
              "      <td>90.890998</td>\n",
              "      <td>68.152459</td>\n",
              "      <td>30.737158</td>\n",
              "      <td>49.704715</td>\n",
              "      <td>62.094925</td>\n",
              "    </tr>\n",
              "    <tr>\n",
              "      <th>faster_rcnn_R_50_FPN_3x</th>\n",
              "      <td>59.622354</td>\n",
              "      <td>88.986689</td>\n",
              "      <td>71.299025</td>\n",
              "      <td>26.155882</td>\n",
              "      <td>44.176127</td>\n",
              "      <td>65.812254</td>\n",
              "    </tr>\n",
              "    <tr>\n",
              "      <th>BN_800k</th>\n",
              "      <td>60.860485</td>\n",
              "      <td>89.135235</td>\n",
              "      <td>73.142493</td>\n",
              "      <td>28.692148</td>\n",
              "      <td>47.828671</td>\n",
              "      <td>66.596196</td>\n",
              "    </tr>\n",
              "    <tr>\n",
              "      <th>BN_Mish_V2_250+F_2_50k</th>\n",
              "      <td>62.258940</td>\n",
              "      <td>92.213344</td>\n",
              "      <td>76.321549</td>\n",
              "      <td>33.268187</td>\n",
              "      <td>51.571792</td>\n",
              "      <td>66.904200</td>\n",
              "    </tr>\n",
              "    <tr>\n",
              "      <th>BN_Mish_V3_80+_30k</th>\n",
              "      <td>62.476118</td>\n",
              "      <td>91.280964</td>\n",
              "      <td>75.308968</td>\n",
              "      <td>30.584904</td>\n",
              "      <td>51.697124</td>\n",
              "      <td>67.475040</td>\n",
              "    </tr>\n",
              "  </tbody>\n",
              "</table>\n",
              "</div>"
            ],
            "text/plain": [
              "                                        AP       AP50  ...        APm        APl\n",
              "800k                             47.816123  72.677722  ...  39.939450  51.833139\n",
              "scratch_faster_rcnn_R_50_FPN_gn  58.026158  90.890998  ...  49.704715  62.094925\n",
              "faster_rcnn_R_50_FPN_3x          59.622354  88.986689  ...  44.176127  65.812254\n",
              "BN_800k                          60.860485  89.135235  ...  47.828671  66.596196\n",
              "BN_Mish_V2_250+F_2_50k           62.258940  92.213344  ...  51.571792  66.904200\n",
              "BN_Mish_V3_80+_30k               62.476118  91.280964  ...  51.697124  67.475040\n",
              "\n",
              "[6 rows x 6 columns]"
            ]
          },
          "metadata": {
            "tags": []
          },
          "execution_count": 18
        }
      ]
    },
    {
      "cell_type": "markdown",
      "metadata": {
        "id": "sQHTrcElQcCv",
        "colab_type": "text"
      },
      "source": [
        "## Wnioski"
      ]
    },
    {
      "cell_type": "markdown",
      "metadata": {
        "id": "OwJNHb2cRHBN",
        "colab_type": "text"
      },
      "source": [
        "<br>"
      ]
    }
  ]
}