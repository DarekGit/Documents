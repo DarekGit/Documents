{
  "nbformat": 4,
  "nbformat_minor": 0,
  "metadata": {
    "anaconda-cloud": {},
    "kernelspec": {
      "display_name": "Python 3",
      "language": "python",
      "name": "python3"
    },
    "language_info": {
      "codemirror_mode": {
        "name": "ipython",
        "version": 3
      },
      "file_extension": ".py",
      "mimetype": "text/x-python",
      "name": "python",
      "nbconvert_exporter": "python",
      "pygments_lexer": "ipython3",
      "version": "3.5.1"
    },
    "colab": {
      "name": "Praca Dyplomowa.ipynb",
      "provenance": [],
      "collapsed_sections": [],
      "include_colab_link": true
    }
  },
  "cells": [
    {
      "cell_type": "markdown",
      "metadata": {
        "id": "view-in-github",
        "colab_type": "text"
      },
      "source": [
        "<a href=\"https://colab.research.google.com/github/DarekGit/FACES_DNN/blob/master/notebooks/Praca_Dyplomowa.ipynb\" target=\"_parent\"><img src=\"https://colab.research.google.com/assets/colab-badge.svg\" alt=\"Open In Colab\"/></a>"
      ]
    },
    {
      "cell_type": "markdown",
      "metadata": {
        "id": "wgODwqpLI2fc",
        "colab_type": "text"
      },
      "source": [
        "<img src=\"https://raw.githubusercontent.com/DarekGit/FACES_DNN/master/Figures/Zrzut%20ekranu%202020-06-02.jpg\" alt=\"drawing\" width=\"400\"/>"
      ]
    },
    {
      "cell_type": "markdown",
      "metadata": {
        "id": "en5qybg3KWoT",
        "colab_type": "text"
      },
      "source": [
        "# [Detekcja twarzy z wykorzystaniem współczesnych architektur głębokich sieci neuronowych](https://github.com/DarekGit/FACES_DNN/blob/master/notebooks/Praca_Dyplomowa.ipynb)\n"
      ]
    },
    {
      "cell_type": "markdown",
      "metadata": {
        "id": "lR6GC9gJvZ4T",
        "colab_type": "text"
      },
      "source": [
        "1. [Wstęp](01_00_Wstep.ipynb)   $\\color{green}{ok}$\n",
        "1. [Metryki oceny detekcji](03_00_Miary.ipynb)  $\\color{green}{do\\ sprawdzenia}$\n",
        "1. [Bazy danych](02_00_Datasety.ipynb)           $\\color{green}{ok}$\n",
        "  1. [FDDB](02_01_FDDB.ipynb)                   $\\color{green}{ok}$\n",
        "  1. [WIDER FACE](02_02_WIDER_FACE.ipynb)       $\\color{green}{ok}$\n",
        "  1. [FACES_DD](02_03_FACES_DD.ipynb)           $\\color{green}{ok}$\n",
        "1. [Przegląd metod detekcji](04_00_Modele.ipynb) $\\color{green}{dokonczyc}$\n",
        "  1. [YOLO](04_00_Modele.ipynb)\n",
        "  1. [SSD (Single Shot Multibox Detector)](04_00_Modele.ipynb)\n",
        "  1. [R-CNN (Region-based Convolutional Neural Networks)](04_00_Modele.ipynb)\n",
        "  1. [Fast R-CNN](04_00_Modele.ipynb)\n",
        "  1. [Faster R-CNN](04_00_Modele.ipynb)\n",
        "  1. [RetinaNet](04_00_Modele.ipynb)\n",
        "  1. [DE⫶TR (DEtection TRansformer)](04_00_Modele.ipynb)\n",
        "  1. [MTCNN (Multi-task Cascaded Convolutional Networks)](04_00_Modele.ipynb)\n",
        "1. [Detekcja twarzy z wykorzystaniem wybranych architektur GNN](05_00_Modyfikacje.ipynb)\n",
        "  1. [DETECTRON2](4_03_DETECTRON2.ipynb)             $\\color{green}{w\\ trakcie}$\n",
        "  1. [MOBILENETV2](04_04_MOBILENETV2.ipynb)           $\\color{green}{done}$\n",
        "    1. [FrozenBN Mish](05_01_FrozenBN_Mishc.ipynb)      $\\color{green}{done}$\n",
        "  1. [Porównanie modeli](05_03_Porownanie.ipynb)      $\\color{red}{brak}$\n",
        "      1. [Wyniki na zbiorze WIDER FACE](05_03_01_WIDERFACE_TEST.ipynb) $\\color{red}{poprawic}$\n",
        "      1. [Wyniki na zbiorze FDDB](05_03_01_FDDB_TEST.ipynb)            $\\color{red}{poprawic}$\n",
        "      1. [Wyniki na zbiorze FACES_DD](05_03_01_FACES_DD_TEST.ipynb)    $\\color{red}{brak}$\n",
        "  1. [Uwagi praktyczne](Uwagi_praktyczne.ipynb)       $\\color{green}{done}$\n",
        "  1. [Eksport modelu](06_00_Eksport_modelu.ipynb) $\\color{green}{uzupelnic}$\n",
        "    1. [ONNX/jit/Caffe export](06_01_mobilenet_ONNX_export.ipynb)   $\\color{green}{uzupelnic}$\n",
        "1. [Podsumowanie i wnioski](07_00_Podsumowanie.ipynb) $\\color{red}{brak}$\n",
        "1. [Bibliografia](Bibliografia.ipynb)           $\\color{green}{w\\ trakcie}$\n",
        "\n",
        "<br>"
      ]
    },
    {
      "cell_type": "markdown",
      "metadata": {
        "id": "fORyIP6h3W1Z",
        "colab_type": "text"
      },
      "source": [
        "1. Item 1\n",
        "1. Item 2\n",
        "1. Item 3\n",
        "   1. Item 3a\n",
        "   1. Item 3b"
      ]
    },
    {
      "cell_type": "markdown",
      "metadata": {
        "id": "2GuuGInY_smI",
        "colab_type": "text"
      },
      "source": [
        "------------"
      ]
    }
  ]
}