{
  "nbformat": 4,
  "nbformat_minor": 0,
  "metadata": {
    "anaconda-cloud": {},
    "kernelspec": {
      "display_name": "Python 3",
      "language": "python",
      "name": "python3"
    },
    "language_info": {
      "codemirror_mode": {
        "name": "ipython",
        "version": 3
      },
      "file_extension": ".py",
      "mimetype": "text/x-python",
      "name": "python",
      "nbconvert_exporter": "python",
      "pygments_lexer": "ipython3",
      "version": "3.5.1"
    },
    "colab": {
      "name": "Praca Dyplomowa.ipynb",
      "provenance": [],
      "collapsed_sections": [],
      "include_colab_link": true
    }
  },
  "cells": [
    {
      "cell_type": "markdown",
      "metadata": {
        "id": "view-in-github",
        "colab_type": "text"
      },
      "source": [
        "<a href=\"https://colab.research.google.com/github/DarekGit/FACES_DNN/blob/master/notebooks/Praca_Dyplomowa.ipynb\" target=\"_parent\"><img src=\"https://colab.research.google.com/assets/colab-badge.svg\" alt=\"Open In Colab\"/></a>"
      ]
    },
    {
      "cell_type": "markdown",
      "metadata": {
        "id": "wgODwqpLI2fc",
        "colab_type": "text"
      },
      "source": [
        "<img src=\"https://raw.githubusercontent.com/DarekGit/FACES_DNN/master/Figures/Zrzut%20ekranu%202020-06-02.jpg\" alt=\"drawing\" width=\"400\"/>"
      ]
    },
    {
      "cell_type": "markdown",
      "metadata": {
        "id": "en5qybg3KWoT",
        "colab_type": "text"
      },
      "source": [
        "## [Detekcja twarzy z wykorzystaniem współczesnych architektur głębokich sieci neuronowych](https://github.com/DarekGit/FACES_DNN/blob/master/notebooks/Praca_Dyplomowa.ipynb)\n"
      ]
    },
    {
      "cell_type": "markdown",
      "metadata": {
        "id": "lR6GC9gJvZ4T",
        "colab_type": "text"
      },
      "source": [
        "1. [Wstęp](01_00_Wstep.ipynb)   $\\color{green}{ok}$ <br>\n",
        "1. [Metryki oceny detekcji](02_00_Miary.ipynb)  $\\color{green}{ok}$<br>\n",
        "1. [Bazy danych](03_00_Datasety.ipynb)           $\\color{green}{ok}$<br>\n",
        "  3.1. [FDDB](03_01_FDDB.ipynb)                 $\\color{green}{ok}$  <br>\n",
        "  3.2. [WIDER FACE](03_02_WIDER_FACE.ipynb)     $\\color{green}{ok}$<br>\n",
        "  3.3. [FACES_DD](03_03_FACES_DD.ipynb)           $\\color{green}{ok}$<br>\n",
        "1. [Przegląd metod detekcji](04_00_Modele.ipynb) $\\color{green}{dokonczyc}$<br>\n",
        "  4.1. [YOLO](04_00_Modele.ipynb)<br>\n",
        "  4.2. [SSD (Single Shot Multibox Detector)](04_00_Modele.ipynb)<br>\n",
        "  4.3. [R-CNN (Region-based Convolutional Neural Networks)](04_00_Modele.ipynb)<br>\n",
        "  4.4. [Fast R-CNN](04_00_Modele.ipynb)<br>\n",
        "  4.5. [Faster R-CNN](04_00_Modele.ipynb)<br>\n",
        "  4.6. [RetinaNet](04_00_Modele.ipynb)<br>\n",
        "  4.7. [DE⫶TR (DEtection TRansformer)](04_00_Modele.ipynb)<br>\n",
        "  4.8. [MTCNN (Multi-task Cascaded Convolutional Networks)](04_00_Modele.ipynb)<br>\n",
        "  4.9. [Spatial Pyramid Pooling](04_00_Modele.ipynb)<br>\n",
        "  4.10. [Region-based Fully Convolutional Network](04_00_Modele.ipynb)<br>\n",
        "1. [Detekcja twarzy z wykorzystaniem wybranych architektur GSN](05_00_Modyfikacje.ipynb)<br>\n",
        "  5.1. [DETECTRON2](05_01_DETECTRON2.ipynb)             $\\color{green}{w\\ trakcie}$<br>\n",
        "  5.2. [MOBILENETV2](05_02_MOBILENETV2.ipynb)          $\\color{green}{done}$<br>\n",
        "  5.3. [FrozenBN Mish](05_03_FrozenBN_Mish.ipynb)   $\\color{green}{done}$<br>\n",
        "  5.4. [Uwagi praktyczne](Uwagi_praktyczne.ipynb)       $\\color{green}{done}$<br>\n",
        "  5.5. [Procedura treningu](05_05_TRAINING.ipynb)       $\\color{green}{UZUPELNI C}$<br>\n",
        "1. [Porównanie modeli](06_00_Porownanie.ipynb)     $\\color{red}{brak}$<br>\n",
        "      6.1. [Wyniki na zbiorze WIDER FACE](06_01_WIDERFACE_TEST.ipynb) $\\color{red}{poprawic}$<br>\n",
        "      6.2. [Wyniki na zbiorze FDDB](06_02_FDDB_TEST.ipynb)            $\\color{red}{poprawic}$<br>\n",
        "      6.3. [Wyniki na zbiorze FACES_DD](06_03_FACES_DD_TEST.ipynb)    $\\color{red}{brak}$<br>\n",
        "1. [Eksport modelu](07_00_Eksport_modelu.ipynb) $\\color{green}{uzupelnic}$<br>\n",
        "  7.1. [ONNX/jit/Caffe export](07_01_mobilenet_ONNX_export.ipynb)   $\\color{green}{uzupelnic}$<br>\n",
        "1. [Podsumowanie i wnioski](07_00_Podsumowanie.ipynb) $\\color{red}{brak}$<br>\n",
        "1. [Bibliografia](Bibliografia.ipynb)           $\\color{green}{w\\ trakcie}$<br>\n",
        "<br>\n",
        "<br>"
      ]
    },
    {
      "cell_type": "markdown",
      "metadata": {
        "id": "2GuuGInY_smI",
        "colab_type": "text"
      },
      "source": [
        "------------"
      ]
    }
  ]
}