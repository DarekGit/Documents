{
  "nbformat": 4,
  "nbformat_minor": 0,
  "metadata": {
    "anaconda-cloud": {},
    "kernelspec": {
      "display_name": "Python 3",
      "language": "python",
      "name": "python3"
    },
    "language_info": {
      "codemirror_mode": {
        "name": "ipython",
        "version": 3
      },
      "file_extension": ".py",
      "mimetype": "text/x-python",
      "name": "python",
      "nbconvert_exporter": "python",
      "pygments_lexer": "ipython3",
      "version": "3.5.1"
    },
    "colab": {
      "name": "Praca Dyplomowa.ipynb",
      "provenance": [],
      "collapsed_sections": [],
      "include_colab_link": true
    }
  },
  "cells": [
    {
      "cell_type": "markdown",
      "metadata": {
        "id": "view-in-github",
        "colab_type": "text"
      },
      "source": [
        "<a href=\"https://colab.research.google.com/github/DarekGit/FACES_DNN/blob/master/notebooks/Praca_Dyplomowa.ipynb\" target=\"_parent\"><img src=\"https://colab.research.google.com/assets/colab-badge.svg\" alt=\"Open In Colab\"/></a>"
      ]
    },
    {
      "cell_type": "markdown",
      "metadata": {
        "id": "wgODwqpLI2fc",
        "colab_type": "text"
      },
      "source": [
        "<img src=\"https://github.com/DarekGit/FACES_DNN/blob/master/Figures/Zrzut%20ekranu%202020-06-02.png?raw=1\" alt=\"drawing\" width=\"400\"/>"
      ]
    },
    {
      "cell_type": "markdown",
      "metadata": {
        "id": "en5qybg3KWoT",
        "colab_type": "text"
      },
      "source": [
        "# [Detekcja twarzy z wykorzystaniem współczesnych architektur głębokich sieci neuronowych](https://github.com/DarekGit/FACES_DNN/blob/master/notebooks/Praca_Dyplomowa.ipynb)\n"
      ]
    },
    {
      "cell_type": "markdown",
      "metadata": {
        "id": "j46ojaI1MaTi",
        "colab_type": "text"
      },
      "source": [
        "### [1. Wstep](01_00_Wstep.ipynb) $\\color{red}{cos-jest-ale-malo..}$\n",
        "- [Definicja problemu](01_01_.ipynb) $\\color{red}{brak}$\n",
        "\n",
        "### [2. Miary ewaluacji modeli](03_00_Miary.ipynb) $\\color{red}{poprawic}$\n",
        "- [mAP](03_01_mAP.ipynb) $\\color{red}{musza-byc-opisy}$\n",
        "\n",
        "### [3. Bazy danych](02_00_Datasety.ipynb)\n",
        "- [FDDB](02_01_FDDB.ipynb) $\\color{green}{ok}$\n",
        "- [WIDER FACE](02_02_WIDER_FACE.ipynb) $\\color{green}{skonczyć}$\n",
        "- [FACES_DD](02_03_FACES_DD.ipynb) $\\color{red}{brak}$\n",
        "\n",
        "### [4. Przegląd metod detekcji](04_00_Modele.ipynb) $\\color{red}{brak}$\n",
        "- [MTCNN](04_01_MTCNN.ipynb) $\\color{red}{brak}$\n",
        "- [MMDETECTION](04_02_MMDETECTION.ipynb) $\\color{red}{kosz}$\n",
        "- [MOBILENETV2](04_04_MOBILENETV2.ipynb) $\\color{red}{brak}$\n",
        "- Faster RCNN i inne  $\\color{red}{brak}$\n",
        "\n",
        "### [5. Modyfikacje](05_00_Modyfikacje.ipynb)\n",
        "- [DETECTRON2](4_03_DETECTRON2.ipynb) $\\color{green}{w-trakcie}$\n",
        "- [FrozenBN Mish](05_01_FrozenBN_Mishc.ipynb) $\\color{red}{brak}$\n",
        "- [Mish](05_02_Mish.ipynb) $\\color{red}{brak}$\n",
        "- [Porównanie modeli](05_03_Porownanie.ipynb) $\\color{red}{brak}$\n",
        "  - [Wyniki na zbiorze WIDER FACE](05_03_01_WIDERFACE_TEST.ipynb) $\\color{red}{poprawic}$\n",
        "  - [Wyniki na zbiorze FDDB](05_03_01_FDDB_TEST.ipynb) $\\color{red}{poprawic}$\n",
        "  - [Wyniki na zbiorze FACES_DD](05_03_01_FACES_DD_TEST.ipynb) $\\color{red}{brak}$\n",
        "\n",
        "### [6. Eksport modelu](06_00_Eksport_modelu.ipynb) $\\color{red}{brak}$\n",
        "- [ONNX/...](06_01_.ipynb) $\\color{red}{brak}$\n",
        "\n",
        "### [7. Podsumowanie i wnioski](07_00_Podsumowanie.ipynb) $\\color{red}{brak}$\n",
        "\n",
        "### [Bibliografia](Bibliografia.ipynb) $\\color{red}{poprawic}$\n"
      ]
    }
  ]
}