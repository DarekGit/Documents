{
  "nbformat": 4,
  "nbformat_minor": 0,
  "metadata": {
    "anaconda-cloud": {},
    "kernelspec": {
      "display_name": "Python 3",
      "language": "python",
      "name": "python3"
    },
    "language_info": {
      "codemirror_mode": {
        "name": "ipython",
        "version": 3
      },
      "file_extension": ".py",
      "mimetype": "text/x-python",
      "name": "python",
      "nbconvert_exporter": "python",
      "pygments_lexer": "ipython3",
      "version": "3.5.1"
    },
    "colab": {
      "name": "Praca Dyplomowa.ipynb",
      "provenance": [],
      "collapsed_sections": [],
      "include_colab_link": true
    }
  },
  "cells": [
    {
      "cell_type": "markdown",
      "metadata": {
        "id": "view-in-github",
        "colab_type": "text"
      },
      "source": [
        "<a href=\"https://colab.research.google.com/github/DarekGit/FACES_DNN/blob/master/notebooks/Praca_Dyplomowa.ipynb\" target=\"_parent\"><img src=\"https://colab.research.google.com/assets/colab-badge.svg\" alt=\"Open In Colab\"/></a>"
      ]
    },
    {
      "cell_type": "markdown",
      "metadata": {
        "id": "wgODwqpLI2fc",
        "colab_type": "text"
      },
      "source": [
        "<img src=\"https://github.com/DarekGit/FACES_DNN/blob/master/Figures/Zrzut%20ekranu%202020-06-02.png?raw=1\" alt=\"drawing\" width=\"400\"/>"
      ]
    },
    {
      "cell_type": "markdown",
      "metadata": {
        "id": "en5qybg3KWoT",
        "colab_type": "text"
      },
      "source": [
        "# [Detekcja twarzy z wykorzystaniem współczesnych architektur głębokich sieci neuronowych](https://github.com/DarekGit/FACES_DNN/blob/master/notebooks/Praca_Dyplomowa.ipynb)\n"
      ]
    },
    {
      "cell_type": "markdown",
      "metadata": {
        "id": "eydg77jWKWoV",
        "colab_type": "text"
      },
      "source": [
        "### [1. Wstep](01_00_Wstep.ipynb) <br> <font color=red size=3> coś jest ale mało </font>\n",
        "- [Definicja problemu](01_01_.ipynb) <font color=red size=3> brak </font>\n",
        "\n",
        "### [2. Bazy danych](02_00_Datasety.ipynb) <font color=green size=3> malo ale wiecej chyba nie bedzie </font>\n",
        "- [FDDB](02_01_FDDB.ipynb) <font color=green size=3> chyba ok, do sprawdzenia </font>\n",
        "- [WIDER FACE](02_02_WIDER_FACE.ipynb) <font color=green size=3> chyba ok, do sprawdzenia </font> <font color=red size=3> do ogarniecia 02_01_FDDB_DD.ipynb nie wiem co z tym robic i od czego zacząć.. </font>\n",
        "- [FACES_DD](02_03_FACES_DD.ipynb)   <font color=red size=3> brak </font>\n",
        "\n",
        "### [3. Przyjęte miary ewaluacji modeli](03_00_Miary.ipynb)\n",
        "- [mAP](03_01_mAP.ipynb)  <font color=red size=3> brak opisów itp</font>\n",
        "\n",
        "### [4. Przegląd metod detekcji](04_00_Modele.ipynb)\n",
        "- [MTCNN](04_01_MTCNN.ipynb)  <font color=red size=3> brak </font>\n",
        "- [MMDETECTION](04_02_MMDETECTION.ipynb)  <font color=red size=3> do wywalenia? </font>\n",
        "- [DETECTRON2](4_03_DETECTRON2.ipynb)  <font color=green size=3> robię mam moze 20% </font>\n",
        "- [MOBILENETV2](04_04_MOBILENETV2.ipynb)   <font color=red size=3> brak </font>\n",
        "\n",
        "### [5. Modyfikacje](05_00_Modyfikacje.ipynb)\n",
        "- [FrozenBN Mish](05_01_FrozenBN_Mishc.ipynb)  <font color=red size=3> brak </font>\n",
        "- [Mish](05_02_Mish.ipynb) <font color=red size=3> brak </font>\n",
        "- [Porównanie modeli](05_03_Porownanie.ipynb)\n",
        "  - [Wyniki na zbiorze WIDER FACE](05_03_01_WIDERFACE_TEST.ipynb)  <font color=red size=3> do poprawy </font>\n",
        "  - [Wyniki na zbiorze FDDB](05_03_01_FDDB_TEST.ipynb)  <font color=red size=3> do poprawy </font>\n",
        "  - [Wyniki na zbiorze FACES_DD](05_03_01_FACES_DD_TEST.ipynb)  <font color=red size=3> brak </font>\n",
        "\n",
        "### [6. Eksport modelu](06_00_Eksport_modelu.ipynb)\n",
        "- [ONNX/...](06_01_.ipynb)  <font color=red size=3> brak </font>\n",
        " \n",
        "### [7. Podsumowanie i wnioski](07_00_Podsumowanie.ipynb)  <font color=red size=3> brak </font>\n",
        "\n",
        "### [Bibliografia](Bibliografia.ipynb) <font color=green size=3> uzupełniam na bierząco </font\n"
      ]
    },
    {
      "cell_type": "code",
      "metadata": {
        "id": "EdfQbCALM5vy",
        "colab_type": "code",
        "colab": {}
      },
      "source": [
        ""
      ],
      "execution_count": null,
      "outputs": []
    }
  ]
}