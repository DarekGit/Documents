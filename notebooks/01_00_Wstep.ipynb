{
  "nbformat": 4,
  "nbformat_minor": 0,
  "metadata": {
    "colab": {
      "name": "01_00_Wstep.ipynb",
      "provenance": [],
      "toc_visible": true,
      "include_colab_link": true
    },
    "kernelspec": {
      "name": "python3",
      "display_name": "Python 3"
    }
  },
  "cells": [
    {
      "cell_type": "markdown",
      "metadata": {
        "id": "view-in-github",
        "colab_type": "text"
      },
      "source": [
        "<a href=\"https://colab.research.google.com/github/DarekGit/FACES_DNN/blob/master/notebooks/01_00_Wstep.ipynb\" target=\"_parent\"><img src=\"https://colab.research.google.com/assets/colab-badge.svg\" alt=\"Open In Colab\"/></a>"
      ]
    },
    {
      "cell_type": "markdown",
      "metadata": {
        "id": "-xXA_qhbkcSy",
        "colab_type": "text"
      },
      "source": [
        "# [Detekcja twarzy z wykorzystaniem współczesnych architektur głębokich sieci neuronowych](https://github.com/DarekGit/FACES_DNN/blob/master/notebooks/Praca_Dyplomowa.ipynb)\n"
      ]
    },
    {
      "cell_type": "markdown",
      "metadata": {
        "id": "rlZkCmxfmM1l",
        "colab_type": "text"
      },
      "source": [
        "---\n",
        "\n",
        "[Spis treści](https://github.com/DarekGit/FACES_DNN/blob/master/notebooks/Praca_Dyplomowa.ipynb) | [1. Wstęp](01_00_Wstep.ipynb) | [2. Metryki oceny detekcji](02_00_Miary.ipynb) | [3 .Bazy danych](03_00_Datasety.ipynb) | [4. Przegląd metod detekcji](04_00_Modele.ipynb) | [5. Detekcja twarzy z wykorzystaniem wybranych architektur GSN](05_00_Modyfikacje.ipynb) | [6. Porównanie modeli](06_00_Porownanie.ipynb) | [7. Eksport modelu](07_00_Eksport_modelu.ipynb) | [8. Podsumowanie i wnioski](08_00_Podsumowanie.ipynb) | [Bibliografia](Bibliografia.ipynb)\n",
        "\n",
        "\n",
        "---"
      ]
    },
    {
      "cell_type": "markdown",
      "metadata": {
        "id": "0riVYOL_kf_W",
        "colab_type": "text"
      },
      "source": [
        "## [1. Wstęp](01_00_Wstep.ipynb)"
      ]
    },
    {
      "cell_type": "markdown",
      "metadata": {
        "id": "LUvXq3l3-ICV",
        "colab_type": "text"
      },
      "source": [
        "Wykrywanie twarzy - Face detection lub Facial Detection- to technologia\n",
        "komputerowa oparta na sztucznej inteligencji (AI), używana do znajdowania i\n",
        "identyfikowania ludzkich twarzy w obrazach cyfrowych. Technologię\n",
        "wykrywania twarzy można zastosować w różnych dziedzinach - w tym w\n",
        "ochronie, biometrii, egzekwowaniu prawa, rozrywce i bezpieczeństwie\n",
        "osobistym - w celu zapewnienia nadzoru i śledzenia osób w czasie\n",
        "rzeczywistym.\n",
        "\n",
        "<br>Wykrywanie twarzy przeszło od podstawowych technik widzenia\n",
        "komputerowego (computer vision ) poprzez uczenie maszynowe (ML) do coraz\n",
        "bardziej wyrafinowanych sztucznych sieci neuronowych (ANN) i powiązanych\n",
        "technologii; wynikiem jest ciągła poprawa wydajności. Odgrywa teraz ważną\n",
        "rolę jako pierwszy krok w wielu kluczowych zastosowaniach - w tym śledzenie\n",
        "twarzy, analiza twarzy i rozpoznawanie twarzy. Wykrywanie twarzy ma istotny\n",
        "wpływ na sposób wykonywania operacji sekwencyjnych w aplikacjach.\n",
        "W analizie twarzy wykrywanie twarzy pomaga określić, na których częściach\n",
        "obrazu lub wideo należy się skupić, aby określić wiek, płeć i emocje za pomocą\n",
        "wyrazu twarzy.\n",
        "\n",
        "<br>Jak działa wykrywanie twarzy.\n",
        "<br>Aplikacje do wykrywania twarzy używają algorytmów i ML do znajdowania\n",
        "ludzkich twarzy w obrazach, które często zawierają inne obiekty inne niż\n",
        "twarze, takie jak krajobrazy, budynki i inne części ludzkiego ciała, takie jak\n",
        "stopy lub dłonie. Algorytmy wykrywania twarzy zwykle rozpoczynają się od\n",
        "wyszukania ludzkich oczu - jednej z najłatwiejszych do wykrycia cech.\n",
        "Algorytm może wówczas podjąć próbę wykrycia brwi, ust, nosa, nozdrzy i\n",
        "tęczówki. Gdy algorytm stwierdzi, że znalazł obszar twarzy, stosuje dodatkowe\n",
        "testy, aby potwierdzić, że w rzeczywistości wykrył twarz.\n",
        "Aby zapewnić dokładność, algorytmy muszą zostać przeszkolone na dużych\n",
        "zbiorach danych zawierających setki tysięcy pozytywnych i negatywnych\n",
        "obrazów. Szkolenie poprawia zdolność algorytmów do określania, czy na\n",
        "obrazie znajdują się twarze i gdzie się znajdują.\n",
        "<br>Metody stosowane do wykrywania twarzy mogą opierać się na wiedzy,\n",
        "cechach, dopasowywaniu szablonów lub wyglądzie. Każdy ma zalety i wady:\n",
        "Metody oparte na wiedzy lub regułach opisują twarz w oparciu o reguły.\n",
        "Wyzwaniem dla tego podejścia jest trudność w wymyśleniu dobrze\n",
        "zdefiniowanych reguł.\n",
        "Zakłócenia i oświetelenie mogą negatywnie wpływać na metody oparte na\n",
        "niezmiennych cechach - wykorzystujące takie cechy, jak oczy lub nos osoby do\n",
        "wykrywania twarzy.\n",
        "<br>Metody dopasowywania szablonów opierają się na porównywaniu obrazów ze\n",
        "standardowymi wzorami twarzy lub cechami, które zostały wcześniej zapisane i\n",
        "skorelowaniu ich w celu wykrycia twarzy. Niestety metody te nie uwzględniają\n",
        "różnic w pozie, skali i kształcie.\n",
        "Metody oparte na wyglądzie wykorzystują analizę statystyczną i uczenie\n",
        "maszynowe, aby znaleźć odpowiednie cechy obrazów twarzy. Ta metoda,\n",
        "stosowana również przy wyodrębnianiu cech do rozpoznawania twarzy, jest\n",
        "podzielona na podmetody.\n",
        "<br>Niektóre z bardziej szczegółowych technik używanych do wykrywania twarzy\n",
        "obejmują:\n",
        "Usuwanie tła. Na przykład, jeśli obraz ma zwykłe, jednokolorowe tło lub\n",
        "wstępnie zdefiniowane, statyczne tło, usunięcie tła może pomóc odsłonić\n",
        "granice twarzy.\n",
        "<br>Na kolorowych obrazach czasami można znaleźć twarze na podstawie koloru\n",
        "skóry; jednak może to nie działać w przypadku wszystkich karnacji.\n",
        "Inną opcją jest używanie ruchu do znajdowania twarzy. W wideo w czasie\n",
        "rzeczywistym twarz prawie zawsze się porusza, więc użytkownicy tej metody\n",
        "muszą obliczyć poruszający się obszar. Wadą tej metody jest ryzyko pomylenia\n",
        "z innymi obiektami poruszającymi się w tle.\n",
        "<br>Połączenie powyższych strategii może zapewnić wszechstronną metodę\n",
        "wykrywania twarzy.\n",
        "Wykrywanie twarzy na zdjęciach może być skomplikowane ze względu na\n",
        "zmienność czynników, takich jak pozy, wyraz twarzy, pozycja i orientacja, kolor\n",
        "skóry i wartości pikseli, obecność okularów lub zarost oraz różnice w\n",
        "wzmocnieniu aparatu, warunkach oświetlenia i rozdzielczości obrazu. Ostatnie\n",
        "lata przyniosły postęp w wykrywaniu twarzy przy użyciu głębokiego uczenia, co\n",
        "ma tę zaletę, że znacznie przewyższa tradycyjne metody widzenia\n",
        "komputerowego.\n",
        "\n",
        "<br>Główne ulepszenia metodologii wykrywania twarzy nastąpiły w 2001 roku, kiedy\n",
        "badacze widzenia komputerowego Paul Viola i Michael Jones zaproponowali\n",
        "strukturę wykrywania twarzy w czasie rzeczywistym z dużą dokładnością.\n",
        "Framework Viola-Jones opiera się na szkoleniu modelu, aby zrozumieć, czym\n",
        "jest, a czym nie jest twarz. Po przeszkoleniu model wyodrębnia określone\n",
        "funkcje, które są następnie przechowywane w pliku, dzięki czemu funkcje z\n",
        "nowych obrazów można porównać z poprzednio zapisanymi funkcjami na\n",
        "różnych etapach. Jeśli badany obraz przechodzi przez każdy etap porównania\n",
        "cech, to twarz została wykryta i operacje mogą być kontynuowane.\n",
        "Chociaż framework Viola-Jones jest nadal popularny do rozpoznawania twarzy\n",
        "w aplikacjach czasu rzeczywistego, ma ograniczenia. Na przykład struktura\n",
        "może nie działać, jeśli twarz jest zakryta maską lub szalikiem lub jeśli twarz nie jest odpowiednio zorientowana, algorytm może nie być w stanie jej znaleźć.\n",
        "Aby pomóc wyeliminować wady struktury Viola-Jones i poprawić wykrywanie\n",
        "twarzy, opracowano inne algorytmy - takie jak splotowa sieć neuronowa oparta\n",
        "na regionach (R-CNN) i detektor pojedynczego strzału (SSD) - w celu\n",
        "usprawnienia procesów.\n",
        "\n",
        "<br>Konwolucyjna sieć neuronowa (CNN) to rodzaj sztucznej sieci neuronowej\n",
        "używanej do rozpoznawania i przetwarzania obrazu, która została specjalnie\n",
        "zaprojektowana do przetwarzania danych obrazów (pikseli). R-CNN generuje\n",
        "propozycje regionów w ramach CNN w celu lokalizacji i klasyfikacji obiektów na\n",
        "obrazach.\n",
        "Podczas gdy podejścia oparte na sieciach propozycji regionu, takie jak R-CNN,\n",
        "wymagają dwóch etapów - jednego do generowania propozycji regionu i\n",
        "jednego do wykrywania obiektu każdej propozycji - SSD wymaga tylko jednego\n",
        "etapu, aby wykryć wiele obiektów na obrazie. Dlatego metoda SSD jest\n",
        "znacznie szybsza od R-CNN.\n",
        "\n",
        "<br>Zalety wykrywania twarzy\n",
        "<br>Jako kluczowy element aplikacji do obrazowania twarzy, takich jak\n",
        "rozpoznawanie twarzy i analiza twarzy, wykrywanie twarzy zapewnia\n",
        "użytkownikom różne korzyści, w tym:\n",
        "Lepsze bezpieczeństwo. Wykrywanie twarzy usprawnia działania obserwacyjne\n",
        "i pomaga w tropieniu przestępców i terrorystów. Bezpieczeństwo osobiste jest\n",
        "również poprawione, ponieważ hakerzy nie mają nic do kradzieży ani zmiany, na\n",
        "przykład haseł.\n",
        "Łatwa do integracji. Technologię wykrywania twarzy i rozpoznawania twarzy\n",
        "można łatwo zintegrować, a większość rozwiązań jest zgodna z większością\n",
        "oprogramowania zabezpieczającego.\n",
        "Zautomatyzowana identyfikacja. W przeszłości identyfikacja była wykonywana\n",
        "ręcznie przez osobę; było to nieefektywne i często niedokładne. Wykrywanie\n",
        "twarzy umożliwia zautomatyzowanie procesu identyfikacji, oszczędzając w ten\n",
        "sposób czas i zwiększając dokładność.\n",
        "\n",
        "<br>Wady wykrywania twarzy\n",
        "<br>Chociaż wykrywanie twarzy zapewnia użytkownikom kilka ważnych korzyści, ma\n",
        "również różne wady, w tym:\n",
        "Ogromne obciążenie przechowywania danych. Technologia ML używana do\n",
        "wykrywania twarzy wymaga wydajnego przechowywania danych, które może\n",
        "nie być dostępne dla wszystkich użytkowników.\n",
        "Wykrywanie jest podatne na uszkodzenia. Chociaż wykrywanie twarzy\n",
        "zapewnia dokładniejsze wyniki niż procesy ręcznej identyfikacji, może być\n",
        "również łatwiej odrzucone przez zmiany w wyglądzie lub kątach kamery.\n",
        "Potencjalne naruszenie prywatności. Zdolność wykrywania twarzy do pomocy\n",
        "rządowi w tropieniu przestępców daje ogromne korzyści; jednak ten sam\n",
        "nadzór może pozwolić rządowi obserwować prywatnych obywateli. Należy\n",
        "ustanowić surowe przepisy, aby zapewnić uczciwe korzystanie z technologii i\n",
        "zgodność z prawami człowieka dotyczącymi prywatności.\n",
        "\n",
        "<br>Wykrywanie twarzy a rozpoznawanie twarzy\n",
        "<br>Chociaż terminy wykrywanie twarzy i rozpoznawanie twarzy są często używane\n",
        "razem, wykrywanie twarzy jest tylko jedną aplikacją do rozpoznawania twarzy -\n",
        "aczkolwiek jedną z najważniejszych. Rozpoznawanie twarzy służy do\n",
        "odblokowywania telefonów i aplikacji mobilnych, a także do weryfikacji\n",
        "biometrycznej. Branże bankowe, detaliczne i transportowe wykorzystują\n",
        "rozpoznawanie twarzy, aby zmniejszyć przestępczość i zapobiegać przemocy.\n",
        "Krótko mówiąc, termin rozpoznawanie twarzy wykracza poza wykrywanie\n",
        "obecności ludzkiej twarzy w celu określenia, czyja to twarz. W procesie tym\n",
        "wykorzystuje się aplikację komputerową, która rejestruje cyfrowy obraz twarzy\n",
        "osoby - czasami zrobiony z klatki wideo - i porównuje go z obrazami w bazie\n",
        "danych przechowywanych nagrań.\n",
        "Zastosowania wykrywania twarzy\n",
        "<br>Chociaż wszystkie systemy rozpoznawania twarzy używają wykrywania twarzy,\n",
        "nie wszystkie systemy są używane do rozpoznawania twarzy. Wykrywanie\n",
        "twarzy można również zastosować do przechwytywania ruchu twarzy lub\n",
        "procesu elektronicznego przekształcania ruchów twarzy człowieka w cyfrową\n",
        "bazę danych za pomocą aparatów fotograficznych lub skanerów laserowych. Ta\n",
        "baza danych może służyć do tworzenia realistycznych animacji komputerowych\n",
        "do filmów, gier lub awatarów.\n",
        "<br>Wykrywanie twarzy może być również używane do automatycznego ustawiania\n",
        "ostrości kamer lub do liczenia, ile osób weszło na dany obszar. Technologia ta\n",
        "ma również zastosowania marketingowe - na przykład wyświetlanie określonych\n",
        "reklam po rozpoznaniu określonej twarzy.\n",
        "<br>Inna aplikacja do wykrywania twarzy jest częścią implementacji\n",
        "oprogramowania do wnioskowania emocjonalnego, która może na przykład\n",
        "zostać użyta do pomocy osobom z autyzmem w zrozumieniu uczuć ludzi wokół\n",
        "nich. Program „odczytuje” emocje z ludzkiej twarzy za pomocą\n",
        "zaawansowanego przetwarzania obrazu.\n",
        "<br>Dodatkowym zastosowaniem jest wyciąganie wniosków językowych na\n",
        "podstawie wizualnych wskazówek lub „czytanie z ruchu warg”. Może to pomóc\n",
        "komputerom określić, kto mówi, co może być pomocne w aplikacjach\n",
        "zabezpieczających. Ponadto wykrywanie twarzy może pomóc określić, które\n",
        "części obrazu mają zostać zamazane, aby zapewnić prywatność."
      ]
    },
    {
      "cell_type": "markdown",
      "metadata": {
        "id": "xjWrTJG5kgIO",
        "colab_type": "text"
      },
      "source": [
        "W ciągu ostatnich lat możemy obserwować postępujące upowszechnienie technologii wykrywania i rozpoznawania twarzy. Bezinwazyjność pobierania danych i łatwość użycia tej technologii powoduje, że coraz częściej wykorzystywana jest ona w produktach i usługach, z którymi mamy do czynienia na co dzień. Możliwość odblokowywania ekranu za pomocą twarzy oferuje dzisiaj większość smartfonów. Systemy rozpoznawania twarzy używane są już na lotniskach, w monitoringu szkolnym do potwierdzania obecności uczniów na lekcjach, korzysta z nich policja do analizowania obrazu z monitoringu miejskiego.<br><br>\n",
        "\n",
        "Powszechność stosowania tej technologii budzi jednak obawy przed masową inwigilacją. Zapis zdjęcia w celu detekcji i identyfikacji twarzy może zostać wykonany bezinwazyje i bez wiedzy osoby identyfikowanej. Obecnie coraz częściej pojawiają się głosy o potrzebie wprowadzenie dodatkowych ograniczeń dla stosowania rozpoznawania twarzy oraz standardów regulacji systemów podejmujących decyzje. Te dodatkowe wymagania stawiane przed technologią detekcji i rozpoznawania twarzy przyczynią się do jej dalszego intensywnego rozwoju w najblizszych latach.\n"
      ]
    },
    {
      "cell_type": "markdown",
      "metadata": {
        "id": "YC1h7W3ekgK9",
        "colab_type": "text"
      },
      "source": [
        "## Definicja problemu\n"
      ]
    },
    {
      "cell_type": "markdown",
      "metadata": {
        "id": "XpmVvMPikgNp",
        "colab_type": "text"
      },
      "source": [
        "Czynników mających negatywny wpływ na prawidłową detekcję jest wiele. W zależności od zadania jakie ma realizować system detekcji i identyfikacji można spotkać się z różnym umieszczeniem urządzeń rejestrujących obraz. Możemy mieć zatem do czyniania z różnym oświetleniem i jego zmianami w ciągu doby. Osoby mogą znajdować się w różnych odległościach co będzie wpływać na różną wielkość analizowanego obszaru. Negatywny wpływ na wynik detekcji będzie mieć również częściowe przysłonięcie twarzy, zmiany jej położenia i pozy jak i przynależność rasowa identyfikowanej osoby. \n",
        "\n",
        "\n",
        "Istotnym parametrem jest też czas detekcji. Coraz częściej oczekuję się, że detekcja będzie dokonywana w czasie rzeczywistym. \n",
        "\n",
        "Biorąc pod uwagę złożoność problemu kluczowym jest prawidłowa ocena skuteczności detekcji. Opis stosowanych metryk oceny detekcji został zamieszczony w następnym rozdziale."
      ]
    },
    {
      "cell_type": "markdown",
      "metadata": {
        "id": "loBfZYWMkrKK",
        "colab_type": "text"
      },
      "source": [
        "\n",
        "\n",
        "<br>\n",
        "\n"
      ]
    },
    {
      "cell_type": "markdown",
      "metadata": {
        "id": "Uw9lwvhfkuHd",
        "colab_type": "text"
      },
      "source": [
        "---\n",
        "\n",
        "[Spis treści](https://github.com/DarekGit/FACES_DNN/blob/master/notebooks/Praca_Dyplomowa.ipynb) | [1. Wstęp](01_00_Wstep.ipynb) | [2. Metryki oceny detekcji](02_00_Miary.ipynb) | [3 .Bazy danych](03_00_Datasety.ipynb) | [4. Przegląd metod detekcji](04_00_Modele.ipynb) | [5. Detekcja twarzy z wykorzystaniem wybranych architektur GSN](05_00_Modyfikacje.ipynb) | [6. Porównanie modeli](06_00_Porownanie.ipynb) | [7. Eksport modelu](07_00_Eksport_modelu.ipynb) | [8. Podsumowanie i wnioski](08_00_Podsumowanie.ipynb) | [Bibliografia](Bibliografia.ipynb)\n",
        "\n",
        "\n",
        "---"
      ]
    }
  ]
}