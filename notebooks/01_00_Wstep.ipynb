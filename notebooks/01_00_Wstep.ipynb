{
  "nbformat": 4,
  "nbformat_minor": 0,
  "metadata": {
    "colab": {
      "name": "01_00_Wstep.ipynb",
      "provenance": [],
      "authorship_tag": "ABX9TyP9HflibZky2ttL0Ql5c3Qv",
      "include_colab_link": true
    },
    "kernelspec": {
      "name": "python3",
      "display_name": "Python 3"
    }
  },
  "cells": [
    {
      "cell_type": "markdown",
      "metadata": {
        "id": "view-in-github",
        "colab_type": "text"
      },
      "source": [
        "<a href=\"https://colab.research.google.com/github/DarekGit/FACES_DNN/blob/master/notebooks/01_00_Wstep.ipynb\" target=\"_parent\"><img src=\"https://colab.research.google.com/assets/colab-badge.svg\" alt=\"Open In Colab\"/></a>"
      ]
    },
    {
      "cell_type": "markdown",
      "metadata": {
        "id": "-xXA_qhbkcSy",
        "colab_type": "text"
      },
      "source": [
        "# [Detekcja twarzy z wykorzystaniem współczesnych architektur głębokich sieci neuronowych](https://github.com/DarekGit/FACES_DNN/blob/master/notebooks/Praca_Dyplomowa.ipynb)\n"
      ]
    },
    {
      "cell_type": "markdown",
      "metadata": {
        "id": "rlZkCmxfmM1l",
        "colab_type": "text"
      },
      "source": [
        "### [Spis treści](https://github.com/DarekGit/FACES_DNN/blob/master/notebooks/Praca_Dyplomowa.ipynb)"
      ]
    },
    {
      "cell_type": "markdown",
      "metadata": {
        "id": "0riVYOL_kf_W",
        "colab_type": "text"
      },
      "source": [
        "## [1. Wstep](01_00_Wstep.ipynb)"
      ]
    },
    {
      "cell_type": "markdown",
      "metadata": {
        "id": "xjWrTJG5kgIO",
        "colab_type": "text"
      },
      "source": [
        "W ciągu ostatnich lat możemy obserwować postępujące upowszechnienie technologii wykrywania i rozpoznawania twarzy. Bezinwazyjność pobierania danych i łatwość użycia tej technologii powoduje, że coraz częściej wykorzystywana jest ona w produktach i usługach, z którymi mamy do czynienia na co dzień. Możliwość odblokowywania ekranu za pomocą twarzy oferuje dzisiaj większość smartfonów. Systemy rozpoznawania twarzy używane są już na lotniskach, w monitoringu szkolnym do potwierdzania obecności uczniów na lekcjach, korzysta z nich policja do analizowania obrazu z monitoringu miejskiego.<br><br>\n",
        "\n",
        "Powszechność stosowania tej technologii budzi jednak obawy przed masową inwigilacją. Zapis zdjęcia w celu detekcji i identyfikacji twarzy może zostać wykonany bezinwazyje i bez wiedzy osoby identyfikowanej. Obecnie coraz częściej pojawiają się głosy o potrzebie wprowadzenie dodatkowych ograniczeń dla stosowania rozpoznawania twarzy oraz standardów regulacji systemów podejmujących decyzje. Te dodatkowe wymagania stawiane przed technologią detekcji i rozpoznawania twarzy przyczynią się do jej dalszego intensywnego rozwoju w najblizszych latach.\n"
      ]
    },
    {
      "cell_type": "markdown",
      "metadata": {
        "id": "YC1h7W3ekgK9",
        "colab_type": "text"
      },
      "source": [
        "### Definicja problemu\n"
      ]
    },
    {
      "cell_type": "markdown",
      "metadata": {
        "id": "XpmVvMPikgNp",
        "colab_type": "text"
      },
      "source": [
        "Czynników mających negatywny wpływ na prawidłową detekcję jest wiele. W zależności od zadania jakie ma realizować system detekcji i identyfikacji można spotkać się z różnym umieszczeniem urządzeń rejestrujących obraz. Możemy mieć zatem do czyniania z różnym oświetleniem i jego zmianami w ciągu doby. Osoby mogą znajdować się w różnych odległościach co będzie wpływać na różną wielkość analizowanego obszaru. Negatywny wpływ na wynik detekcji będzie mieć również częściowe przysłonięcie twarzy, zmiany jej położenia i pozy jak i przynależność rasowa identyfikowanej osoby. \n",
        "\n",
        "\n",
        "Istotnym parametrem jest też czas detekcji. Coraz częściej oczekuję się, że detekcja będzie dokonywana w czasie rzeczywistym. \n",
        "\n",
        "Biorąc pod uwagę złożoność problemu kluczowym jest prawidłowa ocena skuteczności detekcji. Opis stosowanych metryk oceny detekcji został zamieszczony w następnym rozdziale."
      ]
    },
    {
      "cell_type": "markdown",
      "metadata": {
        "id": "loBfZYWMkrKK",
        "colab_type": "text"
      },
      "source": [
        "\n",
        "\n",
        "---\n",
        "\n"
      ]
    },
    {
      "cell_type": "markdown",
      "metadata": {
        "id": "Uw9lwvhfkuHd",
        "colab_type": "text"
      },
      "source": [
        "### [2. Metryki oceny detekcji](03_00_Miary.ipynb)"
      ]
    }
  ]
}