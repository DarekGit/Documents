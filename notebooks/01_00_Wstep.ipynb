{
  "nbformat": 4,
  "nbformat_minor": 0,
  "metadata": {
    "colab": {
      "name": "01_00_Wstep.ipynb",
      "provenance": [],
      "toc_visible": true,
      "include_colab_link": true
    },
    "kernelspec": {
      "name": "python3",
      "display_name": "Python 3"
    }
  },
  "cells": [
    {
      "cell_type": "markdown",
      "metadata": {
        "id": "view-in-github",
        "colab_type": "text"
      },
      "source": [
        "<a href=\"https://colab.research.google.com/github/DarekGit/FACES_DNN/blob/master/notebooks/01_00_Wstep.ipynb\" target=\"_parent\"><img src=\"https://colab.research.google.com/assets/colab-badge.svg\" alt=\"Open In Colab\"/></a>"
      ]
    },
    {
      "cell_type": "markdown",
      "metadata": {
        "id": "-xXA_qhbkcSy",
        "colab_type": "text"
      },
      "source": [
        "# [Detekcja twarzy z wykorzystaniem współczesnych architektur głębokich sieci neuronowych](https://github.com/DarekGit/FACES_DNN/blob/master/notebooks/Praca_Dyplomowa.ipynb)\n"
      ]
    },
    {
      "cell_type": "markdown",
      "metadata": {
        "id": "rlZkCmxfmM1l",
        "colab_type": "text"
      },
      "source": [
        "---\n",
        "\n",
        "[Spis treści](https://github.com/DarekGit/FACES_DNN/blob/master/notebooks/Praca_Dyplomowa.ipynb) | [1. Wstęp](01_00_Wstep.ipynb) | [2. Metryki oceny detekcji](02_00_Miary.ipynb) | [3. Bazy danych](03_00_Datasety.ipynb) | [4. Przegląd metod detekcji](04_00_Modele.ipynb) | [5. Detekcja twarzy z wykorzystaniem wybranych architektur GSN](05_00_Modyfikacje.ipynb) | [6. Porównanie modeli](06_00_Porownanie.ipynb) | [7. Eksport modelu](07_00_Eksport_modelu.ipynb) | [8. Podsumowanie i wnioski](08_00_Podsumowanie.ipynb) | [Bibliografia](Bibliografia.ipynb)\n",
        "\n",
        "\n",
        "---"
      ]
    },
    {
      "cell_type": "markdown",
      "metadata": {
        "id": "gUwxXkdTDe4M",
        "colab_type": "text"
      },
      "source": [
        "| [1. Wstęp](01_00_Wstep.ipynb) | [2. Metryki oceny detekcji](02_00_Miary.ipynb) >"
      ]
    },
    {
      "cell_type": "markdown",
      "metadata": {
        "id": "0riVYOL_kf_W",
        "colab_type": "text"
      },
      "source": [
        "## [1. Wstęp](01_00_Wstep.ipynb)"
      ]
    },
    {
      "cell_type": "markdown",
      "metadata": {
        "id": "jpu0fSmAeVPk",
        "colab_type": "text"
      },
      "source": [
        "Detekcja twarzy (ang. Face Detection) jest technologią komputerową opartą na Sztucznej Inteligencji (ang. Artificial Intelligence), używaną do znajdowania ludzkich twarzy w obrazach cyfrowych. W nieniejszej pracy stosujemy również pojęcie wykrywania twarzy, które używane jest zamiennie z pojeciem detekcji twarzy.\n",
        "\n",
        "\n",
        "\n",
        "W ciągu ostatnich lat możemy obserwować postępujące upowszechnienie technologii wykrywania twarzy. Przeszła ona od podstawowych technik Wizji komputerowej (ang. Computer Vision) poprzez Uczenie Maszynowe (ang. Machine Learning) do coraz bardziej zaawansowanych sztucznych sieci neuronowych (ang. Artificial Neural Networks) i powiązanych z nimi technologii, wynikiem czego osiągnięto poprawę wydajności wypracowanych metod. Obecnie detekcja twarzy odgrywa ważną rolę jako pierwszy krok w procesie śledzenia, analizy i rozpoznawania twarzy. W przypadku analizy precyzyjne wykrywanie twarzy jest niezbędne do określenia wieku, płci lub emocji osoby przedstawionej na analizowanym obrazie.\n",
        "\n",
        "\n",
        "\n",
        "\n",
        "Bezinwazyjność pobierania danych i łatwość jej użycia powoduje, że coraz częściej wykorzystywana jest ona w produktach i usługach, z którymi mamy do czynienia na co dzień. Możliwość odblokowywania ekranu za pomocą twarzy oferuje dzisiaj większość smartfonów. Systemy rozpoznawania twarzy używane są już na lotniskach, w monitoringu szkolnym do potwierdzania obecności uczniów na lekcjach, korzysta z nich policja do analizowania obrazu z monitoringu miejskiego.\n"
      ]
    },
    {
      "cell_type": "markdown",
      "metadata": {
        "id": "G0mMMTrmebdT",
        "colab_type": "text"
      },
      "source": [
        "### Zalety wykrywania twarzy"
      ]
    },
    {
      "cell_type": "markdown",
      "metadata": {
        "id": "u7aYNebwedUP",
        "colab_type": "text"
      },
      "source": [
        "Detekcja twarzy będąc kluczowy element aplikacji do analizy twarzy zapewnia użytkownikom wiele korzyści m.in. podnosząc bezpieczeństwo poprzez usprawnienie działań obserwacyjnych w tropieniu przestępców i terrorystów dzięki zautomatyzowanej identyfikacji. W przeszłości identyfikacja zazwyczaj była wykonywana ręcznie przez wyznaczoną osobę, było to nieefektywne i często niedokładne. Wykrywanie twarzy umożliwia zautomatyzowanie procesu identyfikacji, oszczędzając w ten sposób czas i zwiększając dokładność. Ponadto technologię detekcji i powiązaną z nią technologię rozpoznawania twarzy można łatwo zintegrować z dotychczas używanym oprogramowaniem. Istotną zaletą jest również bezinwazyjność pozyskiwania danych. Zapis zdjęcia w celu detekcji i późniejszej identyfikacji twarzy może zostać wykonany nawet ze znacznej odległości i bez wiedzy osoby identyfikowanej."
      ]
    },
    {
      "cell_type": "markdown",
      "metadata": {
        "id": "2B_5rPBqefP_",
        "colab_type": "text"
      },
      "source": [
        "### Wady wykrywania twarzy"
      ]
    },
    {
      "cell_type": "markdown",
      "metadata": {
        "id": "6m4Ifs7mekLU",
        "colab_type": "text"
      },
      "source": [
        "Powszechność stosowania tej technologii i bezinwazyjność metody budzi obawy przed masową inwigilacją. Obecnie coraz częściej pojawiają się głosy o potrzebie wprowadzenie dodatkowych ograniczeń dla stosowania rozpoznawania twarzy oraz standardów regulacji systemów podejmujących decyzje.\n",
        "\n",
        "Sam proces detekcji twarzy na obrazach może być utrudniony ze względu na zmienność czynników takich różna pozycja i orientacja twarzy, wyraz twarzy, jak i przynależność rasowa identyfikowanej osoby. Detekcję może również utrudniać obecność okularów lub zarost oraz częściowe przysłonięcie twarzy.\n",
        "\n",
        "W zależności od zadania, jakie ma realizować system detekcji i identyfikacji można spotkać się z różnym umieszczeniem urządzeń rejestrujących obraz, przez co \n",
        "możemy mieć do czynienia z różnym oświetleniem i jego zmianami w ciągu doby. Osoby mogą znajdować się w różnych odległościach co będzie wpływać na zmiany wielkość analizowanego obszaru. Urządzenia rejestrujące obraz mogą zapisywać go z różną rozdzielczością. Niska rozdzielczość obrazu może uniemożliwić detekcję."
      ]
    },
    {
      "cell_type": "markdown",
      "metadata": {
        "id": "w77Gqr_cenw-",
        "colab_type": "text"
      },
      "source": [
        "### Definicja problemu"
      ]
    },
    {
      "cell_type": "markdown",
      "metadata": {
        "id": "BVfwGrIjepvs",
        "colab_type": "text"
      },
      "source": [
        "Łatwość użycia technologii detekcji twarzy i możliwość bezinwazyjnego jej zastosowania jest bardzo pozytywnym czynnikiem mającym bezpośredni wpływ na wzrost popularności tej metody. Z drugiej strony mamy jednak do czynienia z różnymi systemami rejestrującymi, z których otrzymujemy obraz wraz ze wszystkimi jego wadami i zaletami. Wadami w tym przypadku będą m.in. obrazy bardzo zróżnicowanym oświetleniu, słabej rozdzielczości, na których pozycja głowy będzie uniemożliwiać prawidłową detekcję lub twarz będzie przysłonięta albo zbyt mała by mogła być wykryta. Obecnie bazy danych służące do trenowania sztucznych sieci neuronowych nie są w pełni przygotowane na taką różnorodność obrazów wejściowych i najczęściej stosowanie gotowych rozwiązań nie jest możliwe. Często w pracy nad metodą detekcji niezbędne jest indywidualne podejście z uwzględnieniem wszystkich czynników utrudniających wykrywanie twarzy na analizowanych obrazach.\n",
        "\n",
        "<br>\n",
        "\n",
        "Chcąć zmierzyć się z tym problemem w niniejszej pracy wykorzystano zbiór danych WIDER FACE zawierający zdjęcia o szerokiej różnorodność. Zastosowano również algorytm detekcji Faster R-CNN charakteryzujący się wysoką skutecznością detekcji.\n",
        "\n",
        "<br>\n",
        "\n",
        "Biorąc pod uwagę złożoność problemu kluczowym jest prawidłowa ocena skuteczności detekcji. Opis stosowanych metryk oceny detekcji został zamieszczony w następnym rozdziale."
      ]
    },
    {
      "cell_type": "markdown",
      "metadata": {
        "id": "JrWc2_sYezny",
        "colab_type": "text"
      },
      "source": [
        "### Motywacja"
      ]
    },
    {
      "cell_type": "markdown",
      "metadata": {
        "id": "0OT3y_y9h1Po",
        "colab_type": "text"
      },
      "source": [
        "Główną motywacją pracy nad problemem detekcji twarzy było zastosowanie nowoczesnych architektur głębokich sieci neuronowych i możliwość praktycznego zastosowania wytrenowanego modelu.\n",
        "\n",
        "Każdy z nas gromadzi zdjęcia z podróży, spotkań rodzinnych i innych okazji. W okresie kolejnych lat gromadzą się tysiące, a nawet, jak w naszym przypadku, setki tysięcy zdjęć.\n",
        "Zbiór ten na tle dostępnych zbiorów internetowych charakteryzuje się nie tylko innymi osobami na zdjęciach, ale również znacznie większą rozdzielczością zdjęć.\n",
        "\n",
        "\n",
        "Przy tak dużym zbiorze, problemem staje odnalezienie zdjęć z wybranymi osobami, o ile nie były robione notatki na bieżąco. W celu odszukania zdjęcia z określonymi osobami bez manualnego przeglądu  konieczna jest  automatyczna identyfikacja osób na zbiorze zdjęć o unikalnych parametrach. A pierwszym krokiem potrzebnym do wykonania tego zadania jest efektywna detekcja twarzy na takim zbiorze. \n",
        "\n",
        "\n",
        "W tym celu została przygotowana autorska baza danych FACES_DD będąca zbiorem wybranych prywatnych zdjęć o dużej rozdzielczości z kilku lat.\n",
        "\n",
        "\n",
        "Ewaluacja wytrenowanego modelu na przygotowanej bazie danych pozwoliło na sprawdzenie jak radzi sobie na typowej domowej galerii zdjęć o dużej rozdzielczości. \n",
        "\n",
        "<br>\n",
        "\n",
        "\n",
        "Motywacją do badań zagadnień detekcji twarzy była również chęć ujednolicenia miary oceny wyników detekcji. W niniejszej pracy zaproponowano miarę mean Average Precision przygotowaną do oceny wszystkich modeli używanych w pracy do detekcji twarzy. \n"
      ]
    },
    {
      "cell_type": "markdown",
      "metadata": {
        "id": "mxykdWWpeOoG",
        "colab_type": "text"
      },
      "source": [
        "### Zawartość pracy"
      ]
    },
    {
      "cell_type": "markdown",
      "metadata": {
        "id": "4vhKumt-eE-l",
        "colab_type": "text"
      },
      "source": [
        "W pracy zostały zawarte następujące elementy:\n",
        "\n",
        "* Rozdział 2 - Omówienie metryk oceny detekcji,\n",
        "* Rozdział 3 - Przedstawienie baz danych obrazów wykorzystanych w pracy do trenowania i ewaluacji modeli głębokich sieci neuronowych,\n",
        "* Rozdział 4 - Przedstawienie podstawowych metod detekcji obiektów, \n",
        "* Rozdział 5 - Opis zastosowanych rozwiązań wykorzystanych do detekcji twarzy z wykorzystaniem architektur głębokich sieci neuronowych,\n",
        "* Rozdział 6 - Porównanie wyników modeli i wnioski, \n",
        "* Rozdział 7 - Eksport modelu do ONNX, \n",
        "* Rozdział 8 - Podsumowanie pracy i wnioski dotyczące zastosowanych rozwiązań detekcji twarzy."
      ]
    },
    {
      "cell_type": "markdown",
      "metadata": {
        "id": "loBfZYWMkrKK",
        "colab_type": "text"
      },
      "source": [
        "\n",
        "\n",
        "<br>\n",
        "\n",
        "| [1. Wstęp](01_00_Wstep.ipynb) | [2. Metryki oceny detekcji](02_00_Miary.ipynb) >\n"
      ]
    },
    {
      "cell_type": "markdown",
      "metadata": {
        "id": "Uw9lwvhfkuHd",
        "colab_type": "text"
      },
      "source": [
        "---\n",
        "\n",
        "[Spis treści](https://github.com/DarekGit/FACES_DNN/blob/master/notebooks/Praca_Dyplomowa.ipynb) | [1. Wstęp](01_00_Wstep.ipynb) | [2. Metryki oceny detekcji](02_00_Miary.ipynb) | [3. Bazy danych](03_00_Datasety.ipynb) | [4. Przegląd metod detekcji](04_00_Modele.ipynb) | [5. Detekcja twarzy z wykorzystaniem wybranych architektur GSN](05_00_Modyfikacje.ipynb) | [6. Porównanie modeli](06_00_Porownanie.ipynb) | [7. Eksport modelu](07_00_Eksport_modelu.ipynb) | [8. Podsumowanie i wnioski](08_00_Podsumowanie.ipynb) | [Bibliografia](Bibliografia.ipynb)\n",
        "\n",
        "\n",
        "---"
      ]
    }
  ]
}