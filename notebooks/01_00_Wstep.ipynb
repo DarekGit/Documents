{
  "nbformat": 4,
  "nbformat_minor": 0,
  "metadata": {
    "colab": {
      "name": "01_00_Wstep.ipynb",
      "provenance": [],
      "toc_visible": true,
      "include_colab_link": true
    },
    "kernelspec": {
      "name": "python3",
      "display_name": "Python 3"
    }
  },
  "cells": [
    {
      "cell_type": "markdown",
      "metadata": {
        "id": "view-in-github",
        "colab_type": "text"
      },
      "source": [
        "<a href=\"https://colab.research.google.com/github/DarekGit/FACES_DNN/blob/master/notebooks/01_00_Wstep.ipynb\" target=\"_parent\"><img src=\"https://colab.research.google.com/assets/colab-badge.svg\" alt=\"Open In Colab\"/></a>"
      ]
    },
    {
      "cell_type": "markdown",
      "metadata": {
        "id": "-xXA_qhbkcSy",
        "colab_type": "text"
      },
      "source": [
        "# [Detekcja twarzy z wykorzystaniem współczesnych architektur głębokich sieci neuronowych](https://github.com/DarekGit/FACES_DNN/blob/master/notebooks/Praca_Dyplomowa.ipynb)\n"
      ]
    },
    {
      "cell_type": "markdown",
      "metadata": {
        "id": "rlZkCmxfmM1l",
        "colab_type": "text"
      },
      "source": [
        "---\n",
        "\n",
        "[Spis treści](https://github.com/DarekGit/FACES_DNN/blob/master/notebooks/Praca_Dyplomowa.ipynb) | [1. Wstęp](01_00_Wstep.ipynb) | [2. Metryki oceny detekcji](02_00_Miary.ipynb) | [3. Bazy danych](03_00_Datasety.ipynb) | [4. Przegląd metod detekcji](04_00_Modele.ipynb) | [5. Detekcja twarzy z wykorzystaniem wybranych architektur GSN](05_00_Modyfikacje.ipynb) | [6. Porównanie modeli](06_00_Porownanie.ipynb) | [7. Eksport modelu](07_00_Eksport_modelu.ipynb) | [8. Podsumowanie i wnioski](08_00_Podsumowanie.ipynb) | [Bibliografia](Bibliografia.ipynb)\n",
        "\n",
        "\n",
        "---"
      ]
    },
    {
      "cell_type": "markdown",
      "metadata": {
        "id": "gUwxXkdTDe4M",
        "colab_type": "text"
      },
      "source": [
        "| [1. Wstęp](01_00_Wstep.ipynb) | [2. Metryki oceny detekcji](02_00_Miary.ipynb) >"
      ]
    },
    {
      "cell_type": "markdown",
      "metadata": {
        "id": "0riVYOL_kf_W",
        "colab_type": "text"
      },
      "source": [
        "## [1. Wstęp](01_00_Wstep.ipynb)"
      ]
    },
    {
      "cell_type": "markdown",
      "metadata": {
        "id": "0OT3y_y9h1Po",
        "colab_type": "text"
      },
      "source": [
        "Detekcja twarzy (ang. Face Detection) jest technologią komputerową opartą na Sztucznej Inteligencji (ang. Artificial Intelligence), używaną do znajdowania ludzkich twarzy w obrazach cyfrowych.\n",
        "\n",
        "W ciągu ostatnich lat możemy obserwować postępujące upowszechnienie tej technologii. Wykrywanie twarzy przeszło od podstawowych technik Wizji komputerowej (ang. Computer Vision) poprzez Uczenie Maszynowe (ang. Machine Learning) do coraz bardziej zaawansowanych sztucznych sieci neuronowych (ang. Artificial Neural Networks) i powiązanych z nimi technologii, wynikiem czego osiągnięto poprawę wydajności wypracowanych metod. Obecnie detekcja twarzy odgrywa ważną rolę jako pierwszy krok w procesie śledzenia, analizy i rozpoznawania twarzy. W przypadku analizy precyzyjne wykrywanie twarzy jest niezbędne do określenia wieku, płci lub emocji osoby przedstawionej na analizowanym obrazie.\n",
        "\n",
        "Bezinwazyjność pobierania danych i łatwość jej użycia powoduje, że coraz częściej wykorzystywana jest ona w produktach i usługach, z którymi mamy do czynienia na co dzień. Możliwość odblokowywania ekranu za pomocą twarzy oferuje dzisiaj większość smartfonów. Systemy rozpoznawania twarzy używane są już na lotniskach, w monitoringu szkolnym do potwierdzania obecności uczniów na lekcjach, korzysta z nich policja do analizowania obrazu z monitoringu miejskiego.\n",
        "\n",
        "\n",
        "<br>\n",
        "\n",
        "\n",
        "**Zalety wykrywania twarzy**\n",
        "\n",
        "\n",
        "\n",
        "Detekcja twarzy będąc kluczowy element aplikacji do analizy twarzy zapewnia użytkownikom wiele korzyści m.in. podnosząc bezpieczeństwo poprzez usprawnienie działań obserwacyjnych w tropieniu przestępców i terrorystów dzięki zautomatyzowanej identyfikacji. W przeszłości identyfikacja zazwyczaj była wykonywana ręcznie przez wyznaczoną osobę, było to nieefektywne i często niedokładne. Wykrywanie twarzy umożliwia zautomatyzowanie procesu identyfikacji, oszczędzając w ten sposób czas i zwiększając dokładność.\n",
        "Ponadto technologię detekcji i powiązaną z nią technologię rozpoznawania twarzy można łatwo zintegrować z dotychczas używanym oprogramowaniem. Istotną zaletą jest również bezinwazyjność pozyskiwania danych. Zapis zdjęcia w celu detekcji i późniejszej identyfikacji twarzy może zostać wykonany nawet ze znacznej odległości i bez wiedzy osoby identyfikowanej.\n",
        "\n",
        "<br>\n",
        "\n",
        "**Wady wykrywania twarzy**\n",
        "\n",
        "Powszechność stosowania tej technologii i bezinwazyjność metody budzi obawy przed masową inwigilacją. Obecnie coraz częściej pojawiają się głosy o potrzebie wprowadzenie dodatkowych ograniczeń dla stosowania rozpoznawania twarzy oraz standardów regulacji systemów podejmujących decyzje.\n",
        "\n",
        "Sam proces detekcji twarzy na obrazach może być utrudniony ze względu na zmienność czynników takich różna pozycja i orientacja twarzy, wyraz twarzy, jak i przynależność rasowa identyfikowanej osoby. Detekcję może również utrudniać obecność okularów lub zarost oraz częściowe przysłonięcie twarzy.\n",
        "\n",
        "W zależności od zadania, jakie ma realizować system detekcji i identyfikacji można spotkać się z różnym umieszczeniem urządzeń rejestrujących obraz, przez co \n",
        "możemy mieć do czynienia z różnym oświetleniem i jego zmianami w ciągu doby. Osoby mogą znajdować się w różnych odległościach co będzie wpływać na zmiany wielkość analizowanego obszaru. Urządzenia rejestrujące obraz mogą zapisywać go z różną rozdzielczością. Niska rozdzielczość obrazu może uniemożliwić detekcję.\n",
        "\n",
        "<br>\n",
        "\n",
        "**Definicja problemu**\n",
        "\n",
        "\n",
        "Łatwość użycia technologii detekcji twarzy i możliwość bezinwazyjnego jej zastosowania jest bardzo pozytywnym czynnikiem mającym bezpośredni wpływ na wzrost popularności tej metody. Z drugiej strony mamy jednak do czynienia z różnymi systemami rejestrującymi, z których otrzymujemy obraz wraz ze wszystkimi jego wadami i zaletami. Wadami w tym przypadku będą m.in. obrazy bardzo zróżnicowanym oświetleniu, słabej rozdzielczości, na których pozycja głowy będzie uniemożliwiać prawidłową detekcję lub twarz będzie przysłonięta albo zbyt mała by mogła być wykryta. Obecnie bazy danych służące do trenowania sztucznych sieci neuronowych nie są przygotowane na taką różnorodność obrazów wejściowych i najczęściej stosowanie gotowych rozwiązań nie jest możliwe. Często w pracy nad metodą detekcji niezbędne jest indywidualne podejście z uwzględnieniem wszystkich czynników utrudniających wykrywanie twarzy na analizowanych obrazach.\n",
        "\n",
        "\n",
        "\n",
        "W procesie wykrywania twarz istotny jest też czas detekcji. Coraz częściej oczekuję się, że detekcja będzie dokonywana w czasie rzeczywistym co w przypadku obrazów o znacznej rozdzielczości może być utrudnione.\n",
        "\n",
        "\n",
        "<br>\n",
        "\n",
        "Biorąc pod uwagę złożoność problemu kluczowym jest prawidłowa ocena skuteczności detekcji. Opis stosowanych metryk oceny detekcji został zamieszczony w następnym rozdziale.\n",
        "\n",
        "<br>\n",
        "\n",
        "**Motywacja**\n",
        "\n",
        "Główną motywacją pracy nad problemem detekcji twarzy było zastosowanie nowoczesnych architektur głębokich sieci neuronowych i możliwość praktycznego zastosowania wytrenowanego modelu. W tym celu została przygotowana autorska baza danych FACES_DD będąca zbiorem prywatnych zdjęć o dużej rozdzielczości.\n",
        "Ewaluacja wytrenowanego modelu na przygotowanej bazie danych pozwoliło na sprawdzenie jak radzi sobie na typowej domowej galerii zdjęć o dużej rozdzielczości. \n",
        "\n",
        "Motywacją do badań zagadnień detekcji twarzy była również chęć ujednolicenia miary oceny wyników detekcji. W niniejszej pracy zaproponowano miarę mean Average Precision przygotowaną do oceny wszystkich modeli używanych w pracy do detekcji twarzy. \n",
        "\n",
        "\n",
        "\n",
        "<br>\n",
        "\n",
        "\n",
        "**Zawartość pracy** \n",
        "\n",
        "\n",
        "W pracy zostały zawarte następujące elementy:\n",
        "\n",
        "* Rozdział 2 - Omówienie metryk oceny detekcji,\n",
        "* Rozdział 3 - Przedstawienie baz danych obrazów wykorzystanych w pracy do trenowania i ewaluacji modeli głębokich sieci neuronowych,\n",
        "* Rozdział 4 - Przedstawienie podstawowych metod detekcji obiektów, \n",
        "* Rozdział 5 - Opis zastosowanych rozwiązań wykorzystanych do detekcji twarzy z wykorzystaniem architektur głębokich sieci neuronowych,\n",
        "* Rozdział 6 - Porównanie wyników modeli i wnioski, \n",
        "* Rozdział 7 - Eksport modelu do ONNX, \n",
        "* Rozdział 8 - Podsumowanie pracy i wnioski dotyczące zastosowanych rozwiązań detekcji twarzy.\n",
        "\n"
      ]
    },
    {
      "cell_type": "markdown",
      "metadata": {
        "id": "loBfZYWMkrKK",
        "colab_type": "text"
      },
      "source": [
        "\n",
        "\n",
        "<br>\n",
        "\n",
        "| [1. Wstęp](01_00_Wstep.ipynb) | [2. Metryki oceny detekcji](02_00_Miary.ipynb) >\n"
      ]
    },
    {
      "cell_type": "markdown",
      "metadata": {
        "id": "Uw9lwvhfkuHd",
        "colab_type": "text"
      },
      "source": [
        "---\n",
        "\n",
        "[Spis treści](https://github.com/DarekGit/FACES_DNN/blob/master/notebooks/Praca_Dyplomowa.ipynb) | [1. Wstęp](01_00_Wstep.ipynb) | [2. Metryki oceny detekcji](02_00_Miary.ipynb) | [3. Bazy danych](03_00_Datasety.ipynb) | [4. Przegląd metod detekcji](04_00_Modele.ipynb) | [5. Detekcja twarzy z wykorzystaniem wybranych architektur GSN](05_00_Modyfikacje.ipynb) | [6. Porównanie modeli](06_00_Porownanie.ipynb) | [7. Eksport modelu](07_00_Eksport_modelu.ipynb) | [8. Podsumowanie i wnioski](08_00_Podsumowanie.ipynb) | [Bibliografia](Bibliografia.ipynb)\n",
        "\n",
        "\n",
        "---"
      ]
    }
  ]
}