{
  "nbformat": 4,
  "nbformat_minor": 0,
  "metadata": {
    "anaconda-cloud": {},
    "kernelspec": {
      "display_name": "Python 3",
      "language": "python",
      "name": "python3"
    },
    "language_info": {
      "codemirror_mode": {
        "name": "ipython",
        "version": 3
      },
      "file_extension": ".py",
      "mimetype": "text/x-python",
      "name": "python",
      "nbconvert_exporter": "python",
      "pygments_lexer": "ipython3",
      "version": "3.5.1"
    },
    "colab": {
      "name": "Praca Dyplomowa.ipynb",
      "provenance": [],
      "collapsed_sections": [],
      "include_colab_link": true
    }
  },
  "cells": [
    {
      "cell_type": "markdown",
      "metadata": {
        "id": "view-in-github",
        "colab_type": "text"
      },
      "source": [
        "<a href=\"https://colab.research.google.com/github/DarekGit/FACES_DNN/blob/master/notebooks/01_00_Wstep.ipynb\" target=\"_parent\"><img src=\"https://colab.research.google.com/assets/colab-badge.svg\" alt=\"Open In Colab\"/></a>"
      ]
    },
    {
      "cell_type": "markdown",
      "metadata": {
        "id": "en5qybg3KWoT",
        "colab_type": "text"
      },
      "source": [
        "# [Detekcja twarzy z wykorzystaniem współczesnych architektur głębokich sieci neuronowych](https://github.com/DarekGit/FACES_DNN/blob/master/notebooks/Praca_Dyplomowa.ipynb)\n",
        "\n"
      ]
    },
    {
      "cell_type": "markdown",
      "metadata": {
        "id": "eydg77jWKWoV",
        "colab_type": "text"
      },
      "source": [
        "### [1. Wstep](01_00_Wstep.ipynb)"
      ]
    },
    {
      "cell_type": "markdown",
      "metadata": {
        "id": "hgmd6HB3UTrR",
        "colab_type": "text"
      },
      "source": [
        "W ciągu ostatnich lat możemy obserwować postępujące upowszechnienie technologii wykrywania i rozpoznawania twarzy. Coraz częściej wykorzystywana jest w produktach i usługach, z którymi obcujemy na co dzień. Możliwość odblokowywania ekranu za pomocą twarzy oferuje dzisiaj większość smartfonów. Systemy rozpoznawania twarzy używane są już na lotniskach, w monitoringu szkolnym do potwierdzania obecności uczniów na lekcjach, korzysta z nich policja do analizowania obrazu z monitoringu miejskiego.<br><br>\n",
        "\n",
        "Powszechność stosowania tej technologii budzi jednak obawy przed masową inwigilacją. Obecnie coraz częściej pojawiają się głosy o potrzebie wprowadzenie dodatkowych ograniczeń dla stosowania rozpoznawania twarzy oraz standardów regulacji systemów podejmujących decyzje. Stawiane dodatkowe wymagania w przyszłości zapewne przełożą się na dalszy intensywny rozwój metod detekcji i rozpoznawania twarzy.\n",
        "\n",
        "cdn..\n"
      ]
    },
    {
      "cell_type": "markdown",
      "metadata": {
        "id": "bCxpD6hCUL-v",
        "colab_type": "text"
      },
      "source": [
        "- [Definicja problemu](01_01_.ipynb)\n",
        "\n",
        "<br>\n",
        "\n",
        "\n",
        "\n",
        "---\n",
        "\n"
      ]
    }
  ]
}