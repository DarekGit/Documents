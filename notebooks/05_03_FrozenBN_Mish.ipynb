{
  "nbformat": 4,
  "nbformat_minor": 0,
  "metadata": {
    "colab": {
      "name": "05_03_FrozenBN_Mish.ipynb",
      "provenance": [],
      "include_colab_link": true
    },
    "kernelspec": {
      "name": "python3",
      "display_name": "Python 3"
    }
  },
  "cells": [
    {
      "cell_type": "markdown",
      "metadata": {
        "id": "view-in-github",
        "colab_type": "text"
      },
      "source": [
        "<a href=\"https://colab.research.google.com/github/DarekGit/FACES_DNN/blob/master/notebooks/05_03_FrozenBN_Mish.ipynb\" target=\"_parent\"><img src=\"https://colab.research.google.com/assets/colab-badge.svg\" alt=\"Open In Colab\"/></a>"
      ]
    },
    {
      "cell_type": "markdown",
      "metadata": {
        "id": "0cIgmFEiAY5z",
        "colab_type": "text"
      },
      "source": [
        "##<b> Batch normalization</b>\n",
        "<br>Trenowanie głębokich sieci neuronowych jest skomplikowane przez fakt, że rozkład danych wejściowych każdej warstwy zmienia się podczas uczenia, gdy zmieniają się parametry poprzednich warstw. Spowalnia to traning, ponieważ wymaga niższych współczynników uczenia się i starannej inicjalizacji parametrów, sprawia również, że trudno jest trenować modele z narastającymi nieliniowościami. Nazywamy to zjawisko jako wewnętrzną zmianę współzmienną i rozwiązujemy ten problem poprzez normalizację danych wejściowych warstwy. \n",
        "<br>Batch Norm korzysta z włączania normalizacji do architektury modelu i wykonywania normalizacji dla każdej mini partii treningowej. Normalizacja wsadowa pozwala  używać znacznie wyższych współczynników uczenia się i być mniej ostrożnym podczas inicjalizacji. Działa również jako regulator, w niektórych przypadkach eliminując potrzebę stosowania Dropout. Zastosowana do najnowocześniejszego modelu klasyfikacji obrazu, Batch Norm osiąga taką samą dokładność przy 14-krotnie mniejszej liczbie kroków treningowych i znacząco poprawia oryginalne modele. \n",
        "<br>Dzięki Batch Norm, poprawiono wyniki klasyfikacji ImageNet, osigając błąd walidacji top-5 na poziomie 4.9%, przekraczając wyniki osiągane przez ludzi.\n",
        "\n",
        "<br>Więcej informacji dostępnych jest na stronie: [arxiv.org](https://arxiv.org/pdf/1502.03167.pdf)"
      ]
    },
    {
      "cell_type": "markdown",
      "metadata": {
        "id": "VqDB3VDNNG3V",
        "colab_type": "text"
      },
      "source": [
        "Serge Ioffe i Christian Szegedy w 2015 roku zaproponowali sieć z Batch Normalization (BN), w której do modelu przed aktywacją dodawana jest operacja normalizująca dane wejściowe (ustawienie średniej na zero i wariancji na jeden), a następnie zastosowanie skali i przesunięcie w celu zachowania wydajności modelu. Sieć uczy się dwóch parametrów, skalarnego (gamma) i parametru przesunięcia (Beta).\n",
        "<br>\n",
        "\n",
        "<br><div align=\"center\">\n",
        "<img alt=\"BN\" src=\"https://github.com/DarekGit/FACES_DNN/blob/master/Figures/BN_mat.png?raw=1\" width=\"420\" />\n",
        "</div>\n",
        "\n",
        "<br>Domyślnie, podczas treningu BN zapamiętuje szacowaną wartość średniej i wariancji, które są następnie wykorzystywane do normalizacji. Bieżące szacunki są zapamiętywane z domyślnym momentem 0.1.\n",
        "\n",
        "Stosowana jest metoda podobna do optymalizacji SGD, z tą różnicą, że aktualizacja odbywa się zgodnie ze wzorem:\n",
        "<br>$\\hat{x}_\\text{new} = (1 - \\text{momentum}) \\times \\hat{x} + \\text{momentum} \\times x_t$<br>\n",
        ", gdzie $\\hat{x}$  to wartość szacowana, a $x_t$ jest nową wartością obserwowaną ."
      ]
    },
    {
      "cell_type": "markdown",
      "metadata": {
        "id": "QJR3oW09R9BB",
        "colab_type": "text"
      },
      "source": [
        "W dokumentacji BN często podaję się, iż działanie BN oparte jest na redukcji wewnętrznego przesunięcia współzmiennego (Reducing Internal Covariate Shift). <br>Jednak przeprowadzone pomiary nie potwierdzają wprost tej relacji. Intuicyjnie opisuje się działanie BN raczej jako wyrównanie przestrzeni optymalizacji (Smoothness of the Optimization Landscape).\n",
        "\n"
      ]
    },
    {
      "cell_type": "markdown",
      "metadata": {
        "id": "w3kPUomgfz0M",
        "colab_type": "text"
      },
      "source": [
        "##<b>Frozen Batch Normalization</b>\n",
        "<br>Wraz z YOLO wersja 4 wprowadzono warstwę Frozen Batch Norm, w celu przyspieszenia transfer learningu. W procesie doszkalania dla FrozenBN stosuje się stałe parametry wcześniej wytrenowane. Zaletą FrozenBN jest możliwość przełączania na BN w trakcie procesu trenowania."
      ]
    },
    {
      "cell_type": "code",
      "metadata": {
        "id": "pIpAlQZr784K",
        "colab_type": "code",
        "colab": {}
      },
      "source": [
        "class FrozenBatchNorm2d(nn.Module):\n",
        "    \"\"\"\n",
        "    BatchNorm2d where the batch statistics and the affine parameters are fixed.\n",
        "\n",
        "    It contains non-trainable buffers called\n",
        "    \"weight\" and \"bias\", \"running_mean\", \"running_var\",\n",
        "    initialized to perform identity transformation.\n",
        "\n",
        "    The pre-trained backbone models from Caffe2 only contain \"weight\" and \"bias\",\n",
        "    which are computed from the original four parameters of BN.\n",
        "    The affine transform `x * weight + bias` will perform the equivalent\n",
        "    computation of `(x - running_mean) / sqrt(running_var) * weight + bias`.\n",
        "    When loading a backbone model from Caffe2, \"running_mean\" and \"running_var\"\n",
        "    will be left unchanged as identity transformation.\n",
        "\n",
        "    Other pre-trained backbone models may contain all 4 parameters.\n",
        "\n",
        "    The forward is implemented by `F.batch_norm(..., training=False)`.\n",
        "    \"\"\"\n",
        "\n",
        "    _version = 3\n",
        "\n",
        "    def __init__(self, num_features, eps=1e-5):\n",
        "        super().__init__()\n",
        "        self.num_features = num_features\n",
        "        self.eps = eps\n",
        "        self.register_buffer(\"weight\", torch.ones(num_features))\n",
        "        self.register_buffer(\"bias\", torch.zeros(num_features))\n",
        "        self.register_buffer(\"running_mean\", torch.zeros(num_features))\n",
        "        self.register_buffer(\"running_var\", torch.ones(num_features) - eps)\n",
        "\n",
        "    def forward(self, x):\n",
        "        if x.requires_grad:\n",
        "            # When gradients are needed, F.batch_norm will use extra memory\n",
        "            # because its backward op computes gradients for weight/bias as well.\n",
        "            scale = self.weight * (self.running_var + self.eps).rsqrt()\n",
        "            bias = self.bias - self.running_mean * scale\n",
        "            scale = scale.reshape(1, -1, 1, 1)\n",
        "            bias = bias.reshape(1, -1, 1, 1)\n",
        "            return x * scale + bias\n",
        "        else:\n",
        "            # When gradients are not needed, F.batch_norm is a single fused op\n",
        "            # and provide more optimization opportunities.\n",
        "            return F.batch_norm(\n",
        "                x,\n",
        "                self.running_mean,\n",
        "                self.running_var,\n",
        "                self.weight,\n",
        "                self.bias,\n",
        "                training=False,\n",
        "                eps=self.eps,\n",
        "            )\n"
      ],
      "execution_count": null,
      "outputs": []
    },
    {
      "cell_type": "markdown",
      "metadata": {
        "id": "76WmFTyPB8R8",
        "colab_type": "text"
      },
      "source": [
        "###Wykorzystanie FrozenBN w pracy\n",
        "<br><b>W pracy wykorzystano FrozenBN w procesie doszkalania. Np. dla sieci MobilenetV2 najlepsze wyniki uzyskano dla procedury trenowania sieci z BN i doszkalania tak wytrenowanej sieci z FrozenBN.</b>\n",
        "<br>Przemawia za tym inuticja, że dzieki BN można uzyskać szybsze szkolenia, jednak regularyzacja ogranicza dokładność. Przełączenie na FrozenBN w końcowej fazie szkolenia, zwiększa wariancję poprawiając ostateczne wyniki sieci."
      ]
    },
    {
      "cell_type": "markdown",
      "metadata": {
        "id": "3T-wAx3pB8Ps",
        "colab_type": "text"
      },
      "source": [
        "##<br><b> Mish activation function</b><br>\n",
        "\n",
        "Funkcja Mish jest nowatorską samoregaryzowaną niemonotoniczną funkcję aktywacji, którą można matematycznie zdefiniować jako: $ f (x) = x * tanh (softplus (x)) $. Funkcje aktywacji odgrywają kluczową rolę w wydajności i dynamice uczenia w sieciach neuronowych. Na podstawie eksperymentów stwierdzono, że Mish przewyższył Leaky ReLU na YOLOv4 ze średnią precyzją CSP-DarkNet-53 (APval50) o 2,1% w wykrywaniu obiektów MS-COCO i ReLU w ResNet-50 na ImageNet-1k pod względem dokładności Top-1 o ≈1 % przy zachowaniu stałych wszystkich innych parametrów sieci i hiperparametrów.\n",
        "<br>Ponadto stwierdzono działanie Mish jako regularyzatora pomagającego w optymalizacji głębokich sieci neuronowych.\n",
        "\n",
        "<br><b>W dalszej częsci pracy wykorzystano funkcję aktywacji Mish w sieci MobileNetV2 w Detectron2, dzięki czemu uzyskano przyspieszenie procesu uczenia oraz wynik mAP lepszy o 2pp wsględem ReLU6.</b>\n",
        "\n",
        "<br>Pierwotnie, informacje o funkcji Mish zaczerpnięto z materiałów o [YOLO wersja 4](https://arxiv.org/abs/2004.10934).\n",
        "<br> Więcej informacji o Msh dostępnych jest na stronie: [arxiv.org](https://arxiv.org/abs/1908.08681)"
      ]
    },
    {
      "cell_type": "code",
      "metadata": {
        "colab_type": "code",
        "id": "oJQ3hZ_7u4pk",
        "colab": {}
      },
      "source": [
        "import torch\n",
        "from torch import nn\n",
        "import numpy as np\n",
        "\n",
        "class Mish(nn.Module):\n",
        "    def __init__(self):\n",
        "        super().__init__()\n",
        "  \n",
        "    def forward(self, x):\n",
        "        x = x * (torch.tanh(nn.functional.softplus(x)))\n",
        "        return x"
      ],
      "execution_count": null,
      "outputs": []
    },
    {
      "cell_type": "code",
      "metadata": {
        "colab_type": "code",
        "id": "hv65rJQau4po",
        "colab": {
          "base_uri": "https://localhost:8080/",
          "height": 513
        },
        "outputId": "94176ce0-8bb6-4a25-99ab-b62eb5990ce4"
      },
      "source": [
        "mish=Mish()\n",
        "x=np.arange(-5,5.1,0.1)\n",
        "y,z=[],[]\n",
        "for i in x:\n",
        "  y.append([mish(torch.tensor([i],dtype=float)),0])\n",
        "  \n",
        "import matplotlib.pyplot as plt\n",
        "fig,ax=plt.subplots(figsize=(12,8))\n",
        "plt.plot(x,y)\n",
        "plt.title(\"Mish function\")\n",
        "plt.ylabel(\"OUT\")\n",
        "plt.xlabel(\"IN\")\n",
        "fig.savefig('Mish function.jpg')\n",
        "plt.show()"
      ],
      "execution_count": null,
      "outputs": [
        {
          "output_type": "display_data",
          "data": {
            "image/png": "[encoded data removed]",
            "text/plain": [
              "<Figure size 864x576 with 1 Axes>"
            ]
          },
          "metadata": {
            "tags": [],
            "needs_background": "light"
          }
        }
      ]
    }
  ]
}