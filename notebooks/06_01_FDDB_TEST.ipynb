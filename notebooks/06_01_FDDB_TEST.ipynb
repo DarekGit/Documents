{
  "nbformat": 4,
  "nbformat_minor": 0,
  "metadata": {
    "colab": {
      "name": "06_01_FDDB_TEST.ipynb",
      "provenance": [],
      "collapsed_sections": [],
      "include_colab_link": true
    },
    "kernelspec": {
      "name": "python3",
      "display_name": "Python 3"
    },
    "accelerator": "GPU",
    "widgets": {
      "application/vnd.jupyter.widget-state+json": {
        "4588cc1982fd45fd902419e6638cfc12": {
          "model_module": "@jupyter-widgets/controls",
          "model_name": "HBoxModel",
          "state": {
            "_view_name": "HBoxView",
            "_dom_classes": [],
            "_model_name": "HBoxModel",
            "_view_module": "@jupyter-widgets/controls",
            "_model_module_version": "1.5.0",
            "_view_count": null,
            "_view_module_version": "1.5.0",
            "box_style": "",
            "layout": "IPY_MODEL_58053a08d0994e8399679eca2adeaab2",
            "_model_module": "@jupyter-widgets/controls",
            "children": [
              "IPY_MODEL_6a2dea304109495bb4b66ec29b1c79d7",
              "IPY_MODEL_196c3e2fbf1b4d0b889ae226c1de45fb"
            ]
          }
        },
        "58053a08d0994e8399679eca2adeaab2": {
          "model_module": "@jupyter-widgets/base",
          "model_name": "LayoutModel",
          "state": {
            "_view_name": "LayoutView",
            "grid_template_rows": null,
            "right": null,
            "justify_content": null,
            "_view_module": "@jupyter-widgets/base",
            "overflow": null,
            "_model_module_version": "1.2.0",
            "_view_count": null,
            "flex_flow": null,
            "width": null,
            "min_width": null,
            "border": null,
            "align_items": null,
            "bottom": null,
            "_model_module": "@jupyter-widgets/base",
            "top": null,
            "grid_column": null,
            "overflow_y": null,
            "overflow_x": null,
            "grid_auto_flow": null,
            "grid_area": null,
            "grid_template_columns": null,
            "flex": null,
            "_model_name": "LayoutModel",
            "justify_items": null,
            "grid_row": null,
            "max_height": null,
            "align_content": null,
            "visibility": null,
            "align_self": null,
            "height": null,
            "min_height": null,
            "padding": null,
            "grid_auto_rows": null,
            "grid_gap": null,
            "max_width": null,
            "order": null,
            "_view_module_version": "1.2.0",
            "grid_template_areas": null,
            "object_position": null,
            "object_fit": null,
            "grid_auto_columns": null,
            "margin": null,
            "display": null,
            "left": null
          }
        },
        "6a2dea304109495bb4b66ec29b1c79d7": {
          "model_module": "@jupyter-widgets/controls",
          "model_name": "FloatProgressModel",
          "state": {
            "_view_name": "ProgressView",
            "style": "IPY_MODEL_447a2d64621f4d67b78046f310c062a7",
            "_dom_classes": [],
            "description": "100%",
            "_model_name": "FloatProgressModel",
            "bar_style": "success",
            "max": 2845,
            "_view_module": "@jupyter-widgets/controls",
            "_model_module_version": "1.5.0",
            "value": 2845,
            "_view_count": null,
            "_view_module_version": "1.5.0",
            "orientation": "horizontal",
            "min": 0,
            "description_tooltip": null,
            "_model_module": "@jupyter-widgets/controls",
            "layout": "IPY_MODEL_2240df5eeb704f4c96484faa6818db9a"
          }
        },
        "196c3e2fbf1b4d0b889ae226c1de45fb": {
          "model_module": "@jupyter-widgets/controls",
          "model_name": "HTMLModel",
          "state": {
            "_view_name": "HTMLView",
            "style": "IPY_MODEL_ab60e7faf585469f87da0414d69cd528",
            "_dom_classes": [],
            "description": "",
            "_model_name": "HTMLModel",
            "placeholder": "​",
            "_view_module": "@jupyter-widgets/controls",
            "_model_module_version": "1.5.0",
            "value": " 2845/2845 [03:08&lt;00:00, 15.12it/s]",
            "_view_count": null,
            "_view_module_version": "1.5.0",
            "description_tooltip": null,
            "_model_module": "@jupyter-widgets/controls",
            "layout": "IPY_MODEL_9d650523fd6540beb65e3d240bf80fbb"
          }
        },
        "447a2d64621f4d67b78046f310c062a7": {
          "model_module": "@jupyter-widgets/controls",
          "model_name": "ProgressStyleModel",
          "state": {
            "_view_name": "StyleView",
            "_model_name": "ProgressStyleModel",
            "description_width": "initial",
            "_view_module": "@jupyter-widgets/base",
            "_model_module_version": "1.5.0",
            "_view_count": null,
            "_view_module_version": "1.2.0",
            "bar_color": null,
            "_model_module": "@jupyter-widgets/controls"
          }
        },
        "2240df5eeb704f4c96484faa6818db9a": {
          "model_module": "@jupyter-widgets/base",
          "model_name": "LayoutModel",
          "state": {
            "_view_name": "LayoutView",
            "grid_template_rows": null,
            "right": null,
            "justify_content": null,
            "_view_module": "@jupyter-widgets/base",
            "overflow": null,
            "_model_module_version": "1.2.0",
            "_view_count": null,
            "flex_flow": null,
            "width": null,
            "min_width": null,
            "border": null,
            "align_items": null,
            "bottom": null,
            "_model_module": "@jupyter-widgets/base",
            "top": null,
            "grid_column": null,
            "overflow_y": null,
            "overflow_x": null,
            "grid_auto_flow": null,
            "grid_area": null,
            "grid_template_columns": null,
            "flex": null,
            "_model_name": "LayoutModel",
            "justify_items": null,
            "grid_row": null,
            "max_height": null,
            "align_content": null,
            "visibility": null,
            "align_self": null,
            "height": null,
            "min_height": null,
            "padding": null,
            "grid_auto_rows": null,
            "grid_gap": null,
            "max_width": null,
            "order": null,
            "_view_module_version": "1.2.0",
            "grid_template_areas": null,
            "object_position": null,
            "object_fit": null,
            "grid_auto_columns": null,
            "margin": null,
            "display": null,
            "left": null
          }
        },
        "ab60e7faf585469f87da0414d69cd528": {
          "model_module": "@jupyter-widgets/controls",
          "model_name": "DescriptionStyleModel",
          "state": {
            "_view_name": "StyleView",
            "_model_name": "DescriptionStyleModel",
            "description_width": "",
            "_view_module": "@jupyter-widgets/base",
            "_model_module_version": "1.5.0",
            "_view_count": null,
            "_view_module_version": "1.2.0",
            "_model_module": "@jupyter-widgets/controls"
          }
        },
        "9d650523fd6540beb65e3d240bf80fbb": {
          "model_module": "@jupyter-widgets/base",
          "model_name": "LayoutModel",
          "state": {
            "_view_name": "LayoutView",
            "grid_template_rows": null,
            "right": null,
            "justify_content": null,
            "_view_module": "@jupyter-widgets/base",
            "overflow": null,
            "_model_module_version": "1.2.0",
            "_view_count": null,
            "flex_flow": null,
            "width": null,
            "min_width": null,
            "border": null,
            "align_items": null,
            "bottom": null,
            "_model_module": "@jupyter-widgets/base",
            "top": null,
            "grid_column": null,
            "overflow_y": null,
            "overflow_x": null,
            "grid_auto_flow": null,
            "grid_area": null,
            "grid_template_columns": null,
            "flex": null,
            "_model_name": "LayoutModel",
            "justify_items": null,
            "grid_row": null,
            "max_height": null,
            "align_content": null,
            "visibility": null,
            "align_self": null,
            "height": null,
            "min_height": null,
            "padding": null,
            "grid_auto_rows": null,
            "grid_gap": null,
            "max_width": null,
            "order": null,
            "_view_module_version": "1.2.0",
            "grid_template_areas": null,
            "object_position": null,
            "object_fit": null,
            "grid_auto_columns": null,
            "margin": null,
            "display": null,
            "left": null
          }
        },
        "b5c4e4c4c2e84ae49bc3a16375580b45": {
          "model_module": "@jupyter-widgets/controls",
          "model_name": "HBoxModel",
          "state": {
            "_view_name": "HBoxView",
            "_dom_classes": [],
            "_model_name": "HBoxModel",
            "_view_module": "@jupyter-widgets/controls",
            "_model_module_version": "1.5.0",
            "_view_count": null,
            "_view_module_version": "1.5.0",
            "box_style": "",
            "layout": "IPY_MODEL_bf5bbd96fca44bb69f964f1b73f7ba76",
            "_model_module": "@jupyter-widgets/controls",
            "children": [
              "IPY_MODEL_472c8659091f4417b58348e8dd0be738",
              "IPY_MODEL_5dde40e463c54c499cce5ebf0a09b407"
            ]
          }
        },
        "bf5bbd96fca44bb69f964f1b73f7ba76": {
          "model_module": "@jupyter-widgets/base",
          "model_name": "LayoutModel",
          "state": {
            "_view_name": "LayoutView",
            "grid_template_rows": null,
            "right": null,
            "justify_content": null,
            "_view_module": "@jupyter-widgets/base",
            "overflow": null,
            "_model_module_version": "1.2.0",
            "_view_count": null,
            "flex_flow": null,
            "width": null,
            "min_width": null,
            "border": null,
            "align_items": null,
            "bottom": null,
            "_model_module": "@jupyter-widgets/base",
            "top": null,
            "grid_column": null,
            "overflow_y": null,
            "overflow_x": null,
            "grid_auto_flow": null,
            "grid_area": null,
            "grid_template_columns": null,
            "flex": null,
            "_model_name": "LayoutModel",
            "justify_items": null,
            "grid_row": null,
            "max_height": null,
            "align_content": null,
            "visibility": null,
            "align_self": null,
            "height": null,
            "min_height": null,
            "padding": null,
            "grid_auto_rows": null,
            "grid_gap": null,
            "max_width": null,
            "order": null,
            "_view_module_version": "1.2.0",
            "grid_template_areas": null,
            "object_position": null,
            "object_fit": null,
            "grid_auto_columns": null,
            "margin": null,
            "display": null,
            "left": null
          }
        },
        "472c8659091f4417b58348e8dd0be738": {
          "model_module": "@jupyter-widgets/controls",
          "model_name": "FloatProgressModel",
          "state": {
            "_view_name": "ProgressView",
            "style": "IPY_MODEL_62cec9d7001a46ab88a53b6e46aaf572",
            "_dom_classes": [],
            "description": "100%",
            "_model_name": "FloatProgressModel",
            "bar_style": "success",
            "max": 2845,
            "_view_module": "@jupyter-widgets/controls",
            "_model_module_version": "1.5.0",
            "value": 2845,
            "_view_count": null,
            "_view_module_version": "1.5.0",
            "orientation": "horizontal",
            "min": 0,
            "description_tooltip": null,
            "_model_module": "@jupyter-widgets/controls",
            "layout": "IPY_MODEL_0c7f29f9a67e4f499de58f648a356a9f"
          }
        },
        "5dde40e463c54c499cce5ebf0a09b407": {
          "model_module": "@jupyter-widgets/controls",
          "model_name": "HTMLModel",
          "state": {
            "_view_name": "HTMLView",
            "style": "IPY_MODEL_a11902d4374d4432afb28342a8df51a0",
            "_dom_classes": [],
            "description": "",
            "_model_name": "HTMLModel",
            "placeholder": "​",
            "_view_module": "@jupyter-widgets/controls",
            "_model_module_version": "1.5.0",
            "value": " 2845/2845 [03:08&lt;00:00, 15.07it/s]",
            "_view_count": null,
            "_view_module_version": "1.5.0",
            "description_tooltip": null,
            "_model_module": "@jupyter-widgets/controls",
            "layout": "IPY_MODEL_2435ee0ca9f649d6b8ef63c74d1f470c"
          }
        },
        "62cec9d7001a46ab88a53b6e46aaf572": {
          "model_module": "@jupyter-widgets/controls",
          "model_name": "ProgressStyleModel",
          "state": {
            "_view_name": "StyleView",
            "_model_name": "ProgressStyleModel",
            "description_width": "initial",
            "_view_module": "@jupyter-widgets/base",
            "_model_module_version": "1.5.0",
            "_view_count": null,
            "_view_module_version": "1.2.0",
            "bar_color": null,
            "_model_module": "@jupyter-widgets/controls"
          }
        },
        "0c7f29f9a67e4f499de58f648a356a9f": {
          "model_module": "@jupyter-widgets/base",
          "model_name": "LayoutModel",
          "state": {
            "_view_name": "LayoutView",
            "grid_template_rows": null,
            "right": null,
            "justify_content": null,
            "_view_module": "@jupyter-widgets/base",
            "overflow": null,
            "_model_module_version": "1.2.0",
            "_view_count": null,
            "flex_flow": null,
            "width": null,
            "min_width": null,
            "border": null,
            "align_items": null,
            "bottom": null,
            "_model_module": "@jupyter-widgets/base",
            "top": null,
            "grid_column": null,
            "overflow_y": null,
            "overflow_x": null,
            "grid_auto_flow": null,
            "grid_area": null,
            "grid_template_columns": null,
            "flex": null,
            "_model_name": "LayoutModel",
            "justify_items": null,
            "grid_row": null,
            "max_height": null,
            "align_content": null,
            "visibility": null,
            "align_self": null,
            "height": null,
            "min_height": null,
            "padding": null,
            "grid_auto_rows": null,
            "grid_gap": null,
            "max_width": null,
            "order": null,
            "_view_module_version": "1.2.0",
            "grid_template_areas": null,
            "object_position": null,
            "object_fit": null,
            "grid_auto_columns": null,
            "margin": null,
            "display": null,
            "left": null
          }
        },
        "a11902d4374d4432afb28342a8df51a0": {
          "model_module": "@jupyter-widgets/controls",
          "model_name": "DescriptionStyleModel",
          "state": {
            "_view_name": "StyleView",
            "_model_name": "DescriptionStyleModel",
            "description_width": "",
            "_view_module": "@jupyter-widgets/base",
            "_model_module_version": "1.5.0",
            "_view_count": null,
            "_view_module_version": "1.2.0",
            "_model_module": "@jupyter-widgets/controls"
          }
        },
        "2435ee0ca9f649d6b8ef63c74d1f470c": {
          "model_module": "@jupyter-widgets/base",
          "model_name": "LayoutModel",
          "state": {
            "_view_name": "LayoutView",
            "grid_template_rows": null,
            "right": null,
            "justify_content": null,
            "_view_module": "@jupyter-widgets/base",
            "overflow": null,
            "_model_module_version": "1.2.0",
            "_view_count": null,
            "flex_flow": null,
            "width": null,
            "min_width": null,
            "border": null,
            "align_items": null,
            "bottom": null,
            "_model_module": "@jupyter-widgets/base",
            "top": null,
            "grid_column": null,
            "overflow_y": null,
            "overflow_x": null,
            "grid_auto_flow": null,
            "grid_area": null,
            "grid_template_columns": null,
            "flex": null,
            "_model_name": "LayoutModel",
            "justify_items": null,
            "grid_row": null,
            "max_height": null,
            "align_content": null,
            "visibility": null,
            "align_self": null,
            "height": null,
            "min_height": null,
            "padding": null,
            "grid_auto_rows": null,
            "grid_gap": null,
            "max_width": null,
            "order": null,
            "_view_module_version": "1.2.0",
            "grid_template_areas": null,
            "object_position": null,
            "object_fit": null,
            "grid_auto_columns": null,
            "margin": null,
            "display": null,
            "left": null
          }
        },
        "ff26a5b6805340d39b2290ef03b7cbfa": {
          "model_module": "@jupyter-widgets/controls",
          "model_name": "HBoxModel",
          "state": {
            "_view_name": "HBoxView",
            "_dom_classes": [],
            "_model_name": "HBoxModel",
            "_view_module": "@jupyter-widgets/controls",
            "_model_module_version": "1.5.0",
            "_view_count": null,
            "_view_module_version": "1.5.0",
            "box_style": "",
            "layout": "IPY_MODEL_1ed626588e5a44d5b6cebcca579b239b",
            "_model_module": "@jupyter-widgets/controls",
            "children": [
              "IPY_MODEL_5c22ff57583743c5b5db10dcf3e4e2e5",
              "IPY_MODEL_537694f814e74f5abd6f043488df7280"
            ]
          }
        },
        "1ed626588e5a44d5b6cebcca579b239b": {
          "model_module": "@jupyter-widgets/base",
          "model_name": "LayoutModel",
          "state": {
            "_view_name": "LayoutView",
            "grid_template_rows": null,
            "right": null,
            "justify_content": null,
            "_view_module": "@jupyter-widgets/base",
            "overflow": null,
            "_model_module_version": "1.2.0",
            "_view_count": null,
            "flex_flow": null,
            "width": null,
            "min_width": null,
            "border": null,
            "align_items": null,
            "bottom": null,
            "_model_module": "@jupyter-widgets/base",
            "top": null,
            "grid_column": null,
            "overflow_y": null,
            "overflow_x": null,
            "grid_auto_flow": null,
            "grid_area": null,
            "grid_template_columns": null,
            "flex": null,
            "_model_name": "LayoutModel",
            "justify_items": null,
            "grid_row": null,
            "max_height": null,
            "align_content": null,
            "visibility": null,
            "align_self": null,
            "height": null,
            "min_height": null,
            "padding": null,
            "grid_auto_rows": null,
            "grid_gap": null,
            "max_width": null,
            "order": null,
            "_view_module_version": "1.2.0",
            "grid_template_areas": null,
            "object_position": null,
            "object_fit": null,
            "grid_auto_columns": null,
            "margin": null,
            "display": null,
            "left": null
          }
        },
        "5c22ff57583743c5b5db10dcf3e4e2e5": {
          "model_module": "@jupyter-widgets/controls",
          "model_name": "FloatProgressModel",
          "state": {
            "_view_name": "ProgressView",
            "style": "IPY_MODEL_0d81c5ab1d734c568065a864b338ca62",
            "_dom_classes": [],
            "description": "100%",
            "_model_name": "FloatProgressModel",
            "bar_style": "success",
            "max": 2845,
            "_view_module": "@jupyter-widgets/controls",
            "_model_module_version": "1.5.0",
            "value": 2845,
            "_view_count": null,
            "_view_module_version": "1.5.0",
            "orientation": "horizontal",
            "min": 0,
            "description_tooltip": null,
            "_model_module": "@jupyter-widgets/controls",
            "layout": "IPY_MODEL_78e18c9cbe4e4812b69a6e9108a69d91"
          }
        },
        "537694f814e74f5abd6f043488df7280": {
          "model_module": "@jupyter-widgets/controls",
          "model_name": "HTMLModel",
          "state": {
            "_view_name": "HTMLView",
            "style": "IPY_MODEL_4f3e0f615b994eb48b076d827a1d9069",
            "_dom_classes": [],
            "description": "",
            "_model_name": "HTMLModel",
            "placeholder": "​",
            "_view_module": "@jupyter-widgets/controls",
            "_model_module_version": "1.5.0",
            "value": " 2845/2845 [03:29&lt;00:00, 13.61it/s]",
            "_view_count": null,
            "_view_module_version": "1.5.0",
            "description_tooltip": null,
            "_model_module": "@jupyter-widgets/controls",
            "layout": "IPY_MODEL_c5a07ab773b04c8f97b83e86eb6aa0a6"
          }
        },
        "0d81c5ab1d734c568065a864b338ca62": {
          "model_module": "@jupyter-widgets/controls",
          "model_name": "ProgressStyleModel",
          "state": {
            "_view_name": "StyleView",
            "_model_name": "ProgressStyleModel",
            "description_width": "initial",
            "_view_module": "@jupyter-widgets/base",
            "_model_module_version": "1.5.0",
            "_view_count": null,
            "_view_module_version": "1.2.0",
            "bar_color": null,
            "_model_module": "@jupyter-widgets/controls"
          }
        },
        "78e18c9cbe4e4812b69a6e9108a69d91": {
          "model_module": "@jupyter-widgets/base",
          "model_name": "LayoutModel",
          "state": {
            "_view_name": "LayoutView",
            "grid_template_rows": null,
            "right": null,
            "justify_content": null,
            "_view_module": "@jupyter-widgets/base",
            "overflow": null,
            "_model_module_version": "1.2.0",
            "_view_count": null,
            "flex_flow": null,
            "width": null,
            "min_width": null,
            "border": null,
            "align_items": null,
            "bottom": null,
            "_model_module": "@jupyter-widgets/base",
            "top": null,
            "grid_column": null,
            "overflow_y": null,
            "overflow_x": null,
            "grid_auto_flow": null,
            "grid_area": null,
            "grid_template_columns": null,
            "flex": null,
            "_model_name": "LayoutModel",
            "justify_items": null,
            "grid_row": null,
            "max_height": null,
            "align_content": null,
            "visibility": null,
            "align_self": null,
            "height": null,
            "min_height": null,
            "padding": null,
            "grid_auto_rows": null,
            "grid_gap": null,
            "max_width": null,
            "order": null,
            "_view_module_version": "1.2.0",
            "grid_template_areas": null,
            "object_position": null,
            "object_fit": null,
            "grid_auto_columns": null,
            "margin": null,
            "display": null,
            "left": null
          }
        },
        "4f3e0f615b994eb48b076d827a1d9069": {
          "model_module": "@jupyter-widgets/controls",
          "model_name": "DescriptionStyleModel",
          "state": {
            "_view_name": "StyleView",
            "_model_name": "DescriptionStyleModel",
            "description_width": "",
            "_view_module": "@jupyter-widgets/base",
            "_model_module_version": "1.5.0",
            "_view_count": null,
            "_view_module_version": "1.2.0",
            "_model_module": "@jupyter-widgets/controls"
          }
        },
        "c5a07ab773b04c8f97b83e86eb6aa0a6": {
          "model_module": "@jupyter-widgets/base",
          "model_name": "LayoutModel",
          "state": {
            "_view_name": "LayoutView",
            "grid_template_rows": null,
            "right": null,
            "justify_content": null,
            "_view_module": "@jupyter-widgets/base",
            "overflow": null,
            "_model_module_version": "1.2.0",
            "_view_count": null,
            "flex_flow": null,
            "width": null,
            "min_width": null,
            "border": null,
            "align_items": null,
            "bottom": null,
            "_model_module": "@jupyter-widgets/base",
            "top": null,
            "grid_column": null,
            "overflow_y": null,
            "overflow_x": null,
            "grid_auto_flow": null,
            "grid_area": null,
            "grid_template_columns": null,
            "flex": null,
            "_model_name": "LayoutModel",
            "justify_items": null,
            "grid_row": null,
            "max_height": null,
            "align_content": null,
            "visibility": null,
            "align_self": null,
            "height": null,
            "min_height": null,
            "padding": null,
            "grid_auto_rows": null,
            "grid_gap": null,
            "max_width": null,
            "order": null,
            "_view_module_version": "1.2.0",
            "grid_template_areas": null,
            "object_position": null,
            "object_fit": null,
            "grid_auto_columns": null,
            "margin": null,
            "display": null,
            "left": null
          }
        },
        "dfd62f2eb7354a87aa576ba14d34efab": {
          "model_module": "@jupyter-widgets/controls",
          "model_name": "HBoxModel",
          "state": {
            "_view_name": "HBoxView",
            "_dom_classes": [],
            "_model_name": "HBoxModel",
            "_view_module": "@jupyter-widgets/controls",
            "_model_module_version": "1.5.0",
            "_view_count": null,
            "_view_module_version": "1.5.0",
            "box_style": "",
            "layout": "IPY_MODEL_51b15b9a035f4ff8ba6bc754838d5dba",
            "_model_module": "@jupyter-widgets/controls",
            "children": [
              "IPY_MODEL_2804f211fae146b8a083aaa553777295",
              "IPY_MODEL_0b67bd8071e8470088132ab291014049"
            ]
          }
        },
        "51b15b9a035f4ff8ba6bc754838d5dba": {
          "model_module": "@jupyter-widgets/base",
          "model_name": "LayoutModel",
          "state": {
            "_view_name": "LayoutView",
            "grid_template_rows": null,
            "right": null,
            "justify_content": null,
            "_view_module": "@jupyter-widgets/base",
            "overflow": null,
            "_model_module_version": "1.2.0",
            "_view_count": null,
            "flex_flow": null,
            "width": null,
            "min_width": null,
            "border": null,
            "align_items": null,
            "bottom": null,
            "_model_module": "@jupyter-widgets/base",
            "top": null,
            "grid_column": null,
            "overflow_y": null,
            "overflow_x": null,
            "grid_auto_flow": null,
            "grid_area": null,
            "grid_template_columns": null,
            "flex": null,
            "_model_name": "LayoutModel",
            "justify_items": null,
            "grid_row": null,
            "max_height": null,
            "align_content": null,
            "visibility": null,
            "align_self": null,
            "height": null,
            "min_height": null,
            "padding": null,
            "grid_auto_rows": null,
            "grid_gap": null,
            "max_width": null,
            "order": null,
            "_view_module_version": "1.2.0",
            "grid_template_areas": null,
            "object_position": null,
            "object_fit": null,
            "grid_auto_columns": null,
            "margin": null,
            "display": null,
            "left": null
          }
        },
        "2804f211fae146b8a083aaa553777295": {
          "model_module": "@jupyter-widgets/controls",
          "model_name": "FloatProgressModel",
          "state": {
            "_view_name": "ProgressView",
            "style": "IPY_MODEL_11fb1fa985a245c58ed9bfa2ee3df274",
            "_dom_classes": [],
            "description": "100%",
            "_model_name": "FloatProgressModel",
            "bar_style": "success",
            "max": 2845,
            "_view_module": "@jupyter-widgets/controls",
            "_model_module_version": "1.5.0",
            "value": 2845,
            "_view_count": null,
            "_view_module_version": "1.5.0",
            "orientation": "horizontal",
            "min": 0,
            "description_tooltip": null,
            "_model_module": "@jupyter-widgets/controls",
            "layout": "IPY_MODEL_080cc3be54e6452faad9ec3d071f0c24"
          }
        },
        "0b67bd8071e8470088132ab291014049": {
          "model_module": "@jupyter-widgets/controls",
          "model_name": "HTMLModel",
          "state": {
            "_view_name": "HTMLView",
            "style": "IPY_MODEL_caa79c443880406cbe87b17fd7b304fa",
            "_dom_classes": [],
            "description": "",
            "_model_name": "HTMLModel",
            "placeholder": "​",
            "_view_module": "@jupyter-widgets/controls",
            "_model_module_version": "1.5.0",
            "value": " 2845/2845 [03:31&lt;00:00, 13.45it/s]",
            "_view_count": null,
            "_view_module_version": "1.5.0",
            "description_tooltip": null,
            "_model_module": "@jupyter-widgets/controls",
            "layout": "IPY_MODEL_01572ccc02ab4624a94509b4b1808846"
          }
        },
        "11fb1fa985a245c58ed9bfa2ee3df274": {
          "model_module": "@jupyter-widgets/controls",
          "model_name": "ProgressStyleModel",
          "state": {
            "_view_name": "StyleView",
            "_model_name": "ProgressStyleModel",
            "description_width": "initial",
            "_view_module": "@jupyter-widgets/base",
            "_model_module_version": "1.5.0",
            "_view_count": null,
            "_view_module_version": "1.2.0",
            "bar_color": null,
            "_model_module": "@jupyter-widgets/controls"
          }
        },
        "080cc3be54e6452faad9ec3d071f0c24": {
          "model_module": "@jupyter-widgets/base",
          "model_name": "LayoutModel",
          "state": {
            "_view_name": "LayoutView",
            "grid_template_rows": null,
            "right": null,
            "justify_content": null,
            "_view_module": "@jupyter-widgets/base",
            "overflow": null,
            "_model_module_version": "1.2.0",
            "_view_count": null,
            "flex_flow": null,
            "width": null,
            "min_width": null,
            "border": null,
            "align_items": null,
            "bottom": null,
            "_model_module": "@jupyter-widgets/base",
            "top": null,
            "grid_column": null,
            "overflow_y": null,
            "overflow_x": null,
            "grid_auto_flow": null,
            "grid_area": null,
            "grid_template_columns": null,
            "flex": null,
            "_model_name": "LayoutModel",
            "justify_items": null,
            "grid_row": null,
            "max_height": null,
            "align_content": null,
            "visibility": null,
            "align_self": null,
            "height": null,
            "min_height": null,
            "padding": null,
            "grid_auto_rows": null,
            "grid_gap": null,
            "max_width": null,
            "order": null,
            "_view_module_version": "1.2.0",
            "grid_template_areas": null,
            "object_position": null,
            "object_fit": null,
            "grid_auto_columns": null,
            "margin": null,
            "display": null,
            "left": null
          }
        },
        "caa79c443880406cbe87b17fd7b304fa": {
          "model_module": "@jupyter-widgets/controls",
          "model_name": "DescriptionStyleModel",
          "state": {
            "_view_name": "StyleView",
            "_model_name": "DescriptionStyleModel",
            "description_width": "",
            "_view_module": "@jupyter-widgets/base",
            "_model_module_version": "1.5.0",
            "_view_count": null,
            "_view_module_version": "1.2.0",
            "_model_module": "@jupyter-widgets/controls"
          }
        },
        "01572ccc02ab4624a94509b4b1808846": {
          "model_module": "@jupyter-widgets/base",
          "model_name": "LayoutModel",
          "state": {
            "_view_name": "LayoutView",
            "grid_template_rows": null,
            "right": null,
            "justify_content": null,
            "_view_module": "@jupyter-widgets/base",
            "overflow": null,
            "_model_module_version": "1.2.0",
            "_view_count": null,
            "flex_flow": null,
            "width": null,
            "min_width": null,
            "border": null,
            "align_items": null,
            "bottom": null,
            "_model_module": "@jupyter-widgets/base",
            "top": null,
            "grid_column": null,
            "overflow_y": null,
            "overflow_x": null,
            "grid_auto_flow": null,
            "grid_area": null,
            "grid_template_columns": null,
            "flex": null,
            "_model_name": "LayoutModel",
            "justify_items": null,
            "grid_row": null,
            "max_height": null,
            "align_content": null,
            "visibility": null,
            "align_self": null,
            "height": null,
            "min_height": null,
            "padding": null,
            "grid_auto_rows": null,
            "grid_gap": null,
            "max_width": null,
            "order": null,
            "_view_module_version": "1.2.0",
            "grid_template_areas": null,
            "object_position": null,
            "object_fit": null,
            "grid_auto_columns": null,
            "margin": null,
            "display": null,
            "left": null
          }
        },
        "30799fe8c5e9440a856667eab67e1bc4": {
          "model_module": "@jupyter-widgets/controls",
          "model_name": "HBoxModel",
          "state": {
            "_view_name": "HBoxView",
            "_dom_classes": [],
            "_model_name": "HBoxModel",
            "_view_module": "@jupyter-widgets/controls",
            "_model_module_version": "1.5.0",
            "_view_count": null,
            "_view_module_version": "1.5.0",
            "box_style": "",
            "layout": "IPY_MODEL_27cb9a8ff9a5489b89cc048242362fa2",
            "_model_module": "@jupyter-widgets/controls",
            "children": [
              "IPY_MODEL_a688cf4d613d4dc6afc60a0dc8118d10",
              "IPY_MODEL_bb4e70ec55ec4167a925af1e5b477f06"
            ]
          }
        },
        "27cb9a8ff9a5489b89cc048242362fa2": {
          "model_module": "@jupyter-widgets/base",
          "model_name": "LayoutModel",
          "state": {
            "_view_name": "LayoutView",
            "grid_template_rows": null,
            "right": null,
            "justify_content": null,
            "_view_module": "@jupyter-widgets/base",
            "overflow": null,
            "_model_module_version": "1.2.0",
            "_view_count": null,
            "flex_flow": null,
            "width": null,
            "min_width": null,
            "border": null,
            "align_items": null,
            "bottom": null,
            "_model_module": "@jupyter-widgets/base",
            "top": null,
            "grid_column": null,
            "overflow_y": null,
            "overflow_x": null,
            "grid_auto_flow": null,
            "grid_area": null,
            "grid_template_columns": null,
            "flex": null,
            "_model_name": "LayoutModel",
            "justify_items": null,
            "grid_row": null,
            "max_height": null,
            "align_content": null,
            "visibility": null,
            "align_self": null,
            "height": null,
            "min_height": null,
            "padding": null,
            "grid_auto_rows": null,
            "grid_gap": null,
            "max_width": null,
            "order": null,
            "_view_module_version": "1.2.0",
            "grid_template_areas": null,
            "object_position": null,
            "object_fit": null,
            "grid_auto_columns": null,
            "margin": null,
            "display": null,
            "left": null
          }
        },
        "a688cf4d613d4dc6afc60a0dc8118d10": {
          "model_module": "@jupyter-widgets/controls",
          "model_name": "FloatProgressModel",
          "state": {
            "_view_name": "ProgressView",
            "style": "IPY_MODEL_155f034ec54e4613a6133df348b88fb1",
            "_dom_classes": [],
            "description": "100%",
            "_model_name": "FloatProgressModel",
            "bar_style": "success",
            "max": 2845,
            "_view_module": "@jupyter-widgets/controls",
            "_model_module_version": "1.5.0",
            "value": 2845,
            "_view_count": null,
            "_view_module_version": "1.5.0",
            "orientation": "horizontal",
            "min": 0,
            "description_tooltip": null,
            "_model_module": "@jupyter-widgets/controls",
            "layout": "IPY_MODEL_c756a7efccfa4a99aa540d947b47c952"
          }
        },
        "bb4e70ec55ec4167a925af1e5b477f06": {
          "model_module": "@jupyter-widgets/controls",
          "model_name": "HTMLModel",
          "state": {
            "_view_name": "HTMLView",
            "style": "IPY_MODEL_bc81f50fa0a84cdc8866da994dbd9b11",
            "_dom_classes": [],
            "description": "",
            "_model_name": "HTMLModel",
            "placeholder": "​",
            "_view_module": "@jupyter-widgets/controls",
            "_model_module_version": "1.5.0",
            "value": " 2845/2845 [04:05&lt;00:00, 11.57it/s]",
            "_view_count": null,
            "_view_module_version": "1.5.0",
            "description_tooltip": null,
            "_model_module": "@jupyter-widgets/controls",
            "layout": "IPY_MODEL_00cf82822bea43eba41f3e64c2028af5"
          }
        },
        "155f034ec54e4613a6133df348b88fb1": {
          "model_module": "@jupyter-widgets/controls",
          "model_name": "ProgressStyleModel",
          "state": {
            "_view_name": "StyleView",
            "_model_name": "ProgressStyleModel",
            "description_width": "initial",
            "_view_module": "@jupyter-widgets/base",
            "_model_module_version": "1.5.0",
            "_view_count": null,
            "_view_module_version": "1.2.0",
            "bar_color": null,
            "_model_module": "@jupyter-widgets/controls"
          }
        },
        "c756a7efccfa4a99aa540d947b47c952": {
          "model_module": "@jupyter-widgets/base",
          "model_name": "LayoutModel",
          "state": {
            "_view_name": "LayoutView",
            "grid_template_rows": null,
            "right": null,
            "justify_content": null,
            "_view_module": "@jupyter-widgets/base",
            "overflow": null,
            "_model_module_version": "1.2.0",
            "_view_count": null,
            "flex_flow": null,
            "width": null,
            "min_width": null,
            "border": null,
            "align_items": null,
            "bottom": null,
            "_model_module": "@jupyter-widgets/base",
            "top": null,
            "grid_column": null,
            "overflow_y": null,
            "overflow_x": null,
            "grid_auto_flow": null,
            "grid_area": null,
            "grid_template_columns": null,
            "flex": null,
            "_model_name": "LayoutModel",
            "justify_items": null,
            "grid_row": null,
            "max_height": null,
            "align_content": null,
            "visibility": null,
            "align_self": null,
            "height": null,
            "min_height": null,
            "padding": null,
            "grid_auto_rows": null,
            "grid_gap": null,
            "max_width": null,
            "order": null,
            "_view_module_version": "1.2.0",
            "grid_template_areas": null,
            "object_position": null,
            "object_fit": null,
            "grid_auto_columns": null,
            "margin": null,
            "display": null,
            "left": null
          }
        },
        "bc81f50fa0a84cdc8866da994dbd9b11": {
          "model_module": "@jupyter-widgets/controls",
          "model_name": "DescriptionStyleModel",
          "state": {
            "_view_name": "StyleView",
            "_model_name": "DescriptionStyleModel",
            "description_width": "",
            "_view_module": "@jupyter-widgets/base",
            "_model_module_version": "1.5.0",
            "_view_count": null,
            "_view_module_version": "1.2.0",
            "_model_module": "@jupyter-widgets/controls"
          }
        },
        "00cf82822bea43eba41f3e64c2028af5": {
          "model_module": "@jupyter-widgets/base",
          "model_name": "LayoutModel",
          "state": {
            "_view_name": "LayoutView",
            "grid_template_rows": null,
            "right": null,
            "justify_content": null,
            "_view_module": "@jupyter-widgets/base",
            "overflow": null,
            "_model_module_version": "1.2.0",
            "_view_count": null,
            "flex_flow": null,
            "width": null,
            "min_width": null,
            "border": null,
            "align_items": null,
            "bottom": null,
            "_model_module": "@jupyter-widgets/base",
            "top": null,
            "grid_column": null,
            "overflow_y": null,
            "overflow_x": null,
            "grid_auto_flow": null,
            "grid_area": null,
            "grid_template_columns": null,
            "flex": null,
            "_model_name": "LayoutModel",
            "justify_items": null,
            "grid_row": null,
            "max_height": null,
            "align_content": null,
            "visibility": null,
            "align_self": null,
            "height": null,
            "min_height": null,
            "padding": null,
            "grid_auto_rows": null,
            "grid_gap": null,
            "max_width": null,
            "order": null,
            "_view_module_version": "1.2.0",
            "grid_template_areas": null,
            "object_position": null,
            "object_fit": null,
            "grid_auto_columns": null,
            "margin": null,
            "display": null,
            "left": null
          }
        },
        "30ecd9735c7e49ba9c86b81c11f7e830": {
          "model_module": "@jupyter-widgets/controls",
          "model_name": "HBoxModel",
          "state": {
            "_view_name": "HBoxView",
            "_dom_classes": [],
            "_model_name": "HBoxModel",
            "_view_module": "@jupyter-widgets/controls",
            "_model_module_version": "1.5.0",
            "_view_count": null,
            "_view_module_version": "1.5.0",
            "box_style": "",
            "layout": "IPY_MODEL_3cfe51a62f2544239c980f16fdcd3425",
            "_model_module": "@jupyter-widgets/controls",
            "children": [
              "IPY_MODEL_f9babdbb69fe4b1f8097c57a43bdef92",
              "IPY_MODEL_22ea628e3f3847bc83c284a059e28a05"
            ]
          }
        },
        "3cfe51a62f2544239c980f16fdcd3425": {
          "model_module": "@jupyter-widgets/base",
          "model_name": "LayoutModel",
          "state": {
            "_view_name": "LayoutView",
            "grid_template_rows": null,
            "right": null,
            "justify_content": null,
            "_view_module": "@jupyter-widgets/base",
            "overflow": null,
            "_model_module_version": "1.2.0",
            "_view_count": null,
            "flex_flow": null,
            "width": null,
            "min_width": null,
            "border": null,
            "align_items": null,
            "bottom": null,
            "_model_module": "@jupyter-widgets/base",
            "top": null,
            "grid_column": null,
            "overflow_y": null,
            "overflow_x": null,
            "grid_auto_flow": null,
            "grid_area": null,
            "grid_template_columns": null,
            "flex": null,
            "_model_name": "LayoutModel",
            "justify_items": null,
            "grid_row": null,
            "max_height": null,
            "align_content": null,
            "visibility": null,
            "align_self": null,
            "height": null,
            "min_height": null,
            "padding": null,
            "grid_auto_rows": null,
            "grid_gap": null,
            "max_width": null,
            "order": null,
            "_view_module_version": "1.2.0",
            "grid_template_areas": null,
            "object_position": null,
            "object_fit": null,
            "grid_auto_columns": null,
            "margin": null,
            "display": null,
            "left": null
          }
        },
        "f9babdbb69fe4b1f8097c57a43bdef92": {
          "model_module": "@jupyter-widgets/controls",
          "model_name": "FloatProgressModel",
          "state": {
            "_view_name": "ProgressView",
            "style": "IPY_MODEL_a35f9eaef3ba493584956fb7b2fcf7b9",
            "_dom_classes": [],
            "description": "100%",
            "_model_name": "FloatProgressModel",
            "bar_style": "success",
            "max": 2845,
            "_view_module": "@jupyter-widgets/controls",
            "_model_module_version": "1.5.0",
            "value": 2845,
            "_view_count": null,
            "_view_module_version": "1.5.0",
            "orientation": "horizontal",
            "min": 0,
            "description_tooltip": null,
            "_model_module": "@jupyter-widgets/controls",
            "layout": "IPY_MODEL_31399b6ed37b4250bed34e5e43054c2d"
          }
        },
        "22ea628e3f3847bc83c284a059e28a05": {
          "model_module": "@jupyter-widgets/controls",
          "model_name": "HTMLModel",
          "state": {
            "_view_name": "HTMLView",
            "style": "IPY_MODEL_fd8e43e01e1f405b8ae92d423fd3aeae",
            "_dom_classes": [],
            "description": "",
            "_model_name": "HTMLModel",
            "placeholder": "​",
            "_view_module": "@jupyter-widgets/controls",
            "_model_module_version": "1.5.0",
            "value": " 2845/2845 [04:17&lt;00:00, 11.05it/s]",
            "_view_count": null,
            "_view_module_version": "1.5.0",
            "description_tooltip": null,
            "_model_module": "@jupyter-widgets/controls",
            "layout": "IPY_MODEL_263ce970860a42d9b376b000815efcaa"
          }
        },
        "a35f9eaef3ba493584956fb7b2fcf7b9": {
          "model_module": "@jupyter-widgets/controls",
          "model_name": "ProgressStyleModel",
          "state": {
            "_view_name": "StyleView",
            "_model_name": "ProgressStyleModel",
            "description_width": "initial",
            "_view_module": "@jupyter-widgets/base",
            "_model_module_version": "1.5.0",
            "_view_count": null,
            "_view_module_version": "1.2.0",
            "bar_color": null,
            "_model_module": "@jupyter-widgets/controls"
          }
        },
        "31399b6ed37b4250bed34e5e43054c2d": {
          "model_module": "@jupyter-widgets/base",
          "model_name": "LayoutModel",
          "state": {
            "_view_name": "LayoutView",
            "grid_template_rows": null,
            "right": null,
            "justify_content": null,
            "_view_module": "@jupyter-widgets/base",
            "overflow": null,
            "_model_module_version": "1.2.0",
            "_view_count": null,
            "flex_flow": null,
            "width": null,
            "min_width": null,
            "border": null,
            "align_items": null,
            "bottom": null,
            "_model_module": "@jupyter-widgets/base",
            "top": null,
            "grid_column": null,
            "overflow_y": null,
            "overflow_x": null,
            "grid_auto_flow": null,
            "grid_area": null,
            "grid_template_columns": null,
            "flex": null,
            "_model_name": "LayoutModel",
            "justify_items": null,
            "grid_row": null,
            "max_height": null,
            "align_content": null,
            "visibility": null,
            "align_self": null,
            "height": null,
            "min_height": null,
            "padding": null,
            "grid_auto_rows": null,
            "grid_gap": null,
            "max_width": null,
            "order": null,
            "_view_module_version": "1.2.0",
            "grid_template_areas": null,
            "object_position": null,
            "object_fit": null,
            "grid_auto_columns": null,
            "margin": null,
            "display": null,
            "left": null
          }
        },
        "fd8e43e01e1f405b8ae92d423fd3aeae": {
          "model_module": "@jupyter-widgets/controls",
          "model_name": "DescriptionStyleModel",
          "state": {
            "_view_name": "StyleView",
            "_model_name": "DescriptionStyleModel",
            "description_width": "",
            "_view_module": "@jupyter-widgets/base",
            "_model_module_version": "1.5.0",
            "_view_count": null,
            "_view_module_version": "1.2.0",
            "_model_module": "@jupyter-widgets/controls"
          }
        },
        "263ce970860a42d9b376b000815efcaa": {
          "model_module": "@jupyter-widgets/base",
          "model_name": "LayoutModel",
          "state": {
            "_view_name": "LayoutView",
            "grid_template_rows": null,
            "right": null,
            "justify_content": null,
            "_view_module": "@jupyter-widgets/base",
            "overflow": null,
            "_model_module_version": "1.2.0",
            "_view_count": null,
            "flex_flow": null,
            "width": null,
            "min_width": null,
            "border": null,
            "align_items": null,
            "bottom": null,
            "_model_module": "@jupyter-widgets/base",
            "top": null,
            "grid_column": null,
            "overflow_y": null,
            "overflow_x": null,
            "grid_auto_flow": null,
            "grid_area": null,
            "grid_template_columns": null,
            "flex": null,
            "_model_name": "LayoutModel",
            "justify_items": null,
            "grid_row": null,
            "max_height": null,
            "align_content": null,
            "visibility": null,
            "align_self": null,
            "height": null,
            "min_height": null,
            "padding": null,
            "grid_auto_rows": null,
            "grid_gap": null,
            "max_width": null,
            "order": null,
            "_view_module_version": "1.2.0",
            "grid_template_areas": null,
            "object_position": null,
            "object_fit": null,
            "grid_auto_columns": null,
            "margin": null,
            "display": null,
            "left": null
          }
        },
        "e444470d331a4ac88f70d8f0e0fe045e": {
          "model_module": "@jupyter-widgets/controls",
          "model_name": "HBoxModel",
          "state": {
            "_view_name": "HBoxView",
            "_dom_classes": [],
            "_model_name": "HBoxModel",
            "_view_module": "@jupyter-widgets/controls",
            "_model_module_version": "1.5.0",
            "_view_count": null,
            "_view_module_version": "1.5.0",
            "box_style": "",
            "layout": "IPY_MODEL_bb81208891f041cc9a3fdc7fbea70f19",
            "_model_module": "@jupyter-widgets/controls",
            "children": [
              "IPY_MODEL_54861d06d7a14997a4fa6af544a7e950",
              "IPY_MODEL_4b355e74d19b42ea97efd0e11c9eaa41"
            ]
          }
        },
        "bb81208891f041cc9a3fdc7fbea70f19": {
          "model_module": "@jupyter-widgets/base",
          "model_name": "LayoutModel",
          "state": {
            "_view_name": "LayoutView",
            "grid_template_rows": null,
            "right": null,
            "justify_content": null,
            "_view_module": "@jupyter-widgets/base",
            "overflow": null,
            "_model_module_version": "1.2.0",
            "_view_count": null,
            "flex_flow": null,
            "width": null,
            "min_width": null,
            "border": null,
            "align_items": null,
            "bottom": null,
            "_model_module": "@jupyter-widgets/base",
            "top": null,
            "grid_column": null,
            "overflow_y": null,
            "overflow_x": null,
            "grid_auto_flow": null,
            "grid_area": null,
            "grid_template_columns": null,
            "flex": null,
            "_model_name": "LayoutModel",
            "justify_items": null,
            "grid_row": null,
            "max_height": null,
            "align_content": null,
            "visibility": null,
            "align_self": null,
            "height": null,
            "min_height": null,
            "padding": null,
            "grid_auto_rows": null,
            "grid_gap": null,
            "max_width": null,
            "order": null,
            "_view_module_version": "1.2.0",
            "grid_template_areas": null,
            "object_position": null,
            "object_fit": null,
            "grid_auto_columns": null,
            "margin": null,
            "display": null,
            "left": null
          }
        },
        "54861d06d7a14997a4fa6af544a7e950": {
          "model_module": "@jupyter-widgets/controls",
          "model_name": "FloatProgressModel",
          "state": {
            "_view_name": "ProgressView",
            "style": "IPY_MODEL_e3d7195c46d5442e8fb879daf4d26727",
            "_dom_classes": [],
            "description": "100%",
            "_model_name": "FloatProgressModel",
            "bar_style": "success",
            "max": 2845,
            "_view_module": "@jupyter-widgets/controls",
            "_model_module_version": "1.5.0",
            "value": 2845,
            "_view_count": null,
            "_view_module_version": "1.5.0",
            "orientation": "horizontal",
            "min": 0,
            "description_tooltip": null,
            "_model_module": "@jupyter-widgets/controls",
            "layout": "IPY_MODEL_ec2c0ba481ca4ee9851b76797cc7c89b"
          }
        },
        "4b355e74d19b42ea97efd0e11c9eaa41": {
          "model_module": "@jupyter-widgets/controls",
          "model_name": "HTMLModel",
          "state": {
            "_view_name": "HTMLView",
            "style": "IPY_MODEL_180c937e39804335ac78e57272d7dd82",
            "_dom_classes": [],
            "description": "",
            "_model_name": "HTMLModel",
            "placeholder": "​",
            "_view_module": "@jupyter-widgets/controls",
            "_model_module_version": "1.5.0",
            "value": " 2845/2845 [09:20&lt;00:00,  5.07it/s]",
            "_view_count": null,
            "_view_module_version": "1.5.0",
            "description_tooltip": null,
            "_model_module": "@jupyter-widgets/controls",
            "layout": "IPY_MODEL_3f64d4196567434f890de0c2a75fb403"
          }
        },
        "e3d7195c46d5442e8fb879daf4d26727": {
          "model_module": "@jupyter-widgets/controls",
          "model_name": "ProgressStyleModel",
          "state": {
            "_view_name": "StyleView",
            "_model_name": "ProgressStyleModel",
            "description_width": "initial",
            "_view_module": "@jupyter-widgets/base",
            "_model_module_version": "1.5.0",
            "_view_count": null,
            "_view_module_version": "1.2.0",
            "bar_color": null,
            "_model_module": "@jupyter-widgets/controls"
          }
        },
        "ec2c0ba481ca4ee9851b76797cc7c89b": {
          "model_module": "@jupyter-widgets/base",
          "model_name": "LayoutModel",
          "state": {
            "_view_name": "LayoutView",
            "grid_template_rows": null,
            "right": null,
            "justify_content": null,
            "_view_module": "@jupyter-widgets/base",
            "overflow": null,
            "_model_module_version": "1.2.0",
            "_view_count": null,
            "flex_flow": null,
            "width": null,
            "min_width": null,
            "border": null,
            "align_items": null,
            "bottom": null,
            "_model_module": "@jupyter-widgets/base",
            "top": null,
            "grid_column": null,
            "overflow_y": null,
            "overflow_x": null,
            "grid_auto_flow": null,
            "grid_area": null,
            "grid_template_columns": null,
            "flex": null,
            "_model_name": "LayoutModel",
            "justify_items": null,
            "grid_row": null,
            "max_height": null,
            "align_content": null,
            "visibility": null,
            "align_self": null,
            "height": null,
            "min_height": null,
            "padding": null,
            "grid_auto_rows": null,
            "grid_gap": null,
            "max_width": null,
            "order": null,
            "_view_module_version": "1.2.0",
            "grid_template_areas": null,
            "object_position": null,
            "object_fit": null,
            "grid_auto_columns": null,
            "margin": null,
            "display": null,
            "left": null
          }
        },
        "180c937e39804335ac78e57272d7dd82": {
          "model_module": "@jupyter-widgets/controls",
          "model_name": "DescriptionStyleModel",
          "state": {
            "_view_name": "StyleView",
            "_model_name": "DescriptionStyleModel",
            "description_width": "",
            "_view_module": "@jupyter-widgets/base",
            "_model_module_version": "1.5.0",
            "_view_count": null,
            "_view_module_version": "1.2.0",
            "_model_module": "@jupyter-widgets/controls"
          }
        },
        "3f64d4196567434f890de0c2a75fb403": {
          "model_module": "@jupyter-widgets/base",
          "model_name": "LayoutModel",
          "state": {
            "_view_name": "LayoutView",
            "grid_template_rows": null,
            "right": null,
            "justify_content": null,
            "_view_module": "@jupyter-widgets/base",
            "overflow": null,
            "_model_module_version": "1.2.0",
            "_view_count": null,
            "flex_flow": null,
            "width": null,
            "min_width": null,
            "border": null,
            "align_items": null,
            "bottom": null,
            "_model_module": "@jupyter-widgets/base",
            "top": null,
            "grid_column": null,
            "overflow_y": null,
            "overflow_x": null,
            "grid_auto_flow": null,
            "grid_area": null,
            "grid_template_columns": null,
            "flex": null,
            "_model_name": "LayoutModel",
            "justify_items": null,
            "grid_row": null,
            "max_height": null,
            "align_content": null,
            "visibility": null,
            "align_self": null,
            "height": null,
            "min_height": null,
            "padding": null,
            "grid_auto_rows": null,
            "grid_gap": null,
            "max_width": null,
            "order": null,
            "_view_module_version": "1.2.0",
            "grid_template_areas": null,
            "object_position": null,
            "object_fit": null,
            "grid_auto_columns": null,
            "margin": null,
            "display": null,
            "left": null
          }
        },
        "ed9edfc0dc9b4440a2cef1745ca97b49": {
          "model_module": "@jupyter-widgets/controls",
          "model_name": "HBoxModel",
          "state": {
            "_view_name": "HBoxView",
            "_dom_classes": [],
            "_model_name": "HBoxModel",
            "_view_module": "@jupyter-widgets/controls",
            "_model_module_version": "1.5.0",
            "_view_count": null,
            "_view_module_version": "1.5.0",
            "box_style": "",
            "layout": "IPY_MODEL_4c0a7092e4cf49b7a72ae88821feb634",
            "_model_module": "@jupyter-widgets/controls",
            "children": [
              "IPY_MODEL_42592a19575541799f32fe14783dd3c2",
              "IPY_MODEL_ba57b55fbde4458aa9469132c97e2707"
            ]
          }
        },
        "4c0a7092e4cf49b7a72ae88821feb634": {
          "model_module": "@jupyter-widgets/base",
          "model_name": "LayoutModel",
          "state": {
            "_view_name": "LayoutView",
            "grid_template_rows": null,
            "right": null,
            "justify_content": null,
            "_view_module": "@jupyter-widgets/base",
            "overflow": null,
            "_model_module_version": "1.2.0",
            "_view_count": null,
            "flex_flow": null,
            "width": null,
            "min_width": null,
            "border": null,
            "align_items": null,
            "bottom": null,
            "_model_module": "@jupyter-widgets/base",
            "top": null,
            "grid_column": null,
            "overflow_y": null,
            "overflow_x": null,
            "grid_auto_flow": null,
            "grid_area": null,
            "grid_template_columns": null,
            "flex": null,
            "_model_name": "LayoutModel",
            "justify_items": null,
            "grid_row": null,
            "max_height": null,
            "align_content": null,
            "visibility": null,
            "align_self": null,
            "height": null,
            "min_height": null,
            "padding": null,
            "grid_auto_rows": null,
            "grid_gap": null,
            "max_width": null,
            "order": null,
            "_view_module_version": "1.2.0",
            "grid_template_areas": null,
            "object_position": null,
            "object_fit": null,
            "grid_auto_columns": null,
            "margin": null,
            "display": null,
            "left": null
          }
        },
        "42592a19575541799f32fe14783dd3c2": {
          "model_module": "@jupyter-widgets/controls",
          "model_name": "FloatProgressModel",
          "state": {
            "_view_name": "ProgressView",
            "style": "IPY_MODEL_35b58c6ad43744d69b16ef9596ec6f01",
            "_dom_classes": [],
            "description": "100%",
            "_model_name": "FloatProgressModel",
            "bar_style": "success",
            "max": 2845,
            "_view_module": "@jupyter-widgets/controls",
            "_model_module_version": "1.5.0",
            "value": 2845,
            "_view_count": null,
            "_view_module_version": "1.5.0",
            "orientation": "horizontal",
            "min": 0,
            "description_tooltip": null,
            "_model_module": "@jupyter-widgets/controls",
            "layout": "IPY_MODEL_50bc539e82ad492495f4aa23ac4afb3f"
          }
        },
        "ba57b55fbde4458aa9469132c97e2707": {
          "model_module": "@jupyter-widgets/controls",
          "model_name": "HTMLModel",
          "state": {
            "_view_name": "HTMLView",
            "style": "IPY_MODEL_6926c73f8e724e55969bbc9c9beb738a",
            "_dom_classes": [],
            "description": "",
            "_model_name": "HTMLModel",
            "placeholder": "​",
            "_view_module": "@jupyter-widgets/controls",
            "_model_module_version": "1.5.0",
            "value": " 2845/2845 [06:08&lt;00:00,  7.73it/s]",
            "_view_count": null,
            "_view_module_version": "1.5.0",
            "description_tooltip": null,
            "_model_module": "@jupyter-widgets/controls",
            "layout": "IPY_MODEL_39d56e35ae66400da36e73c50441d20c"
          }
        },
        "35b58c6ad43744d69b16ef9596ec6f01": {
          "model_module": "@jupyter-widgets/controls",
          "model_name": "ProgressStyleModel",
          "state": {
            "_view_name": "StyleView",
            "_model_name": "ProgressStyleModel",
            "description_width": "initial",
            "_view_module": "@jupyter-widgets/base",
            "_model_module_version": "1.5.0",
            "_view_count": null,
            "_view_module_version": "1.2.0",
            "bar_color": null,
            "_model_module": "@jupyter-widgets/controls"
          }
        },
        "50bc539e82ad492495f4aa23ac4afb3f": {
          "model_module": "@jupyter-widgets/base",
          "model_name": "LayoutModel",
          "state": {
            "_view_name": "LayoutView",
            "grid_template_rows": null,
            "right": null,
            "justify_content": null,
            "_view_module": "@jupyter-widgets/base",
            "overflow": null,
            "_model_module_version": "1.2.0",
            "_view_count": null,
            "flex_flow": null,
            "width": null,
            "min_width": null,
            "border": null,
            "align_items": null,
            "bottom": null,
            "_model_module": "@jupyter-widgets/base",
            "top": null,
            "grid_column": null,
            "overflow_y": null,
            "overflow_x": null,
            "grid_auto_flow": null,
            "grid_area": null,
            "grid_template_columns": null,
            "flex": null,
            "_model_name": "LayoutModel",
            "justify_items": null,
            "grid_row": null,
            "max_height": null,
            "align_content": null,
            "visibility": null,
            "align_self": null,
            "height": null,
            "min_height": null,
            "padding": null,
            "grid_auto_rows": null,
            "grid_gap": null,
            "max_width": null,
            "order": null,
            "_view_module_version": "1.2.0",
            "grid_template_areas": null,
            "object_position": null,
            "object_fit": null,
            "grid_auto_columns": null,
            "margin": null,
            "display": null,
            "left": null
          }
        },
        "6926c73f8e724e55969bbc9c9beb738a": {
          "model_module": "@jupyter-widgets/controls",
          "model_name": "DescriptionStyleModel",
          "state": {
            "_view_name": "StyleView",
            "_model_name": "DescriptionStyleModel",
            "description_width": "",
            "_view_module": "@jupyter-widgets/base",
            "_model_module_version": "1.5.0",
            "_view_count": null,
            "_view_module_version": "1.2.0",
            "_model_module": "@jupyter-widgets/controls"
          }
        },
        "39d56e35ae66400da36e73c50441d20c": {
          "model_module": "@jupyter-widgets/base",
          "model_name": "LayoutModel",
          "state": {
            "_view_name": "LayoutView",
            "grid_template_rows": null,
            "right": null,
            "justify_content": null,
            "_view_module": "@jupyter-widgets/base",
            "overflow": null,
            "_model_module_version": "1.2.0",
            "_view_count": null,
            "flex_flow": null,
            "width": null,
            "min_width": null,
            "border": null,
            "align_items": null,
            "bottom": null,
            "_model_module": "@jupyter-widgets/base",
            "top": null,
            "grid_column": null,
            "overflow_y": null,
            "overflow_x": null,
            "grid_auto_flow": null,
            "grid_area": null,
            "grid_template_columns": null,
            "flex": null,
            "_model_name": "LayoutModel",
            "justify_items": null,
            "grid_row": null,
            "max_height": null,
            "align_content": null,
            "visibility": null,
            "align_self": null,
            "height": null,
            "min_height": null,
            "padding": null,
            "grid_auto_rows": null,
            "grid_gap": null,
            "max_width": null,
            "order": null,
            "_view_module_version": "1.2.0",
            "grid_template_areas": null,
            "object_position": null,
            "object_fit": null,
            "grid_auto_columns": null,
            "margin": null,
            "display": null,
            "left": null
          }
        },
        "f16d85079e3043b1aec2822f93ef61f0": {
          "model_module": "@jupyter-widgets/controls",
          "model_name": "HBoxModel",
          "state": {
            "_view_name": "HBoxView",
            "_dom_classes": [],
            "_model_name": "HBoxModel",
            "_view_module": "@jupyter-widgets/controls",
            "_model_module_version": "1.5.0",
            "_view_count": null,
            "_view_module_version": "1.5.0",
            "box_style": "",
            "layout": "IPY_MODEL_a3b4b8de8da649aeaf41a06e8fe92550",
            "_model_module": "@jupyter-widgets/controls",
            "children": [
              "IPY_MODEL_30d1f762b5e74773b37b573326f4f4a3",
              "IPY_MODEL_21a7d2a32e724f8eab0a9bbde3020347"
            ]
          }
        },
        "a3b4b8de8da649aeaf41a06e8fe92550": {
          "model_module": "@jupyter-widgets/base",
          "model_name": "LayoutModel",
          "state": {
            "_view_name": "LayoutView",
            "grid_template_rows": null,
            "right": null,
            "justify_content": null,
            "_view_module": "@jupyter-widgets/base",
            "overflow": null,
            "_model_module_version": "1.2.0",
            "_view_count": null,
            "flex_flow": null,
            "width": null,
            "min_width": null,
            "border": null,
            "align_items": null,
            "bottom": null,
            "_model_module": "@jupyter-widgets/base",
            "top": null,
            "grid_column": null,
            "overflow_y": null,
            "overflow_x": null,
            "grid_auto_flow": null,
            "grid_area": null,
            "grid_template_columns": null,
            "flex": null,
            "_model_name": "LayoutModel",
            "justify_items": null,
            "grid_row": null,
            "max_height": null,
            "align_content": null,
            "visibility": null,
            "align_self": null,
            "height": null,
            "min_height": null,
            "padding": null,
            "grid_auto_rows": null,
            "grid_gap": null,
            "max_width": null,
            "order": null,
            "_view_module_version": "1.2.0",
            "grid_template_areas": null,
            "object_position": null,
            "object_fit": null,
            "grid_auto_columns": null,
            "margin": null,
            "display": null,
            "left": null
          }
        },
        "30d1f762b5e74773b37b573326f4f4a3": {
          "model_module": "@jupyter-widgets/controls",
          "model_name": "FloatProgressModel",
          "state": {
            "_view_name": "ProgressView",
            "style": "IPY_MODEL_d02f78007dfe4424b209da4615c7f2ea",
            "_dom_classes": [],
            "description": "100%",
            "_model_name": "FloatProgressModel",
            "bar_style": "success",
            "max": 2845,
            "_view_module": "@jupyter-widgets/controls",
            "_model_module_version": "1.5.0",
            "value": 2845,
            "_view_count": null,
            "_view_module_version": "1.5.0",
            "orientation": "horizontal",
            "min": 0,
            "description_tooltip": null,
            "_model_module": "@jupyter-widgets/controls",
            "layout": "IPY_MODEL_f64551b98cc848c087fae8da294c75a5"
          }
        },
        "21a7d2a32e724f8eab0a9bbde3020347": {
          "model_module": "@jupyter-widgets/controls",
          "model_name": "HTMLModel",
          "state": {
            "_view_name": "HTMLView",
            "style": "IPY_MODEL_62b055a0309e4f8b9a351c90ae35b17a",
            "_dom_classes": [],
            "description": "",
            "_model_name": "HTMLModel",
            "placeholder": "​",
            "_view_module": "@jupyter-widgets/controls",
            "_model_module_version": "1.5.0",
            "value": " 2845/2845 [03:03&lt;00:00, 15.47it/s]",
            "_view_count": null,
            "_view_module_version": "1.5.0",
            "description_tooltip": null,
            "_model_module": "@jupyter-widgets/controls",
            "layout": "IPY_MODEL_af7ad74d2318480386eaa530befbe9e6"
          }
        },
        "d02f78007dfe4424b209da4615c7f2ea": {
          "model_module": "@jupyter-widgets/controls",
          "model_name": "ProgressStyleModel",
          "state": {
            "_view_name": "StyleView",
            "_model_name": "ProgressStyleModel",
            "description_width": "initial",
            "_view_module": "@jupyter-widgets/base",
            "_model_module_version": "1.5.0",
            "_view_count": null,
            "_view_module_version": "1.2.0",
            "bar_color": null,
            "_model_module": "@jupyter-widgets/controls"
          }
        },
        "f64551b98cc848c087fae8da294c75a5": {
          "model_module": "@jupyter-widgets/base",
          "model_name": "LayoutModel",
          "state": {
            "_view_name": "LayoutView",
            "grid_template_rows": null,
            "right": null,
            "justify_content": null,
            "_view_module": "@jupyter-widgets/base",
            "overflow": null,
            "_model_module_version": "1.2.0",
            "_view_count": null,
            "flex_flow": null,
            "width": null,
            "min_width": null,
            "border": null,
            "align_items": null,
            "bottom": null,
            "_model_module": "@jupyter-widgets/base",
            "top": null,
            "grid_column": null,
            "overflow_y": null,
            "overflow_x": null,
            "grid_auto_flow": null,
            "grid_area": null,
            "grid_template_columns": null,
            "flex": null,
            "_model_name": "LayoutModel",
            "justify_items": null,
            "grid_row": null,
            "max_height": null,
            "align_content": null,
            "visibility": null,
            "align_self": null,
            "height": null,
            "min_height": null,
            "padding": null,
            "grid_auto_rows": null,
            "grid_gap": null,
            "max_width": null,
            "order": null,
            "_view_module_version": "1.2.0",
            "grid_template_areas": null,
            "object_position": null,
            "object_fit": null,
            "grid_auto_columns": null,
            "margin": null,
            "display": null,
            "left": null
          }
        },
        "62b055a0309e4f8b9a351c90ae35b17a": {
          "model_module": "@jupyter-widgets/controls",
          "model_name": "DescriptionStyleModel",
          "state": {
            "_view_name": "StyleView",
            "_model_name": "DescriptionStyleModel",
            "description_width": "",
            "_view_module": "@jupyter-widgets/base",
            "_model_module_version": "1.5.0",
            "_view_count": null,
            "_view_module_version": "1.2.0",
            "_model_module": "@jupyter-widgets/controls"
          }
        },
        "af7ad74d2318480386eaa530befbe9e6": {
          "model_module": "@jupyter-widgets/base",
          "model_name": "LayoutModel",
          "state": {
            "_view_name": "LayoutView",
            "grid_template_rows": null,
            "right": null,
            "justify_content": null,
            "_view_module": "@jupyter-widgets/base",
            "overflow": null,
            "_model_module_version": "1.2.0",
            "_view_count": null,
            "flex_flow": null,
            "width": null,
            "min_width": null,
            "border": null,
            "align_items": null,
            "bottom": null,
            "_model_module": "@jupyter-widgets/base",
            "top": null,
            "grid_column": null,
            "overflow_y": null,
            "overflow_x": null,
            "grid_auto_flow": null,
            "grid_area": null,
            "grid_template_columns": null,
            "flex": null,
            "_model_name": "LayoutModel",
            "justify_items": null,
            "grid_row": null,
            "max_height": null,
            "align_content": null,
            "visibility": null,
            "align_self": null,
            "height": null,
            "min_height": null,
            "padding": null,
            "grid_auto_rows": null,
            "grid_gap": null,
            "max_width": null,
            "order": null,
            "_view_module_version": "1.2.0",
            "grid_template_areas": null,
            "object_position": null,
            "object_fit": null,
            "grid_auto_columns": null,
            "margin": null,
            "display": null,
            "left": null
          }
        },
        "8c5a5eb7128343d492843fc10c8bae3b": {
          "model_module": "@jupyter-widgets/controls",
          "model_name": "HBoxModel",
          "state": {
            "_view_name": "HBoxView",
            "_dom_classes": [],
            "_model_name": "HBoxModel",
            "_view_module": "@jupyter-widgets/controls",
            "_model_module_version": "1.5.0",
            "_view_count": null,
            "_view_module_version": "1.5.0",
            "box_style": "",
            "layout": "IPY_MODEL_97780358b21449f49b20cefeece1005a",
            "_model_module": "@jupyter-widgets/controls",
            "children": [
              "IPY_MODEL_a49caa47f9be46afae643121814fe104",
              "IPY_MODEL_c6acdec140ee4baa8c4e1b896a18783d"
            ]
          }
        },
        "97780358b21449f49b20cefeece1005a": {
          "model_module": "@jupyter-widgets/base",
          "model_name": "LayoutModel",
          "state": {
            "_view_name": "LayoutView",
            "grid_template_rows": null,
            "right": null,
            "justify_content": null,
            "_view_module": "@jupyter-widgets/base",
            "overflow": null,
            "_model_module_version": "1.2.0",
            "_view_count": null,
            "flex_flow": null,
            "width": null,
            "min_width": null,
            "border": null,
            "align_items": null,
            "bottom": null,
            "_model_module": "@jupyter-widgets/base",
            "top": null,
            "grid_column": null,
            "overflow_y": null,
            "overflow_x": null,
            "grid_auto_flow": null,
            "grid_area": null,
            "grid_template_columns": null,
            "flex": null,
            "_model_name": "LayoutModel",
            "justify_items": null,
            "grid_row": null,
            "max_height": null,
            "align_content": null,
            "visibility": null,
            "align_self": null,
            "height": null,
            "min_height": null,
            "padding": null,
            "grid_auto_rows": null,
            "grid_gap": null,
            "max_width": null,
            "order": null,
            "_view_module_version": "1.2.0",
            "grid_template_areas": null,
            "object_position": null,
            "object_fit": null,
            "grid_auto_columns": null,
            "margin": null,
            "display": null,
            "left": null
          }
        },
        "a49caa47f9be46afae643121814fe104": {
          "model_module": "@jupyter-widgets/controls",
          "model_name": "FloatProgressModel",
          "state": {
            "_view_name": "ProgressView",
            "style": "IPY_MODEL_5de6e8f72e2f43d699edecf75b7fa036",
            "_dom_classes": [],
            "description": "100%",
            "_model_name": "FloatProgressModel",
            "bar_style": "success",
            "max": 2845,
            "_view_module": "@jupyter-widgets/controls",
            "_model_module_version": "1.5.0",
            "value": 2845,
            "_view_count": null,
            "_view_module_version": "1.5.0",
            "orientation": "horizontal",
            "min": 0,
            "description_tooltip": null,
            "_model_module": "@jupyter-widgets/controls",
            "layout": "IPY_MODEL_982e8fdfba4040aa8ba5b0d813cb25d2"
          }
        },
        "c6acdec140ee4baa8c4e1b896a18783d": {
          "model_module": "@jupyter-widgets/controls",
          "model_name": "HTMLModel",
          "state": {
            "_view_name": "HTMLView",
            "style": "IPY_MODEL_0757493eab7348c3809192fbe9a889a0",
            "_dom_classes": [],
            "description": "",
            "_model_name": "HTMLModel",
            "placeholder": "​",
            "_view_module": "@jupyter-widgets/controls",
            "_model_module_version": "1.5.0",
            "value": " 2845/2845 [14:03&lt;00:00,  3.37it/s]",
            "_view_count": null,
            "_view_module_version": "1.5.0",
            "description_tooltip": null,
            "_model_module": "@jupyter-widgets/controls",
            "layout": "IPY_MODEL_6095d13e993e4d5fb23e5ab42c973803"
          }
        },
        "5de6e8f72e2f43d699edecf75b7fa036": {
          "model_module": "@jupyter-widgets/controls",
          "model_name": "ProgressStyleModel",
          "state": {
            "_view_name": "StyleView",
            "_model_name": "ProgressStyleModel",
            "description_width": "initial",
            "_view_module": "@jupyter-widgets/base",
            "_model_module_version": "1.5.0",
            "_view_count": null,
            "_view_module_version": "1.2.0",
            "bar_color": null,
            "_model_module": "@jupyter-widgets/controls"
          }
        },
        "982e8fdfba4040aa8ba5b0d813cb25d2": {
          "model_module": "@jupyter-widgets/base",
          "model_name": "LayoutModel",
          "state": {
            "_view_name": "LayoutView",
            "grid_template_rows": null,
            "right": null,
            "justify_content": null,
            "_view_module": "@jupyter-widgets/base",
            "overflow": null,
            "_model_module_version": "1.2.0",
            "_view_count": null,
            "flex_flow": null,
            "width": null,
            "min_width": null,
            "border": null,
            "align_items": null,
            "bottom": null,
            "_model_module": "@jupyter-widgets/base",
            "top": null,
            "grid_column": null,
            "overflow_y": null,
            "overflow_x": null,
            "grid_auto_flow": null,
            "grid_area": null,
            "grid_template_columns": null,
            "flex": null,
            "_model_name": "LayoutModel",
            "justify_items": null,
            "grid_row": null,
            "max_height": null,
            "align_content": null,
            "visibility": null,
            "align_self": null,
            "height": null,
            "min_height": null,
            "padding": null,
            "grid_auto_rows": null,
            "grid_gap": null,
            "max_width": null,
            "order": null,
            "_view_module_version": "1.2.0",
            "grid_template_areas": null,
            "object_position": null,
            "object_fit": null,
            "grid_auto_columns": null,
            "margin": null,
            "display": null,
            "left": null
          }
        },
        "0757493eab7348c3809192fbe9a889a0": {
          "model_module": "@jupyter-widgets/controls",
          "model_name": "DescriptionStyleModel",
          "state": {
            "_view_name": "StyleView",
            "_model_name": "DescriptionStyleModel",
            "description_width": "",
            "_view_module": "@jupyter-widgets/base",
            "_model_module_version": "1.5.0",
            "_view_count": null,
            "_view_module_version": "1.2.0",
            "_model_module": "@jupyter-widgets/controls"
          }
        },
        "6095d13e993e4d5fb23e5ab42c973803": {
          "model_module": "@jupyter-widgets/base",
          "model_name": "LayoutModel",
          "state": {
            "_view_name": "LayoutView",
            "grid_template_rows": null,
            "right": null,
            "justify_content": null,
            "_view_module": "@jupyter-widgets/base",
            "overflow": null,
            "_model_module_version": "1.2.0",
            "_view_count": null,
            "flex_flow": null,
            "width": null,
            "min_width": null,
            "border": null,
            "align_items": null,
            "bottom": null,
            "_model_module": "@jupyter-widgets/base",
            "top": null,
            "grid_column": null,
            "overflow_y": null,
            "overflow_x": null,
            "grid_auto_flow": null,
            "grid_area": null,
            "grid_template_columns": null,
            "flex": null,
            "_model_name": "LayoutModel",
            "justify_items": null,
            "grid_row": null,
            "max_height": null,
            "align_content": null,
            "visibility": null,
            "align_self": null,
            "height": null,
            "min_height": null,
            "padding": null,
            "grid_auto_rows": null,
            "grid_gap": null,
            "max_width": null,
            "order": null,
            "_view_module_version": "1.2.0",
            "grid_template_areas": null,
            "object_position": null,
            "object_fit": null,
            "grid_auto_columns": null,
            "margin": null,
            "display": null,
            "left": null
          }
        },
        "05686e7e861e491c80b7218a580d4464": {
          "model_module": "@jupyter-widgets/controls",
          "model_name": "HBoxModel",
          "state": {
            "_view_name": "HBoxView",
            "_dom_classes": [],
            "_model_name": "HBoxModel",
            "_view_module": "@jupyter-widgets/controls",
            "_model_module_version": "1.5.0",
            "_view_count": null,
            "_view_module_version": "1.5.0",
            "box_style": "",
            "layout": "IPY_MODEL_1e104c1e1db9492b9a1be2b25edfbd33",
            "_model_module": "@jupyter-widgets/controls",
            "children": [
              "IPY_MODEL_0785ce71f0e3478d8d3c85e1b203be8a",
              "IPY_MODEL_bd04d6d3d36e43b9b62ea75b1cd553bf"
            ]
          }
        },
        "1e104c1e1db9492b9a1be2b25edfbd33": {
          "model_module": "@jupyter-widgets/base",
          "model_name": "LayoutModel",
          "state": {
            "_view_name": "LayoutView",
            "grid_template_rows": null,
            "right": null,
            "justify_content": null,
            "_view_module": "@jupyter-widgets/base",
            "overflow": null,
            "_model_module_version": "1.2.0",
            "_view_count": null,
            "flex_flow": null,
            "width": null,
            "min_width": null,
            "border": null,
            "align_items": null,
            "bottom": null,
            "_model_module": "@jupyter-widgets/base",
            "top": null,
            "grid_column": null,
            "overflow_y": null,
            "overflow_x": null,
            "grid_auto_flow": null,
            "grid_area": null,
            "grid_template_columns": null,
            "flex": null,
            "_model_name": "LayoutModel",
            "justify_items": null,
            "grid_row": null,
            "max_height": null,
            "align_content": null,
            "visibility": null,
            "align_self": null,
            "height": null,
            "min_height": null,
            "padding": null,
            "grid_auto_rows": null,
            "grid_gap": null,
            "max_width": null,
            "order": null,
            "_view_module_version": "1.2.0",
            "grid_template_areas": null,
            "object_position": null,
            "object_fit": null,
            "grid_auto_columns": null,
            "margin": null,
            "display": null,
            "left": null
          }
        },
        "0785ce71f0e3478d8d3c85e1b203be8a": {
          "model_module": "@jupyter-widgets/controls",
          "model_name": "FloatProgressModel",
          "state": {
            "_view_name": "ProgressView",
            "style": "IPY_MODEL_40cdd804e31c4c83a80ac32b00e54c87",
            "_dom_classes": [],
            "description": "100%",
            "_model_name": "FloatProgressModel",
            "bar_style": "success",
            "max": 2845,
            "_view_module": "@jupyter-widgets/controls",
            "_model_module_version": "1.5.0",
            "value": 2845,
            "_view_count": null,
            "_view_module_version": "1.5.0",
            "orientation": "horizontal",
            "min": 0,
            "description_tooltip": null,
            "_model_module": "@jupyter-widgets/controls",
            "layout": "IPY_MODEL_4f0fae52f7bc4327a1f273f1db794034"
          }
        },
        "bd04d6d3d36e43b9b62ea75b1cd553bf": {
          "model_module": "@jupyter-widgets/controls",
          "model_name": "HTMLModel",
          "state": {
            "_view_name": "HTMLView",
            "style": "IPY_MODEL_712a32f77aac49878422b3cf686c0892",
            "_dom_classes": [],
            "description": "",
            "_model_name": "HTMLModel",
            "placeholder": "​",
            "_view_module": "@jupyter-widgets/controls",
            "_model_module_version": "1.5.0",
            "value": " 2845/2845 [10:39&lt;00:00,  4.45it/s]",
            "_view_count": null,
            "_view_module_version": "1.5.0",
            "description_tooltip": null,
            "_model_module": "@jupyter-widgets/controls",
            "layout": "IPY_MODEL_5c20d431fa1a41ccaddea990fa9ac785"
          }
        },
        "40cdd804e31c4c83a80ac32b00e54c87": {
          "model_module": "@jupyter-widgets/controls",
          "model_name": "ProgressStyleModel",
          "state": {
            "_view_name": "StyleView",
            "_model_name": "ProgressStyleModel",
            "description_width": "initial",
            "_view_module": "@jupyter-widgets/base",
            "_model_module_version": "1.5.0",
            "_view_count": null,
            "_view_module_version": "1.2.0",
            "bar_color": null,
            "_model_module": "@jupyter-widgets/controls"
          }
        },
        "4f0fae52f7bc4327a1f273f1db794034": {
          "model_module": "@jupyter-widgets/base",
          "model_name": "LayoutModel",
          "state": {
            "_view_name": "LayoutView",
            "grid_template_rows": null,
            "right": null,
            "justify_content": null,
            "_view_module": "@jupyter-widgets/base",
            "overflow": null,
            "_model_module_version": "1.2.0",
            "_view_count": null,
            "flex_flow": null,
            "width": null,
            "min_width": null,
            "border": null,
            "align_items": null,
            "bottom": null,
            "_model_module": "@jupyter-widgets/base",
            "top": null,
            "grid_column": null,
            "overflow_y": null,
            "overflow_x": null,
            "grid_auto_flow": null,
            "grid_area": null,
            "grid_template_columns": null,
            "flex": null,
            "_model_name": "LayoutModel",
            "justify_items": null,
            "grid_row": null,
            "max_height": null,
            "align_content": null,
            "visibility": null,
            "align_self": null,
            "height": null,
            "min_height": null,
            "padding": null,
            "grid_auto_rows": null,
            "grid_gap": null,
            "max_width": null,
            "order": null,
            "_view_module_version": "1.2.0",
            "grid_template_areas": null,
            "object_position": null,
            "object_fit": null,
            "grid_auto_columns": null,
            "margin": null,
            "display": null,
            "left": null
          }
        },
        "712a32f77aac49878422b3cf686c0892": {
          "model_module": "@jupyter-widgets/controls",
          "model_name": "DescriptionStyleModel",
          "state": {
            "_view_name": "StyleView",
            "_model_name": "DescriptionStyleModel",
            "description_width": "",
            "_view_module": "@jupyter-widgets/base",
            "_model_module_version": "1.5.0",
            "_view_count": null,
            "_view_module_version": "1.2.0",
            "_model_module": "@jupyter-widgets/controls"
          }
        },
        "5c20d431fa1a41ccaddea990fa9ac785": {
          "model_module": "@jupyter-widgets/base",
          "model_name": "LayoutModel",
          "state": {
            "_view_name": "LayoutView",
            "grid_template_rows": null,
            "right": null,
            "justify_content": null,
            "_view_module": "@jupyter-widgets/base",
            "overflow": null,
            "_model_module_version": "1.2.0",
            "_view_count": null,
            "flex_flow": null,
            "width": null,
            "min_width": null,
            "border": null,
            "align_items": null,
            "bottom": null,
            "_model_module": "@jupyter-widgets/base",
            "top": null,
            "grid_column": null,
            "overflow_y": null,
            "overflow_x": null,
            "grid_auto_flow": null,
            "grid_area": null,
            "grid_template_columns": null,
            "flex": null,
            "_model_name": "LayoutModel",
            "justify_items": null,
            "grid_row": null,
            "max_height": null,
            "align_content": null,
            "visibility": null,
            "align_self": null,
            "height": null,
            "min_height": null,
            "padding": null,
            "grid_auto_rows": null,
            "grid_gap": null,
            "max_width": null,
            "order": null,
            "_view_module_version": "1.2.0",
            "grid_template_areas": null,
            "object_position": null,
            "object_fit": null,
            "grid_auto_columns": null,
            "margin": null,
            "display": null,
            "left": null
          }
        },
        "c2fdf410fa184b0693d8f5b5af588e5a": {
          "model_module": "@jupyter-widgets/controls",
          "model_name": "HBoxModel",
          "state": {
            "_view_name": "HBoxView",
            "_dom_classes": [],
            "_model_name": "HBoxModel",
            "_view_module": "@jupyter-widgets/controls",
            "_model_module_version": "1.5.0",
            "_view_count": null,
            "_view_module_version": "1.5.0",
            "box_style": "",
            "layout": "IPY_MODEL_c9f4d05cfeba44329e7f59f2625f3c36",
            "_model_module": "@jupyter-widgets/controls",
            "children": [
              "IPY_MODEL_07dd406b3a164896af4aeed18e912d72",
              "IPY_MODEL_b914ba2188284f1ebc238fd9b6712c30"
            ]
          }
        },
        "c9f4d05cfeba44329e7f59f2625f3c36": {
          "model_module": "@jupyter-widgets/base",
          "model_name": "LayoutModel",
          "state": {
            "_view_name": "LayoutView",
            "grid_template_rows": null,
            "right": null,
            "justify_content": null,
            "_view_module": "@jupyter-widgets/base",
            "overflow": null,
            "_model_module_version": "1.2.0",
            "_view_count": null,
            "flex_flow": null,
            "width": null,
            "min_width": null,
            "border": null,
            "align_items": null,
            "bottom": null,
            "_model_module": "@jupyter-widgets/base",
            "top": null,
            "grid_column": null,
            "overflow_y": null,
            "overflow_x": null,
            "grid_auto_flow": null,
            "grid_area": null,
            "grid_template_columns": null,
            "flex": null,
            "_model_name": "LayoutModel",
            "justify_items": null,
            "grid_row": null,
            "max_height": null,
            "align_content": null,
            "visibility": null,
            "align_self": null,
            "height": null,
            "min_height": null,
            "padding": null,
            "grid_auto_rows": null,
            "grid_gap": null,
            "max_width": null,
            "order": null,
            "_view_module_version": "1.2.0",
            "grid_template_areas": null,
            "object_position": null,
            "object_fit": null,
            "grid_auto_columns": null,
            "margin": null,
            "display": null,
            "left": null
          }
        },
        "07dd406b3a164896af4aeed18e912d72": {
          "model_module": "@jupyter-widgets/controls",
          "model_name": "FloatProgressModel",
          "state": {
            "_view_name": "ProgressView",
            "style": "IPY_MODEL_2ce6474497e04e2bb0d744b9045e014c",
            "_dom_classes": [],
            "description": "100%",
            "_model_name": "FloatProgressModel",
            "bar_style": "success",
            "max": 2845,
            "_view_module": "@jupyter-widgets/controls",
            "_model_module_version": "1.5.0",
            "value": 2845,
            "_view_count": null,
            "_view_module_version": "1.5.0",
            "orientation": "horizontal",
            "min": 0,
            "description_tooltip": null,
            "_model_module": "@jupyter-widgets/controls",
            "layout": "IPY_MODEL_a2c9b9cb8a9d413ca0fe9af6fdc995f1"
          }
        },
        "b914ba2188284f1ebc238fd9b6712c30": {
          "model_module": "@jupyter-widgets/controls",
          "model_name": "HTMLModel",
          "state": {
            "_view_name": "HTMLView",
            "style": "IPY_MODEL_ccea2b43b737494fb7d54cef8f088127",
            "_dom_classes": [],
            "description": "",
            "_model_name": "HTMLModel",
            "placeholder": "​",
            "_view_module": "@jupyter-widgets/controls",
            "_model_module_version": "1.5.0",
            "value": " 2845/2845 [07:12&lt;00:00,  6.58it/s]",
            "_view_count": null,
            "_view_module_version": "1.5.0",
            "description_tooltip": null,
            "_model_module": "@jupyter-widgets/controls",
            "layout": "IPY_MODEL_fbac761da54d44a6b13e8fd0d35bebaa"
          }
        },
        "2ce6474497e04e2bb0d744b9045e014c": {
          "model_module": "@jupyter-widgets/controls",
          "model_name": "ProgressStyleModel",
          "state": {
            "_view_name": "StyleView",
            "_model_name": "ProgressStyleModel",
            "description_width": "initial",
            "_view_module": "@jupyter-widgets/base",
            "_model_module_version": "1.5.0",
            "_view_count": null,
            "_view_module_version": "1.2.0",
            "bar_color": null,
            "_model_module": "@jupyter-widgets/controls"
          }
        },
        "a2c9b9cb8a9d413ca0fe9af6fdc995f1": {
          "model_module": "@jupyter-widgets/base",
          "model_name": "LayoutModel",
          "state": {
            "_view_name": "LayoutView",
            "grid_template_rows": null,
            "right": null,
            "justify_content": null,
            "_view_module": "@jupyter-widgets/base",
            "overflow": null,
            "_model_module_version": "1.2.0",
            "_view_count": null,
            "flex_flow": null,
            "width": null,
            "min_width": null,
            "border": null,
            "align_items": null,
            "bottom": null,
            "_model_module": "@jupyter-widgets/base",
            "top": null,
            "grid_column": null,
            "overflow_y": null,
            "overflow_x": null,
            "grid_auto_flow": null,
            "grid_area": null,
            "grid_template_columns": null,
            "flex": null,
            "_model_name": "LayoutModel",
            "justify_items": null,
            "grid_row": null,
            "max_height": null,
            "align_content": null,
            "visibility": null,
            "align_self": null,
            "height": null,
            "min_height": null,
            "padding": null,
            "grid_auto_rows": null,
            "grid_gap": null,
            "max_width": null,
            "order": null,
            "_view_module_version": "1.2.0",
            "grid_template_areas": null,
            "object_position": null,
            "object_fit": null,
            "grid_auto_columns": null,
            "margin": null,
            "display": null,
            "left": null
          }
        },
        "ccea2b43b737494fb7d54cef8f088127": {
          "model_module": "@jupyter-widgets/controls",
          "model_name": "DescriptionStyleModel",
          "state": {
            "_view_name": "StyleView",
            "_model_name": "DescriptionStyleModel",
            "description_width": "",
            "_view_module": "@jupyter-widgets/base",
            "_model_module_version": "1.5.0",
            "_view_count": null,
            "_view_module_version": "1.2.0",
            "_model_module": "@jupyter-widgets/controls"
          }
        },
        "fbac761da54d44a6b13e8fd0d35bebaa": {
          "model_module": "@jupyter-widgets/base",
          "model_name": "LayoutModel",
          "state": {
            "_view_name": "LayoutView",
            "grid_template_rows": null,
            "right": null,
            "justify_content": null,
            "_view_module": "@jupyter-widgets/base",
            "overflow": null,
            "_model_module_version": "1.2.0",
            "_view_count": null,
            "flex_flow": null,
            "width": null,
            "min_width": null,
            "border": null,
            "align_items": null,
            "bottom": null,
            "_model_module": "@jupyter-widgets/base",
            "top": null,
            "grid_column": null,
            "overflow_y": null,
            "overflow_x": null,
            "grid_auto_flow": null,
            "grid_area": null,
            "grid_template_columns": null,
            "flex": null,
            "_model_name": "LayoutModel",
            "justify_items": null,
            "grid_row": null,
            "max_height": null,
            "align_content": null,
            "visibility": null,
            "align_self": null,
            "height": null,
            "min_height": null,
            "padding": null,
            "grid_auto_rows": null,
            "grid_gap": null,
            "max_width": null,
            "order": null,
            "_view_module_version": "1.2.0",
            "grid_template_areas": null,
            "object_position": null,
            "object_fit": null,
            "grid_auto_columns": null,
            "margin": null,
            "display": null,
            "left": null
          }
        },
        "2b41fdeb980a4adaa39a42c842bd2e22": {
          "model_module": "@jupyter-widgets/controls",
          "model_name": "HBoxModel",
          "state": {
            "_view_name": "HBoxView",
            "_dom_classes": [],
            "_model_name": "HBoxModel",
            "_view_module": "@jupyter-widgets/controls",
            "_model_module_version": "1.5.0",
            "_view_count": null,
            "_view_module_version": "1.5.0",
            "box_style": "",
            "layout": "IPY_MODEL_243b567dca0d49028b27638e2c979840",
            "_model_module": "@jupyter-widgets/controls",
            "children": [
              "IPY_MODEL_b800daefbee945769964e2443b3cf1da",
              "IPY_MODEL_31ad78f804db456a8dc1ffcd3dec8034"
            ]
          }
        },
        "243b567dca0d49028b27638e2c979840": {
          "model_module": "@jupyter-widgets/base",
          "model_name": "LayoutModel",
          "state": {
            "_view_name": "LayoutView",
            "grid_template_rows": null,
            "right": null,
            "justify_content": null,
            "_view_module": "@jupyter-widgets/base",
            "overflow": null,
            "_model_module_version": "1.2.0",
            "_view_count": null,
            "flex_flow": null,
            "width": null,
            "min_width": null,
            "border": null,
            "align_items": null,
            "bottom": null,
            "_model_module": "@jupyter-widgets/base",
            "top": null,
            "grid_column": null,
            "overflow_y": null,
            "overflow_x": null,
            "grid_auto_flow": null,
            "grid_area": null,
            "grid_template_columns": null,
            "flex": null,
            "_model_name": "LayoutModel",
            "justify_items": null,
            "grid_row": null,
            "max_height": null,
            "align_content": null,
            "visibility": null,
            "align_self": null,
            "height": null,
            "min_height": null,
            "padding": null,
            "grid_auto_rows": null,
            "grid_gap": null,
            "max_width": null,
            "order": null,
            "_view_module_version": "1.2.0",
            "grid_template_areas": null,
            "object_position": null,
            "object_fit": null,
            "grid_auto_columns": null,
            "margin": null,
            "display": null,
            "left": null
          }
        },
        "b800daefbee945769964e2443b3cf1da": {
          "model_module": "@jupyter-widgets/controls",
          "model_name": "FloatProgressModel",
          "state": {
            "_view_name": "ProgressView",
            "style": "IPY_MODEL_cfed0dfcdb544a29b9a88f4aa3a34061",
            "_dom_classes": [],
            "description": "100%",
            "_model_name": "FloatProgressModel",
            "bar_style": "success",
            "max": 2845,
            "_view_module": "@jupyter-widgets/controls",
            "_model_module_version": "1.5.0",
            "value": 2845,
            "_view_count": null,
            "_view_module_version": "1.5.0",
            "orientation": "horizontal",
            "min": 0,
            "description_tooltip": null,
            "_model_module": "@jupyter-widgets/controls",
            "layout": "IPY_MODEL_49ede886aa984feeb1f5e2797a661ff4"
          }
        },
        "31ad78f804db456a8dc1ffcd3dec8034": {
          "model_module": "@jupyter-widgets/controls",
          "model_name": "HTMLModel",
          "state": {
            "_view_name": "HTMLView",
            "style": "IPY_MODEL_45e7228856074835b6528ee73a4b3abb",
            "_dom_classes": [],
            "description": "",
            "_model_name": "HTMLModel",
            "placeholder": "​",
            "_view_module": "@jupyter-widgets/controls",
            "_model_module_version": "1.5.0",
            "value": " 2845/2845 [05:44&lt;00:00,  8.25it/s]",
            "_view_count": null,
            "_view_module_version": "1.5.0",
            "description_tooltip": null,
            "_model_module": "@jupyter-widgets/controls",
            "layout": "IPY_MODEL_04910fd1b5af4e4383fa1618ac3e263a"
          }
        },
        "cfed0dfcdb544a29b9a88f4aa3a34061": {
          "model_module": "@jupyter-widgets/controls",
          "model_name": "ProgressStyleModel",
          "state": {
            "_view_name": "StyleView",
            "_model_name": "ProgressStyleModel",
            "description_width": "initial",
            "_view_module": "@jupyter-widgets/base",
            "_model_module_version": "1.5.0",
            "_view_count": null,
            "_view_module_version": "1.2.0",
            "bar_color": null,
            "_model_module": "@jupyter-widgets/controls"
          }
        },
        "49ede886aa984feeb1f5e2797a661ff4": {
          "model_module": "@jupyter-widgets/base",
          "model_name": "LayoutModel",
          "state": {
            "_view_name": "LayoutView",
            "grid_template_rows": null,
            "right": null,
            "justify_content": null,
            "_view_module": "@jupyter-widgets/base",
            "overflow": null,
            "_model_module_version": "1.2.0",
            "_view_count": null,
            "flex_flow": null,
            "width": null,
            "min_width": null,
            "border": null,
            "align_items": null,
            "bottom": null,
            "_model_module": "@jupyter-widgets/base",
            "top": null,
            "grid_column": null,
            "overflow_y": null,
            "overflow_x": null,
            "grid_auto_flow": null,
            "grid_area": null,
            "grid_template_columns": null,
            "flex": null,
            "_model_name": "LayoutModel",
            "justify_items": null,
            "grid_row": null,
            "max_height": null,
            "align_content": null,
            "visibility": null,
            "align_self": null,
            "height": null,
            "min_height": null,
            "padding": null,
            "grid_auto_rows": null,
            "grid_gap": null,
            "max_width": null,
            "order": null,
            "_view_module_version": "1.2.0",
            "grid_template_areas": null,
            "object_position": null,
            "object_fit": null,
            "grid_auto_columns": null,
            "margin": null,
            "display": null,
            "left": null
          }
        },
        "45e7228856074835b6528ee73a4b3abb": {
          "model_module": "@jupyter-widgets/controls",
          "model_name": "DescriptionStyleModel",
          "state": {
            "_view_name": "StyleView",
            "_model_name": "DescriptionStyleModel",
            "description_width": "",
            "_view_module": "@jupyter-widgets/base",
            "_model_module_version": "1.5.0",
            "_view_count": null,
            "_view_module_version": "1.2.0",
            "_model_module": "@jupyter-widgets/controls"
          }
        },
        "04910fd1b5af4e4383fa1618ac3e263a": {
          "model_module": "@jupyter-widgets/base",
          "model_name": "LayoutModel",
          "state": {
            "_view_name": "LayoutView",
            "grid_template_rows": null,
            "right": null,
            "justify_content": null,
            "_view_module": "@jupyter-widgets/base",
            "overflow": null,
            "_model_module_version": "1.2.0",
            "_view_count": null,
            "flex_flow": null,
            "width": null,
            "min_width": null,
            "border": null,
            "align_items": null,
            "bottom": null,
            "_model_module": "@jupyter-widgets/base",
            "top": null,
            "grid_column": null,
            "overflow_y": null,
            "overflow_x": null,
            "grid_auto_flow": null,
            "grid_area": null,
            "grid_template_columns": null,
            "flex": null,
            "_model_name": "LayoutModel",
            "justify_items": null,
            "grid_row": null,
            "max_height": null,
            "align_content": null,
            "visibility": null,
            "align_self": null,
            "height": null,
            "min_height": null,
            "padding": null,
            "grid_auto_rows": null,
            "grid_gap": null,
            "max_width": null,
            "order": null,
            "_view_module_version": "1.2.0",
            "grid_template_areas": null,
            "object_position": null,
            "object_fit": null,
            "grid_auto_columns": null,
            "margin": null,
            "display": null,
            "left": null
          }
        },
        "72a0559984de493f805348eb5d5e457f": {
          "model_module": "@jupyter-widgets/controls",
          "model_name": "HBoxModel",
          "state": {
            "_view_name": "HBoxView",
            "_dom_classes": [],
            "_model_name": "HBoxModel",
            "_view_module": "@jupyter-widgets/controls",
            "_model_module_version": "1.5.0",
            "_view_count": null,
            "_view_module_version": "1.5.0",
            "box_style": "",
            "layout": "IPY_MODEL_e9d45c5d47644fe48274523517208228",
            "_model_module": "@jupyter-widgets/controls",
            "children": [
              "IPY_MODEL_afb3dfbfabe04c149d69edac99ae1bff",
              "IPY_MODEL_9d11ce03187f4bfb94e3bf60dca71e20"
            ]
          }
        },
        "e9d45c5d47644fe48274523517208228": {
          "model_module": "@jupyter-widgets/base",
          "model_name": "LayoutModel",
          "state": {
            "_view_name": "LayoutView",
            "grid_template_rows": null,
            "right": null,
            "justify_content": null,
            "_view_module": "@jupyter-widgets/base",
            "overflow": null,
            "_model_module_version": "1.2.0",
            "_view_count": null,
            "flex_flow": null,
            "width": null,
            "min_width": null,
            "border": null,
            "align_items": null,
            "bottom": null,
            "_model_module": "@jupyter-widgets/base",
            "top": null,
            "grid_column": null,
            "overflow_y": null,
            "overflow_x": null,
            "grid_auto_flow": null,
            "grid_area": null,
            "grid_template_columns": null,
            "flex": null,
            "_model_name": "LayoutModel",
            "justify_items": null,
            "grid_row": null,
            "max_height": null,
            "align_content": null,
            "visibility": null,
            "align_self": null,
            "height": null,
            "min_height": null,
            "padding": null,
            "grid_auto_rows": null,
            "grid_gap": null,
            "max_width": null,
            "order": null,
            "_view_module_version": "1.2.0",
            "grid_template_areas": null,
            "object_position": null,
            "object_fit": null,
            "grid_auto_columns": null,
            "margin": null,
            "display": null,
            "left": null
          }
        },
        "afb3dfbfabe04c149d69edac99ae1bff": {
          "model_module": "@jupyter-widgets/controls",
          "model_name": "FloatProgressModel",
          "state": {
            "_view_name": "ProgressView",
            "style": "IPY_MODEL_ac3e031c73a04330885eac52cc5a0417",
            "_dom_classes": [],
            "description": "100%",
            "_model_name": "FloatProgressModel",
            "bar_style": "success",
            "max": 2845,
            "_view_module": "@jupyter-widgets/controls",
            "_model_module_version": "1.5.0",
            "value": 2845,
            "_view_count": null,
            "_view_module_version": "1.5.0",
            "orientation": "horizontal",
            "min": 0,
            "description_tooltip": null,
            "_model_module": "@jupyter-widgets/controls",
            "layout": "IPY_MODEL_05f0c758e1f248e6b4ee9557b5508118"
          }
        },
        "9d11ce03187f4bfb94e3bf60dca71e20": {
          "model_module": "@jupyter-widgets/controls",
          "model_name": "HTMLModel",
          "state": {
            "_view_name": "HTMLView",
            "style": "IPY_MODEL_021a34400d90406ca9b9a1a62d21e1dc",
            "_dom_classes": [],
            "description": "",
            "_model_name": "HTMLModel",
            "placeholder": "​",
            "_view_module": "@jupyter-widgets/controls",
            "_model_module_version": "1.5.0",
            "value": " 2845/2845 [01:29&lt;00:00, 31.93it/s]",
            "_view_count": null,
            "_view_module_version": "1.5.0",
            "description_tooltip": null,
            "_model_module": "@jupyter-widgets/controls",
            "layout": "IPY_MODEL_0ebb4af53d354fea9878c50cd2c2167f"
          }
        },
        "ac3e031c73a04330885eac52cc5a0417": {
          "model_module": "@jupyter-widgets/controls",
          "model_name": "ProgressStyleModel",
          "state": {
            "_view_name": "StyleView",
            "_model_name": "ProgressStyleModel",
            "description_width": "initial",
            "_view_module": "@jupyter-widgets/base",
            "_model_module_version": "1.5.0",
            "_view_count": null,
            "_view_module_version": "1.2.0",
            "bar_color": null,
            "_model_module": "@jupyter-widgets/controls"
          }
        },
        "05f0c758e1f248e6b4ee9557b5508118": {
          "model_module": "@jupyter-widgets/base",
          "model_name": "LayoutModel",
          "state": {
            "_view_name": "LayoutView",
            "grid_template_rows": null,
            "right": null,
            "justify_content": null,
            "_view_module": "@jupyter-widgets/base",
            "overflow": null,
            "_model_module_version": "1.2.0",
            "_view_count": null,
            "flex_flow": null,
            "width": null,
            "min_width": null,
            "border": null,
            "align_items": null,
            "bottom": null,
            "_model_module": "@jupyter-widgets/base",
            "top": null,
            "grid_column": null,
            "overflow_y": null,
            "overflow_x": null,
            "grid_auto_flow": null,
            "grid_area": null,
            "grid_template_columns": null,
            "flex": null,
            "_model_name": "LayoutModel",
            "justify_items": null,
            "grid_row": null,
            "max_height": null,
            "align_content": null,
            "visibility": null,
            "align_self": null,
            "height": null,
            "min_height": null,
            "padding": null,
            "grid_auto_rows": null,
            "grid_gap": null,
            "max_width": null,
            "order": null,
            "_view_module_version": "1.2.0",
            "grid_template_areas": null,
            "object_position": null,
            "object_fit": null,
            "grid_auto_columns": null,
            "margin": null,
            "display": null,
            "left": null
          }
        },
        "021a34400d90406ca9b9a1a62d21e1dc": {
          "model_module": "@jupyter-widgets/controls",
          "model_name": "DescriptionStyleModel",
          "state": {
            "_view_name": "StyleView",
            "_model_name": "DescriptionStyleModel",
            "description_width": "",
            "_view_module": "@jupyter-widgets/base",
            "_model_module_version": "1.5.0",
            "_view_count": null,
            "_view_module_version": "1.2.0",
            "_model_module": "@jupyter-widgets/controls"
          }
        },
        "0ebb4af53d354fea9878c50cd2c2167f": {
          "model_module": "@jupyter-widgets/base",
          "model_name": "LayoutModel",
          "state": {
            "_view_name": "LayoutView",
            "grid_template_rows": null,
            "right": null,
            "justify_content": null,
            "_view_module": "@jupyter-widgets/base",
            "overflow": null,
            "_model_module_version": "1.2.0",
            "_view_count": null,
            "flex_flow": null,
            "width": null,
            "min_width": null,
            "border": null,
            "align_items": null,
            "bottom": null,
            "_model_module": "@jupyter-widgets/base",
            "top": null,
            "grid_column": null,
            "overflow_y": null,
            "overflow_x": null,
            "grid_auto_flow": null,
            "grid_area": null,
            "grid_template_columns": null,
            "flex": null,
            "_model_name": "LayoutModel",
            "justify_items": null,
            "grid_row": null,
            "max_height": null,
            "align_content": null,
            "visibility": null,
            "align_self": null,
            "height": null,
            "min_height": null,
            "padding": null,
            "grid_auto_rows": null,
            "grid_gap": null,
            "max_width": null,
            "order": null,
            "_view_module_version": "1.2.0",
            "grid_template_areas": null,
            "object_position": null,
            "object_fit": null,
            "grid_auto_columns": null,
            "margin": null,
            "display": null,
            "left": null
          }
        }
      }
    }
  },
  "cells": [
    {
      "cell_type": "markdown",
      "metadata": {
        "id": "view-in-github",
        "colab_type": "text"
      },
      "source": [
        "<a href=\"https://colab.research.google.com/github/DarekGit/FACES_DNN/blob/master/notebooks/06_01_FDDB_TEST.ipynb\" target=\"_parent\"><img src=\"https://colab.research.google.com/assets/colab-badge.svg\" alt=\"Open In Colab\"/></a>"
      ]
    },
    {
      "cell_type": "markdown",
      "metadata": {
        "id": "Rk0kyukIenrN",
        "colab_type": "text"
      },
      "source": [
        "---\n",
        "\n",
        "[Spis treści](https://github.com/DarekGit/FACES_DNN/blob/master/notebooks/Praca_Dyplomowa.ipynb) | [1. Wstęp](01_00_Wstep.ipynb) | [2. Metryki oceny detekcji](02_00_Miary.ipynb) | [3 .Bazy danych](03_00_Datasety.ipynb) | [4. Przegląd metod detekcji](04_00_Modele.ipynb) | [5. Detekcja twarzy z wykorzystaniem wybranych architektur GSN](05_00_Modyfikacje.ipynb) | [6. Porównanie modeli](06_00_Porownanie.ipynb) | [7. Eksport modelu](07_00_Eksport_modelu.ipynb) | [8. Podsumowanie i wnioski](08_00_Podsumowanie.ipynb) | [Bibliografia](Bibliografia.ipynb)\n",
        "\n",
        "\n",
        "---"
      ]
    },
    {
      "cell_type": "markdown",
      "metadata": {
        "id": "-mr1ouoKcbFB",
        "colab_type": "text"
      },
      "source": [
        "# 6.1. Ewaluacja modeli na zbiorze walidacyjnym FDDB"
      ]
    },
    {
      "cell_type": "markdown",
      "metadata": {
        "id": "mckrcH-VcBSP",
        "colab_type": "text"
      },
      "source": [
        "Instalacja Detectron2, pobranie datasetu i narzędzi"
      ]
    },
    {
      "cell_type": "code",
      "metadata": {
        "id": "L7UjdR40dnFE",
        "colab_type": "code",
        "colab": {}
      },
      "source": [
        "# install detectron2:\n",
        "\n",
        "!pip install cython pyyaml==5.1\n",
        "!pip install -U 'git+https://github.com/cocodataset/cocoapi.git#subdirectory=PythonAPI'\n",
        "\n",
        "!git clone https://github.com/facebookresearch/detectron2 detectron2_repo\n",
        "!pip install -q -e detectron2_repo"
      ],
      "execution_count": null,
      "outputs": []
    },
    {
      "cell_type": "code",
      "metadata": {
        "id": "crDMRtTe5GDd",
        "colab_type": "code",
        "colab": {
          "base_uri": "https://localhost:8080/",
          "height": 423
        },
        "outputId": "1f9a62ca-82cb-4ee1-9cbc-846ccd9ac478"
      },
      "source": [
        "!wget http://tamaraberg.com/faceDataset/originalPics.tar.gz\n",
        "!wget vis-www.cs.umass.edu/fddb/FDDB-folds.tgz\n",
        "!mkdir FDDB\n",
        "!tar -C FDDB -zxf originalPics.tar.gz > /dev/null\n",
        "!tar -C FDDB -zxf FDDB-folds.tgz > /dev/null"
      ],
      "execution_count": null,
      "outputs": [
        {
          "output_type": "stream",
          "text": [
            "--2020-08-20 20:02:48--  http://tamaraberg.com/faceDataset/originalPics.tar.gz\n",
            "Resolving tamaraberg.com (tamaraberg.com)... 54.221.205.183\n",
            "Connecting to tamaraberg.com (tamaraberg.com)|54.221.205.183|:80... connected.\n",
            "HTTP request sent, awaiting response... 200 OK\n",
            "Length: 579061091 (552M) [application/x-gzip]\n",
            "Saving to: ‘originalPics.tar.gz’\n",
            "\n",
            "originalPics.tar.gz 100%[===================>] 552.24M  9.29MB/s    in 84s     \n",
            "\n",
            "2020-08-20 20:04:12 (6.55 MB/s) - ‘originalPics.tar.gz’ saved [579061091/579061091]\n",
            "\n",
            "--2020-08-20 20:04:14--  http://vis-www.cs.umass.edu/fddb/FDDB-folds.tgz\n",
            "Resolving vis-www.cs.umass.edu (vis-www.cs.umass.edu)... 128.119.244.95\n",
            "Connecting to vis-www.cs.umass.edu (vis-www.cs.umass.edu)|128.119.244.95|:80... connected.\n",
            "HTTP request sent, awaiting response... 200 OK\n",
            "Length: 160724 (157K) [application/x-gzip]\n",
            "Saving to: ‘FDDB-folds.tgz’\n",
            "\n",
            "FDDB-folds.tgz      100%[===================>] 156.96K   164KB/s    in 1.0s    \n",
            "\n",
            "2020-08-20 20:04:16 (164 KB/s) - ‘FDDB-folds.tgz’ saved [160724/160724]\n",
            "\n"
          ],
          "name": "stdout"
        }
      ]
    },
    {
      "cell_type": "code",
      "metadata": {
        "id": "ZRhrUDmc9hKZ",
        "colab_type": "code",
        "colab": {
          "base_uri": "https://localhost:8080/",
          "height": 165
        },
        "outputId": "cfc89424-c90f-48f4-8574-62831f318395"
      },
      "source": [
        "# mobilenet\n",
        "!gdown https://drive.google.com/uc?id=1U0SVkSaSio4TBiXvF1QfTZI65WYpXpZ9\n",
        "!unzip -qo mobilenet.zip\n",
        "!rm -f mobilenet.zip\n",
        "\n",
        "# Tools\n",
        "!gdown https://drive.google.com/uc?id=1_9ydMZlTNFXBOMl16xsU8FSBmK2PW4lN -O FDDB/tools.py\n",
        "!wget -q -O FDDB/mAP.py https://drive.google.com/uc?id=1PtEsobTFah3eiCDbSsYblOGbe2fmkjGR"
      ],
      "execution_count": null,
      "outputs": [
        {
          "output_type": "stream",
          "text": [
            "Downloading...\n",
            "From: https://drive.google.com/uc?id=1U0SVkSaSio4TBiXvF1QfTZI65WYpXpZ9\n",
            "To: /content/mobilenet.zip\n",
            "100% 11.8k/11.8k [00:00<00:00, 19.7MB/s]\n",
            "Downloading...\n",
            "From: https://drive.google.com/uc?id=1_9ydMZlTNFXBOMl16xsU8FSBmK2PW4lN\n",
            "To: /content/FDDB/tools.py\n",
            "100% 4.47k/4.47k [00:00<00:00, 3.97MB/s]\n"
          ],
          "name": "stdout"
        }
      ]
    },
    {
      "cell_type": "markdown",
      "metadata": {
        "id": "qzx4JAMasOcs",
        "colab_type": "text"
      },
      "source": [
        "<font color=yellow> Restart runtime to continue... <b>Crtl+M.</b> </font>"
      ]
    },
    {
      "cell_type": "code",
      "metadata": {
        "id": "GnPqoafKJweW",
        "colab_type": "code",
        "colab": {
          "base_uri": "https://localhost:8080/",
          "height": 423
        },
        "outputId": "1bf13709-4dad-453c-c755-faf2d66839f4"
      },
      "source": [
        "!nvidia-smi\n",
        "from psutil import virtual_memory\n",
        "print('Your runtime has {:.1f} gigabytes of available RAM\\n'.format(virtual_memory().total / 1e9))"
      ],
      "execution_count": null,
      "outputs": [
        {
          "output_type": "stream",
          "text": [
            "Thu Aug 20 20:43:16 2020       \n",
            "+-----------------------------------------------------------------------------+\n",
            "| NVIDIA-SMI 450.57       Driver Version: 418.67       CUDA Version: 10.1     |\n",
            "|-------------------------------+----------------------+----------------------+\n",
            "| GPU  Name        Persistence-M| Bus-Id        Disp.A | Volatile Uncorr. ECC |\n",
            "| Fan  Temp  Perf  Pwr:Usage/Cap|         Memory-Usage | GPU-Util  Compute M. |\n",
            "|                               |                      |               MIG M. |\n",
            "|===============================+======================+======================|\n",
            "|   0  Tesla P100-PCIE...  Off  | 00000000:00:04.0 Off |                    0 |\n",
            "| N/A   36C    P0    26W / 250W |      0MiB / 16280MiB |      0%      Default |\n",
            "|                               |                      |                 ERR! |\n",
            "+-------------------------------+----------------------+----------------------+\n",
            "                                                                               \n",
            "+-----------------------------------------------------------------------------+\n",
            "| Processes:                                                                  |\n",
            "|  GPU   GI   CI        PID   Type   Process name                  GPU Memory |\n",
            "|        ID   ID                                                   Usage      |\n",
            "|=============================================================================|\n",
            "|  No running processes found                                                 |\n",
            "+-----------------------------------------------------------------------------+\n",
            "Your runtime has 13.7 gigabytes of available RAM\n",
            "\n"
          ],
          "name": "stdout"
        }
      ]
    },
    {
      "cell_type": "code",
      "metadata": {
        "id": "uyWKRP9IL-_y",
        "colab_type": "code",
        "colab": {}
      },
      "source": [
        "!pip install facenet-pytorch\n",
        "from facenet_pytorch import MTCNN"
      ],
      "execution_count": null,
      "outputs": []
    },
    {
      "cell_type": "code",
      "metadata": {
        "id": "Ucz8h0sBtzkJ",
        "colab_type": "code",
        "colab": {}
      },
      "source": [
        "import time\n",
        "from tqdm.notebook import tqdm\n",
        "import torch, torchvision\n",
        "import detectron2\n",
        "from detectron2.utils.logger import setup_logger\n",
        "setup_logger()\n",
        "\n",
        "\n",
        "import gdown\n",
        "from google.colab import drive\n",
        "import os\n",
        "import cv2\n",
        "import random\n",
        "import itertools\n",
        "import shutil\n",
        "import glob\n",
        "import json\n",
        "import numpy as np\n",
        "import pandas as pd\n",
        "from PIL import ImageDraw, Image\n",
        "from collections import defaultdict\n",
        "import matplotlib.pyplot as plt\n",
        "from matplotlib.patches import Ellipse\n",
        "from matplotlib import collections as mc\n",
        "\n",
        "from google.colab.patches import cv2_imshow\n",
        "\n",
        "from detectron2 import model_zoo\n",
        "import detectron2.utils.comm as comm\n",
        "from detectron2.engine import DefaultPredictor, DefaultTrainer, HookBase\n",
        "from detectron2.config import get_cfg\n",
        "from detectron2.utils.visualizer import Visualizer\n",
        "from detectron2.data import DatasetCatalog, MetadataCatalog, build_detection_train_loader\n",
        "from detectron2.structures import BoxMode\n",
        "from detectron2.data import build_detection_test_loader\n",
        "from detectron2.data.datasets import register_coco_instances\n",
        "from detectron2.evaluation import COCOEvaluator, inference_on_dataset\n",
        "\n",
        "from mobilenet.utils import  add_mobilenet_config, build_mobilenetv2_fpn_backbone\n",
        "from FDDB.mAP import mAP, plot_mAP\n",
        "from FDDB.tools import annotations,output_Files\n",
        "\n",
        "import warnings\n",
        "warnings.filterwarnings(\"ignore\", category=DeprecationWarning) "
      ],
      "execution_count": null,
      "outputs": []
    },
    {
      "cell_type": "code",
      "metadata": {
        "id": "cNmn7Bh1SHZJ",
        "colab_type": "code",
        "colab": {
          "base_uri": "https://localhost:8080/",
          "height": 35
        },
        "outputId": "26cc1526-90ac-4dc6-8c53-bfd3f92c30fc"
      },
      "source": [
        "device = torch.device('cuda:0' if torch.cuda.is_available() else 'cpu')\n",
        "print('Running on device: {}'.format(device))"
      ],
      "execution_count": null,
      "outputs": [
        {
          "output_type": "stream",
          "text": [
            "Running on device: cuda:0\n"
          ],
          "name": "stdout"
        }
      ]
    },
    {
      "cell_type": "markdown",
      "metadata": {
        "colab_type": "text",
        "id": "mvN6PU1S8zEs"
      },
      "source": [
        "Zapis danych na Google drive\n",
        "\n"
      ]
    },
    {
      "cell_type": "code",
      "metadata": {
        "colab_type": "code",
        "id": "dX2t_t7a8zEw",
        "colab": {}
      },
      "source": [
        "OUTPUT_DIR_NAME = \"FDDB_OUTPUT_DIR\"\n",
        "drive.mount('/content/drive')\n",
        "OUTPUT_DIR_PATH = os.path.join(\"./drive/My Drive\", OUTPUT_DIR_NAME)\n",
        "\n",
        "if not os.path.exists(OUTPUT_DIR_PATH):\n",
        "  os.makedirs(OUTPUT_DIR_PATH)\n",
        "  print(\"\\ncfg.OUTPUT_DIR =\",OUTPUT_DIR_PATH) \n",
        "else: \n",
        "  print(\"\\ncfg.OUTPUT_DIR =\",OUTPUT_DIR_PATH)"
      ],
      "execution_count": null,
      "outputs": []
    },
    {
      "cell_type": "code",
      "metadata": {
        "id": "7MtCLn7Jk62k",
        "colab_type": "code",
        "colab": {}
      },
      "source": [
        "IMAGES_PATH='FDDB/'"
      ],
      "execution_count": null,
      "outputs": []
    },
    {
      "cell_type": "markdown",
      "metadata": {
        "id": "dvUi9652MNo2",
        "colab_type": "text"
      },
      "source": [
        "## Funkcja konwertująca anotacje eliptycze  FDDB do prostokątnych"
      ]
    },
    {
      "cell_type": "code",
      "metadata": {
        "id": "CIlS8o1JML1d",
        "colab_type": "code",
        "colab": {}
      },
      "source": [
        "def fddb_rectangular_annotation(IMAGES_PATH=IMAGES_PATH):\n",
        "  '''Funkcja wraca listę boxy obliczone na podstawie *ellipseList.txt\n",
        "      i względną ścieżkę do pliku\n",
        "      \n",
        "      [{'boxes': array([[184.1439,  38.1979, 355.2429, 285.3645]]),\n",
        "        'path': '2002/08/11/big/img_591'}]\n",
        "  '''\n",
        "  fddb_annotations =  []\n",
        "  ellipseList = glob.glob(IMAGES_PATH+\"FDDB-folds/*ellipseList.txt\")\n",
        "  ellipseList.sort()\n",
        "\n",
        "  for item in ellipseList:\n",
        "    with open(item, \"r\") as file_:\n",
        "      rows = file_.readlines()\n",
        "    \n",
        "    idx = 0\n",
        "    while (idx < len(rows)):\n",
        "      tmp = []\n",
        "      image_name = rows[idx].replace(\"\\n\", \"\")\n",
        "      number_of_faces = int(rows[idx+1])\n",
        "      boxes = []\n",
        "\n",
        "      for i in range(1, number_of_faces+1):\n",
        "        box = rows[idx+1+i]\n",
        "        box = [float(item) for item in box.split(' ')[0:5]]\n",
        "        xmin = float(box[3]- box[1])\n",
        "        ymin = float(box[4]- box[0])\n",
        "        xmax = float(xmin + box[1]*2)\n",
        "        ymax = float(ymin + box[0]*2)\n",
        "        boxes.append([xmin, ymin, xmax, ymax])\n",
        "      \n",
        "      boxes=np.array(boxes)\n",
        "      fddb_annotations.append({'path':image_name,'boxes':boxes})\n",
        "      idx += (number_of_faces+2)\n",
        "\n",
        "  return fddb_annotations"
      ],
      "execution_count": null,
      "outputs": []
    },
    {
      "cell_type": "code",
      "metadata": {
        "id": "h065UtyDRCSV",
        "colab_type": "code",
        "colab": {
          "base_uri": "https://localhost:8080/",
          "height": 54
        },
        "outputId": "7f9f83e2-6283-4c4b-9c74-d6fd8a80b971"
      },
      "source": [
        "fddb_annotations = fddb_rectangular_annotation(IMAGES_PATH)\n",
        "fddb_annotations[0]"
      ],
      "execution_count": null,
      "outputs": [
        {
          "output_type": "execute_result",
          "data": {
            "text/plain": [
              "{'boxes': array([[184.1439,  38.1979, 355.2429, 285.3645]]),\n",
              " 'path': '2002/08/11/big/img_591'}"
            ]
          },
          "metadata": {
            "tags": []
          },
          "execution_count": 8
        }
      ]
    },
    {
      "cell_type": "markdown",
      "metadata": {
        "id": "O905ooh29RmK",
        "colab_type": "text"
      },
      "source": [
        "## Funkcja konwertująca anotacje do format wymaganego przez Detectron2"
      ]
    },
    {
      "cell_type": "code",
      "metadata": {
        "id": "Yx0qlpm9ZbFw",
        "colab_type": "code",
        "colab": {}
      },
      "source": [
        "def get_fddb_dict(annotations):\n",
        "  '''Funkcja modyfikuje annotacje z fddb_rectangular_annotation()\n",
        "  na słownik wymagany przez detectron2.data.DatasetCatalog\n",
        "\n",
        "  {'annotations': [{'bbox': [59, 71, 269, 353],\n",
        "   'bbox_mode': <BoxMode.XYXY_ABS: 0>,\n",
        "   'category_id': 0,\n",
        "   'iscrowd': 0,\n",
        "   'segmentation': [[59, 71, 269, 71, 269, 353, 59, 353]]}],\n",
        "   'file_name': 'FDDB/2002/07/29/big/img_136.jpg',\n",
        "   'height': 450,\n",
        "  'image_id': 18,\n",
        "  'width': 319}\n",
        "  '''\n",
        "  dataset_dicts = []\n",
        "  for idx, item in enumerate(annotations):\n",
        "    record = {}\n",
        "    file_path = IMAGES_PATH+item[\"path\"]+\".jpg\"\n",
        "\n",
        "    record[\"file_name\"] = file_path \n",
        "    record[\"image_id\"] = idx\n",
        "    record[\"height\"], record[\"width\"] = cv2.imread(file_path).shape[:2]\n",
        "\n",
        "    objs = []\n",
        "    for box in item[\"boxes\"]:\n",
        "      box = [int(i) for i in box] # int vs float..\n",
        "      xmin, ymin, xmax, ymax = box\n",
        "      poly = [(xmin, ymin), (xmax, ymin), (xmax, ymax), (xmin, ymax)]\n",
        "      poly = list(itertools.chain.from_iterable(poly))\n",
        "\n",
        "      obj = {\n",
        "        \"bbox\": [xmin, ymin, xmax, ymax],\n",
        "        \"bbox_mode\": BoxMode.XYXY_ABS,\n",
        "        \"segmentation\": [poly],\n",
        "        \"category_id\": 0,\n",
        "        \"iscrowd\": 0\n",
        "      }\n",
        "      objs.append(obj)\n",
        "\n",
        "    record[\"annotations\"] = objs\n",
        "    dataset_dicts.append(record)\n",
        "\n",
        "  return dataset_dicts"
      ],
      "execution_count": null,
      "outputs": []
    },
    {
      "cell_type": "markdown",
      "metadata": {
        "id": "0s3piptHzLPf",
        "colab_type": "text"
      },
      "source": [
        "Rejestracja datasetu dla Detectron2"
      ]
    },
    {
      "cell_type": "code",
      "metadata": {
        "id": "06Eyd9gOySQT",
        "colab_type": "code",
        "colab": {}
      },
      "source": [
        "classes = ['face']\n",
        "for d in [\"val\"]:\n",
        "  DatasetCatalog.register(\"faces_\" + d, lambda d=d: get_fddb_dict(fddb_annotations if d == \"val\" else \"null\"))\n",
        "  MetadataCatalog.get(\"faces_\" + d).set(thing_classes = classes)\n",
        "\n",
        "faces_metadata = MetadataCatalog.get(\"faces_val\")"
      ],
      "execution_count": null,
      "outputs": []
    },
    {
      "cell_type": "code",
      "metadata": {
        "id": "6qyeh1uC7B7H",
        "colab_type": "code",
        "colab": {
          "base_uri": "https://localhost:8080/",
          "height": 35
        },
        "outputId": "4f8f52e3-70bc-4352-a887-fc3d9f7d9651"
      },
      "source": [
        "faces_metadata"
      ],
      "execution_count": null,
      "outputs": [
        {
          "output_type": "execute_result",
          "data": {
            "text/plain": [
              "Metadata(name='faces_val', thing_classes=['face'])"
            ]
          },
          "metadata": {
            "tags": []
          },
          "execution_count": 11
        }
      ]
    },
    {
      "cell_type": "markdown",
      "metadata": {
        "id": "mArzyGBgy-gL",
        "colab_type": "text"
      },
      "source": [
        "Wizualizacja annotacji na plikach z walidacyjnego"
      ]
    },
    {
      "cell_type": "code",
      "metadata": {
        "id": "ZlXV1ceStVuN",
        "colab_type": "code",
        "colab": {
          "base_uri": "https://localhost:8080/",
          "height": 283
        },
        "outputId": "fd8dbb11-1d62-418a-f961-c15f5fa2dcca"
      },
      "source": [
        "dataset_dicts = get_fddb_dict(fddb_annotations)\n",
        "for d in random.sample(dataset_dicts, 1):\n",
        "    img = cv2.imread(d[\"file_name\"])\n",
        "    visualizer = Visualizer(img[:, :, ::-1], metadata=faces_metadata, scale=0.9)\n",
        "    vis = visualizer.draw_dataset_dict(d)\n",
        "    cv2_imshow(vis.get_image()[:, :, ::-1])"
      ],
      "execution_count": null,
      "outputs": [
        {
          "output_type": "display_data",
          "data": {
            "image/png": "[encoded data removed]",
            "text/plain": [
              "<PIL.Image.Image image mode=RGB size=405x266 at 0x7F38DFEBA1D0>"
            ]
          },
          "metadata": {
            "tags": []
          }
        }
      ]
    },
    {
      "cell_type": "markdown",
      "metadata": {
        "id": "ykrRb9Q_8SYA",
        "colab_type": "text"
      },
      "source": [
        "## Modele do testu "
      ]
    },
    {
      "cell_type": "markdown",
      "metadata": {
        "id": "a4luE_CnSh9L",
        "colab_type": "text"
      },
      "source": [
        "MobileNetV2"
      ]
    },
    {
      "cell_type": "code",
      "metadata": {
        "id": "nbeTfmnV6JG0",
        "colab_type": "code",
        "colab": {}
      },
      "source": [
        "models_mnv2 = {\n",
        "    # '800k' - parametry domyślne - jako punkt odniesienia\n",
        "    '800k': {\n",
        "        'config': 'FrozenBN',\n",
        "        'pth': 'https://drive.google.com/uc?id=1-tqNKwZIFmkAbfJ1L2sibIO4PT_MwnVA',\n",
        "        'weights_name': 'model_0799999.pth'},\n",
        "\n",
        "    # 'BN_800k' - dodano BN - pokazanie wpływu BN przy małym batchu=2\n",
        "    'BN_800k': {\n",
        "        'config': 'BN',\n",
        "        'pth': 'https://drive.google.com/uc?id=1-kRDjqkMk9qXbNfzVx09VE35YzgkP1AO',\n",
        "        'weights_name': 'model_0799999.pth'},\n",
        "\n",
        "    #'BN_Mish_V2_250+F_2_50k' - najlepszy wynik uczenie z Mish BN 250k + 50k z FrozenBN\n",
        "    'BN_Mish_V2_250+F_2_50k': {\n",
        "        'config': 'BN_Mish_V2F',\n",
        "        'pth': 'https://drive.google.com/uc?id=1-I6YSAs9NrORI4cFISfK_-4Yhm1twfDi',\n",
        "        'weights_name': 'model_0049999.pth'},\n",
        "    \n",
        "    # 'BN_Mish_V3_80+30k' - najszybsze uczenie 110k iteracji\n",
        "    'BN_Mish_V3_80+_30k': {\n",
        "        'config': 'BN_Mish_V3',\n",
        "        'pth': 'https://drive.google.com/uc?id=1--bP5VPyqIrfrBxVZ5eLSsupIvBlQ8ef',\n",
        "        'weights_name': 'model_0029999.pth'},\n",
        "    }"
      ],
      "execution_count": null,
      "outputs": []
    },
    {
      "cell_type": "markdown",
      "metadata": {
        "id": "mjWyDLLmSspQ",
        "colab_type": "text"
      },
      "source": [
        "Faster R-CNN"
      ]
    },
    {
      "cell_type": "code",
      "metadata": {
        "id": "84Fym-4-F7Sf",
        "colab_type": "code",
        "colab": {}
      },
      "source": [
        "faster_rcnn_model = {\n",
        "    'faster_rcnn_R_50_FPN_3x' : {\n",
        "        'config': 'https://drive.google.com/uc?id=173XKeFyCXK909QA652WpEhQ3imlyDFKX',\n",
        "        'config_file' : \"faster_rcnn_R_50_FPN_3x.yaml\",\n",
        "        'pth': 'https://drive.google.com/uc?id=1-XGz6HOqJQWmDCJiJDbBl-FnK7ZxZu5z',\n",
        "        'weights_name': 'model_0269999.pth' \n",
        "    },\n",
        "    'scratch_faster_rcnn_R_50_FPN_gn' : {\n",
        "        'config': 'https://drive.google.com/uc?id=1-IX6Dshhs-rin7m1lGtTl1xNaUQXK3kN',\n",
        "        'config_file' : \"scratch_faster_rcnn_R_50_FPN_gn.yaml\",\n",
        "        'pth': 'https://drive.google.com/uc?id=1-dqOloknew4wN0cD5xcFhbRlrA8rSHGt',\n",
        "        'weights_name': 'model_0539999.pth' \n",
        "    }\n",
        "}"
      ],
      "execution_count": null,
      "outputs": []
    },
    {
      "cell_type": "markdown",
      "metadata": {
        "id": "HdSxPDQbS9dM",
        "colab_type": "text"
      },
      "source": [
        "MTCNN"
      ]
    },
    {
      "cell_type": "code",
      "metadata": {
        "id": "bZqwYI5iS_O-",
        "colab_type": "code",
        "colab": {}
      },
      "source": [
        "mtcnn = MTCNN(image_size=224, margin=0, keep_all=True, device=device)"
      ],
      "execution_count": null,
      "outputs": []
    },
    {
      "cell_type": "markdown",
      "metadata": {
        "id": "exBWIXto8Wfd",
        "colab_type": "text"
      },
      "source": [
        "## Zestawy konfiguracji podstawowych dla modeli opartych na MobileNetV2\n"
      ]
    },
    {
      "cell_type": "code",
      "metadata": {
        "id": "bzArg2Fi6JJ4",
        "colab_type": "code",
        "colab": {}
      },
      "source": [
        "cfg_set = {\n",
        "    'FrozenBN':'https://drive.google.com/uc?id=1rZFzJaR_g7uYuTguTdbUuCQYD4eXLeqw',\n",
        "    'BN': 'https://drive.google.com/uc?id=1-doXtwe5iZHoqPzKGc2ZZbxj6Ebhxsn4',\n",
        "    'BN_V2':'https://drive.google.com/uc?id=1wywB8UAaOO5KZx3IS35kV-rLsvJMIse6',\n",
        "    'BN_Mish':'https://drive.google.com/uc?id=1-axV3KKg8-YiZZ7uDBh_2v181JoC9Nj3',\n",
        "    'BN_Mish_V2':'https://drive.google.com/uc?id=1WoESx5RYvpapNicpSrmMoNJeE2GVm3zK',\n",
        "    'BN_Mish_V3':'https://drive.google.com/uc?id=1-Kgd_2AS4EsD_ZPqP7SxkscyDjP-Qhnr',\n",
        "    'BN_Mish_V2F':'https://drive.google.com/uc?id=1pCwyYCjIoduro2vIKMZi5HhlpaypH0_x',\n",
        "    }"
      ],
      "execution_count": null,
      "outputs": []
    },
    {
      "cell_type": "markdown",
      "metadata": {
        "id": "1X_tPprVVIHM",
        "colab_type": "text"
      },
      "source": [
        "## DefaultPredictor dla modeli opartych na MobileNetV2"
      ]
    },
    {
      "cell_type": "code",
      "metadata": {
        "id": "Bqe6JWtK8cMf",
        "colab_type": "code",
        "colab": {}
      },
      "source": [
        "def cfg_write(cfg,cfg_all):\n",
        "  for key in cfg_all.keys():\n",
        "    if isinstance(cfg_all[key],dict): \n",
        "      cfg_write(cfg[key],cfg_all[key])\n",
        "    else: cfg[key]=cfg_all[key]\n",
        "  return cfg\n",
        "\n",
        "def set_predictor(model_name=None, models_dict=models_mnv2, cfg_dict=cfg_set ,device='cuda', cfg_DATASETS_TEST=None):\n",
        "  url = models_dict[model_name]['pth'] \n",
        "  out = models_dict[model_name]['weights_name']\n",
        "  gdown.download(url, out, True)\n",
        "  # model configuration\n",
        "  url_cfg = cfg_dict[models_dict[model_name]['config']] \n",
        "  gdown.download(url_cfg, \"temporary.json\", True)\n",
        "  with open('temporary.json','r') as f:\n",
        "    cfg_all=json.load(f)\n",
        "  cfg = get_cfg()\n",
        "  add_mobilenet_config(cfg)\n",
        "  cfg = cfg_write(cfg,cfg_all)\n",
        "  cfg.MODEL.WEIGHTS = models_dict[model_name]['weights_name']\n",
        "  cfg.MODEL.ROI_HEADS.SCORE_THRESH_TEST = 0.5   # set the testing threshold for this model\n",
        "  cfg.MODEL.DEVICE=device\n",
        "  if cfg_DATASETS_TEST is not None:\n",
        "    cfg.DATASETS.TEST = (cfg_DATASETS_TEST, )\n",
        "\n",
        "  return DefaultPredictor(cfg), cfg"
      ],
      "execution_count": null,
      "outputs": []
    },
    {
      "cell_type": "markdown",
      "metadata": {
        "id": "W3BYCQm6VV3Y",
        "colab_type": "text"
      },
      "source": [
        "## DefaultPredictor dla Faster-RCNN"
      ]
    },
    {
      "cell_type": "code",
      "metadata": {
        "id": "lsj7xLHRVbp5",
        "colab_type": "code",
        "colab": {}
      },
      "source": [
        "def faster_predictor(model_name=None, models_dict=faster_rcnn_model, cfg_DATASETS_TEST=None):\n",
        "  url = models_dict[model_name]['pth'] \n",
        "  out = models_dict[model_name]['weights_name']\n",
        "  gdown.download(url, out, True)\n",
        "  config = models_dict[model_name]['config']\n",
        "  config_file = models_dict[model_name]['config_file']\n",
        "  gdown.download(config, config_file, True)\n",
        "\n",
        "  cfg = get_cfg()\n",
        "\n",
        "  cfg.merge_from_file(config_file)\n",
        "  cfg.MODEL.WEIGHTS = out\n",
        "  cfg.MODEL.ROI_HEADS.SCORE_THRESH_TEST = 0.5   # set the testing threshold for this model\n",
        "  cfg.MODEL.DEVICE='cuda'\n",
        "  if cfg_DATASETS_TEST is not None:\n",
        "    cfg.DATASETS.TEST = (cfg_DATASETS_TEST, )\n",
        "  return DefaultPredictor(cfg), cfg"
      ],
      "execution_count": null,
      "outputs": []
    },
    {
      "cell_type": "markdown",
      "metadata": {
        "id": "jhyDElRv8jeW",
        "colab_type": "text"
      },
      "source": [
        "## Funkcja pomiaru czasu ewaluacji modelu"
      ]
    },
    {
      "cell_type": "code",
      "metadata": {
        "id": "d-hx0lW18foZ",
        "colab_type": "code",
        "colab": {}
      },
      "source": [
        "def time_measurement(predictor, dataset):\n",
        "  time_ = []\n",
        "  for item in tqdm(dataset):\n",
        "    start_ = time.time()\n",
        "    img = cv2.imread(item[\"file_name\"])\n",
        "    if str(predictor) == \"mtcnn\":\n",
        "      outputs = mtcnn.detect(img)\n",
        "    else :\n",
        "      outputs = predictor(img)\n",
        "    diff = time.time() - start_\n",
        "    time_.append(diff)\n",
        "  # Total time\n",
        "  total_time = np.array(time_).sum()\n",
        "  # Mean time\n",
        "  mean_diff = np.array(time_).mean()\n",
        "  # Frames per second \n",
        "  fps = 1 / mean_diff\n",
        "  print(\"Total time(sec): {:.2f}, Average(sec):{:.2f}, fps:{:.2f}\\n\".format(total_time, mean_diff, fps))\n",
        "  return {\"total_time\": total_time, \"mean_diff\": mean_diff, \"fps\": fps}"
      ],
      "execution_count": null,
      "outputs": []
    },
    {
      "cell_type": "markdown",
      "metadata": {
        "id": "z8p6XUGs8pc5",
        "colab_type": "text"
      },
      "source": [
        "## Funkcja do ewaluacji modelu na zbiorze walidacyjnym FDDB"
      ]
    },
    {
      "cell_type": "code",
      "metadata": {
        "id": "CjtuwMRMvcHm",
        "colab_type": "code",
        "colab": {}
      },
      "source": [
        "def predict_on_val(dataset, predictor, model_name):\n",
        "    gbxs=[]\n",
        "    dbxs=[]\n",
        "    dset=dataset\n",
        "    if 'annotations' in dataset[0].keys():  \n",
        "      dset=[]\n",
        "      for r in dataset:\n",
        "        dset.append({'path' : r['file_name'],'marks' : [b['bbox'] for b in r['annotations']],\n",
        "                     'persons': ['' for b in r['annotations']]})\n",
        "\n",
        "    for item in tqdm(dset):\n",
        "        im = cv2.imread(item[\"path\"])\n",
        "        outputs = predictor(im)\n",
        "        pbxs = outputs['instances'].pred_boxes.tensor.tolist()\n",
        "        pconfs = outputs['instances'].scores.tolist()\n",
        "        dbx=[[*(np.array(bx)+0.5).astype('int'),pconfs[i]] for i,bx in enumerate(pbxs)]\n",
        "        dbxs.append(dbx)\n",
        "        gbxs.append(item['marks'])\n",
        "    \n",
        "    return {'gbxs':gbxs,'dbxs':dbxs,'metric':dset}\n"
      ],
      "execution_count": null,
      "outputs": []
    },
    {
      "cell_type": "markdown",
      "metadata": {
        "id": "ywWdmuOXH8CF",
        "colab_type": "text"
      },
      "source": [
        "## Funkcja do ewaluacji MTCNN na zbiorze walidacyjnym FDDB"
      ]
    },
    {
      "cell_type": "code",
      "metadata": {
        "id": "wBrTuX-JH8m0",
        "colab_type": "code",
        "colab": {}
      },
      "source": [
        "def mtcnn_detect(dataset, model, model_name = \"MTCNN\"):\n",
        "    gbxs=[]\n",
        "    dbxs=[]\n",
        "    dset=dataset\n",
        "    if 'annotations' in dataset[0].keys():  \n",
        "      dset=[]\n",
        "      for r in dataset:\n",
        "        dset.append({'path' : r['file_name'],'marks' : [b['bbox'] for b in r['annotations']],\n",
        "                     'persons': ['' for b in r['annotations']]})\n",
        "\n",
        "    for item in tqdm(dset):\n",
        "        im = cv2.imread(item[\"path\"])\n",
        "        pbxs, pconfs  = model.detect(im)\n",
        "\n",
        "        if type(pbxs)!=np.ndarray: \n",
        "          pbxs=[]\n",
        "          pconfs=[]\n",
        "\n",
        "        dbx=[[*(np.array(bx)+0.5).astype('int'),pconfs[i]] for i,bx in enumerate(pbxs)]\n",
        "        dbxs.append(dbx)\n",
        "        gbxs.append(item['marks'])\n",
        "    \n",
        "    return {'gbxs':gbxs,'dbxs':dbxs,'metric':dset}"
      ],
      "execution_count": null,
      "outputs": []
    },
    {
      "cell_type": "code",
      "metadata": {
        "id": "9wPeINyq81e1",
        "colab_type": "code",
        "colab": {}
      },
      "source": [
        "def dict_to_file(dic, path):\n",
        "    f = open(path,'w')\n",
        "    f.write(str(dic))\n",
        "    f.close()\n",
        "\n",
        "def dict_from_file(filename):\n",
        "    f = open(filename,'r')\n",
        "    data=f.read()\n",
        "    f.close()\n",
        "    return eval(data)"
      ],
      "execution_count": null,
      "outputs": []
    },
    {
      "cell_type": "markdown",
      "metadata": {
        "id": "nvQYb2H6857e",
        "colab_type": "text"
      },
      "source": [
        "# Pomiar czasu interferencji modeli na zbiorze walidacyjnym FDDB\n"
      ]
    },
    {
      "cell_type": "markdown",
      "metadata": {
        "id": "VhpKdSSSE3Sw",
        "colab_type": "text"
      },
      "source": [
        "> Konfiguracje modeli maja domyślnie ustawiony parametr \n",
        "cfg.MODEL.DEVICE = 'cuda'"
      ]
    },
    {
      "cell_type": "code",
      "metadata": {
        "id": "iUn6FCRM81hu",
        "colab_type": "code",
        "colab": {}
      },
      "source": [
        "dataset = get_fddb_dict(fddb_annotations)"
      ],
      "execution_count": null,
      "outputs": []
    },
    {
      "cell_type": "code",
      "metadata": {
        "id": "O-jR2vsi892f",
        "colab_type": "code",
        "colab": {
          "base_uri": "https://localhost:8080/",
          "height": 440,
          "referenced_widgets": [
            "4588cc1982fd45fd902419e6638cfc12",
            "58053a08d0994e8399679eca2adeaab2",
            "6a2dea304109495bb4b66ec29b1c79d7",
            "196c3e2fbf1b4d0b889ae226c1de45fb",
            "447a2d64621f4d67b78046f310c062a7",
            "2240df5eeb704f4c96484faa6818db9a",
            "ab60e7faf585469f87da0414d69cd528",
            "9d650523fd6540beb65e3d240bf80fbb",
            "b5c4e4c4c2e84ae49bc3a16375580b45",
            "bf5bbd96fca44bb69f964f1b73f7ba76",
            "472c8659091f4417b58348e8dd0be738",
            "5dde40e463c54c499cce5ebf0a09b407",
            "62cec9d7001a46ab88a53b6e46aaf572",
            "0c7f29f9a67e4f499de58f648a356a9f",
            "a11902d4374d4432afb28342a8df51a0",
            "2435ee0ca9f649d6b8ef63c74d1f470c",
            "ff26a5b6805340d39b2290ef03b7cbfa",
            "1ed626588e5a44d5b6cebcca579b239b",
            "5c22ff57583743c5b5db10dcf3e4e2e5",
            "537694f814e74f5abd6f043488df7280",
            "0d81c5ab1d734c568065a864b338ca62",
            "78e18c9cbe4e4812b69a6e9108a69d91",
            "4f3e0f615b994eb48b076d827a1d9069",
            "c5a07ab773b04c8f97b83e86eb6aa0a6",
            "dfd62f2eb7354a87aa576ba14d34efab",
            "51b15b9a035f4ff8ba6bc754838d5dba",
            "2804f211fae146b8a083aaa553777295",
            "0b67bd8071e8470088132ab291014049",
            "11fb1fa985a245c58ed9bfa2ee3df274",
            "080cc3be54e6452faad9ec3d071f0c24",
            "caa79c443880406cbe87b17fd7b304fa",
            "01572ccc02ab4624a94509b4b1808846"
          ]
        },
        "outputId": "ac95422a-eb7e-44d7-e094-4e9a19e553df"
      },
      "source": [
        "time_measurement_results = {}\n",
        "\n",
        "for model in models_mnv2:\n",
        "  print(model)\n",
        "  predictor, _ = set_predictor(model)\n",
        "  time_measurement_results[model] = time_measurement(predictor, dataset=dataset)"
      ],
      "execution_count": null,
      "outputs": [
        {
          "output_type": "stream",
          "text": [
            "800k\n"
          ],
          "name": "stdout"
        },
        {
          "output_type": "display_data",
          "data": {
            "application/vnd.jupyter.widget-view+json": {
              "model_id": "4588cc1982fd45fd902419e6638cfc12",
              "version_minor": 0,
              "version_major": 2
            },
            "text/plain": [
              "HBox(children=(FloatProgress(value=0.0, max=2845.0), HTML(value='')))"
            ]
          },
          "metadata": {
            "tags": []
          }
        },
        {
          "output_type": "stream",
          "text": [
            "\n",
            "Total time(sec): 178.88, Average(sec):0.06, fps:15.90\n",
            "\n",
            "BN_800k\n"
          ],
          "name": "stdout"
        },
        {
          "output_type": "display_data",
          "data": {
            "application/vnd.jupyter.widget-view+json": {
              "model_id": "b5c4e4c4c2e84ae49bc3a16375580b45",
              "version_minor": 0,
              "version_major": 2
            },
            "text/plain": [
              "HBox(children=(FloatProgress(value=0.0, max=2845.0), HTML(value='')))"
            ]
          },
          "metadata": {
            "tags": []
          }
        },
        {
          "output_type": "stream",
          "text": [
            "\n",
            "Total time(sec): 179.58, Average(sec):0.06, fps:15.84\n",
            "\n",
            "BN_Mish_V2_250+F_2_50k\n"
          ],
          "name": "stdout"
        },
        {
          "output_type": "display_data",
          "data": {
            "application/vnd.jupyter.widget-view+json": {
              "model_id": "ff26a5b6805340d39b2290ef03b7cbfa",
              "version_minor": 0,
              "version_major": 2
            },
            "text/plain": [
              "HBox(children=(FloatProgress(value=0.0, max=2845.0), HTML(value='')))"
            ]
          },
          "metadata": {
            "tags": []
          }
        },
        {
          "output_type": "stream",
          "text": [
            "\n",
            "Total time(sec): 200.79, Average(sec):0.07, fps:14.17\n",
            "\n",
            "BN_Mish_V3_80+_30k\n"
          ],
          "name": "stdout"
        },
        {
          "output_type": "display_data",
          "data": {
            "application/vnd.jupyter.widget-view+json": {
              "model_id": "dfd62f2eb7354a87aa576ba14d34efab",
              "version_minor": 0,
              "version_major": 2
            },
            "text/plain": [
              "HBox(children=(FloatProgress(value=0.0, max=2845.0), HTML(value='')))"
            ]
          },
          "metadata": {
            "tags": []
          }
        },
        {
          "output_type": "stream",
          "text": [
            "\n",
            "Total time(sec): 200.77, Average(sec):0.07, fps:14.17\n",
            "\n"
          ],
          "name": "stdout"
        }
      ]
    },
    {
      "cell_type": "code",
      "metadata": {
        "id": "vX8jDvcCdlm2",
        "colab_type": "code",
        "colab": {
          "base_uri": "https://localhost:8080/",
          "height": 229,
          "referenced_widgets": [
            "30799fe8c5e9440a856667eab67e1bc4",
            "27cb9a8ff9a5489b89cc048242362fa2",
            "a688cf4d613d4dc6afc60a0dc8118d10",
            "bb4e70ec55ec4167a925af1e5b477f06",
            "155f034ec54e4613a6133df348b88fb1",
            "c756a7efccfa4a99aa540d947b47c952",
            "bc81f50fa0a84cdc8866da994dbd9b11",
            "00cf82822bea43eba41f3e64c2028af5",
            "30ecd9735c7e49ba9c86b81c11f7e830",
            "3cfe51a62f2544239c980f16fdcd3425",
            "f9babdbb69fe4b1f8097c57a43bdef92",
            "22ea628e3f3847bc83c284a059e28a05",
            "a35f9eaef3ba493584956fb7b2fcf7b9",
            "31399b6ed37b4250bed34e5e43054c2d",
            "fd8e43e01e1f405b8ae92d423fd3aeae",
            "263ce970860a42d9b376b000815efcaa"
          ]
        },
        "outputId": "4d0d1537-6447-4eaa-ba7d-01d81c65444d"
      },
      "source": [
        "for model in faster_rcnn_model:\n",
        "  print(model)\n",
        "  predictor, _ = faster_predictor(model)\n",
        "  time_measurement_results[model] = time_measurement(predictor, dataset=dataset)"
      ],
      "execution_count": null,
      "outputs": [
        {
          "output_type": "stream",
          "text": [
            "faster_rcnn_R_50_FPN_3x\n"
          ],
          "name": "stdout"
        },
        {
          "output_type": "display_data",
          "data": {
            "application/vnd.jupyter.widget-view+json": {
              "model_id": "30799fe8c5e9440a856667eab67e1bc4",
              "version_minor": 0,
              "version_major": 2
            },
            "text/plain": [
              "HBox(children=(FloatProgress(value=0.0, max=2845.0), HTML(value='')))"
            ]
          },
          "metadata": {
            "tags": []
          }
        },
        {
          "output_type": "stream",
          "text": [
            "\n",
            "Total time(sec): 234.85, Average(sec):0.08, fps:12.11\n",
            "\n",
            "scratch_faster_rcnn_R_50_FPN_gn\n"
          ],
          "name": "stdout"
        },
        {
          "output_type": "display_data",
          "data": {
            "application/vnd.jupyter.widget-view+json": {
              "model_id": "30ecd9735c7e49ba9c86b81c11f7e830",
              "version_minor": 0,
              "version_major": 2
            },
            "text/plain": [
              "HBox(children=(FloatProgress(value=0.0, max=2845.0), HTML(value='')))"
            ]
          },
          "metadata": {
            "tags": []
          }
        },
        {
          "output_type": "stream",
          "text": [
            "\n",
            "Total time(sec): 253.90, Average(sec):0.09, fps:11.21\n",
            "\n"
          ],
          "name": "stdout"
        }
      ]
    },
    {
      "cell_type": "code",
      "metadata": {
        "id": "fbAOhF_mdmmV",
        "colab_type": "code",
        "colab": {
          "base_uri": "https://localhost:8080/",
          "height": 104,
          "referenced_widgets": [
            "e444470d331a4ac88f70d8f0e0fe045e",
            "bb81208891f041cc9a3fdc7fbea70f19",
            "54861d06d7a14997a4fa6af544a7e950",
            "4b355e74d19b42ea97efd0e11c9eaa41",
            "e3d7195c46d5442e8fb879daf4d26727",
            "ec2c0ba481ca4ee9851b76797cc7c89b",
            "180c937e39804335ac78e57272d7dd82",
            "3f64d4196567434f890de0c2a75fb403"
          ]
        },
        "outputId": "caf87832-26be-49a1-f1e3-0211ab6a750b"
      },
      "source": [
        "time_measurement_results[\"MTCNN\"] = time_measurement(mtcnn, dataset=dataset)"
      ],
      "execution_count": null,
      "outputs": [
        {
          "output_type": "display_data",
          "data": {
            "application/vnd.jupyter.widget-view+json": {
              "model_id": "e444470d331a4ac88f70d8f0e0fe045e",
              "version_minor": 0,
              "version_major": 2
            },
            "text/plain": [
              "HBox(children=(FloatProgress(value=0.0, max=2845.0), HTML(value='')))"
            ]
          },
          "metadata": {
            "tags": []
          }
        },
        {
          "output_type": "stream",
          "text": [
            "\n",
            "Total time(sec): 91.83, Average(sec):0.03, fps:30.98\n",
            "\n"
          ],
          "name": "stdout"
        }
      ]
    },
    {
      "cell_type": "code",
      "metadata": {
        "id": "ZESL-xo3do7A",
        "colab_type": "code",
        "colab": {
          "base_uri": "https://localhost:8080/",
          "height": 405
        },
        "outputId": "7df4e1f1-afda-479d-aaea-d952d6094a34"
      },
      "source": [
        "time_measurement_results"
      ],
      "execution_count": null,
      "outputs": [
        {
          "output_type": "execute_result",
          "data": {
            "text/plain": [
              "{'800k': {'fps': 15.904477195553888,\n",
              "  'mean_diff': 0.06287537702148116,\n",
              "  'total_time': 178.8804476261139},\n",
              " 'BN_800k': {'fps': 15.84293593775833,\n",
              "  'mean_diff': 0.0631196139357421,\n",
              "  'total_time': 179.57530164718628},\n",
              " 'BN_Mish_V2_250+F_2_50k': {'fps': 14.168692969251277,\n",
              "  'mean_diff': 0.07057814028225382,\n",
              "  'total_time': 200.79480910301208},\n",
              " 'BN_Mish_V3_80+_30k': {'fps': 14.170144148254314,\n",
              "  'mean_diff': 0.07057091230248315,\n",
              "  'total_time': 200.77424550056458},\n",
              " 'MTCNN': {'fps': 30.980827219389287,\n",
              "  'mean_diff': 0.03227802772723099,\n",
              "  'total_time': 91.83098888397217},\n",
              " 'faster_rcnn_R_50_FPN_3x': {'fps': 12.113998553736495,\n",
              "  'mean_diff': 0.08254912657980759,\n",
              "  'total_time': 234.8522651195526},\n",
              " 'scratch_faster_rcnn_R_50_FPN_gn': {'fps': 11.20502673520451,\n",
              "  'mean_diff': 0.08924565943766562,\n",
              "  'total_time': 253.9039011001587}}"
            ]
          },
          "metadata": {
            "tags": []
          },
          "execution_count": 27
        }
      ]
    },
    {
      "cell_type": "markdown",
      "metadata": {
        "id": "zVUETo7N9Buz",
        "colab_type": "text"
      },
      "source": [
        "Porównanie wyników "
      ]
    },
    {
      "cell_type": "code",
      "metadata": {
        "id": "WuOTU5c8895M",
        "colab_type": "code",
        "colab": {
          "base_uri": "https://localhost:8080/",
          "height": 269
        },
        "outputId": "ca402f17-2494-47d7-dc47-c4119d28315a"
      },
      "source": [
        "df_time_measurement_results = pd.DataFrame.from_dict(time_measurement_results, orient='index').sort_values(by=['total_time'])\n",
        "df_time_measurement_results"
      ],
      "execution_count": null,
      "outputs": [
        {
          "output_type": "execute_result",
          "data": {
            "text/html": [
              "<div>\n",
              "<style scoped>\n",
              "    .dataframe tbody tr th:only-of-type {\n",
              "        vertical-align: middle;\n",
              "    }\n",
              "\n",
              "    .dataframe tbody tr th {\n",
              "        vertical-align: top;\n",
              "    }\n",
              "\n",
              "    .dataframe thead th {\n",
              "        text-align: right;\n",
              "    }\n",
              "</style>\n",
              "<table border=\"1\" class=\"dataframe\">\n",
              "  <thead>\n",
              "    <tr style=\"text-align: right;\">\n",
              "      <th></th>\n",
              "      <th>total_time</th>\n",
              "      <th>mean_diff</th>\n",
              "      <th>fps</th>\n",
              "    </tr>\n",
              "  </thead>\n",
              "  <tbody>\n",
              "    <tr>\n",
              "      <th>MTCNN</th>\n",
              "      <td>91.830989</td>\n",
              "      <td>0.032278</td>\n",
              "      <td>30.980827</td>\n",
              "    </tr>\n",
              "    <tr>\n",
              "      <th>800k</th>\n",
              "      <td>178.880448</td>\n",
              "      <td>0.062875</td>\n",
              "      <td>15.904477</td>\n",
              "    </tr>\n",
              "    <tr>\n",
              "      <th>BN_800k</th>\n",
              "      <td>179.575302</td>\n",
              "      <td>0.063120</td>\n",
              "      <td>15.842936</td>\n",
              "    </tr>\n",
              "    <tr>\n",
              "      <th>BN_Mish_V3_80+_30k</th>\n",
              "      <td>200.774246</td>\n",
              "      <td>0.070571</td>\n",
              "      <td>14.170144</td>\n",
              "    </tr>\n",
              "    <tr>\n",
              "      <th>BN_Mish_V2_250+F_2_50k</th>\n",
              "      <td>200.794809</td>\n",
              "      <td>0.070578</td>\n",
              "      <td>14.168693</td>\n",
              "    </tr>\n",
              "    <tr>\n",
              "      <th>faster_rcnn_R_50_FPN_3x</th>\n",
              "      <td>234.852265</td>\n",
              "      <td>0.082549</td>\n",
              "      <td>12.113999</td>\n",
              "    </tr>\n",
              "    <tr>\n",
              "      <th>scratch_faster_rcnn_R_50_FPN_gn</th>\n",
              "      <td>253.903901</td>\n",
              "      <td>0.089246</td>\n",
              "      <td>11.205027</td>\n",
              "    </tr>\n",
              "  </tbody>\n",
              "</table>\n",
              "</div>"
            ],
            "text/plain": [
              "                                 total_time  mean_diff        fps\n",
              "MTCNN                             91.830989   0.032278  30.980827\n",
              "800k                             178.880448   0.062875  15.904477\n",
              "BN_800k                          179.575302   0.063120  15.842936\n",
              "BN_Mish_V3_80+_30k               200.774246   0.070571  14.170144\n",
              "BN_Mish_V2_250+F_2_50k           200.794809   0.070578  14.168693\n",
              "faster_rcnn_R_50_FPN_3x          234.852265   0.082549  12.113999\n",
              "scratch_faster_rcnn_R_50_FPN_gn  253.903901   0.089246  11.205027"
            ]
          },
          "metadata": {
            "tags": []
          },
          "execution_count": 28
        }
      ]
    },
    {
      "cell_type": "markdown",
      "metadata": {
        "id": "lhk7z6mha8oU",
        "colab_type": "text"
      },
      "source": [
        "Zapis wyników na Google drive"
      ]
    },
    {
      "cell_type": "code",
      "metadata": {
        "id": "Vmt1YEgPb1K1",
        "colab_type": "code",
        "colab": {}
      },
      "source": [
        "time_measurement_results = df_time_measurement_results.to_json(orient=\"table\")\n",
        "\n",
        "output_file_name = \"time_measurement_results.json\"\n",
        "output_file = os.path.join(OUTPUT_DIR_PATH, output_file_name)\n",
        "\n",
        "with open(output_file, 'w') as f:\n",
        "  json.dump(time_measurement_results, f, indent=4)  "
      ],
      "execution_count": null,
      "outputs": []
    },
    {
      "cell_type": "code",
      "metadata": {
        "id": "8ARk4HBDhU_f",
        "colab_type": "code",
        "colab": {
          "base_uri": "https://localhost:8080/",
          "height": 269
        },
        "outputId": "c2146273-f8c4-459f-bcf8-d2fe2978c15c"
      },
      "source": [
        "with open(output_file) as data_file:\n",
        "    data_loaded = json.load(data_file)\n",
        "pd.read_json(data_loaded, orient=\"table\" )"
      ],
      "execution_count": null,
      "outputs": [
        {
          "output_type": "execute_result",
          "data": {
            "text/html": [
              "<div>\n",
              "<style scoped>\n",
              "    .dataframe tbody tr th:only-of-type {\n",
              "        vertical-align: middle;\n",
              "    }\n",
              "\n",
              "    .dataframe tbody tr th {\n",
              "        vertical-align: top;\n",
              "    }\n",
              "\n",
              "    .dataframe thead th {\n",
              "        text-align: right;\n",
              "    }\n",
              "</style>\n",
              "<table border=\"1\" class=\"dataframe\">\n",
              "  <thead>\n",
              "    <tr style=\"text-align: right;\">\n",
              "      <th></th>\n",
              "      <th>total_time</th>\n",
              "      <th>mean_diff</th>\n",
              "      <th>fps</th>\n",
              "    </tr>\n",
              "  </thead>\n",
              "  <tbody>\n",
              "    <tr>\n",
              "      <th>MTCNN</th>\n",
              "      <td>91.830989</td>\n",
              "      <td>0.032278</td>\n",
              "      <td>30.980827</td>\n",
              "    </tr>\n",
              "    <tr>\n",
              "      <th>800k</th>\n",
              "      <td>178.880448</td>\n",
              "      <td>0.062875</td>\n",
              "      <td>15.904477</td>\n",
              "    </tr>\n",
              "    <tr>\n",
              "      <th>BN_800k</th>\n",
              "      <td>179.575302</td>\n",
              "      <td>0.063120</td>\n",
              "      <td>15.842936</td>\n",
              "    </tr>\n",
              "    <tr>\n",
              "      <th>BN_Mish_V3_80+_30k</th>\n",
              "      <td>200.774246</td>\n",
              "      <td>0.070571</td>\n",
              "      <td>14.170144</td>\n",
              "    </tr>\n",
              "    <tr>\n",
              "      <th>BN_Mish_V2_250+F_2_50k</th>\n",
              "      <td>200.794809</td>\n",
              "      <td>0.070578</td>\n",
              "      <td>14.168693</td>\n",
              "    </tr>\n",
              "    <tr>\n",
              "      <th>faster_rcnn_R_50_FPN_3x</th>\n",
              "      <td>234.852265</td>\n",
              "      <td>0.082549</td>\n",
              "      <td>12.113999</td>\n",
              "    </tr>\n",
              "    <tr>\n",
              "      <th>scratch_faster_rcnn_R_50_FPN_gn</th>\n",
              "      <td>253.903901</td>\n",
              "      <td>0.089246</td>\n",
              "      <td>11.205027</td>\n",
              "    </tr>\n",
              "  </tbody>\n",
              "</table>\n",
              "</div>"
            ],
            "text/plain": [
              "                                 total_time  mean_diff        fps\n",
              "MTCNN                             91.830989   0.032278  30.980827\n",
              "800k                             178.880448   0.062875  15.904477\n",
              "BN_800k                          179.575302   0.063120  15.842936\n",
              "BN_Mish_V3_80+_30k               200.774246   0.070571  14.170144\n",
              "BN_Mish_V2_250+F_2_50k           200.794809   0.070578  14.168693\n",
              "faster_rcnn_R_50_FPN_3x          234.852265   0.082549  12.113999\n",
              "scratch_faster_rcnn_R_50_FPN_gn  253.903901   0.089246  11.205027"
            ]
          },
          "metadata": {
            "tags": []
          },
          "execution_count": 30
        }
      ]
    },
    {
      "cell_type": "markdown",
      "metadata": {
        "id": "dA9MiLqG9Kd1",
        "colab_type": "text"
      },
      "source": [
        "# Ewaluacja modeli na zbiorze walidacyjnym i mAP liczone funkcją Darka"
      ]
    },
    {
      "cell_type": "code",
      "metadata": {
        "id": "m_sXKQ-n897i",
        "colab_type": "code",
        "colab": {}
      },
      "source": [
        "FDDB_DATASET = get_fddb_dict(fddb_annotations)"
      ],
      "execution_count": null,
      "outputs": []
    },
    {
      "cell_type": "code",
      "metadata": {
        "id": "O9VJ2hMH8991",
        "colab_type": "code",
        "colab": {
          "base_uri": "https://localhost:8080/",
          "height": 293,
          "referenced_widgets": [
            "ed9edfc0dc9b4440a2cef1745ca97b49",
            "4c0a7092e4cf49b7a72ae88821feb634",
            "42592a19575541799f32fe14783dd3c2",
            "ba57b55fbde4458aa9469132c97e2707",
            "35b58c6ad43744d69b16ef9596ec6f01",
            "50bc539e82ad492495f4aa23ac4afb3f",
            "6926c73f8e724e55969bbc9c9beb738a",
            "39d56e35ae66400da36e73c50441d20c",
            "f16d85079e3043b1aec2822f93ef61f0",
            "a3b4b8de8da649aeaf41a06e8fe92550",
            "30d1f762b5e74773b37b573326f4f4a3",
            "21a7d2a32e724f8eab0a9bbde3020347",
            "d02f78007dfe4424b209da4615c7f2ea",
            "f64551b98cc848c087fae8da294c75a5",
            "62b055a0309e4f8b9a351c90ae35b17a",
            "af7ad74d2318480386eaa530befbe9e6",
            "8c5a5eb7128343d492843fc10c8bae3b",
            "97780358b21449f49b20cefeece1005a",
            "a49caa47f9be46afae643121814fe104",
            "c6acdec140ee4baa8c4e1b896a18783d",
            "5de6e8f72e2f43d699edecf75b7fa036",
            "982e8fdfba4040aa8ba5b0d813cb25d2",
            "0757493eab7348c3809192fbe9a889a0",
            "6095d13e993e4d5fb23e5ab42c973803",
            "05686e7e861e491c80b7218a580d4464",
            "1e104c1e1db9492b9a1be2b25edfbd33",
            "0785ce71f0e3478d8d3c85e1b203be8a",
            "bd04d6d3d36e43b9b62ea75b1cd553bf",
            "40cdd804e31c4c83a80ac32b00e54c87",
            "4f0fae52f7bc4327a1f273f1db794034",
            "712a32f77aac49878422b3cf686c0892",
            "5c20d431fa1a41ccaddea990fa9ac785"
          ]
        },
        "outputId": "beb49062-4b74-41b7-bc98-87600ea5fbb3"
      },
      "source": [
        "pred = {}\n",
        "for model in models_mnv2:\n",
        "  print(model)\n",
        "  predictor, cfg = set_predictor(model)\n",
        "  pred[model] = predict_on_val(FDDB_DATASET ,predictor, model)\n",
        "  # save to Google drive \n",
        "  output_file_name = f\"unified_mAP_{model}\"\n",
        "  output_file = os.path.join(OUTPUT_DIR_PATH, output_file_name)\n",
        "  dict_to_file(pred[model], output_file)"
      ],
      "execution_count": null,
      "outputs": [
        {
          "output_type": "stream",
          "text": [
            "800k\n"
          ],
          "name": "stdout"
        },
        {
          "output_type": "display_data",
          "data": {
            "application/vnd.jupyter.widget-view+json": {
              "model_id": "ed9edfc0dc9b4440a2cef1745ca97b49",
              "version_minor": 0,
              "version_major": 2
            },
            "text/plain": [
              "HBox(children=(FloatProgress(value=0.0, max=2845.0), HTML(value='')))"
            ]
          },
          "metadata": {
            "tags": []
          }
        },
        {
          "output_type": "stream",
          "text": [
            "\n",
            "BN_800k\n"
          ],
          "name": "stdout"
        },
        {
          "output_type": "display_data",
          "data": {
            "application/vnd.jupyter.widget-view+json": {
              "model_id": "f16d85079e3043b1aec2822f93ef61f0",
              "version_minor": 0,
              "version_major": 2
            },
            "text/plain": [
              "HBox(children=(FloatProgress(value=0.0, max=2845.0), HTML(value='')))"
            ]
          },
          "metadata": {
            "tags": []
          }
        },
        {
          "output_type": "stream",
          "text": [
            "\n",
            "BN_Mish_V2_250+F_2_50k\n"
          ],
          "name": "stdout"
        },
        {
          "output_type": "display_data",
          "data": {
            "application/vnd.jupyter.widget-view+json": {
              "model_id": "8c5a5eb7128343d492843fc10c8bae3b",
              "version_minor": 0,
              "version_major": 2
            },
            "text/plain": [
              "HBox(children=(FloatProgress(value=0.0, max=2845.0), HTML(value='')))"
            ]
          },
          "metadata": {
            "tags": []
          }
        },
        {
          "output_type": "stream",
          "text": [
            "\n",
            "BN_Mish_V3_80+_30k\n"
          ],
          "name": "stdout"
        },
        {
          "output_type": "display_data",
          "data": {
            "application/vnd.jupyter.widget-view+json": {
              "model_id": "05686e7e861e491c80b7218a580d4464",
              "version_minor": 0,
              "version_major": 2
            },
            "text/plain": [
              "HBox(children=(FloatProgress(value=0.0, max=2845.0), HTML(value='')))"
            ]
          },
          "metadata": {
            "tags": []
          }
        },
        {
          "output_type": "stream",
          "text": [
            "\n"
          ],
          "name": "stdout"
        }
      ]
    },
    {
      "cell_type": "code",
      "metadata": {
        "id": "-rk_phYWkZ4V",
        "colab_type": "code",
        "colab": {
          "base_uri": "https://localhost:8080/",
          "height": 155,
          "referenced_widgets": [
            "c2fdf410fa184b0693d8f5b5af588e5a",
            "c9f4d05cfeba44329e7f59f2625f3c36",
            "07dd406b3a164896af4aeed18e912d72",
            "b914ba2188284f1ebc238fd9b6712c30",
            "2ce6474497e04e2bb0d744b9045e014c",
            "a2c9b9cb8a9d413ca0fe9af6fdc995f1",
            "ccea2b43b737494fb7d54cef8f088127",
            "fbac761da54d44a6b13e8fd0d35bebaa",
            "2b41fdeb980a4adaa39a42c842bd2e22",
            "243b567dca0d49028b27638e2c979840",
            "b800daefbee945769964e2443b3cf1da",
            "31ad78f804db456a8dc1ffcd3dec8034",
            "cfed0dfcdb544a29b9a88f4aa3a34061",
            "49ede886aa984feeb1f5e2797a661ff4",
            "45e7228856074835b6528ee73a4b3abb",
            "04910fd1b5af4e4383fa1618ac3e263a"
          ]
        },
        "outputId": "b2375e88-c99d-4cc4-cb47-257d989bf5a6"
      },
      "source": [
        "for model in faster_rcnn_model:\n",
        "  print(model)\n",
        "  predictor, cfg = faster_predictor(model)\n",
        "  pred[model] = predict_on_val(FDDB_DATASET ,predictor, model)\n",
        "    \n",
        "  # save to Google drive \n",
        "  output_file_name = f\"unified_mAP_{model}\"\n",
        "  output_file = os.path.join(OUTPUT_DIR_PATH, output_file_name)\n",
        "  dict_to_file(pred[model], output_file)"
      ],
      "execution_count": null,
      "outputs": [
        {
          "output_type": "stream",
          "text": [
            "faster_rcnn_R_50_FPN_3x\n"
          ],
          "name": "stdout"
        },
        {
          "output_type": "display_data",
          "data": {
            "application/vnd.jupyter.widget-view+json": {
              "model_id": "c2fdf410fa184b0693d8f5b5af588e5a",
              "version_minor": 0,
              "version_major": 2
            },
            "text/plain": [
              "HBox(children=(FloatProgress(value=0.0, max=2845.0), HTML(value='')))"
            ]
          },
          "metadata": {
            "tags": []
          }
        },
        {
          "output_type": "stream",
          "text": [
            "\n",
            "scratch_faster_rcnn_R_50_FPN_gn\n"
          ],
          "name": "stdout"
        },
        {
          "output_type": "display_data",
          "data": {
            "application/vnd.jupyter.widget-view+json": {
              "model_id": "2b41fdeb980a4adaa39a42c842bd2e22",
              "version_minor": 0,
              "version_major": 2
            },
            "text/plain": [
              "HBox(children=(FloatProgress(value=0.0, max=2845.0), HTML(value='')))"
            ]
          },
          "metadata": {
            "tags": []
          }
        },
        {
          "output_type": "stream",
          "text": [
            "\n"
          ],
          "name": "stdout"
        }
      ]
    },
    {
      "cell_type": "code",
      "metadata": {
        "id": "nKf1aP2gknuL",
        "colab_type": "code",
        "colab": {
          "base_uri": "https://localhost:8080/",
          "height": 67,
          "referenced_widgets": [
            "72a0559984de493f805348eb5d5e457f",
            "e9d45c5d47644fe48274523517208228",
            "afb3dfbfabe04c149d69edac99ae1bff",
            "9d11ce03187f4bfb94e3bf60dca71e20",
            "ac3e031c73a04330885eac52cc5a0417",
            "05f0c758e1f248e6b4ee9557b5508118",
            "021a34400d90406ca9b9a1a62d21e1dc",
            "0ebb4af53d354fea9878c50cd2c2167f"
          ]
        },
        "outputId": "aca048da-e4a3-4e8d-f4be-da39c0187b4f"
      },
      "source": [
        "model = \"MTCNN\"\n",
        "pred[model] = mtcnn_detect(FDDB_DATASET , mtcnn , model)\n",
        "output_file_name = f\"unified_mAP_{model}\"\n",
        "output_file = os.path.join(OUTPUT_DIR_PATH, output_file_name)\n",
        "dict_to_file(pred[model], output_file)"
      ],
      "execution_count": null,
      "outputs": [
        {
          "output_type": "display_data",
          "data": {
            "application/vnd.jupyter.widget-view+json": {
              "model_id": "72a0559984de493f805348eb5d5e457f",
              "version_minor": 0,
              "version_major": 2
            },
            "text/plain": [
              "HBox(children=(FloatProgress(value=0.0, max=2845.0), HTML(value='')))"
            ]
          },
          "metadata": {
            "tags": []
          }
        },
        {
          "output_type": "stream",
          "text": [
            "\n"
          ],
          "name": "stdout"
        }
      ]
    },
    {
      "cell_type": "markdown",
      "metadata": {
        "id": "SZ7qO1oWAKaD",
        "colab_type": "text"
      },
      "source": [
        "# Wykresy mAP dla testowanych modeli "
      ]
    },
    {
      "cell_type": "code",
      "metadata": {
        "id": "hV57OHAf89_5",
        "colab_type": "code",
        "colab": {}
      },
      "source": [
        "def model_mAP(pdict, model_name, title=\"\"):\n",
        "  m, d = mAP(gbxs=pdict[model_name]['gbxs'], dbxs=pdict[model_name]['dbxs'], data=True)\n",
        "  output_file_name = f\"unified_mAP_{title}_{model_name}\"\n",
        "  plot_mAP(m,d,['All 0.50','mAP','large','medium','small'],1,title+model_name,file=f\"unified_mAP_{title}_{model_name}\")\n",
        "  return m,d"
      ],
      "execution_count": null,
      "outputs": []
    },
    {
      "cell_type": "code",
      "metadata": {
        "id": "xU2Th145ALDo",
        "colab_type": "code",
        "colab": {
          "base_uri": "https://localhost:8080/",
          "height": 35
        },
        "outputId": "908956a8-5379-4798-cdc1-4c5666d8ead6"
      },
      "source": [
        "all_models_mAP = {}\n",
        "pred.keys()"
      ],
      "execution_count": null,
      "outputs": [
        {
          "output_type": "execute_result",
          "data": {
            "text/plain": [
              "dict_keys(['800k', 'BN_800k', 'BN_Mish_V2_250+F_2_50k', 'BN_Mish_V3_80+_30k', 'faster_rcnn_R_50_FPN_3x', 'scratch_faster_rcnn_R_50_FPN_gn', 'MTCNN'])"
            ]
          },
          "metadata": {
            "tags": []
          },
          "execution_count": 36
        }
      ]
    },
    {
      "cell_type": "markdown",
      "metadata": {
        "id": "t47S4k3eIQEj",
        "colab_type": "text"
      },
      "source": [
        "## Model: 800k"
      ]
    },
    {
      "cell_type": "code",
      "metadata": {
        "id": "xJReNeeGALGQ",
        "colab_type": "code",
        "colab": {
          "base_uri": "https://localhost:8080/",
          "height": 732
        },
        "outputId": "49118da4-e4f8-4d37-f11d-c0c5b434ce0f"
      },
      "source": [
        "modelshow = list(pred.keys())[0]\n",
        "print(\"Model:\", modelshow)\n",
        "all_models_mAP[modelshow] = model_mAP(pred, modelshow, title=\"FDDB_mAP_model_\")"
      ],
      "execution_count": null,
      "outputs": [
        {
          "output_type": "stream",
          "text": [
            "Model: 800k\n",
            "All 0.50:   AP: 56.75%   Recall: 65.56%   IoU: 0.5\n",
            "large   :   AP: 51.71%   Recall: 57.19%   IoU: 0.5\n",
            "medium  :   AP: 71.20%   Recall: 76.97%   IoU: 0.5\n",
            "small   :   AP: 45.39%   Recall: 73.95%   IoU: 0.5\n",
            "mAP     :   AP: 19.07%   Recall: 26.63%   IoU: 0.5 - 0.95\n"
          ],
          "name": "stdout"
        },
        {
          "output_type": "display_data",
          "data": {
            "image/png": "[encoded data removed]",
            "text/plain": [
              "<Figure size 1152x720 with 1 Axes>"
            ]
          },
          "metadata": {
            "tags": [],
            "needs_background": "light"
          }
        }
      ]
    },
    {
      "cell_type": "markdown",
      "metadata": {
        "id": "fz9HqHR4IPEo",
        "colab_type": "text"
      },
      "source": [
        "## Model: BN_800k\n"
      ]
    },
    {
      "cell_type": "code",
      "metadata": {
        "id": "L-Q2om6zAS1z",
        "colab_type": "code",
        "colab": {
          "base_uri": "https://localhost:8080/",
          "height": 732
        },
        "outputId": "90d86f4f-0901-4a77-b39a-ca0b7d0a4170"
      },
      "source": [
        "modelshow = list(pred.keys())[1]\n",
        "print(\"Model:\", modelshow)\n",
        "all_models_mAP[modelshow] = model_mAP(pred, modelshow, title=\"FDDB_mAP_model_\")"
      ],
      "execution_count": null,
      "outputs": [
        {
          "output_type": "stream",
          "text": [
            "Model: BN_800k\n",
            "All 0.50:   AP: 89.78%   Recall: 90.47%   IoU: 0.5\n",
            "large   :   AP: 96.36%   Recall: 96.51%   IoU: 0.5\n",
            "medium  :   AP: 82.23%   Recall: 83.35%   IoU: 0.5\n",
            "small   :   AP: 59.64%   Recall: 73.95%   IoU: 0.5\n",
            "mAP     :   AP: 40.34%   Recall: 46.36%   IoU: 0.5 - 0.95\n"
          ],
          "name": "stdout"
        },
        {
          "output_type": "display_data",
          "data": {
            "image/png": "[encoded data removed]",
            "text/plain": [
              "<Figure size 1152x720 with 1 Axes>"
            ]
          },
          "metadata": {
            "tags": [],
            "needs_background": "light"
          }
        }
      ]
    },
    {
      "cell_type": "markdown",
      "metadata": {
        "id": "unzPlqEAIWh7",
        "colab_type": "text"
      },
      "source": [
        "## Model: BN_Mish_V2_250+F_2_50k"
      ]
    },
    {
      "cell_type": "code",
      "metadata": {
        "id": "eNy2t4iYAS4a",
        "colab_type": "code",
        "colab": {
          "base_uri": "https://localhost:8080/",
          "height": 732
        },
        "outputId": "c1d766ce-614d-4991-b633-7640e71d0187"
      },
      "source": [
        "modelshow = list(pred.keys())[2]\n",
        "print(\"Model:\", modelshow)\n",
        "all_models_mAP[modelshow] = model_mAP(pred, modelshow, title=\"FDDB_mAP_model_\")"
      ],
      "execution_count": null,
      "outputs": [
        {
          "output_type": "stream",
          "text": [
            "Model: BN_Mish_V2_250+F_2_50k\n",
            "All 0.50:   AP: 91.69%   Recall: 92.36%   IoU: 0.5\n",
            "large   :   AP: 96.92%   Recall: 97.05%   IoU: 0.5\n",
            "medium  :   AP: 85.37%   Recall: 86.54%   IoU: 0.5\n",
            "small   :   AP: 64.55%   Recall: 82.33%   IoU: 0.5\n",
            "mAP     :   AP: 38.29%   Recall: 43.89%   IoU: 0.5 - 0.95\n"
          ],
          "name": "stdout"
        },
        {
          "output_type": "display_data",
          "data": {
            "image/png": "[encoded data removed]",
            "text/plain": [
              "<Figure size 1152x720 with 1 Axes>"
            ]
          },
          "metadata": {
            "tags": [],
            "needs_background": "light"
          }
        }
      ]
    },
    {
      "cell_type": "markdown",
      "metadata": {
        "id": "UrR9Z73HIbdg",
        "colab_type": "text"
      },
      "source": [
        "## Model: BN_Mish_V3_80+_30k"
      ]
    },
    {
      "cell_type": "code",
      "metadata": {
        "id": "7Z4TylkeAS7C",
        "colab_type": "code",
        "colab": {
          "base_uri": "https://localhost:8080/",
          "height": 732
        },
        "outputId": "894a1cb9-c954-49a5-fffc-d91688d8113d"
      },
      "source": [
        "modelshow = list(pred.keys())[3]\n",
        "print(\"Model:\", modelshow)\n",
        "all_models_mAP[modelshow] = model_mAP(pred, modelshow, title=\"FDDB_mAP_model_\")"
      ],
      "execution_count": null,
      "outputs": [
        {
          "output_type": "stream",
          "text": [
            "Model: BN_Mish_V3_80+_30k\n",
            "All 0.50:   AP: 91.09%   Recall: 91.72%   IoU: 0.5\n",
            "large   :   AP: 97.04%   Recall: 97.19%   IoU: 0.5\n",
            "medium  :   AP: 84.32%   Recall: 85.19%   IoU: 0.5\n",
            "small   :   AP: 60.59%   Recall: 77.67%   IoU: 0.5\n",
            "mAP     :   AP: 40.21%   Recall: 46.16%   IoU: 0.5 - 0.95\n"
          ],
          "name": "stdout"
        },
        {
          "output_type": "display_data",
          "data": {
            "image/png": "[encoded data removed]",
            "text/plain": [
              "<Figure size 1152x720 with 1 Axes>"
            ]
          },
          "metadata": {
            "tags": [],
            "needs_background": "light"
          }
        }
      ]
    },
    {
      "cell_type": "markdown",
      "metadata": {
        "id": "BHv0hSchIddE",
        "colab_type": "text"
      },
      "source": [
        "## Model: faster_rcnn_R_50_FPN_3x"
      ]
    },
    {
      "cell_type": "code",
      "metadata": {
        "id": "1VbIWdJoAS_c",
        "colab_type": "code",
        "colab": {
          "base_uri": "https://localhost:8080/",
          "height": 732
        },
        "outputId": "fdc0ba85-7e6e-42cd-b5f6-18e590883b2d"
      },
      "source": [
        "modelshow = list(pred.keys())[4]\n",
        "print(\"Model:\", modelshow)\n",
        "all_models_mAP[modelshow] = model_mAP(pred, modelshow, title=\"FDDB_mAP_model_\")"
      ],
      "execution_count": null,
      "outputs": [
        {
          "output_type": "stream",
          "text": [
            "Model: faster_rcnn_R_50_FPN_3x\n",
            "All 0.50:   AP: 92.23%   Recall: 92.90%   IoU: 0.5\n",
            "large   :   AP: 97.89%   Recall: 98.03%   IoU: 0.5\n",
            "medium  :   AP: 85.68%   Recall: 86.89%   IoU: 0.5\n",
            "small   :   AP: 62.84%   Recall: 78.60%   IoU: 0.5\n",
            "mAP     :   AP: 40.08%   Recall: 46.20%   IoU: 0.5 - 0.95\n"
          ],
          "name": "stdout"
        },
        {
          "output_type": "display_data",
          "data": {
            "image/png": "[encoded data removed]",
            "text/plain": [
              "<Figure size 1152x720 with 1 Axes>"
            ]
          },
          "metadata": {
            "tags": [],
            "needs_background": "light"
          }
        }
      ]
    },
    {
      "cell_type": "markdown",
      "metadata": {
        "id": "5uEQDSNrIhcn",
        "colab_type": "text"
      },
      "source": [
        "## Model: scratch_faster_rcnn_R_50_FPN_gn"
      ]
    },
    {
      "cell_type": "code",
      "metadata": {
        "id": "Qhnb-Xe3uHVR",
        "colab_type": "code",
        "colab": {
          "base_uri": "https://localhost:8080/",
          "height": 732
        },
        "outputId": "037dceb9-05a2-4552-e35c-f4785070b272"
      },
      "source": [
        "modelshow = list(pred.keys())[5]\n",
        "print(\"Model:\", modelshow)\n",
        "all_models_mAP[modelshow] = model_mAP(pred, modelshow, title=\"FDDB_mAP_model_\")"
      ],
      "execution_count": null,
      "outputs": [
        {
          "output_type": "stream",
          "text": [
            "Model: scratch_faster_rcnn_R_50_FPN_gn\n",
            "All 0.50:   AP: 90.08%   Recall: 90.93%   IoU: 0.5\n",
            "large   :   AP: 96.79%   Recall: 96.92%   IoU: 0.5\n",
            "medium  :   AP: 82.33%   Recall: 83.90%   IoU: 0.5\n",
            "small   :   AP: 57.22%   Recall: 74.42%   IoU: 0.5\n",
            "mAP     :   AP: 38.44%   Recall: 45.51%   IoU: 0.5 - 0.95\n"
          ],
          "name": "stdout"
        },
        {
          "output_type": "display_data",
          "data": {
            "image/png": "[encoded data removed]",
            "text/plain": [
              "<Figure size 1152x720 with 1 Axes>"
            ]
          },
          "metadata": {
            "tags": [],
            "needs_background": "light"
          }
        }
      ]
    },
    {
      "cell_type": "markdown",
      "metadata": {
        "id": "_SywYJ2CsnZo",
        "colab_type": "text"
      },
      "source": [
        "## Model: MTCNN"
      ]
    },
    {
      "cell_type": "code",
      "metadata": {
        "id": "VRt3nu0NsrR6",
        "colab_type": "code",
        "colab": {
          "base_uri": "https://localhost:8080/",
          "height": 732
        },
        "outputId": "cea5436e-c470-44c0-d72b-7a8628ceae43"
      },
      "source": [
        "modelshow = list(pred.keys())[6]\n",
        "print(\"Model:\", modelshow)\n",
        "all_models_mAP[modelshow] = model_mAP(pred, modelshow, title=\"FDDB_mAP_model_\")"
      ],
      "execution_count": null,
      "outputs": [
        {
          "output_type": "stream",
          "text": [
            "Model: MTCNN\n",
            "All 0.50:   AP: 76.76%   Recall: 77.32%   IoU: 0.5\n",
            "large   :   AP: 87.70%   Recall: 88.07%   IoU: 0.5\n",
            "medium  :   AP: 65.30%   Recall: 66.20%   IoU: 0.5\n",
            "small   :   AP: 29.55%   Recall: 33.49%   IoU: 0.5\n",
            "mAP     :   AP: 22.67%   Recall: 28.57%   IoU: 0.5 - 0.95\n"
          ],
          "name": "stdout"
        },
        {
          "output_type": "display_data",
          "data": {
            "image/png": "[encoded data removed]",
            "text/plain": [
              "<Figure size 1152x720 with 1 Axes>"
            ]
          },
          "metadata": {
            "tags": [],
            "needs_background": "light"
          }
        }
      ]
    },
    {
      "cell_type": "code",
      "metadata": {
        "id": "CsKFTlKxjXAa",
        "colab_type": "code",
        "colab": {}
      },
      "source": [
        "!mv unified_mAP*.png ./drive/'My Drive'/FDDB_OUTPUT_DIR/"
      ],
      "execution_count": null,
      "outputs": []
    },
    {
      "cell_type": "markdown",
      "metadata": {
        "id": "3Uyq104ZAY06",
        "colab_type": "text"
      },
      "source": [
        "Zapis wyników na Google drive"
      ]
    },
    {
      "cell_type": "code",
      "metadata": {
        "id": "cI1-jMMrATBw",
        "colab_type": "code",
        "colab": {}
      },
      "source": [
        "output_file_name = \"unified_mAP_all_models\"\n",
        "output_file = os.path.join(OUTPUT_DIR_PATH, output_file_name)\n",
        "dict_to_file(all_models_mAP, output_file)"
      ],
      "execution_count": null,
      "outputs": []
    },
    {
      "cell_type": "code",
      "metadata": {
        "id": "alMzjZ-ZIy12",
        "colab_type": "code",
        "colab": {
          "base_uri": "https://localhost:8080/",
          "height": 35
        },
        "outputId": "8cfdff88-de08-4a0b-93fa-c6198394ebed"
      },
      "source": [
        "all_models_mAP.keys()"
      ],
      "execution_count": null,
      "outputs": [
        {
          "output_type": "execute_result",
          "data": {
            "text/plain": [
              "dict_keys(['800k', 'BN_800k', 'BN_Mish_V2_250+F_2_50k', 'BN_Mish_V3_80+_30k', 'faster_rcnn_R_50_FPN_3x', 'scratch_faster_rcnn_R_50_FPN_gn', 'MTCNN'])"
            ]
          },
          "metadata": {
            "tags": []
          },
          "execution_count": 47
        }
      ]
    },
    {
      "cell_type": "code",
      "metadata": {
        "id": "PW6V8fEvAS9W",
        "colab_type": "code",
        "colab": {}
      },
      "source": [
        "modeldict = {}\n",
        "DD_mAP = {}\n",
        "\n",
        "for item in all_models_mAP.keys():\n",
        "  for i in all_models_mAP[item][0].keys():\n",
        "    modeldict[i] =  {\n",
        "        \"AP\" : all_models_mAP[item][0][i][0],\n",
        "        \"Recall\" : all_models_mAP[item][0][i][1],\n",
        "        \"IoU\" : all_models_mAP[item][0][i][2],\n",
        "    }\n",
        "  DD_mAP[item] = modeldict "
      ],
      "execution_count": null,
      "outputs": []
    },
    {
      "cell_type": "code",
      "metadata": {
        "id": "joXrZmRpALIl",
        "colab_type": "code",
        "colab": {}
      },
      "source": [
        "output_file_name = \"DD_mAP_all_models\"\n",
        "output_file = os.path.join(OUTPUT_DIR_PATH, output_file_name)\n",
        "dict_to_file(DD_mAP, output_file)"
      ],
      "execution_count": null,
      "outputs": []
    },
    {
      "cell_type": "code",
      "metadata": {
        "id": "XqjY6Ztm7ttc",
        "colab_type": "code",
        "colab": {
          "base_uri": "https://localhost:8080/",
          "height": 269
        },
        "outputId": "f6bf247b-3a0b-45d7-dafe-4d12c4408394"
      },
      "source": [
        "from collections import OrderedDict\n",
        "\n",
        "DD_mAP2 = OrderedDict()\n",
        "\n",
        "for item in all_models_mAP.keys():\n",
        "  DD_mAP2[item] = ({i:all_models_mAP[item][0][i][0] for i in ['mAP', 'All 0.50','large','medium','small']})\n",
        "\n",
        "df_unified_mAP = pd.DataFrame.from_dict(DD_mAP2, orient='index').sort_values(by=['All 0.50'], ascending=False)\n",
        "df_unified_mAP"
      ],
      "execution_count": null,
      "outputs": [
        {
          "output_type": "execute_result",
          "data": {
            "text/html": [
              "<div>\n",
              "<style scoped>\n",
              "    .dataframe tbody tr th:only-of-type {\n",
              "        vertical-align: middle;\n",
              "    }\n",
              "\n",
              "    .dataframe tbody tr th {\n",
              "        vertical-align: top;\n",
              "    }\n",
              "\n",
              "    .dataframe thead th {\n",
              "        text-align: right;\n",
              "    }\n",
              "</style>\n",
              "<table border=\"1\" class=\"dataframe\">\n",
              "  <thead>\n",
              "    <tr style=\"text-align: right;\">\n",
              "      <th></th>\n",
              "      <th>mAP</th>\n",
              "      <th>All 0.50</th>\n",
              "      <th>large</th>\n",
              "      <th>medium</th>\n",
              "      <th>small</th>\n",
              "    </tr>\n",
              "  </thead>\n",
              "  <tbody>\n",
              "    <tr>\n",
              "      <th>faster_rcnn_R_50_FPN_3x</th>\n",
              "      <td>0.400832</td>\n",
              "      <td>0.922293</td>\n",
              "      <td>0.978863</td>\n",
              "      <td>0.856809</td>\n",
              "      <td>0.628422</td>\n",
              "    </tr>\n",
              "    <tr>\n",
              "      <th>BN_Mish_V2_250+F_2_50k</th>\n",
              "      <td>0.382871</td>\n",
              "      <td>0.916938</td>\n",
              "      <td>0.969164</td>\n",
              "      <td>0.853672</td>\n",
              "      <td>0.645481</td>\n",
              "    </tr>\n",
              "    <tr>\n",
              "      <th>BN_Mish_V3_80+_30k</th>\n",
              "      <td>0.402092</td>\n",
              "      <td>0.910858</td>\n",
              "      <td>0.970415</td>\n",
              "      <td>0.843167</td>\n",
              "      <td>0.605858</td>\n",
              "    </tr>\n",
              "    <tr>\n",
              "      <th>scratch_faster_rcnn_R_50_FPN_gn</th>\n",
              "      <td>0.384401</td>\n",
              "      <td>0.900806</td>\n",
              "      <td>0.967853</td>\n",
              "      <td>0.823343</td>\n",
              "      <td>0.572182</td>\n",
              "    </tr>\n",
              "    <tr>\n",
              "      <th>BN_800k</th>\n",
              "      <td>0.403373</td>\n",
              "      <td>0.897774</td>\n",
              "      <td>0.963604</td>\n",
              "      <td>0.822335</td>\n",
              "      <td>0.596383</td>\n",
              "    </tr>\n",
              "    <tr>\n",
              "      <th>MTCNN</th>\n",
              "      <td>0.226706</td>\n",
              "      <td>0.767601</td>\n",
              "      <td>0.876966</td>\n",
              "      <td>0.653019</td>\n",
              "      <td>0.295505</td>\n",
              "    </tr>\n",
              "    <tr>\n",
              "      <th>800k</th>\n",
              "      <td>0.190720</td>\n",
              "      <td>0.567498</td>\n",
              "      <td>0.517141</td>\n",
              "      <td>0.712006</td>\n",
              "      <td>0.453871</td>\n",
              "    </tr>\n",
              "  </tbody>\n",
              "</table>\n",
              "</div>"
            ],
            "text/plain": [
              "                                      mAP  All 0.50  ...    medium     small\n",
              "faster_rcnn_R_50_FPN_3x          0.400832  0.922293  ...  0.856809  0.628422\n",
              "BN_Mish_V2_250+F_2_50k           0.382871  0.916938  ...  0.853672  0.645481\n",
              "BN_Mish_V3_80+_30k               0.402092  0.910858  ...  0.843167  0.605858\n",
              "scratch_faster_rcnn_R_50_FPN_gn  0.384401  0.900806  ...  0.823343  0.572182\n",
              "BN_800k                          0.403373  0.897774  ...  0.822335  0.596383\n",
              "MTCNN                            0.226706  0.767601  ...  0.653019  0.295505\n",
              "800k                             0.190720  0.567498  ...  0.712006  0.453871\n",
              "\n",
              "[7 rows x 5 columns]"
            ]
          },
          "metadata": {
            "tags": []
          },
          "execution_count": 50
        }
      ]
    },
    {
      "cell_type": "code",
      "metadata": {
        "id": "Pv1ygY4D1XAC",
        "colab_type": "code",
        "colab": {}
      },
      "source": [
        "df_unified_mAP_results = df_unified_mAP.to_json(orient=\"table\")\n",
        "\n",
        "output_file_name = \"unified_mAP_dataframe.json\"\n",
        "output_file = os.path.join(OUTPUT_DIR_PATH, output_file_name)\n",
        "\n",
        "with open(output_file, 'w') as f:\n",
        "  json.dump(df_unified_mAP_results, f, indent=4)  "
      ],
      "execution_count": null,
      "outputs": []
    },
    {
      "cell_type": "code",
      "metadata": {
        "id": "EwmSRdeX8d5b",
        "colab_type": "code",
        "colab": {
          "base_uri": "https://localhost:8080/",
          "height": 269
        },
        "outputId": "9811661d-c39a-4c67-e778-4078dee1ccff"
      },
      "source": [
        "with open(output_file) as data_file:\n",
        "    data_loaded = json.load(data_file)\n",
        "pd.read_json(data_loaded, orient=\"table\" )"
      ],
      "execution_count": null,
      "outputs": [
        {
          "output_type": "execute_result",
          "data": {
            "text/html": [
              "<div>\n",
              "<style scoped>\n",
              "    .dataframe tbody tr th:only-of-type {\n",
              "        vertical-align: middle;\n",
              "    }\n",
              "\n",
              "    .dataframe tbody tr th {\n",
              "        vertical-align: top;\n",
              "    }\n",
              "\n",
              "    .dataframe thead th {\n",
              "        text-align: right;\n",
              "    }\n",
              "</style>\n",
              "<table border=\"1\" class=\"dataframe\">\n",
              "  <thead>\n",
              "    <tr style=\"text-align: right;\">\n",
              "      <th></th>\n",
              "      <th>mAP</th>\n",
              "      <th>All 0.50</th>\n",
              "      <th>large</th>\n",
              "      <th>medium</th>\n",
              "      <th>small</th>\n",
              "    </tr>\n",
              "  </thead>\n",
              "  <tbody>\n",
              "    <tr>\n",
              "      <th>faster_rcnn_R_50_FPN_3x</th>\n",
              "      <td>0.400832</td>\n",
              "      <td>0.922293</td>\n",
              "      <td>0.978863</td>\n",
              "      <td>0.856809</td>\n",
              "      <td>0.628422</td>\n",
              "    </tr>\n",
              "    <tr>\n",
              "      <th>BN_Mish_V2_250+F_2_50k</th>\n",
              "      <td>0.382871</td>\n",
              "      <td>0.916938</td>\n",
              "      <td>0.969164</td>\n",
              "      <td>0.853672</td>\n",
              "      <td>0.645481</td>\n",
              "    </tr>\n",
              "    <tr>\n",
              "      <th>BN_Mish_V3_80+_30k</th>\n",
              "      <td>0.402092</td>\n",
              "      <td>0.910858</td>\n",
              "      <td>0.970415</td>\n",
              "      <td>0.843167</td>\n",
              "      <td>0.605858</td>\n",
              "    </tr>\n",
              "    <tr>\n",
              "      <th>scratch_faster_rcnn_R_50_FPN_gn</th>\n",
              "      <td>0.384401</td>\n",
              "      <td>0.900806</td>\n",
              "      <td>0.967853</td>\n",
              "      <td>0.823343</td>\n",
              "      <td>0.572182</td>\n",
              "    </tr>\n",
              "    <tr>\n",
              "      <th>BN_800k</th>\n",
              "      <td>0.403373</td>\n",
              "      <td>0.897774</td>\n",
              "      <td>0.963604</td>\n",
              "      <td>0.822335</td>\n",
              "      <td>0.596383</td>\n",
              "    </tr>\n",
              "    <tr>\n",
              "      <th>MTCNN</th>\n",
              "      <td>0.226706</td>\n",
              "      <td>0.767601</td>\n",
              "      <td>0.876966</td>\n",
              "      <td>0.653019</td>\n",
              "      <td>0.295505</td>\n",
              "    </tr>\n",
              "    <tr>\n",
              "      <th>800k</th>\n",
              "      <td>0.190720</td>\n",
              "      <td>0.567498</td>\n",
              "      <td>0.517141</td>\n",
              "      <td>0.712006</td>\n",
              "      <td>0.453871</td>\n",
              "    </tr>\n",
              "  </tbody>\n",
              "</table>\n",
              "</div>"
            ],
            "text/plain": [
              "                                      mAP  All 0.50  ...    medium     small\n",
              "faster_rcnn_R_50_FPN_3x          0.400832  0.922293  ...  0.856809  0.628422\n",
              "BN_Mish_V2_250+F_2_50k           0.382871  0.916938  ...  0.853672  0.645481\n",
              "BN_Mish_V3_80+_30k               0.402092  0.910858  ...  0.843167  0.605858\n",
              "scratch_faster_rcnn_R_50_FPN_gn  0.384401  0.900806  ...  0.823343  0.572182\n",
              "BN_800k                          0.403373  0.897774  ...  0.822335  0.596383\n",
              "MTCNN                            0.226706  0.767601  ...  0.653019  0.295505\n",
              "800k                             0.190720  0.567498  ...  0.712006  0.453871\n",
              "\n",
              "[7 rows x 5 columns]"
            ]
          },
          "metadata": {
            "tags": []
          },
          "execution_count": 52
        }
      ]
    },
    {
      "cell_type": "markdown",
      "metadata": {
        "id": "XzwU9RGNAdf_",
        "colab_type": "text"
      },
      "source": [
        "# Ewaluacja na FDDB z wykorzystaniem COCOEvaluator i inference_on_dataset\n"
      ]
    },
    {
      "cell_type": "code",
      "metadata": {
        "id": "kgYvfw83Acy7",
        "colab_type": "code",
        "colab": {}
      },
      "source": [
        "from detectron2.evaluation import COCOEvaluator, inference_on_dataset\n",
        "from detectron2.data import build_detection_test_loader"
      ],
      "execution_count": null,
      "outputs": []
    },
    {
      "cell_type": "code",
      "metadata": {
        "id": "5Ep12r_GAc1t",
        "colab_type": "code",
        "colab": {
          "base_uri": "https://localhost:8080/",
          "height": 1000
        },
        "outputId": "d6f8be85-6bd6-4689-edf5-8cdf6eaddd8a"
      },
      "source": [
        "AP_VAL = {}\n",
        "\n",
        "for model in models_mnv2:\n",
        "  print(model)\n",
        "  destination = os.path.join(OUTPUT_DIR_PATH, model)\n",
        "  if not os.path.exists(destination):\n",
        "    os.makedirs(destination)\n",
        "  predictor, cfg = set_predictor(model, cfg_DATASETS_TEST=\"faces_val\")\n",
        "  print(destination)\n",
        "\n",
        "  evaluator = COCOEvaluator(cfg.DATASETS.TEST[0], cfg, True, output_dir=destination)\n",
        "  val_loader = build_detection_test_loader(cfg, cfg.DATASETS.TEST[0])\n",
        "  inference_on_dataset(predictor.model, val_loader, evaluator)\n",
        "  AP_VAL[model] = evaluator.evaluate()"
      ],
      "execution_count": null,
      "outputs": [
        {
          "output_type": "stream",
          "text": [
            "800k\n",
            "./drive/My Drive/FDDB_OUTPUT_DIR/800k\n",
            "\u001b[32m[08/20 22:06:12 d2.data.build]: \u001b[0mDistribution of instances among all 1 categories:\n",
            "\u001b[36m|  category  | #instances   |\n",
            "|:----------:|:-------------|\n",
            "|    face    | 5171         |\n",
            "|            |              |\u001b[0m\n",
            "\u001b[32m[08/20 22:06:12 d2.data.common]: \u001b[0mSerializing 2845 elements to byte tensors and concatenating them all ...\n",
            "\u001b[32m[08/20 22:06:12 d2.data.common]: \u001b[0mSerialized dataset takes 0.86 MiB\n",
            "\u001b[32m[08/20 22:06:12 d2.data.dataset_mapper]: \u001b[0mAugmentations used in training: [ResizeShortestEdge(short_edge_length=(800, 800), max_size=1333, sample_style='choice')]\n",
            "\u001b[32m[08/20 22:06:12 d2.evaluation.evaluator]: \u001b[0mStart inference on 2845 images\n",
            "\u001b[32m[08/20 22:06:13 d2.evaluation.evaluator]: \u001b[0mInference done 11/2845. 0.0447 s / img. ETA=0:02:09\n",
            "\u001b[32m[08/20 22:06:18 d2.evaluation.evaluator]: \u001b[0mInference done 120/2845. 0.0446 s / img. ETA=0:02:05\n",
            "\u001b[32m[08/20 22:06:23 d2.evaluation.evaluator]: \u001b[0mInference done 229/2845. 0.0447 s / img. ETA=0:02:00\n",
            "\u001b[32m[08/20 22:06:28 d2.evaluation.evaluator]: \u001b[0mInference done 339/2845. 0.0446 s / img. ETA=0:01:55\n",
            "\u001b[32m[08/20 22:06:33 d2.evaluation.evaluator]: \u001b[0mInference done 449/2845. 0.0446 s / img. ETA=0:01:49\n",
            "\u001b[32m[08/20 22:06:38 d2.evaluation.evaluator]: \u001b[0mInference done 558/2845. 0.0446 s / img. ETA=0:01:45\n",
            "\u001b[32m[08/20 22:06:43 d2.evaluation.evaluator]: \u001b[0mInference done 667/2845. 0.0447 s / img. ETA=0:01:40\n",
            "\u001b[32m[08/20 22:06:48 d2.evaluation.evaluator]: \u001b[0mInference done 777/2845. 0.0446 s / img. ETA=0:01:34\n",
            "\u001b[32m[08/20 22:06:53 d2.evaluation.evaluator]: \u001b[0mInference done 887/2845. 0.0446 s / img. ETA=0:01:29\n",
            "\u001b[32m[08/20 22:06:58 d2.evaluation.evaluator]: \u001b[0mInference done 996/2845. 0.0446 s / img. ETA=0:01:24\n",
            "\u001b[32m[08/20 22:07:03 d2.evaluation.evaluator]: \u001b[0mInference done 1105/2845. 0.0446 s / img. ETA=0:01:19\n",
            "\u001b[32m[08/20 22:07:08 d2.evaluation.evaluator]: \u001b[0mInference done 1214/2845. 0.0447 s / img. ETA=0:01:14\n",
            "\u001b[32m[08/20 22:07:13 d2.evaluation.evaluator]: \u001b[0mInference done 1324/2845. 0.0446 s / img. ETA=0:01:09\n",
            "\u001b[32m[08/20 22:07:18 d2.evaluation.evaluator]: \u001b[0mInference done 1434/2845. 0.0446 s / img. ETA=0:01:04\n",
            "\u001b[32m[08/20 22:07:23 d2.evaluation.evaluator]: \u001b[0mInference done 1544/2845. 0.0446 s / img. ETA=0:00:59\n",
            "\u001b[32m[08/20 22:07:28 d2.evaluation.evaluator]: \u001b[0mInference done 1653/2845. 0.0446 s / img. ETA=0:00:54\n",
            "\u001b[32m[08/20 22:07:33 d2.evaluation.evaluator]: \u001b[0mInference done 1761/2845. 0.0446 s / img. ETA=0:00:49\n",
            "\u001b[32m[08/20 22:07:38 d2.evaluation.evaluator]: \u001b[0mInference done 1868/2845. 0.0447 s / img. ETA=0:00:44\n",
            "\u001b[32m[08/20 22:07:43 d2.evaluation.evaluator]: \u001b[0mInference done 1979/2845. 0.0447 s / img. ETA=0:00:39\n",
            "\u001b[32m[08/20 22:07:48 d2.evaluation.evaluator]: \u001b[0mInference done 2088/2845. 0.0447 s / img. ETA=0:00:34\n",
            "\u001b[32m[08/20 22:07:53 d2.evaluation.evaluator]: \u001b[0mInference done 2198/2845. 0.0446 s / img. ETA=0:00:29\n",
            "\u001b[32m[08/20 22:07:58 d2.evaluation.evaluator]: \u001b[0mInference done 2307/2845. 0.0446 s / img. ETA=0:00:24\n",
            "\u001b[32m[08/20 22:08:03 d2.evaluation.evaluator]: \u001b[0mInference done 2416/2845. 0.0447 s / img. ETA=0:00:19\n",
            "\u001b[32m[08/20 22:08:09 d2.evaluation.evaluator]: \u001b[0mInference done 2526/2845. 0.0447 s / img. ETA=0:00:14\n",
            "\u001b[32m[08/20 22:08:14 d2.evaluation.evaluator]: \u001b[0mInference done 2636/2845. 0.0446 s / img. ETA=0:00:09\n",
            "\u001b[32m[08/20 22:08:19 d2.evaluation.evaluator]: \u001b[0mInference done 2746/2845. 0.0446 s / img. ETA=0:00:04\n",
            "\u001b[32m[08/20 22:08:23 d2.evaluation.evaluator]: \u001b[0mTotal inference time: 0:02:10.538662 (0.045964 s / img per device, on 1 devices)\n",
            "\u001b[32m[08/20 22:08:23 d2.evaluation.evaluator]: \u001b[0mTotal inference pure compute time: 0:02:06 (0.044626 s / img per device, on 1 devices)\n",
            "\u001b[32m[08/20 22:08:23 d2.evaluation.coco_evaluation]: \u001b[0mPreparing results for COCO format ...\n",
            "\u001b[32m[08/20 22:08:23 d2.evaluation.coco_evaluation]: \u001b[0mSaving results to ./drive/My Drive/FDDB_OUTPUT_DIR/800k/coco_instances_results.json\n",
            "\u001b[32m[08/20 22:08:23 d2.evaluation.coco_evaluation]: \u001b[0mEvaluating predictions with unofficial COCO API...\n",
            "Loading and preparing results...\n",
            "DONE (t=0.01s)\n",
            "creating index...\n",
            "index created!\n",
            "Running per image evaluation...\n",
            "Evaluate annotation type *bbox*\n",
            "COCOeval_opt.evaluate() finished in 0.27 seconds.\n",
            "Accumulating evaluation results...\n",
            "COCOeval_opt.accumulate() finished in 0.03 seconds.\n",
            " Average Precision  (AP) @[ IoU=0.50:0.95 | area=   all | maxDets=100 ] = 0.190\n",
            " Average Precision  (AP) @[ IoU=0.50      | area=   all | maxDets=100 ] = 0.577\n",
            " Average Precision  (AP) @[ IoU=0.75      | area=   all | maxDets=100 ] = 0.036\n",
            " Average Precision  (AP) @[ IoU=0.50:0.95 | area= small | maxDets=100 ] = 0.137\n",
            " Average Precision  (AP) @[ IoU=0.50:0.95 | area=medium | maxDets=100 ] = 0.254\n",
            " Average Precision  (AP) @[ IoU=0.50:0.95 | area= large | maxDets=100 ] = 0.179\n",
            " Average Recall     (AR) @[ IoU=0.50:0.95 | area=   all | maxDets=  1 ] = 0.134\n",
            " Average Recall     (AR) @[ IoU=0.50:0.95 | area=   all | maxDets= 10 ] = 0.256\n",
            " Average Recall     (AR) @[ IoU=0.50:0.95 | area=   all | maxDets=100 ] = 0.259\n",
            " Average Recall     (AR) @[ IoU=0.50:0.95 | area= small | maxDets=100 ] = 0.272\n",
            " Average Recall     (AR) @[ IoU=0.50:0.95 | area=medium | maxDets=100 ] = 0.327\n",
            " Average Recall     (AR) @[ IoU=0.50:0.95 | area= large | maxDets=100 ] = 0.209\n",
            "\u001b[32m[08/20 22:08:24 d2.evaluation.coco_evaluation]: \u001b[0mEvaluation results for bbox: \n",
            "|   AP   |  AP50  |  AP75  |  APs   |  APm   |  APl   |\n",
            "|:------:|:------:|:------:|:------:|:------:|:------:|\n",
            "| 19.019 | 57.740 | 3.563  | 13.694 | 25.408 | 17.909 |\n",
            "\u001b[32m[08/20 22:08:24 d2.evaluation.coco_evaluation]: \u001b[0mPreparing results for COCO format ...\n",
            "\u001b[32m[08/20 22:08:24 d2.evaluation.coco_evaluation]: \u001b[0mSaving results to ./drive/My Drive/FDDB_OUTPUT_DIR/800k/coco_instances_results.json\n",
            "\u001b[32m[08/20 22:08:24 d2.evaluation.coco_evaluation]: \u001b[0mEvaluating predictions with unofficial COCO API...\n",
            "Loading and preparing results...\n",
            "DONE (t=0.01s)\n",
            "creating index...\n",
            "index created!\n",
            "Running per image evaluation...\n",
            "Evaluate annotation type *bbox*\n",
            "COCOeval_opt.evaluate() finished in 0.25 seconds.\n",
            "Accumulating evaluation results...\n",
            "COCOeval_opt.accumulate() finished in 0.04 seconds.\n",
            " Average Precision  (AP) @[ IoU=0.50:0.95 | area=   all | maxDets=100 ] = 0.190\n",
            " Average Precision  (AP) @[ IoU=0.50      | area=   all | maxDets=100 ] = 0.577\n",
            " Average Precision  (AP) @[ IoU=0.75      | area=   all | maxDets=100 ] = 0.036\n",
            " Average Precision  (AP) @[ IoU=0.50:0.95 | area= small | maxDets=100 ] = 0.137\n",
            " Average Precision  (AP) @[ IoU=0.50:0.95 | area=medium | maxDets=100 ] = 0.254\n",
            " Average Precision  (AP) @[ IoU=0.50:0.95 | area= large | maxDets=100 ] = 0.179\n",
            " Average Recall     (AR) @[ IoU=0.50:0.95 | area=   all | maxDets=  1 ] = 0.134\n",
            " Average Recall     (AR) @[ IoU=0.50:0.95 | area=   all | maxDets= 10 ] = 0.256\n",
            " Average Recall     (AR) @[ IoU=0.50:0.95 | area=   all | maxDets=100 ] = 0.259\n",
            " Average Recall     (AR) @[ IoU=0.50:0.95 | area= small | maxDets=100 ] = 0.272\n",
            " Average Recall     (AR) @[ IoU=0.50:0.95 | area=medium | maxDets=100 ] = 0.327\n",
            " Average Recall     (AR) @[ IoU=0.50:0.95 | area= large | maxDets=100 ] = 0.209\n",
            "\u001b[32m[08/20 22:08:24 d2.evaluation.coco_evaluation]: \u001b[0mEvaluation results for bbox: \n",
            "|   AP   |  AP50  |  AP75  |  APs   |  APm   |  APl   |\n",
            "|:------:|:------:|:------:|:------:|:------:|:------:|\n",
            "| 19.019 | 57.740 | 3.563  | 13.694 | 25.408 | 17.909 |\n",
            "BN_800k\n",
            "./drive/My Drive/FDDB_OUTPUT_DIR/BN_800k\n",
            "\u001b[32m[08/20 22:08:34 d2.data.common]: \u001b[0mSerializing 2845 elements to byte tensors and concatenating them all ...\n",
            "\u001b[32m[08/20 22:08:34 d2.data.common]: \u001b[0mSerialized dataset takes 0.86 MiB\n",
            "\u001b[32m[08/20 22:08:34 d2.data.dataset_mapper]: \u001b[0mAugmentations used in training: [ResizeShortestEdge(short_edge_length=(800, 800), max_size=1333, sample_style='choice')]\n",
            "\u001b[32m[08/20 22:08:34 d2.evaluation.evaluator]: \u001b[0mStart inference on 2845 images\n",
            "\u001b[32m[08/20 22:08:35 d2.evaluation.evaluator]: \u001b[0mInference done 11/2845. 0.0446 s / img. ETA=0:02:08\n",
            "\u001b[32m[08/20 22:08:40 d2.evaluation.evaluator]: \u001b[0mInference done 118/2845. 0.0454 s / img. ETA=0:02:07\n",
            "\u001b[32m[08/20 22:08:45 d2.evaluation.evaluator]: \u001b[0mInference done 224/2845. 0.0456 s / img. ETA=0:02:03\n",
            "\u001b[32m[08/20 22:08:50 d2.evaluation.evaluator]: \u001b[0mInference done 331/2845. 0.0456 s / img. ETA=0:01:58\n",
            "\u001b[32m[08/20 22:08:55 d2.evaluation.evaluator]: \u001b[0mInference done 438/2845. 0.0457 s / img. ETA=0:01:53\n",
            "\u001b[32m[08/20 22:09:00 d2.evaluation.evaluator]: \u001b[0mInference done 546/2845. 0.0456 s / img. ETA=0:01:47\n",
            "\u001b[32m[08/20 22:09:05 d2.evaluation.evaluator]: \u001b[0mInference done 651/2845. 0.0457 s / img. ETA=0:01:43\n",
            "\u001b[32m[08/20 22:09:10 d2.evaluation.evaluator]: \u001b[0mInference done 758/2845. 0.0457 s / img. ETA=0:01:38\n",
            "\u001b[32m[08/20 22:09:15 d2.evaluation.evaluator]: \u001b[0mInference done 865/2845. 0.0456 s / img. ETA=0:01:33\n",
            "\u001b[32m[08/20 22:09:20 d2.evaluation.evaluator]: \u001b[0mInference done 972/2845. 0.0456 s / img. ETA=0:01:28\n",
            "\u001b[32m[08/20 22:09:25 d2.evaluation.evaluator]: \u001b[0mInference done 1079/2845. 0.0456 s / img. ETA=0:01:23\n",
            "\u001b[32m[08/20 22:09:30 d2.evaluation.evaluator]: \u001b[0mInference done 1186/2845. 0.0456 s / img. ETA=0:01:17\n",
            "\u001b[32m[08/20 22:09:35 d2.evaluation.evaluator]: \u001b[0mInference done 1294/2845. 0.0456 s / img. ETA=0:01:12\n",
            "\u001b[32m[08/20 22:09:40 d2.evaluation.evaluator]: \u001b[0mInference done 1401/2845. 0.0456 s / img. ETA=0:01:07\n",
            "\u001b[32m[08/20 22:09:45 d2.evaluation.evaluator]: \u001b[0mInference done 1509/2845. 0.0456 s / img. ETA=0:01:02\n",
            "\u001b[32m[08/20 22:09:50 d2.evaluation.evaluator]: \u001b[0mInference done 1614/2845. 0.0456 s / img. ETA=0:00:57\n",
            "\u001b[32m[08/20 22:09:55 d2.evaluation.evaluator]: \u001b[0mInference done 1721/2845. 0.0456 s / img. ETA=0:00:52\n",
            "\u001b[32m[08/20 22:10:00 d2.evaluation.evaluator]: \u001b[0mInference done 1826/2845. 0.0456 s / img. ETA=0:00:47\n",
            "\u001b[32m[08/20 22:10:05 d2.evaluation.evaluator]: \u001b[0mInference done 1934/2845. 0.0456 s / img. ETA=0:00:42\n",
            "\u001b[32m[08/20 22:10:10 d2.evaluation.evaluator]: \u001b[0mInference done 2041/2845. 0.0456 s / img. ETA=0:00:37\n",
            "\u001b[32m[08/20 22:10:15 d2.evaluation.evaluator]: \u001b[0mInference done 2147/2845. 0.0456 s / img. ETA=0:00:32\n",
            "\u001b[32m[08/20 22:10:20 d2.evaluation.evaluator]: \u001b[0mInference done 2254/2845. 0.0456 s / img. ETA=0:00:27\n",
            "\u001b[32m[08/20 22:10:25 d2.evaluation.evaluator]: \u001b[0mInference done 2356/2845. 0.0457 s / img. ETA=0:00:23\n",
            "\u001b[32m[08/20 22:10:30 d2.evaluation.evaluator]: \u001b[0mInference done 2462/2845. 0.0457 s / img. ETA=0:00:18\n",
            "\u001b[32m[08/20 22:10:35 d2.evaluation.evaluator]: \u001b[0mInference done 2570/2845. 0.0457 s / img. ETA=0:00:12\n",
            "\u001b[32m[08/20 22:10:40 d2.evaluation.evaluator]: \u001b[0mInference done 2677/2845. 0.0457 s / img. ETA=0:00:07\n",
            "\u001b[32m[08/20 22:10:45 d2.evaluation.evaluator]: \u001b[0mInference done 2784/2845. 0.0456 s / img. ETA=0:00:02\n",
            "\u001b[32m[08/20 22:10:48 d2.evaluation.evaluator]: \u001b[0mTotal inference time: 0:02:13.741040 (0.047092 s / img per device, on 1 devices)\n",
            "\u001b[32m[08/20 22:10:48 d2.evaluation.evaluator]: \u001b[0mTotal inference pure compute time: 0:02:09 (0.045645 s / img per device, on 1 devices)\n",
            "\u001b[32m[08/20 22:10:48 d2.evaluation.coco_evaluation]: \u001b[0mPreparing results for COCO format ...\n",
            "\u001b[32m[08/20 22:10:48 d2.evaluation.coco_evaluation]: \u001b[0mSaving results to ./drive/My Drive/FDDB_OUTPUT_DIR/BN_800k/coco_instances_results.json\n",
            "\u001b[32m[08/20 22:10:48 d2.evaluation.coco_evaluation]: \u001b[0mEvaluating predictions with unofficial COCO API...\n",
            "Loading and preparing results...\n",
            "DONE (t=0.01s)\n",
            "creating index...\n",
            "index created!\n",
            "Running per image evaluation...\n",
            "Evaluate annotation type *bbox*\n",
            "COCOeval_opt.evaluate() finished in 0.21 seconds.\n",
            "Accumulating evaluation results...\n",
            "COCOeval_opt.accumulate() finished in 0.03 seconds.\n",
            " Average Precision  (AP) @[ IoU=0.50:0.95 | area=   all | maxDets=100 ] = 0.397\n",
            " Average Precision  (AP) @[ IoU=0.50      | area=   all | maxDets=100 ] = 0.894\n",
            " Average Precision  (AP) @[ IoU=0.75      | area=   all | maxDets=100 ] = 0.184\n",
            " Average Precision  (AP) @[ IoU=0.50:0.95 | area= small | maxDets=100 ] = 0.189\n",
            " Average Precision  (AP) @[ IoU=0.50:0.95 | area=medium | maxDets=100 ] = 0.327\n",
            " Average Precision  (AP) @[ IoU=0.50:0.95 | area= large | maxDets=100 ] = 0.466\n",
            " Average Recall     (AR) @[ IoU=0.50:0.95 | area=   all | maxDets=  1 ] = 0.297\n",
            " Average Recall     (AR) @[ IoU=0.50:0.95 | area=   all | maxDets= 10 ] = 0.454\n",
            " Average Recall     (AR) @[ IoU=0.50:0.95 | area=   all | maxDets=100 ] = 0.457\n",
            " Average Recall     (AR) @[ IoU=0.50:0.95 | area= small | maxDets=100 ] = 0.305\n",
            " Average Recall     (AR) @[ IoU=0.50:0.95 | area=medium | maxDets=100 ] = 0.389\n",
            " Average Recall     (AR) @[ IoU=0.50:0.95 | area= large | maxDets=100 ] = 0.517\n",
            "\u001b[32m[08/20 22:10:48 d2.evaluation.coco_evaluation]: \u001b[0mEvaluation results for bbox: \n",
            "|   AP   |  AP50  |  AP75  |  APs   |  APm   |  APl   |\n",
            "|:------:|:------:|:------:|:------:|:------:|:------:|\n",
            "| 39.693 | 89.397 | 18.394 | 18.949 | 32.746 | 46.565 |\n",
            "\u001b[32m[08/20 22:10:48 d2.evaluation.coco_evaluation]: \u001b[0mPreparing results for COCO format ...\n",
            "\u001b[32m[08/20 22:10:48 d2.evaluation.coco_evaluation]: \u001b[0mSaving results to ./drive/My Drive/FDDB_OUTPUT_DIR/BN_800k/coco_instances_results.json\n",
            "\u001b[32m[08/20 22:10:49 d2.evaluation.coco_evaluation]: \u001b[0mEvaluating predictions with unofficial COCO API...\n",
            "Loading and preparing results...\n",
            "DONE (t=0.01s)\n",
            "creating index...\n",
            "index created!\n",
            "Running per image evaluation...\n",
            "Evaluate annotation type *bbox*\n",
            "COCOeval_opt.evaluate() finished in 0.24 seconds.\n",
            "Accumulating evaluation results...\n",
            "COCOeval_opt.accumulate() finished in 0.03 seconds.\n",
            " Average Precision  (AP) @[ IoU=0.50:0.95 | area=   all | maxDets=100 ] = 0.397\n",
            " Average Precision  (AP) @[ IoU=0.50      | area=   all | maxDets=100 ] = 0.894\n",
            " Average Precision  (AP) @[ IoU=0.75      | area=   all | maxDets=100 ] = 0.184\n",
            " Average Precision  (AP) @[ IoU=0.50:0.95 | area= small | maxDets=100 ] = 0.189\n",
            " Average Precision  (AP) @[ IoU=0.50:0.95 | area=medium | maxDets=100 ] = 0.327\n",
            " Average Precision  (AP) @[ IoU=0.50:0.95 | area= large | maxDets=100 ] = 0.466\n",
            " Average Recall     (AR) @[ IoU=0.50:0.95 | area=   all | maxDets=  1 ] = 0.297\n",
            " Average Recall     (AR) @[ IoU=0.50:0.95 | area=   all | maxDets= 10 ] = 0.454\n",
            " Average Recall     (AR) @[ IoU=0.50:0.95 | area=   all | maxDets=100 ] = 0.457\n",
            " Average Recall     (AR) @[ IoU=0.50:0.95 | area= small | maxDets=100 ] = 0.305\n",
            " Average Recall     (AR) @[ IoU=0.50:0.95 | area=medium | maxDets=100 ] = 0.389\n",
            " Average Recall     (AR) @[ IoU=0.50:0.95 | area= large | maxDets=100 ] = 0.517\n",
            "\u001b[32m[08/20 22:10:49 d2.evaluation.coco_evaluation]: \u001b[0mEvaluation results for bbox: \n",
            "|   AP   |  AP50  |  AP75  |  APs   |  APm   |  APl   |\n",
            "|:------:|:------:|:------:|:------:|:------:|:------:|\n",
            "| 39.693 | 89.397 | 18.394 | 18.949 | 32.746 | 46.565 |\n",
            "BN_Mish_V2_250+F_2_50k\n",
            "./drive/My Drive/FDDB_OUTPUT_DIR/BN_Mish_V2_250+F_2_50k\n",
            "\u001b[32m[08/20 22:10:58 d2.data.common]: \u001b[0mSerializing 2845 elements to byte tensors and concatenating them all ...\n",
            "\u001b[32m[08/20 22:10:58 d2.data.common]: \u001b[0mSerialized dataset takes 0.86 MiB\n",
            "\u001b[32m[08/20 22:10:58 d2.data.dataset_mapper]: \u001b[0mAugmentations used in training: [ResizeShortestEdge(short_edge_length=(800, 800), max_size=1333, sample_style='choice')]\n",
            "\u001b[32m[08/20 22:10:58 d2.evaluation.evaluator]: \u001b[0mStart inference on 2845 images\n",
            "\u001b[32m[08/20 22:10:59 d2.evaluation.evaluator]: \u001b[0mInference done 11/2845. 0.0488 s / img. ETA=0:02:21\n",
            "\u001b[32m[08/20 22:11:04 d2.evaluation.evaluator]: \u001b[0mInference done 110/2845. 0.0492 s / img. ETA=0:02:18\n",
            "\u001b[32m[08/20 22:11:09 d2.evaluation.evaluator]: \u001b[0mInference done 207/2845. 0.0497 s / img. ETA=0:02:15\n",
            "\u001b[32m[08/20 22:11:14 d2.evaluation.evaluator]: \u001b[0mInference done 306/2845. 0.0496 s / img. ETA=0:02:09\n",
            "\u001b[32m[08/20 22:11:19 d2.evaluation.evaluator]: \u001b[0mInference done 405/2845. 0.0495 s / img. ETA=0:02:04\n",
            "\u001b[32m[08/20 22:11:24 d2.evaluation.evaluator]: \u001b[0mInference done 503/2845. 0.0496 s / img. ETA=0:01:59\n",
            "\u001b[32m[08/20 22:11:29 d2.evaluation.evaluator]: \u001b[0mInference done 601/2845. 0.0496 s / img. ETA=0:01:54\n",
            "\u001b[32m[08/20 22:11:34 d2.evaluation.evaluator]: \u001b[0mInference done 700/2845. 0.0496 s / img. ETA=0:01:49\n",
            "\u001b[32m[08/20 22:11:39 d2.evaluation.evaluator]: \u001b[0mInference done 799/2845. 0.0495 s / img. ETA=0:01:44\n",
            "\u001b[32m[08/20 22:11:44 d2.evaluation.evaluator]: \u001b[0mInference done 898/2845. 0.0495 s / img. ETA=0:01:39\n",
            "\u001b[32m[08/20 22:11:49 d2.evaluation.evaluator]: \u001b[0mInference done 997/2845. 0.0495 s / img. ETA=0:01:34\n",
            "\u001b[32m[08/20 22:11:54 d2.evaluation.evaluator]: \u001b[0mInference done 1095/2845. 0.0495 s / img. ETA=0:01:29\n",
            "\u001b[32m[08/20 22:11:59 d2.evaluation.evaluator]: \u001b[0mInference done 1194/2845. 0.0495 s / img. ETA=0:01:24\n",
            "\u001b[32m[08/20 22:12:04 d2.evaluation.evaluator]: \u001b[0mInference done 1294/2845. 0.0495 s / img. ETA=0:01:19\n",
            "\u001b[32m[08/20 22:12:09 d2.evaluation.evaluator]: \u001b[0mInference done 1394/2845. 0.0495 s / img. ETA=0:01:13\n",
            "\u001b[32m[08/20 22:12:14 d2.evaluation.evaluator]: \u001b[0mInference done 1493/2845. 0.0494 s / img. ETA=0:01:08\n",
            "\u001b[32m[08/20 22:12:19 d2.evaluation.evaluator]: \u001b[0mInference done 1591/2845. 0.0495 s / img. ETA=0:01:03\n",
            "\u001b[32m[08/20 22:12:24 d2.evaluation.evaluator]: \u001b[0mInference done 1690/2845. 0.0494 s / img. ETA=0:00:58\n",
            "\u001b[32m[08/20 22:12:29 d2.evaluation.evaluator]: \u001b[0mInference done 1788/2845. 0.0495 s / img. ETA=0:00:53\n",
            "\u001b[32m[08/20 22:12:34 d2.evaluation.evaluator]: \u001b[0mInference done 1887/2845. 0.0494 s / img. ETA=0:00:48\n",
            "\u001b[32m[08/20 22:12:39 d2.evaluation.evaluator]: \u001b[0mInference done 1987/2845. 0.0494 s / img. ETA=0:00:43\n",
            "\u001b[32m[08/20 22:12:44 d2.evaluation.evaluator]: \u001b[0mInference done 2086/2845. 0.0494 s / img. ETA=0:00:38\n",
            "\u001b[32m[08/20 22:12:50 d2.evaluation.evaluator]: \u001b[0mInference done 2185/2845. 0.0494 s / img. ETA=0:00:33\n",
            "\u001b[32m[08/20 22:12:55 d2.evaluation.evaluator]: \u001b[0mInference done 2284/2845. 0.0494 s / img. ETA=0:00:28\n",
            "\u001b[32m[08/20 22:13:00 d2.evaluation.evaluator]: \u001b[0mInference done 2382/2845. 0.0494 s / img. ETA=0:00:23\n",
            "\u001b[32m[08/20 22:13:05 d2.evaluation.evaluator]: \u001b[0mInference done 2481/2845. 0.0494 s / img. ETA=0:00:18\n",
            "\u001b[32m[08/20 22:13:10 d2.evaluation.evaluator]: \u001b[0mInference done 2581/2845. 0.0494 s / img. ETA=0:00:13\n",
            "\u001b[32m[08/20 22:13:15 d2.evaluation.evaluator]: \u001b[0mInference done 2680/2845. 0.0494 s / img. ETA=0:00:08\n",
            "\u001b[32m[08/20 22:13:20 d2.evaluation.evaluator]: \u001b[0mInference done 2779/2845. 0.0494 s / img. ETA=0:00:03\n",
            "\u001b[32m[08/20 22:13:23 d2.evaluation.evaluator]: \u001b[0mTotal inference time: 0:02:24.411272 (0.050849 s / img per device, on 1 devices)\n",
            "\u001b[32m[08/20 22:13:23 d2.evaluation.evaluator]: \u001b[0mTotal inference pure compute time: 0:02:20 (0.049407 s / img per device, on 1 devices)\n",
            "\u001b[32m[08/20 22:13:23 d2.evaluation.coco_evaluation]: \u001b[0mPreparing results for COCO format ...\n",
            "\u001b[32m[08/20 22:13:23 d2.evaluation.coco_evaluation]: \u001b[0mSaving results to ./drive/My Drive/FDDB_OUTPUT_DIR/BN_Mish_V2_250+F_2_50k/coco_instances_results.json\n",
            "\u001b[32m[08/20 22:13:23 d2.evaluation.coco_evaluation]: \u001b[0mEvaluating predictions with unofficial COCO API...\n",
            "Loading and preparing results...\n",
            "DONE (t=0.01s)\n",
            "creating index...\n",
            "index created!\n",
            "Running per image evaluation...\n",
            "Evaluate annotation type *bbox*\n",
            "COCOeval_opt.evaluate() finished in 0.25 seconds.\n",
            "Accumulating evaluation results...\n",
            "COCOeval_opt.accumulate() finished in 0.03 seconds.\n",
            " Average Precision  (AP) @[ IoU=0.50:0.95 | area=   all | maxDets=100 ] = 0.376\n",
            " Average Precision  (AP) @[ IoU=0.50      | area=   all | maxDets=100 ] = 0.905\n",
            " Average Precision  (AP) @[ IoU=0.75      | area=   all | maxDets=100 ] = 0.105\n",
            " Average Precision  (AP) @[ IoU=0.50:0.95 | area= small | maxDets=100 ] = 0.190\n",
            " Average Precision  (AP) @[ IoU=0.50:0.95 | area=medium | maxDets=100 ] = 0.321\n",
            " Average Precision  (AP) @[ IoU=0.50:0.95 | area= large | maxDets=100 ] = 0.426\n",
            " Average Recall     (AR) @[ IoU=0.50:0.95 | area=   all | maxDets=  1 ] = 0.274\n",
            " Average Recall     (AR) @[ IoU=0.50:0.95 | area=   all | maxDets= 10 ] = 0.428\n",
            " Average Recall     (AR) @[ IoU=0.50:0.95 | area=   all | maxDets=100 ] = 0.432\n",
            " Average Recall     (AR) @[ IoU=0.50:0.95 | area= small | maxDets=100 ] = 0.315\n",
            " Average Recall     (AR) @[ IoU=0.50:0.95 | area=medium | maxDets=100 ] = 0.386\n",
            " Average Recall     (AR) @[ IoU=0.50:0.95 | area= large | maxDets=100 ] = 0.473\n",
            "\u001b[32m[08/20 22:13:23 d2.evaluation.coco_evaluation]: \u001b[0mEvaluation results for bbox: \n",
            "|   AP   |  AP50  |  AP75  |  APs   |  APm   |  APl   |\n",
            "|:------:|:------:|:------:|:------:|:------:|:------:|\n",
            "| 37.604 | 90.541 | 10.509 | 19.020 | 32.084 | 42.633 |\n",
            "\u001b[32m[08/20 22:13:24 d2.evaluation.coco_evaluation]: \u001b[0mPreparing results for COCO format ...\n",
            "\u001b[32m[08/20 22:13:24 d2.evaluation.coco_evaluation]: \u001b[0mSaving results to ./drive/My Drive/FDDB_OUTPUT_DIR/BN_Mish_V2_250+F_2_50k/coco_instances_results.json\n",
            "\u001b[32m[08/20 22:13:24 d2.evaluation.coco_evaluation]: \u001b[0mEvaluating predictions with unofficial COCO API...\n",
            "Loading and preparing results...\n",
            "DONE (t=0.00s)\n",
            "creating index...\n",
            "index created!\n",
            "Running per image evaluation...\n",
            "Evaluate annotation type *bbox*\n",
            "COCOeval_opt.evaluate() finished in 0.24 seconds.\n",
            "Accumulating evaluation results...\n",
            "COCOeval_opt.accumulate() finished in 0.03 seconds.\n",
            " Average Precision  (AP) @[ IoU=0.50:0.95 | area=   all | maxDets=100 ] = 0.376\n",
            " Average Precision  (AP) @[ IoU=0.50      | area=   all | maxDets=100 ] = 0.905\n",
            " Average Precision  (AP) @[ IoU=0.75      | area=   all | maxDets=100 ] = 0.105\n",
            " Average Precision  (AP) @[ IoU=0.50:0.95 | area= small | maxDets=100 ] = 0.190\n",
            " Average Precision  (AP) @[ IoU=0.50:0.95 | area=medium | maxDets=100 ] = 0.321\n",
            " Average Precision  (AP) @[ IoU=0.50:0.95 | area= large | maxDets=100 ] = 0.426\n",
            " Average Recall     (AR) @[ IoU=0.50:0.95 | area=   all | maxDets=  1 ] = 0.274\n",
            " Average Recall     (AR) @[ IoU=0.50:0.95 | area=   all | maxDets= 10 ] = 0.428\n",
            " Average Recall     (AR) @[ IoU=0.50:0.95 | area=   all | maxDets=100 ] = 0.432\n",
            " Average Recall     (AR) @[ IoU=0.50:0.95 | area= small | maxDets=100 ] = 0.315\n",
            " Average Recall     (AR) @[ IoU=0.50:0.95 | area=medium | maxDets=100 ] = 0.386\n",
            " Average Recall     (AR) @[ IoU=0.50:0.95 | area= large | maxDets=100 ] = 0.473\n",
            "\u001b[32m[08/20 22:13:24 d2.evaluation.coco_evaluation]: \u001b[0mEvaluation results for bbox: \n",
            "|   AP   |  AP50  |  AP75  |  APs   |  APm   |  APl   |\n",
            "|:------:|:------:|:------:|:------:|:------:|:------:|\n",
            "| 37.604 | 90.541 | 10.509 | 19.020 | 32.084 | 42.633 |\n",
            "BN_Mish_V3_80+_30k\n",
            "./drive/My Drive/FDDB_OUTPUT_DIR/BN_Mish_V3_80+_30k\n",
            "\u001b[32m[08/20 22:13:33 d2.data.common]: \u001b[0mSerializing 2845 elements to byte tensors and concatenating them all ...\n",
            "\u001b[32m[08/20 22:13:33 d2.data.common]: \u001b[0mSerialized dataset takes 0.86 MiB\n",
            "\u001b[32m[08/20 22:13:33 d2.data.dataset_mapper]: \u001b[0mAugmentations used in training: [ResizeShortestEdge(short_edge_length=(800, 800), max_size=1333, sample_style='choice')]\n",
            "\u001b[32m[08/20 22:13:33 d2.evaluation.evaluator]: \u001b[0mStart inference on 2845 images\n",
            "\u001b[32m[08/20 22:13:34 d2.evaluation.evaluator]: \u001b[0mInference done 11/2845. 0.0501 s / img. ETA=0:02:25\n",
            "\u001b[32m[08/20 22:13:39 d2.evaluation.evaluator]: \u001b[0mInference done 111/2845. 0.0490 s / img. ETA=0:02:17\n",
            "\u001b[32m[08/20 22:13:44 d2.evaluation.evaluator]: \u001b[0mInference done 209/2845. 0.0494 s / img. ETA=0:02:13\n",
            "\u001b[32m[08/20 22:13:49 d2.evaluation.evaluator]: \u001b[0mInference done 309/2845. 0.0493 s / img. ETA=0:02:08\n",
            "\u001b[32m[08/20 22:13:54 d2.evaluation.evaluator]: \u001b[0mInference done 407/2845. 0.0494 s / img. ETA=0:02:03\n",
            "\u001b[32m[08/20 22:13:59 d2.evaluation.evaluator]: \u001b[0mInference done 506/2845. 0.0494 s / img. ETA=0:01:58\n",
            "\u001b[32m[08/20 22:14:04 d2.evaluation.evaluator]: \u001b[0mInference done 604/2845. 0.0494 s / img. ETA=0:01:53\n",
            "\u001b[32m[08/20 22:14:09 d2.evaluation.evaluator]: \u001b[0mInference done 703/2845. 0.0494 s / img. ETA=0:01:48\n",
            "\u001b[32m[08/20 22:14:14 d2.evaluation.evaluator]: \u001b[0mInference done 802/2845. 0.0494 s / img. ETA=0:01:43\n",
            "\u001b[32m[08/20 22:14:19 d2.evaluation.evaluator]: \u001b[0mInference done 901/2845. 0.0494 s / img. ETA=0:01:38\n",
            "\u001b[32m[08/20 22:14:24 d2.evaluation.evaluator]: \u001b[0mInference done 1000/2845. 0.0494 s / img. ETA=0:01:33\n",
            "\u001b[32m[08/20 22:14:29 d2.evaluation.evaluator]: \u001b[0mInference done 1098/2845. 0.0494 s / img. ETA=0:01:28\n",
            "\u001b[32m[08/20 22:14:34 d2.evaluation.evaluator]: \u001b[0mInference done 1197/2845. 0.0494 s / img. ETA=0:01:23\n",
            "\u001b[32m[08/20 22:14:39 d2.evaluation.evaluator]: \u001b[0mInference done 1297/2845. 0.0494 s / img. ETA=0:01:18\n",
            "\u001b[32m[08/20 22:14:44 d2.evaluation.evaluator]: \u001b[0mInference done 1397/2845. 0.0494 s / img. ETA=0:01:13\n",
            "\u001b[32m[08/20 22:14:49 d2.evaluation.evaluator]: \u001b[0mInference done 1493/2845. 0.0495 s / img. ETA=0:01:08\n",
            "\u001b[32m[08/20 22:14:54 d2.evaluation.evaluator]: \u001b[0mInference done 1592/2845. 0.0495 s / img. ETA=0:01:03\n",
            "\u001b[32m[08/20 22:14:59 d2.evaluation.evaluator]: \u001b[0mInference done 1691/2845. 0.0495 s / img. ETA=0:00:58\n",
            "\u001b[32m[08/20 22:15:04 d2.evaluation.evaluator]: \u001b[0mInference done 1789/2845. 0.0495 s / img. ETA=0:00:53\n",
            "\u001b[32m[08/20 22:15:09 d2.evaluation.evaluator]: \u001b[0mInference done 1889/2845. 0.0494 s / img. ETA=0:00:48\n",
            "\u001b[32m[08/20 22:15:14 d2.evaluation.evaluator]: \u001b[0mInference done 1989/2845. 0.0494 s / img. ETA=0:00:43\n",
            "\u001b[32m[08/20 22:15:19 d2.evaluation.evaluator]: \u001b[0mInference done 2089/2845. 0.0494 s / img. ETA=0:00:38\n",
            "\u001b[32m[08/20 22:15:24 d2.evaluation.evaluator]: \u001b[0mInference done 2188/2845. 0.0494 s / img. ETA=0:00:33\n",
            "\u001b[32m[08/20 22:15:29 d2.evaluation.evaluator]: \u001b[0mInference done 2288/2845. 0.0494 s / img. ETA=0:00:28\n",
            "\u001b[32m[08/20 22:15:34 d2.evaluation.evaluator]: \u001b[0mInference done 2386/2845. 0.0494 s / img. ETA=0:00:23\n",
            "\u001b[32m[08/20 22:15:39 d2.evaluation.evaluator]: \u001b[0mInference done 2486/2845. 0.0494 s / img. ETA=0:00:18\n",
            "\u001b[32m[08/20 22:15:44 d2.evaluation.evaluator]: \u001b[0mInference done 2586/2845. 0.0493 s / img. ETA=0:00:13\n",
            "\u001b[32m[08/20 22:15:49 d2.evaluation.evaluator]: \u001b[0mInference done 2685/2845. 0.0493 s / img. ETA=0:00:08\n",
            "\u001b[32m[08/20 22:15:54 d2.evaluation.evaluator]: \u001b[0mInference done 2785/2845. 0.0493 s / img. ETA=0:00:03\n",
            "\u001b[32m[08/20 22:15:57 d2.evaluation.evaluator]: \u001b[0mTotal inference time: 0:02:24.065526 (0.050727 s / img per device, on 1 devices)\n",
            "\u001b[32m[08/20 22:15:57 d2.evaluation.evaluator]: \u001b[0mTotal inference pure compute time: 0:02:20 (0.049316 s / img per device, on 1 devices)\n",
            "\u001b[32m[08/20 22:15:57 d2.evaluation.coco_evaluation]: \u001b[0mPreparing results for COCO format ...\n",
            "\u001b[32m[08/20 22:15:57 d2.evaluation.coco_evaluation]: \u001b[0mSaving results to ./drive/My Drive/FDDB_OUTPUT_DIR/BN_Mish_V3_80+_30k/coco_instances_results.json\n",
            "\u001b[32m[08/20 22:15:57 d2.evaluation.coco_evaluation]: \u001b[0mEvaluating predictions with unofficial COCO API...\n",
            "Loading and preparing results...\n",
            "DONE (t=0.01s)\n",
            "creating index...\n",
            "index created!\n",
            "Running per image evaluation...\n",
            "Evaluate annotation type *bbox*\n",
            "COCOeval_opt.evaluate() finished in 0.23 seconds.\n",
            "Accumulating evaluation results...\n",
            "COCOeval_opt.accumulate() finished in 0.03 seconds.\n",
            " Average Precision  (AP) @[ IoU=0.50:0.95 | area=   all | maxDets=100 ] = 0.395\n",
            " Average Precision  (AP) @[ IoU=0.50      | area=   all | maxDets=100 ] = 0.905\n",
            " Average Precision  (AP) @[ IoU=0.75      | area=   all | maxDets=100 ] = 0.158\n",
            " Average Precision  (AP) @[ IoU=0.50:0.95 | area= small | maxDets=100 ] = 0.182\n",
            " Average Precision  (AP) @[ IoU=0.50:0.95 | area=medium | maxDets=100 ] = 0.330\n",
            " Average Precision  (AP) @[ IoU=0.50:0.95 | area= large | maxDets=100 ] = 0.462\n",
            " Average Recall     (AR) @[ IoU=0.50:0.95 | area=   all | maxDets=  1 ] = 0.291\n",
            " Average Recall     (AR) @[ IoU=0.50:0.95 | area=   all | maxDets= 10 ] = 0.452\n",
            " Average Recall     (AR) @[ IoU=0.50:0.95 | area=   all | maxDets=100 ] = 0.455\n",
            " Average Recall     (AR) @[ IoU=0.50:0.95 | area= small | maxDets=100 ] = 0.301\n",
            " Average Recall     (AR) @[ IoU=0.50:0.95 | area=medium | maxDets=100 ] = 0.396\n",
            " Average Recall     (AR) @[ IoU=0.50:0.95 | area= large | maxDets=100 ] = 0.509\n",
            "\u001b[32m[08/20 22:15:58 d2.evaluation.coco_evaluation]: \u001b[0mEvaluation results for bbox: \n",
            "|   AP   |  AP50  |  AP75  |  APs   |  APm   |  APl   |\n",
            "|:------:|:------:|:------:|:------:|:------:|:------:|\n",
            "| 39.490 | 90.495 | 15.789 | 18.186 | 32.996 | 46.238 |\n",
            "\u001b[32m[08/20 22:15:58 d2.evaluation.coco_evaluation]: \u001b[0mPreparing results for COCO format ...\n",
            "\u001b[32m[08/20 22:15:58 d2.evaluation.coco_evaluation]: \u001b[0mSaving results to ./drive/My Drive/FDDB_OUTPUT_DIR/BN_Mish_V3_80+_30k/coco_instances_results.json\n",
            "\u001b[32m[08/20 22:15:58 d2.evaluation.coco_evaluation]: \u001b[0mEvaluating predictions with unofficial COCO API...\n",
            "Loading and preparing results...\n",
            "DONE (t=0.00s)\n",
            "creating index...\n",
            "index created!\n",
            "Running per image evaluation...\n",
            "Evaluate annotation type *bbox*\n",
            "COCOeval_opt.evaluate() finished in 0.23 seconds.\n",
            "Accumulating evaluation results...\n",
            "COCOeval_opt.accumulate() finished in 0.03 seconds.\n",
            " Average Precision  (AP) @[ IoU=0.50:0.95 | area=   all | maxDets=100 ] = 0.395\n",
            " Average Precision  (AP) @[ IoU=0.50      | area=   all | maxDets=100 ] = 0.905\n",
            " Average Precision  (AP) @[ IoU=0.75      | area=   all | maxDets=100 ] = 0.158\n",
            " Average Precision  (AP) @[ IoU=0.50:0.95 | area= small | maxDets=100 ] = 0.182\n",
            " Average Precision  (AP) @[ IoU=0.50:0.95 | area=medium | maxDets=100 ] = 0.330\n",
            " Average Precision  (AP) @[ IoU=0.50:0.95 | area= large | maxDets=100 ] = 0.462\n",
            " Average Recall     (AR) @[ IoU=0.50:0.95 | area=   all | maxDets=  1 ] = 0.291\n",
            " Average Recall     (AR) @[ IoU=0.50:0.95 | area=   all | maxDets= 10 ] = 0.452\n",
            " Average Recall     (AR) @[ IoU=0.50:0.95 | area=   all | maxDets=100 ] = 0.455\n",
            " Average Recall     (AR) @[ IoU=0.50:0.95 | area= small | maxDets=100 ] = 0.301\n",
            " Average Recall     (AR) @[ IoU=0.50:0.95 | area=medium | maxDets=100 ] = 0.396\n",
            " Average Recall     (AR) @[ IoU=0.50:0.95 | area= large | maxDets=100 ] = 0.509\n",
            "\u001b[32m[08/20 22:15:58 d2.evaluation.coco_evaluation]: \u001b[0mEvaluation results for bbox: \n",
            "|   AP   |  AP50  |  AP75  |  APs   |  APm   |  APl   |\n",
            "|:------:|:------:|:------:|:------:|:------:|:------:|\n",
            "| 39.490 | 90.495 | 15.789 | 18.186 | 32.996 | 46.238 |\n"
          ],
          "name": "stdout"
        }
      ]
    },
    {
      "cell_type": "code",
      "metadata": {
        "id": "h4HxhwbWS5Ww",
        "colab_type": "code",
        "colab": {
          "base_uri": "https://localhost:8080/",
          "height": 1000
        },
        "outputId": "3b6b65d2-b03c-4c0c-a815-bbf2dba5ccfd"
      },
      "source": [
        "for model in faster_rcnn_model:\n",
        "  print(model)\n",
        "  destination = os.path.join(OUTPUT_DIR_PATH, model)\n",
        "  if not os.path.exists(destination):\n",
        "    os.makedirs(destination)\n",
        "  predictor, cfg = faster_predictor(model, cfg_DATASETS_TEST=\"faces_val\")\n",
        "  print(destination)\n",
        "\n",
        "  evaluator = COCOEvaluator(cfg.DATASETS.TEST[0], cfg, True, output_dir=destination)\n",
        "  val_loader = build_detection_test_loader(cfg, cfg.DATASETS.TEST[0])\n",
        "  inference_on_dataset(predictor.model, val_loader, evaluator)\n",
        "  AP_VAL[model] = evaluator.evaluate()"
      ],
      "execution_count": null,
      "outputs": [
        {
          "output_type": "stream",
          "text": [
            "faster_rcnn_R_50_FPN_3x\n",
            "./drive/My Drive/FDDB_OUTPUT_DIR/faster_rcnn_R_50_FPN_3x\n",
            "\u001b[32m[08/20 22:16:11 d2.data.common]: \u001b[0mSerializing 2845 elements to byte tensors and concatenating them all ...\n",
            "\u001b[32m[08/20 22:16:11 d2.data.common]: \u001b[0mSerialized dataset takes 0.86 MiB\n",
            "\u001b[32m[08/20 22:16:11 d2.data.dataset_mapper]: \u001b[0mAugmentations used in training: [ResizeShortestEdge(short_edge_length=(800, 800), max_size=1333, sample_style='choice')]\n",
            "\u001b[32m[08/20 22:16:11 d2.evaluation.evaluator]: \u001b[0mStart inference on 2845 images\n",
            "\u001b[32m[08/20 22:16:12 d2.evaluation.evaluator]: \u001b[0mInference done 11/2845. 0.0647 s / img. ETA=0:03:06\n",
            "\u001b[32m[08/20 22:16:17 d2.evaluation.evaluator]: \u001b[0mInference done 88/2845. 0.0639 s / img. ETA=0:03:00\n",
            "\u001b[32m[08/20 22:16:22 d2.evaluation.evaluator]: \u001b[0mInference done 164/2845. 0.0643 s / img. ETA=0:02:56\n",
            "\u001b[32m[08/20 22:16:27 d2.evaluation.evaluator]: \u001b[0mInference done 240/2845. 0.0645 s / img. ETA=0:02:51\n",
            "\u001b[32m[08/20 22:16:32 d2.evaluation.evaluator]: \u001b[0mInference done 316/2845. 0.0646 s / img. ETA=0:02:47\n",
            "\u001b[32m[08/20 22:16:37 d2.evaluation.evaluator]: \u001b[0mInference done 392/2845. 0.0646 s / img. ETA=0:02:42\n",
            "\u001b[32m[08/20 22:16:42 d2.evaluation.evaluator]: \u001b[0mInference done 468/2845. 0.0646 s / img. ETA=0:02:37\n",
            "\u001b[32m[08/20 22:16:47 d2.evaluation.evaluator]: \u001b[0mInference done 544/2845. 0.0646 s / img. ETA=0:02:32\n",
            "\u001b[32m[08/20 22:16:52 d2.evaluation.evaluator]: \u001b[0mInference done 619/2845. 0.0647 s / img. ETA=0:02:27\n",
            "\u001b[32m[08/20 22:16:57 d2.evaluation.evaluator]: \u001b[0mInference done 696/2845. 0.0647 s / img. ETA=0:02:22\n",
            "\u001b[32m[08/20 22:17:02 d2.evaluation.evaluator]: \u001b[0mInference done 772/2845. 0.0647 s / img. ETA=0:02:17\n",
            "\u001b[32m[08/20 22:17:07 d2.evaluation.evaluator]: \u001b[0mInference done 849/2845. 0.0646 s / img. ETA=0:02:11\n",
            "\u001b[32m[08/20 22:17:12 d2.evaluation.evaluator]: \u001b[0mInference done 925/2845. 0.0646 s / img. ETA=0:02:06\n",
            "\u001b[32m[08/20 22:17:17 d2.evaluation.evaluator]: \u001b[0mInference done 1001/2845. 0.0647 s / img. ETA=0:02:01\n",
            "\u001b[32m[08/20 22:17:22 d2.evaluation.evaluator]: \u001b[0mInference done 1077/2845. 0.0647 s / img. ETA=0:01:56\n",
            "\u001b[32m[08/20 22:17:27 d2.evaluation.evaluator]: \u001b[0mInference done 1153/2845. 0.0647 s / img. ETA=0:01:51\n",
            "\u001b[32m[08/20 22:17:32 d2.evaluation.evaluator]: \u001b[0mInference done 1229/2845. 0.0647 s / img. ETA=0:01:46\n",
            "\u001b[32m[08/20 22:17:37 d2.evaluation.evaluator]: \u001b[0mInference done 1307/2845. 0.0647 s / img. ETA=0:01:41\n",
            "\u001b[32m[08/20 22:17:42 d2.evaluation.evaluator]: \u001b[0mInference done 1383/2845. 0.0646 s / img. ETA=0:01:36\n",
            "\u001b[32m[08/20 22:17:47 d2.evaluation.evaluator]: \u001b[0mInference done 1460/2845. 0.0646 s / img. ETA=0:01:31\n",
            "\u001b[32m[08/20 22:17:52 d2.evaluation.evaluator]: \u001b[0mInference done 1536/2845. 0.0646 s / img. ETA=0:01:26\n",
            "\u001b[32m[08/20 22:17:58 d2.evaluation.evaluator]: \u001b[0mInference done 1612/2845. 0.0646 s / img. ETA=0:01:21\n",
            "\u001b[32m[08/20 22:18:03 d2.evaluation.evaluator]: \u001b[0mInference done 1689/2845. 0.0646 s / img. ETA=0:01:16\n",
            "\u001b[32m[08/20 22:18:08 d2.evaluation.evaluator]: \u001b[0mInference done 1765/2845. 0.0646 s / img. ETA=0:01:11\n",
            "\u001b[32m[08/20 22:18:13 d2.evaluation.evaluator]: \u001b[0mInference done 1842/2845. 0.0646 s / img. ETA=0:01:06\n",
            "\u001b[32m[08/20 22:18:18 d2.evaluation.evaluator]: \u001b[0mInference done 1919/2845. 0.0646 s / img. ETA=0:01:01\n",
            "\u001b[32m[08/20 22:18:23 d2.evaluation.evaluator]: \u001b[0mInference done 1996/2845. 0.0645 s / img. ETA=0:00:55\n",
            "\u001b[32m[08/20 22:18:28 d2.evaluation.evaluator]: \u001b[0mInference done 2072/2845. 0.0646 s / img. ETA=0:00:50\n",
            "\u001b[32m[08/20 22:18:33 d2.evaluation.evaluator]: \u001b[0mInference done 2149/2845. 0.0645 s / img. ETA=0:00:45\n",
            "\u001b[32m[08/20 22:18:38 d2.evaluation.evaluator]: \u001b[0mInference done 2225/2845. 0.0645 s / img. ETA=0:00:40\n",
            "\u001b[32m[08/20 22:18:43 d2.evaluation.evaluator]: \u001b[0mInference done 2301/2845. 0.0645 s / img. ETA=0:00:35\n",
            "\u001b[32m[08/20 22:18:48 d2.evaluation.evaluator]: \u001b[0mInference done 2376/2845. 0.0646 s / img. ETA=0:00:30\n",
            "\u001b[32m[08/20 22:18:53 d2.evaluation.evaluator]: \u001b[0mInference done 2452/2845. 0.0646 s / img. ETA=0:00:25\n",
            "\u001b[32m[08/20 22:18:58 d2.evaluation.evaluator]: \u001b[0mInference done 2529/2845. 0.0646 s / img. ETA=0:00:20\n",
            "\u001b[32m[08/20 22:19:03 d2.evaluation.evaluator]: \u001b[0mInference done 2606/2845. 0.0645 s / img. ETA=0:00:15\n",
            "\u001b[32m[08/20 22:19:08 d2.evaluation.evaluator]: \u001b[0mInference done 2681/2845. 0.0646 s / img. ETA=0:00:10\n",
            "\u001b[32m[08/20 22:19:13 d2.evaluation.evaluator]: \u001b[0mInference done 2758/2845. 0.0645 s / img. ETA=0:00:05\n",
            "\u001b[32m[08/20 22:19:18 d2.evaluation.evaluator]: \u001b[0mInference done 2833/2845. 0.0646 s / img. ETA=0:00:00\n",
            "\u001b[32m[08/20 22:19:19 d2.evaluation.evaluator]: \u001b[0mTotal inference time: 0:03:07.427791 (0.065996 s / img per device, on 1 devices)\n",
            "\u001b[32m[08/20 22:19:19 d2.evaluation.evaluator]: \u001b[0mTotal inference pure compute time: 0:03:03 (0.064564 s / img per device, on 1 devices)\n",
            "\u001b[32m[08/20 22:19:19 d2.evaluation.coco_evaluation]: \u001b[0mPreparing results for COCO format ...\n",
            "\u001b[32m[08/20 22:19:19 d2.evaluation.coco_evaluation]: \u001b[0mSaving results to ./drive/My Drive/FDDB_OUTPUT_DIR/faster_rcnn_R_50_FPN_3x/coco_instances_results.json\n",
            "\u001b[32m[08/20 22:19:19 d2.evaluation.coco_evaluation]: \u001b[0mEvaluating predictions with unofficial COCO API...\n",
            "Loading and preparing results...\n",
            "DONE (t=0.01s)\n",
            "creating index...\n",
            "index created!\n",
            "Running per image evaluation...\n",
            "Evaluate annotation type *bbox*\n",
            "COCOeval_opt.evaluate() finished in 0.24 seconds.\n",
            "Accumulating evaluation results...\n",
            "COCOeval_opt.accumulate() finished in 0.03 seconds.\n",
            " Average Precision  (AP) @[ IoU=0.50:0.95 | area=   all | maxDets=100 ] = 0.395\n",
            " Average Precision  (AP) @[ IoU=0.50      | area=   all | maxDets=100 ] = 0.914\n",
            " Average Precision  (AP) @[ IoU=0.75      | area=   all | maxDets=100 ] = 0.148\n",
            " Average Precision  (AP) @[ IoU=0.50:0.95 | area= small | maxDets=100 ] = 0.183\n",
            " Average Precision  (AP) @[ IoU=0.50:0.95 | area=medium | maxDets=100 ] = 0.340\n",
            " Average Precision  (AP) @[ IoU=0.50:0.95 | area= large | maxDets=100 ] = 0.451\n",
            " Average Recall     (AR) @[ IoU=0.50:0.95 | area=   all | maxDets=  1 ] = 0.286\n",
            " Average Recall     (AR) @[ IoU=0.50:0.95 | area=   all | maxDets= 10 ] = 0.453\n",
            " Average Recall     (AR) @[ IoU=0.50:0.95 | area=   all | maxDets=100 ] = 0.456\n",
            " Average Recall     (AR) @[ IoU=0.50:0.95 | area= small | maxDets=100 ] = 0.301\n",
            " Average Recall     (AR) @[ IoU=0.50:0.95 | area=medium | maxDets=100 ] = 0.411\n",
            " Average Recall     (AR) @[ IoU=0.50:0.95 | area= large | maxDets=100 ] = 0.500\n",
            "\u001b[32m[08/20 22:19:19 d2.evaluation.coco_evaluation]: \u001b[0mEvaluation results for bbox: \n",
            "|   AP   |  AP50  |  AP75  |  APs   |  APm   |  APl   |\n",
            "|:------:|:------:|:------:|:------:|:------:|:------:|\n",
            "| 39.450 | 91.436 | 14.762 | 18.345 | 34.032 | 45.125 |\n",
            "\u001b[32m[08/20 22:19:19 d2.evaluation.coco_evaluation]: \u001b[0mPreparing results for COCO format ...\n",
            "\u001b[32m[08/20 22:19:19 d2.evaluation.coco_evaluation]: \u001b[0mSaving results to ./drive/My Drive/FDDB_OUTPUT_DIR/faster_rcnn_R_50_FPN_3x/coco_instances_results.json\n",
            "\u001b[32m[08/20 22:19:19 d2.evaluation.coco_evaluation]: \u001b[0mEvaluating predictions with unofficial COCO API...\n",
            "Loading and preparing results...\n",
            "DONE (t=0.00s)\n",
            "creating index...\n",
            "index created!\n",
            "Running per image evaluation...\n",
            "Evaluate annotation type *bbox*\n",
            "COCOeval_opt.evaluate() finished in 0.24 seconds.\n",
            "Accumulating evaluation results...\n",
            "COCOeval_opt.accumulate() finished in 0.03 seconds.\n",
            " Average Precision  (AP) @[ IoU=0.50:0.95 | area=   all | maxDets=100 ] = 0.395\n",
            " Average Precision  (AP) @[ IoU=0.50      | area=   all | maxDets=100 ] = 0.914\n",
            " Average Precision  (AP) @[ IoU=0.75      | area=   all | maxDets=100 ] = 0.148\n",
            " Average Precision  (AP) @[ IoU=0.50:0.95 | area= small | maxDets=100 ] = 0.183\n",
            " Average Precision  (AP) @[ IoU=0.50:0.95 | area=medium | maxDets=100 ] = 0.340\n",
            " Average Precision  (AP) @[ IoU=0.50:0.95 | area= large | maxDets=100 ] = 0.451\n",
            " Average Recall     (AR) @[ IoU=0.50:0.95 | area=   all | maxDets=  1 ] = 0.286\n",
            " Average Recall     (AR) @[ IoU=0.50:0.95 | area=   all | maxDets= 10 ] = 0.453\n",
            " Average Recall     (AR) @[ IoU=0.50:0.95 | area=   all | maxDets=100 ] = 0.456\n",
            " Average Recall     (AR) @[ IoU=0.50:0.95 | area= small | maxDets=100 ] = 0.301\n",
            " Average Recall     (AR) @[ IoU=0.50:0.95 | area=medium | maxDets=100 ] = 0.411\n",
            " Average Recall     (AR) @[ IoU=0.50:0.95 | area= large | maxDets=100 ] = 0.500\n",
            "\u001b[32m[08/20 22:19:20 d2.evaluation.coco_evaluation]: \u001b[0mEvaluation results for bbox: \n",
            "|   AP   |  AP50  |  AP75  |  APs   |  APm   |  APl   |\n",
            "|:------:|:------:|:------:|:------:|:------:|:------:|\n",
            "| 39.450 | 91.436 | 14.762 | 18.345 | 34.032 | 45.125 |\n",
            "scratch_faster_rcnn_R_50_FPN_gn\n",
            "./drive/My Drive/FDDB_OUTPUT_DIR/scratch_faster_rcnn_R_50_FPN_gn\n",
            "\u001b[32m[08/20 22:19:31 d2.data.common]: \u001b[0mSerializing 2845 elements to byte tensors and concatenating them all ...\n",
            "\u001b[32m[08/20 22:19:31 d2.data.common]: \u001b[0mSerialized dataset takes 0.86 MiB\n",
            "\u001b[32m[08/20 22:19:31 d2.data.dataset_mapper]: \u001b[0mAugmentations used in training: [ResizeShortestEdge(short_edge_length=(800, 800), max_size=1333, sample_style='choice')]\n",
            "\u001b[32m[08/20 22:19:31 d2.evaluation.evaluator]: \u001b[0mStart inference on 2845 images\n",
            "\u001b[32m[08/20 22:19:32 d2.evaluation.evaluator]: \u001b[0mInference done 11/2845. 0.0709 s / img. ETA=0:03:23\n",
            "\u001b[32m[08/20 22:19:37 d2.evaluation.evaluator]: \u001b[0mInference done 81/2845. 0.0703 s / img. ETA=0:03:18\n",
            "\u001b[32m[08/20 22:19:42 d2.evaluation.evaluator]: \u001b[0mInference done 150/2845. 0.0709 s / img. ETA=0:03:14\n",
            "\u001b[32m[08/20 22:19:47 d2.evaluation.evaluator]: \u001b[0mInference done 218/2845. 0.0714 s / img. ETA=0:03:11\n",
            "\u001b[32m[08/20 22:19:52 d2.evaluation.evaluator]: \u001b[0mInference done 288/2845. 0.0711 s / img. ETA=0:03:05\n",
            "\u001b[32m[08/20 22:19:57 d2.evaluation.evaluator]: \u001b[0mInference done 357/2845. 0.0711 s / img. ETA=0:03:00\n",
            "\u001b[32m[08/20 22:20:02 d2.evaluation.evaluator]: \u001b[0mInference done 426/2845. 0.0711 s / img. ETA=0:02:55\n",
            "\u001b[32m[08/20 22:20:07 d2.evaluation.evaluator]: \u001b[0mInference done 495/2845. 0.0712 s / img. ETA=0:02:50\n",
            "\u001b[32m[08/20 22:20:12 d2.evaluation.evaluator]: \u001b[0mInference done 564/2845. 0.0713 s / img. ETA=0:02:45\n",
            "\u001b[32m[08/20 22:20:17 d2.evaluation.evaluator]: \u001b[0mInference done 632/2845. 0.0714 s / img. ETA=0:02:41\n",
            "\u001b[32m[08/20 22:20:22 d2.evaluation.evaluator]: \u001b[0mInference done 702/2845. 0.0714 s / img. ETA=0:02:35\n",
            "\u001b[32m[08/20 22:20:28 d2.evaluation.evaluator]: \u001b[0mInference done 771/2845. 0.0714 s / img. ETA=0:02:30\n",
            "\u001b[32m[08/20 22:20:33 d2.evaluation.evaluator]: \u001b[0mInference done 841/2845. 0.0713 s / img. ETA=0:02:25\n",
            "\u001b[32m[08/20 22:20:38 d2.evaluation.evaluator]: \u001b[0mInference done 911/2845. 0.0713 s / img. ETA=0:02:20\n",
            "\u001b[32m[08/20 22:20:43 d2.evaluation.evaluator]: \u001b[0mInference done 980/2845. 0.0713 s / img. ETA=0:02:15\n",
            "\u001b[32m[08/20 22:20:48 d2.evaluation.evaluator]: \u001b[0mInference done 1048/2845. 0.0714 s / img. ETA=0:02:10\n",
            "\u001b[32m[08/20 22:20:53 d2.evaluation.evaluator]: \u001b[0mInference done 1117/2845. 0.0714 s / img. ETA=0:02:05\n",
            "\u001b[32m[08/20 22:20:58 d2.evaluation.evaluator]: \u001b[0mInference done 1186/2845. 0.0714 s / img. ETA=0:02:00\n",
            "\u001b[32m[08/20 22:21:03 d2.evaluation.evaluator]: \u001b[0mInference done 1255/2845. 0.0714 s / img. ETA=0:01:55\n",
            "\u001b[32m[08/20 22:21:08 d2.evaluation.evaluator]: \u001b[0mInference done 1325/2845. 0.0714 s / img. ETA=0:01:50\n",
            "\u001b[32m[08/20 22:21:13 d2.evaluation.evaluator]: \u001b[0mInference done 1395/2845. 0.0713 s / img. ETA=0:01:45\n",
            "\u001b[32m[08/20 22:21:18 d2.evaluation.evaluator]: \u001b[0mInference done 1465/2845. 0.0713 s / img. ETA=0:01:40\n",
            "\u001b[32m[08/20 22:21:23 d2.evaluation.evaluator]: \u001b[0mInference done 1534/2845. 0.0713 s / img. ETA=0:01:35\n",
            "\u001b[32m[08/20 22:21:28 d2.evaluation.evaluator]: \u001b[0mInference done 1603/2845. 0.0713 s / img. ETA=0:01:30\n",
            "\u001b[32m[08/20 22:21:33 d2.evaluation.evaluator]: \u001b[0mInference done 1672/2845. 0.0713 s / img. ETA=0:01:25\n",
            "\u001b[32m[08/20 22:21:38 d2.evaluation.evaluator]: \u001b[0mInference done 1741/2845. 0.0713 s / img. ETA=0:01:20\n",
            "\u001b[32m[08/20 22:21:43 d2.evaluation.evaluator]: \u001b[0mInference done 1809/2845. 0.0713 s / img. ETA=0:01:15\n",
            "\u001b[32m[08/20 22:21:48 d2.evaluation.evaluator]: \u001b[0mInference done 1879/2845. 0.0713 s / img. ETA=0:01:10\n",
            "\u001b[32m[08/20 22:21:53 d2.evaluation.evaluator]: \u001b[0mInference done 1949/2845. 0.0713 s / img. ETA=0:01:05\n",
            "\u001b[32m[08/20 22:21:58 d2.evaluation.evaluator]: \u001b[0mInference done 2018/2845. 0.0713 s / img. ETA=0:01:00\n",
            "\u001b[32m[08/20 22:22:03 d2.evaluation.evaluator]: \u001b[0mInference done 2087/2845. 0.0713 s / img. ETA=0:00:55\n",
            "\u001b[32m[08/20 22:22:08 d2.evaluation.evaluator]: \u001b[0mInference done 2157/2845. 0.0712 s / img. ETA=0:00:49\n",
            "\u001b[32m[08/20 22:22:13 d2.evaluation.evaluator]: \u001b[0mInference done 2226/2845. 0.0712 s / img. ETA=0:00:44\n",
            "\u001b[32m[08/20 22:22:18 d2.evaluation.evaluator]: \u001b[0mInference done 2296/2845. 0.0712 s / img. ETA=0:00:39\n",
            "\u001b[32m[08/20 22:22:23 d2.evaluation.evaluator]: \u001b[0mInference done 2364/2845. 0.0713 s / img. ETA=0:00:34\n",
            "\u001b[32m[08/20 22:22:28 d2.evaluation.evaluator]: \u001b[0mInference done 2433/2845. 0.0713 s / img. ETA=0:00:29\n",
            "\u001b[32m[08/20 22:22:33 d2.evaluation.evaluator]: \u001b[0mInference done 2502/2845. 0.0713 s / img. ETA=0:00:24\n",
            "\u001b[32m[08/20 22:22:38 d2.evaluation.evaluator]: \u001b[0mInference done 2572/2845. 0.0713 s / img. ETA=0:00:19\n",
            "\u001b[32m[08/20 22:22:43 d2.evaluation.evaluator]: \u001b[0mInference done 2641/2845. 0.0713 s / img. ETA=0:00:14\n",
            "\u001b[32m[08/20 22:22:48 d2.evaluation.evaluator]: \u001b[0mInference done 2710/2845. 0.0713 s / img. ETA=0:00:09\n",
            "\u001b[32m[08/20 22:22:53 d2.evaluation.evaluator]: \u001b[0mInference done 2780/2845. 0.0712 s / img. ETA=0:00:04\n",
            "\u001b[32m[08/20 22:22:58 d2.evaluation.evaluator]: \u001b[0mTotal inference time: 0:03:26.353301 (0.072660 s / img per device, on 1 devices)\n",
            "\u001b[32m[08/20 22:22:58 d2.evaluation.evaluator]: \u001b[0mTotal inference pure compute time: 0:03:22 (0.071230 s / img per device, on 1 devices)\n",
            "\u001b[32m[08/20 22:22:58 d2.evaluation.coco_evaluation]: \u001b[0mPreparing results for COCO format ...\n",
            "\u001b[32m[08/20 22:22:58 d2.evaluation.coco_evaluation]: \u001b[0mSaving results to ./drive/My Drive/FDDB_OUTPUT_DIR/scratch_faster_rcnn_R_50_FPN_gn/coco_instances_results.json\n",
            "\u001b[32m[08/20 22:22:58 d2.evaluation.coco_evaluation]: \u001b[0mEvaluating predictions with unofficial COCO API...\n",
            "Loading and preparing results...\n",
            "DONE (t=0.01s)\n",
            "creating index...\n",
            "index created!\n",
            "Running per image evaluation...\n",
            "Evaluate annotation type *bbox*\n",
            "COCOeval_opt.evaluate() finished in 0.21 seconds.\n",
            "Accumulating evaluation results...\n",
            "COCOeval_opt.accumulate() finished in 0.03 seconds.\n",
            " Average Precision  (AP) @[ IoU=0.50:0.95 | area=   all | maxDets=100 ] = 0.378\n",
            " Average Precision  (AP) @[ IoU=0.50      | area=   all | maxDets=100 ] = 0.892\n",
            " Average Precision  (AP) @[ IoU=0.75      | area=   all | maxDets=100 ] = 0.150\n",
            " Average Precision  (AP) @[ IoU=0.50:0.95 | area= small | maxDets=100 ] = 0.169\n",
            " Average Precision  (AP) @[ IoU=0.50:0.95 | area=medium | maxDets=100 ] = 0.312\n",
            " Average Precision  (AP) @[ IoU=0.50:0.95 | area= large | maxDets=100 ] = 0.447\n",
            " Average Recall     (AR) @[ IoU=0.50:0.95 | area=   all | maxDets=  1 ] = 0.282\n",
            " Average Recall     (AR) @[ IoU=0.50:0.95 | area=   all | maxDets= 10 ] = 0.446\n",
            " Average Recall     (AR) @[ IoU=0.50:0.95 | area=   all | maxDets=100 ] = 0.449\n",
            " Average Recall     (AR) @[ IoU=0.50:0.95 | area= small | maxDets=100 ] = 0.300\n",
            " Average Recall     (AR) @[ IoU=0.50:0.95 | area=medium | maxDets=100 ] = 0.396\n",
            " Average Recall     (AR) @[ IoU=0.50:0.95 | area= large | maxDets=100 ] = 0.499\n",
            "\u001b[32m[08/20 22:22:58 d2.evaluation.coco_evaluation]: \u001b[0mEvaluation results for bbox: \n",
            "|   AP   |  AP50  |  AP75  |  APs   |  APm   |  APl   |\n",
            "|:------:|:------:|:------:|:------:|:------:|:------:|\n",
            "| 37.812 | 89.204 | 14.964 | 16.883 | 31.185 | 44.684 |\n",
            "\u001b[32m[08/20 22:22:59 d2.evaluation.coco_evaluation]: \u001b[0mPreparing results for COCO format ...\n",
            "\u001b[32m[08/20 22:22:59 d2.evaluation.coco_evaluation]: \u001b[0mSaving results to ./drive/My Drive/FDDB_OUTPUT_DIR/scratch_faster_rcnn_R_50_FPN_gn/coco_instances_results.json\n",
            "\u001b[32m[08/20 22:22:59 d2.evaluation.coco_evaluation]: \u001b[0mEvaluating predictions with unofficial COCO API...\n",
            "Loading and preparing results...\n",
            "DONE (t=0.01s)\n",
            "creating index...\n",
            "index created!\n",
            "Running per image evaluation...\n",
            "Evaluate annotation type *bbox*\n",
            "COCOeval_opt.evaluate() finished in 0.22 seconds.\n",
            "Accumulating evaluation results...\n",
            "COCOeval_opt.accumulate() finished in 0.03 seconds.\n",
            " Average Precision  (AP) @[ IoU=0.50:0.95 | area=   all | maxDets=100 ] = 0.378\n",
            " Average Precision  (AP) @[ IoU=0.50      | area=   all | maxDets=100 ] = 0.892\n",
            " Average Precision  (AP) @[ IoU=0.75      | area=   all | maxDets=100 ] = 0.150\n",
            " Average Precision  (AP) @[ IoU=0.50:0.95 | area= small | maxDets=100 ] = 0.169\n",
            " Average Precision  (AP) @[ IoU=0.50:0.95 | area=medium | maxDets=100 ] = 0.312\n",
            " Average Precision  (AP) @[ IoU=0.50:0.95 | area= large | maxDets=100 ] = 0.447\n",
            " Average Recall     (AR) @[ IoU=0.50:0.95 | area=   all | maxDets=  1 ] = 0.282\n",
            " Average Recall     (AR) @[ IoU=0.50:0.95 | area=   all | maxDets= 10 ] = 0.446\n",
            " Average Recall     (AR) @[ IoU=0.50:0.95 | area=   all | maxDets=100 ] = 0.449\n",
            " Average Recall     (AR) @[ IoU=0.50:0.95 | area= small | maxDets=100 ] = 0.300\n",
            " Average Recall     (AR) @[ IoU=0.50:0.95 | area=medium | maxDets=100 ] = 0.396\n",
            " Average Recall     (AR) @[ IoU=0.50:0.95 | area= large | maxDets=100 ] = 0.499\n",
            "\u001b[32m[08/20 22:22:59 d2.evaluation.coco_evaluation]: \u001b[0mEvaluation results for bbox: \n",
            "|   AP   |  AP50  |  AP75  |  APs   |  APm   |  APl   |\n",
            "|:------:|:------:|:------:|:------:|:------:|:------:|\n",
            "| 37.812 | 89.204 | 14.964 | 16.883 | 31.185 | 44.684 |\n"
          ],
          "name": "stdout"
        }
      ]
    },
    {
      "cell_type": "code",
      "metadata": {
        "id": "xgA-cLhyAc3_",
        "colab_type": "code",
        "colab": {}
      },
      "source": [
        "output_file_name = \"AP_VAL_COCOEvaluator\"\n",
        "output_file = os.path.join(OUTPUT_DIR_PATH, output_file_name)\n",
        "dict_to_file(AP_VAL, output_file)"
      ],
      "execution_count": null,
      "outputs": []
    },
    {
      "cell_type": "markdown",
      "metadata": {
        "id": "NWyVAlUQBJ7A",
        "colab_type": "text"
      },
      "source": [
        "Porównanie wyników"
      ]
    },
    {
      "cell_type": "code",
      "metadata": {
        "id": "Z1xHInuFAc6E",
        "colab_type": "code",
        "colab": {}
      },
      "source": [
        "AP_FDDB = {}\n",
        "for item in AP_VAL.keys():\n",
        "  AP_FDDB[item] = AP_VAL[item]['bbox']\n",
        "\n",
        "df_AP_FDDB = pd.DataFrame.from_dict(AP_FDDB, orient='index').sort_values(by=['AP50'], ascending=False)"
      ],
      "execution_count": null,
      "outputs": []
    },
    {
      "cell_type": "code",
      "metadata": {
        "id": "wPl4jL2DBKuR",
        "colab_type": "code",
        "colab": {
          "base_uri": "https://localhost:8080/",
          "height": 237
        },
        "outputId": "1f661001-6ffc-42e4-d3cb-579a4a8e7b77"
      },
      "source": [
        " df_AP_FDDB"
      ],
      "execution_count": null,
      "outputs": [
        {
          "output_type": "execute_result",
          "data": {
            "text/html": [
              "<div>\n",
              "<style scoped>\n",
              "    .dataframe tbody tr th:only-of-type {\n",
              "        vertical-align: middle;\n",
              "    }\n",
              "\n",
              "    .dataframe tbody tr th {\n",
              "        vertical-align: top;\n",
              "    }\n",
              "\n",
              "    .dataframe thead th {\n",
              "        text-align: right;\n",
              "    }\n",
              "</style>\n",
              "<table border=\"1\" class=\"dataframe\">\n",
              "  <thead>\n",
              "    <tr style=\"text-align: right;\">\n",
              "      <th></th>\n",
              "      <th>AP</th>\n",
              "      <th>AP50</th>\n",
              "      <th>AP75</th>\n",
              "      <th>APs</th>\n",
              "      <th>APm</th>\n",
              "      <th>APl</th>\n",
              "    </tr>\n",
              "  </thead>\n",
              "  <tbody>\n",
              "    <tr>\n",
              "      <th>faster_rcnn_R_50_FPN_3x</th>\n",
              "      <td>39.450135</td>\n",
              "      <td>91.435634</td>\n",
              "      <td>14.762144</td>\n",
              "      <td>18.345349</td>\n",
              "      <td>34.032336</td>\n",
              "      <td>45.124748</td>\n",
              "    </tr>\n",
              "    <tr>\n",
              "      <th>BN_Mish_V2_250+F_2_50k</th>\n",
              "      <td>37.604153</td>\n",
              "      <td>90.541335</td>\n",
              "      <td>10.509456</td>\n",
              "      <td>19.019576</td>\n",
              "      <td>32.083840</td>\n",
              "      <td>42.632895</td>\n",
              "    </tr>\n",
              "    <tr>\n",
              "      <th>BN_Mish_V3_80+_30k</th>\n",
              "      <td>39.490323</td>\n",
              "      <td>90.495200</td>\n",
              "      <td>15.789375</td>\n",
              "      <td>18.186023</td>\n",
              "      <td>32.996425</td>\n",
              "      <td>46.237979</td>\n",
              "    </tr>\n",
              "    <tr>\n",
              "      <th>BN_800k</th>\n",
              "      <td>39.692626</td>\n",
              "      <td>89.397019</td>\n",
              "      <td>18.394331</td>\n",
              "      <td>18.949486</td>\n",
              "      <td>32.746256</td>\n",
              "      <td>46.565123</td>\n",
              "    </tr>\n",
              "    <tr>\n",
              "      <th>scratch_faster_rcnn_R_50_FPN_gn</th>\n",
              "      <td>37.811685</td>\n",
              "      <td>89.204056</td>\n",
              "      <td>14.963983</td>\n",
              "      <td>16.882938</td>\n",
              "      <td>31.184698</td>\n",
              "      <td>44.683578</td>\n",
              "    </tr>\n",
              "    <tr>\n",
              "      <th>800k</th>\n",
              "      <td>19.019075</td>\n",
              "      <td>57.739784</td>\n",
              "      <td>3.562887</td>\n",
              "      <td>13.693709</td>\n",
              "      <td>25.407776</td>\n",
              "      <td>17.908660</td>\n",
              "    </tr>\n",
              "  </tbody>\n",
              "</table>\n",
              "</div>"
            ],
            "text/plain": [
              "                                        AP       AP50  ...        APm        APl\n",
              "faster_rcnn_R_50_FPN_3x          39.450135  91.435634  ...  34.032336  45.124748\n",
              "BN_Mish_V2_250+F_2_50k           37.604153  90.541335  ...  32.083840  42.632895\n",
              "BN_Mish_V3_80+_30k               39.490323  90.495200  ...  32.996425  46.237979\n",
              "BN_800k                          39.692626  89.397019  ...  32.746256  46.565123\n",
              "scratch_faster_rcnn_R_50_FPN_gn  37.811685  89.204056  ...  31.184698  44.683578\n",
              "800k                             19.019075  57.739784  ...  25.407776  17.908660\n",
              "\n",
              "[6 rows x 6 columns]"
            ]
          },
          "metadata": {
            "tags": []
          },
          "execution_count": 69
        }
      ]
    },
    {
      "cell_type": "markdown",
      "metadata": {
        "colab_type": "text",
        "id": "GIIsIzkJ2YvK"
      },
      "source": [
        "Zapis wyników na Google drive"
      ]
    },
    {
      "cell_type": "code",
      "metadata": {
        "colab_type": "code",
        "id": "AIU8NR792YvO",
        "colab": {}
      },
      "source": [
        "df_AP_FDDB_results = df_AP_FDDB.to_json(orient=\"table\")\n",
        "\n",
        "output_file_name = \"df_AP_FDDB.json\"\n",
        "output_file = os.path.join(OUTPUT_DIR_PATH, output_file_name)\n",
        "\n",
        "with open(output_file, 'w') as f:\n",
        "  json.dump(df_AP_FDDB_results, f, indent=4)  "
      ],
      "execution_count": null,
      "outputs": []
    },
    {
      "cell_type": "code",
      "metadata": {
        "id": "ucHAtI6A-hLP",
        "colab_type": "code",
        "colab": {
          "base_uri": "https://localhost:8080/",
          "height": 237
        },
        "outputId": "bf9fe1b5-0b40-4aa3-e5ad-ef1475db6dc3"
      },
      "source": [
        "with open(output_file) as data_file:\n",
        "    data_loaded = json.load(data_file)\n",
        "pd.read_json(data_loaded, orient=\"table\" )"
      ],
      "execution_count": null,
      "outputs": [
        {
          "output_type": "execute_result",
          "data": {
            "text/html": [
              "<div>\n",
              "<style scoped>\n",
              "    .dataframe tbody tr th:only-of-type {\n",
              "        vertical-align: middle;\n",
              "    }\n",
              "\n",
              "    .dataframe tbody tr th {\n",
              "        vertical-align: top;\n",
              "    }\n",
              "\n",
              "    .dataframe thead th {\n",
              "        text-align: right;\n",
              "    }\n",
              "</style>\n",
              "<table border=\"1\" class=\"dataframe\">\n",
              "  <thead>\n",
              "    <tr style=\"text-align: right;\">\n",
              "      <th></th>\n",
              "      <th>AP</th>\n",
              "      <th>AP50</th>\n",
              "      <th>AP75</th>\n",
              "      <th>APs</th>\n",
              "      <th>APm</th>\n",
              "      <th>APl</th>\n",
              "    </tr>\n",
              "  </thead>\n",
              "  <tbody>\n",
              "    <tr>\n",
              "      <th>faster_rcnn_R_50_FPN_3x</th>\n",
              "      <td>39.450135</td>\n",
              "      <td>91.435634</td>\n",
              "      <td>14.762144</td>\n",
              "      <td>18.345349</td>\n",
              "      <td>34.032336</td>\n",
              "      <td>45.124748</td>\n",
              "    </tr>\n",
              "    <tr>\n",
              "      <th>BN_Mish_V2_250+F_2_50k</th>\n",
              "      <td>37.604153</td>\n",
              "      <td>90.541335</td>\n",
              "      <td>10.509456</td>\n",
              "      <td>19.019576</td>\n",
              "      <td>32.083840</td>\n",
              "      <td>42.632895</td>\n",
              "    </tr>\n",
              "    <tr>\n",
              "      <th>BN_Mish_V3_80+_30k</th>\n",
              "      <td>39.490323</td>\n",
              "      <td>90.495200</td>\n",
              "      <td>15.789375</td>\n",
              "      <td>18.186023</td>\n",
              "      <td>32.996425</td>\n",
              "      <td>46.237979</td>\n",
              "    </tr>\n",
              "    <tr>\n",
              "      <th>BN_800k</th>\n",
              "      <td>39.692626</td>\n",
              "      <td>89.397019</td>\n",
              "      <td>18.394331</td>\n",
              "      <td>18.949486</td>\n",
              "      <td>32.746256</td>\n",
              "      <td>46.565123</td>\n",
              "    </tr>\n",
              "    <tr>\n",
              "      <th>scratch_faster_rcnn_R_50_FPN_gn</th>\n",
              "      <td>37.811685</td>\n",
              "      <td>89.204056</td>\n",
              "      <td>14.963983</td>\n",
              "      <td>16.882938</td>\n",
              "      <td>31.184698</td>\n",
              "      <td>44.683578</td>\n",
              "    </tr>\n",
              "    <tr>\n",
              "      <th>800k</th>\n",
              "      <td>19.019075</td>\n",
              "      <td>57.739784</td>\n",
              "      <td>3.562887</td>\n",
              "      <td>13.693709</td>\n",
              "      <td>25.407776</td>\n",
              "      <td>17.908660</td>\n",
              "    </tr>\n",
              "  </tbody>\n",
              "</table>\n",
              "</div>"
            ],
            "text/plain": [
              "                                        AP       AP50  ...        APm        APl\n",
              "faster_rcnn_R_50_FPN_3x          39.450135  91.435634  ...  34.032336  45.124748\n",
              "BN_Mish_V2_250+F_2_50k           37.604153  90.541335  ...  32.083840  42.632895\n",
              "BN_Mish_V3_80+_30k               39.490323  90.495200  ...  32.996425  46.237979\n",
              "BN_800k                          39.692626  89.397019  ...  32.746256  46.565123\n",
              "scratch_faster_rcnn_R_50_FPN_gn  37.811685  89.204056  ...  31.184698  44.683578\n",
              "800k                             19.019075  57.739784  ...  25.407776  17.908660\n",
              "\n",
              "[6 rows x 6 columns]"
            ]
          },
          "metadata": {
            "tags": []
          },
          "execution_count": 71
        }
      ]
    },
    {
      "cell_type": "markdown",
      "metadata": {
        "id": "Cka-h5iiylan",
        "colab_type": "text"
      },
      "source": [
        "Wybór modelu do testu na zbiorze testowym"
      ]
    },
    {
      "cell_type": "markdown",
      "metadata": {
        "colab_type": "text",
        "id": "M_LMmPHLxodb"
      },
      "source": [
        "<br>\n",
        "\n",
        "[6.2 Wyniki na zbiorze WIDER FACE](06_02_WIDERFACE_TEST.ipynb)\n",
        "\n",
        "<br>\n",
        "\n",
        "\n",
        "---\n",
        "\n",
        "[Spis treści](https://github.com/DarekGit/FACES_DNN/blob/master/notebooks/Praca_Dyplomowa.ipynb) | [1. Wstęp](01_00_Wstep.ipynb) | [2. Metryki oceny detekcji](02_00_Miary.ipynb) | [3 .Bazy danych](03_00_Datasety.ipynb) | [4. Przegląd metod detekcji](04_00_Modele.ipynb) | [5. Detekcja twarzy z wykorzystaniem wybranych architektur GSN](05_00_Modyfikacje.ipynb) | [6. Porównanie modeli](06_00_Porownanie.ipynb) | [7. Eksport modelu](07_00_Eksport_modelu.ipynb) | [8. Podsumowanie i wnioski](08_00_Podsumowanie.ipynb) | [Bibliografia](Bibliografia.ipynb)\n",
        "\n",
        "\n",
        "---"
      ]
    }
  ]
}