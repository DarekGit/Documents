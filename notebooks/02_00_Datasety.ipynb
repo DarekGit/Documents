{
  "nbformat": 4,
  "nbformat_minor": 0,
  "metadata": {
    "colab": {
      "name": "02.00_Datasety.ipynb",
      "provenance": [],
      "collapsed_sections": [],
      "include_colab_link": true
    },
    "kernelspec": {
      "name": "python3",
      "display_name": "Python 3"
    }
  },
  "cells": [
    {
      "cell_type": "markdown",
      "metadata": {
        "id": "view-in-github",
        "colab_type": "text"
      },
      "source": [
        "<a href=\"https://colab.research.google.com/github/DarekGit/FACES_DNN/blob/master/notebooks/02_00_Datasety.ipynb\" target=\"_parent\"><img src=\"https://colab.research.google.com/assets/colab-badge.svg\" alt=\"Open In Colab\"/></a>"
      ]
    },
    {
      "cell_type": "markdown",
      "metadata": {
        "id": "EniTRDk3v3hs",
        "colab_type": "text"
      },
      "source": [
        "<img src=\"https://github.com/DarekGit/Faces_DNN/blob/master/Figures/Zrzut%20ekranu%202020-06-02.png?raw=1\" alt=\"drawing\" width=\"400\"/>"
      ]
    },
    {
      "cell_type": "markdown",
      "metadata": {
        "id": "Sqrez0DWv4ZV",
        "colab_type": "text"
      },
      "source": [
        "# [Detekcja twarzy z wykorzystaniem współczesnych architektur głębokich sieci neuronowych](Praca_Dyplomowa.ipynb)"
      ]
    },
    {
      "cell_type": "markdown",
      "metadata": {
        "id": "itMZrvcydaTp",
        "colab_type": "text"
      },
      "source": [
        "### [1. Wstep](notebooks/01_00_Wstep.ipynb)\n",
        "- [Definicja problemu](notebooks/01_01_.ipynb)\n",
        "\n",
        "### [2. Bazy danych](notebooks/02_00_Datasety.ipynb)\n",
        "- [FDDB](notebooks/02_01_FDDB.ipynb)\n",
        "- [WIDER FACE](notebooks/02_02_WIDER_FACE.ipynb)\n",
        "- [FACES_DD](notebooks/02_03_FACES_DD.ipynb)\n"
      ]
    },
    {
      "cell_type": "markdown",
      "metadata": {
        "id": "2xvVht9wiOlh",
        "colab_type": "text"
      },
      "source": [
        "W niniejszej pracy w zagadnieniach detekcji twarzy zostały wykorzystane powszechnie dostępne bazy danych:<br><br>\n",
        "\n",
        "* FDDB (Face Detection Data Set and Benchmark) [[1]](https://github.com/DarekGit/Faces_DNN/blob/master/Bibliografia.ipynb)  – dataset dostępny publicznie na stronie [http://vis-www.cs.umass.edu/fddb/](http://vis-www.cs.umass.edu/fddb/), zawierający 2845 zdjęć z 5171 oznaczonymi twarzami ze zbioru danych [\"Faces in the Wild\"](http://tamaraberg.com/faceDataset/index.html). Opis datasetu został umieszczony w pliku [02_01_FDDB.ipynb](notebooks/02_01_FDDB.ipynb) a pomiary i testy datasetu w pliku [02_01_FDDB_DD.ipynb](notebooks/02_01_FDDB_DD.ipynb)\n",
        "\n",
        "* WIDER Face [[2]](https://github.com/DarekGit/Faces_DNN/blob/master/Bibliografia.ipynb)  - zbiór dostępny publicznie http://shuoyang1213.me/WIDERFACE/ zawierajacy 32,203 z 393,703 oznaczonymi twarzami. Opracowanie datasetu zostało umieszczone w pliku: [02_02_WIDER_FACE.ipynb](notebooks/02_02_WIDER_FACE.ipynb)\n",
        "\n",
        "* FACES_DD - Opracowanie datasetu zostało umieszczone w pliku: [02_03_FACES_DD.ipynb](notebooks/02_03_FACES_DD.ipynb)\n"
      ]
    },
    {
      "cell_type": "markdown",
      "metadata": {
        "id": "Hi4TTnHDhApE",
        "colab_type": "text"
      },
      "source": [
        " <hr>"
      ]
    },
    {
      "cell_type": "markdown",
      "metadata": {
        "id": "B6wqESOSdj7H",
        "colab_type": "text"
      },
      "source": [
        "### [1. Wstep](notebooks/01_00_Wstep.ipynb)\n",
        "- [Definicja problemu](notebooks/01_01_.ipynb)\n",
        "\n",
        "### [2. Bazy danych](notebooks/02_00_Datasety.ipynb)\n",
        "- [FDDB](notebooks/02_01_FDDB.ipynb)\n",
        "- [WIDER FACE](notebooks/02_02_WIDER_FACE.ipynb)\n",
        "- [FACES_DD](notebooks/02_03_FACES_DD.ipynb)\n",
        "\n",
        "### [3. Przyjęte miary ewaluacji modeli](notebooks/03_00_Miary.ipynb)\n",
        "- [mAP](notebooks/03_01_mAP.ipynb)\n",
        "\n",
        "### [4. Przegląd metod detekcji](notebooks/04_00_Modele.ipynb)\n",
        "- [MTCNN](notebooks/04_01_MTCNN.ipynb)\n",
        "- [MMDETECTIOn](notebooks/04_02_MMDETECtIOn.ipynb)\n",
        "- [DETECTRON2](notebooks/4_03_DETECTRON2.ipynb)\n",
        "- [MOBILENETV2](notebooks/04_04_MOBILENETV2.ipynb)\n",
        "\n",
        "### [5. Modyfikacje](notebooks/05_00_Modyfikacje.ipynb)\n",
        "- [FrozenBN Mish](notebooks/05_01_FrozenBN_Mishc.ipynb)\n",
        "- [Mish](notebooks/05_02_Mish.ipynb)\n",
        "- [Porównanie modeli](notebooks/05_03_Porownanie.ipynb)\n",
        "  - [Wyniki na zbiorze WIDER FACE](notebooks/05_03_01_WIDERFACE_TEST.ipynb)\n",
        "  - [Wyniki na zbiorze FDDB](notebooks/05_03_01_FDDB_TEST.ipynb)\n",
        "  - [Wyniki na zbiorze FACES_DD](notebooks/05_03_01_FACES_DD_TEST.ipynb)\n",
        "\n",
        "### [6. Eksport modelu](06_00_Eksport_modelu.ipynb)\n",
        "- [ONNX/...](notebooks/06_01_.ipynb)\n",
        "\n",
        "### [7. Podsumowanie i wnioski](notebooks/07_00_Podsumowanie.ipynb)\n",
        "\n",
        "### [Bibliografia](notebooks/Bibliografia.ipynb)"
      ]
    }
  ]
}