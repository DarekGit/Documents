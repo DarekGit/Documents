{
  "nbformat": 4,
  "nbformat_minor": 0,
  "metadata": {
    "anaconda-cloud": {},
    "kernelspec": {
      "display_name": "Python 3",
      "language": "python",
      "name": "python3"
    },
    "language_info": {
      "codemirror_mode": {
        "name": "ipython",
        "version": 3
      },
      "file_extension": ".py",
      "mimetype": "text/x-python",
      "name": "python",
      "nbconvert_exporter": "python",
      "pygments_lexer": "ipython3",
      "version": "3.5.1"
    },
    "colab": {
      "name": "Praca Dyplomowa.ipynb",
      "provenance": [],
      "collapsed_sections": [],
      "include_colab_link": true
    }
  },
  "cells": [
    {
      "cell_type": "markdown",
      "metadata": {
        "id": "view-in-github",
        "colab_type": "text"
      },
      "source": [
        "<a href=\"https://colab.research.google.com/github/DarekGit/Documents/blob/master/01_00_Wstep.ipynb\" target=\"_parent\"><img src=\"https://colab.research.google.com/assets/colab-badge.svg\" alt=\"Open In Colab\"/></a>"
      ]
    },
    {
      "cell_type": "markdown",
      "metadata": {
        "id": "wgODwqpLI2fc",
        "colab_type": "text"
      },
      "source": [
        "<img src=\"https://github.com/DarekGit/Documents/blob/master/Figures/Zrzut%20ekranu%202020-06-02.png?raw=1\" alt=\"drawing\" width=\"400\"/>"
      ]
    },
    {
      "cell_type": "markdown",
      "metadata": {
        "id": "en5qybg3KWoT",
        "colab_type": "text"
      },
      "source": [
        "# Zastosowanie metod Deep Learningu w detekcji twarzy."
      ]
    },
    {
      "cell_type": "markdown",
      "metadata": {
        "id": "eydg77jWKWoV",
        "colab_type": "text"
      },
      "source": [
        "### [1. Wstep](01_00_Wstep.ipynb)"
      ]
    },
    {
      "cell_type": "markdown",
      "metadata": {
        "id": "hgmd6HB3UTrR",
        "colab_type": "text"
      },
      "source": [
        "W ciągu ostatnich lat możemy obserwować postępujące upowszechnienie technologii wykrywania i rozpoznawania twarzy. Coraz częściej wykorzystywana jest w produktach i usługach, z którymi obcujemy na co dzień. Możliwość odblokowywania ekranu za pomocą twarzy oferuje dzisiaj większość smartfonów. Systemy rozpoznawania twarzy używane są już na lotniskach, w monitoringu szkolnym do potwierdzania obecności uczniów na lekcjach, korzysta z nich policja do analizowania obrazu z monitoringu miejskiego.<br><br>\n",
        "\n",
        "Powszechność stosowania tej technologii budzi jednak obawy przed masową inwigilacją. Obecnie coraz częściej pojawiają się głosy o potrzebie wprowadzenie dodatkowych ograniczeń dla stosowania rozpoznawania twarzy oraz standardów regulacji systemów podejmujących decyzje. Stawiane dodatkowe wymagania w przyszłości zapewne przełożą się na dalszy intensywny rozwój metod detekcji i rozpoznawania twarzy.\n",
        "\n",
        "cdn..\n"
      ]
    },
    {
      "cell_type": "markdown",
      "metadata": {
        "id": "bCxpD6hCUL-v",
        "colab_type": "text"
      },
      "source": [
        "\n",
        "- [Definicja problemu](01_01_.ipynb)\n",
        "\n",
        "### [2. Bazy danych](02_00_Datasety.ipynb)\n",
        "- [FDDB](02_01_FDDB.ipynb)\n",
        "- [WIDER FACE](02_02_WIDER_FACE.ipynb)\n",
        "- [FACES_DD](02_03_FACES_DD.ipynb)\n",
        "\n",
        "### [3. Przyjęte miary ewaluacji modeli](03_00_Miary.ipynb)\n",
        "- [mAP](03_01_mAP.ipynb)\n",
        "\n",
        "### [4. Przegląd metod detekcji](04_00_Modele.ipynb)\n",
        "- [MTCNN](04_01_MTCNN.ipynb)\n",
        "- [MMDETECTIOn](04_02_MMDETECtIOn.ipynb)\n",
        "- [DETECTRON2](04_03_DETECTRON2.ipynb)\n",
        "- [MOBILENETV2](04_04_MOBILENET.ipynb)\n",
        "\n",
        "### [5. Modyfikacje](05_00_Modyfikacje.ipynb)\n",
        "- [FrozenBN Mish](05_01_FrozenBN_Mishc.ipynb)\n",
        "- [Mish](05_02_Mish.ipynb)\n",
        "\n",
        "### [6. Eksport modeli](06_00_Eksport_modeli.ipynb)\n",
        "- [ONNX/...](06_01_.ipynb)\n",
        "\n",
        "### [7. Podsumowanie i wnioski](07_00_Eksport_modeli.ipynb)\n",
        "\n",
        "<br>\n"
      ]
    }
  ]
}