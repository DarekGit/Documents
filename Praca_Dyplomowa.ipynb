{
  "nbformat": 4,
  "nbformat_minor": 0,
  "metadata": {
    "anaconda-cloud": {},
    "kernelspec": {
      "display_name": "Python 3",
      "language": "python",
      "name": "python3"
    },
    "language_info": {
      "codemirror_mode": {
        "name": "ipython",
        "version": 3
      },
      "file_extension": ".py",
      "mimetype": "text/x-python",
      "name": "python",
      "nbconvert_exporter": "python",
      "pygments_lexer": "ipython3",
      "version": "3.5.1"
    },
    "colab": {
      "name": "Praca Dyplomowa.ipynb",
      "provenance": [],
      "collapsed_sections": [],
      "include_colab_link": true
    }
  },
  "cells": [
    {
      "cell_type": "markdown",
      "metadata": {
        "id": "view-in-github",
        "colab_type": "text"
      },
      "source": [
        "<a href=\"https://colab.research.google.com/github/DarekGit/Documents/blob/master/Praca_Dyplomowa.ipynb\" target=\"_parent\"><img src=\"https://colab.research.google.com/assets/colab-badge.svg\" alt=\"Open In Colab\"/></a>"
      ]
    },
    {
      "cell_type": "markdown",
      "metadata": {
        "id": "en5qybg3KWoT",
        "colab_type": "text"
      },
      "source": [
        "# Praca dyplomowa"
      ]
    },
    {
      "cell_type": "markdown",
      "metadata": {
        "id": "CyTb64Ya1QKM",
        "colab_type": "text"
      },
      "source": [
        "Praca dyplomowa została przygotowana w ramach studiów podyplomowych Politechniki Warszawskiej <br>\n",
        "**„Głębokie sieci neruonowe – zastosowania w mediach cyfrowych“.**<br>\n",
        "\n",
        "[deeplearning.ire.pw.edu.pl](https://deeplearning.ire.pw.edu.pl)<br><BR>\n",
        "pod kierownictwem prof. Władysława Skarbka<br>\n",
        "\n",
        "oraz opieką mgr. inż. Grzegorza Gwardysa<br>\n",
        "\n",
        " \n",
        "<br>\n",
        "Materiał został zebrany w ujęciu hronologicznym zgodnie z procesem badań."
      ]
    },
    {
      "cell_type": "markdown",
      "metadata": {
        "id": "IB_aXvjnKWoU",
        "colab_type": "text"
      },
      "source": [
        "![Book Cover](https://github.com/DarekGit/Documents/blob/master/Figures/Smieszna%20detekcja.png?raw=1)\n",
        "\n",
        "\n",
        "\"... czasami tak wychodzi ... \"\n",
        "\n"
      ]
    },
    {
      "cell_type": "markdown",
      "metadata": {
        "id": "eydg77jWKWoV",
        "colab_type": "text"
      },
      "source": [
        "## Spis treści:\n",
        "\n",
        "### 1. [Wstęp - detekcja i rozpoznawanie twarzy](01.00-Wstep.ipynb)\n",
        "\n",
        "### 2. [Pierwsze przymiarki do detekcji - FDDB](02.00-FDDB.ipynb)\n",
        "\n",
        "### 3. [Poszukiwanie modelu do detekcji](03.00-modele.ipynb)\n",
        "- [mmdetection](03.01-mmdet.ipynb)\n",
        "- [mtcnn](03.02-mtcnn.ipynb)\n",
        "- [detectron2](03.01-detectron.ipynb)\n",
        "\n",
        "### 4. [Datasety](02.00-datasety.ipynb)\n",
        "- [FDDB](04.01-FDDB.ipynb)\n",
        "- [WIDER FACE](04.02-WIDERFACE.ipynb)\n",
        "- [FACES_DD](04.03-FACES_DD.ipynb)\n",
        "\n",
        "### 5. [Miary](05.00-miary.ipynb)\n",
        "- [mAP](05.01-mAP.ipynb)\n",
        "\n",
        "### 6. [Trenowanie modeli](06.00-trenowanie.ipynb)\n",
        "- [detectron2](05.01-detectron2.ipynb)\n",
        "- [mobilenet](06.01-mobilenet.ipynb)\n",
        "\n",
        "### 7. [Eksport modeli](07.00-eksport_modeli.ipynb)\n",
        "- [ONNX/...](07.01-ONNX.ipynb)\n",
        "\n",
        "### 8. [Rozpoznawanie twarzy](08.00-rozpoznawanie.ipynb)\n",
        "\n",
        "### 9. [Podusmowanie](09.00-podsumowanie.ipynb)\n"
      ]
    },
    {
      "cell_type": "markdown",
      "metadata": {
        "id": "b67gmXHvzGCY",
        "colab_type": "text"
      },
      "source": [
        "Przykład sieci detectron2 z MobilenetV2\n",
        "\n",
        "![detectron2 z MobilenetV2](https://github.com/DarekGit/Documents/blob/master/Figures/Det2MobilenetV2.png?raw=1)"
      ]
    }
  ]
}