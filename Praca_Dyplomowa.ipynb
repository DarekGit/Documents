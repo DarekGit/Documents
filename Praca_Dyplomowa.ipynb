{
  "nbformat": 4,
  "nbformat_minor": 0,
  "metadata": {
    "anaconda-cloud": {},
    "kernelspec": {
      "display_name": "Python 3",
      "language": "python",
      "name": "python3"
    },
    "language_info": {
      "codemirror_mode": {
        "name": "ipython",
        "version": 3
      },
      "file_extension": ".py",
      "mimetype": "text/x-python",
      "name": "python",
      "nbconvert_exporter": "python",
      "pygments_lexer": "ipython3",
      "version": "3.5.1"
    },
    "colab": {
      "name": "Praca Dyplomowa.ipynb",
      "provenance": [],
      "collapsed_sections": [],
      "include_colab_link": true
    }
  },
  "cells": [
    {
      "cell_type": "markdown",
      "metadata": {
        "id": "view-in-github",
        "colab_type": "text"
      },
      "source": [
        "<a href=\"https://colab.research.google.com/github/DarekGit/Documents/blob/master/Praca_Dyplomowa.ipynb\" target=\"_parent\"><img src=\"https://colab.research.google.com/assets/colab-badge.svg\" alt=\"Open In Colab\"/></a>"
      ]
    },
    {
      "cell_type": "markdown",
      "metadata": {
        "id": "en5qybg3KWoT",
        "colab_type": "text"
      },
      "source": [
        "# Praca dyplomowa"
      ]
    },
    {
      "cell_type": "markdown",
      "metadata": {
        "id": "IB_aXvjnKWoU",
        "colab_type": "text"
      },
      "source": [
        "*DD*\n",
        "\n",
        "![Book Cover](https://github.com/jakevdp/PythonDataScienceHandbook/blob/master/notebooks/figures/smieszna_detekcja.png?raw=1)"
      ]
    },
    {
      "cell_type": "markdown",
      "metadata": {
        "id": "Dj1YCYfjKWoV",
        "colab_type": "text"
      },
      "source": [
        "This is the Jupyter notebook version of the [Python Data Science Handbook](http://shop.oreilly.com/product/0636920034919.do) by Jake VanderPlas; the content is available [on GitHub](https://github.com/jakevdp/PythonDataScienceHandbook).*\n",
        "The text is released under the [CC-BY-NC-ND license](https://creativecommons.org/licenses/by-nc-nd/3.0/us/legalcode), and code is released under the [MIT license](https://opensource.org/licenses/MIT). If you find this content useful, please consider supporting the work by [buying the book](http://shop.oreilly.com/product/0636920034919.do)!"
      ]
    },
    {
      "cell_type": "markdown",
      "metadata": {
        "id": "TuByG9YF_fZz",
        "colab_type": "text"
      },
      "source": [
        "![Przykład detekcji 2](Figures/Zrzut%20ekranu%202020-06-02.png)"
      ]
    },
    {
      "cell_type": "markdown",
      "metadata": {
        "id": "eydg77jWKWoV",
        "colab_type": "text"
      },
      "source": [
        "## Table of Contents\n",
        "\n",
        "### [Wprowadzenie](00.00-Wprowadzenie.ipynb)\n",
        "\n",
        "### [1. Wstep](01_00_Wstep.ipynb)\n",
        "- [..](01_01_.ipynb)\n",
        "\n",
        "### [2. Datasety](02_00_Datasety.ipynb)\n",
        "- [FDDB](02_01_FDDB.ipynb)\n",
        "- [WIDER FACE](02_02_WIDER_FACE.ipynb)\n",
        "- [FACES_DD](02_03_FACES_DD.ipynb)\n",
        "\n",
        "\n",
        "### [3. Miary](03_00_Miary.ipynb)\n",
        "- [mAP](03_01_mAP.ipynb)\n",
        "\n",
        "### [4. Modele](04_00_Modele.ipynb)\n",
        "- [MTCNN](04_01_MTCNN.ipynb)\n",
        "- [MMDETECTIOn](04_02_MMDETECtIOn.ipynb)\n",
        "- [DETECTRON2](04_03_DETECTRON2.ipynb)\n",
        "- [MOBILENETV2](04_04_MOBILENET.ipynb)\n",
        "- [..](04_05_.ipynb)\n",
        "\n",
        "\n",
        "### [5. Modyfikacje](05_00_Modyfikacje.ipynb)\n",
        "- [FrozenBN Mish](05_01_FrozenBN_Mishc.ipynb)\n",
        "- [Mish](05_01_Mish.ipynb)\n",
        "\n",
        "### [6. Eksport modeli](05_00_Eksport_modeli.ipynb)\n",
        "- [ONNX/...](05_02_.ipynb)\n",
        "\n"
      ]
    },
    {
      "cell_type": "code",
      "metadata": {
        "id": "Xct4Ho-F5IY2",
        "colab_type": "code",
        "colab": {}
      },
      "source": [
        ""
      ],
      "execution_count": null,
      "outputs": []
    }
  ]
}
