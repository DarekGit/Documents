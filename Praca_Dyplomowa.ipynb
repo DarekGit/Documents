{
  "nbformat": 4,
  "nbformat_minor": 0,
  "metadata": {
    "anaconda-cloud": {},
    "kernelspec": {
      "display_name": "Python 3",
      "language": "python",
      "name": "python3"
    },
    "language_info": {
      "codemirror_mode": {
        "name": "ipython",
        "version": 3
      },
      "file_extension": ".py",
      "mimetype": "text/x-python",
      "name": "python",
      "nbconvert_exporter": "python",
      "pygments_lexer": "ipython3",
      "version": "3.5.1"
    },
    "colab": {
      "name": "Praca Dyplomowa.ipynb",
      "provenance": [],
      "collapsed_sections": [],
      "include_colab_link": true
    }
  },
  "cells": [
    {
      "cell_type": "markdown",
      "metadata": {
        "id": "view-in-github",
        "colab_type": "text"
      },
      "source": [
        "<a href=\"https://colab.research.google.com/github/DarekGit/Documents/blob/master/Praca_Dyplomowa.ipynb\" target=\"_parent\"><img src=\"https://colab.research.google.com/assets/colab-badge.svg\" alt=\"Open In Colab\"/></a>"
      ]
    },
    {
      "cell_type": "markdown",
      "metadata": {
        "id": "en5qybg3KWoT",
        "colab_type": "text"
      },
      "source": [
        "# Praca dyplomowa"
      ]
    },
    {
      "cell_type": "markdown",
      "metadata": {
        "id": "IB_aXvjnKWoU",
        "colab_type": "text"
      },
      "source": [
        "*DD*\n",
        "\n",
        "![Book Cover](https://github.com/jakevdp/PythonDataScienceHandbook/blob/master/notebooks/figures/smieszna_detekcja.png?raw=1)"
      ]
    },
    {
      "cell_type": "markdown",
      "metadata": {
        "id": "Dj1YCYfjKWoV",
        "colab_type": "text"
      },
      "source": [
        "This is the Jupyter notebook version of the [Python Data Science Handbook](http://shop.oreilly.com/product/0636920034919.do) by Jake VanderPlas; the content is available [on GitHub](https://github.com/jakevdp/PythonDataScienceHandbook).*\n",
        "The text is released under the [CC-BY-NC-ND license](https://creativecommons.org/licenses/by-nc-nd/3.0/us/legalcode), and code is released under the [MIT license](https://opensource.org/licenses/MIT). If you find this content useful, please consider supporting the work by [buying the book](http://shop.oreilly.com/product/0636920034919.do)!"
      ]
    },
    {
      "cell_type": "markdown",
      "metadata": {
        "id": "eydg77jWKWoV",
        "colab_type": "text"
      },
      "source": [
        "## Table of Contents\n",
        "\n",
        "### [Wprowadzenie](00.00-Wprowadzenie.ipynb)\n",
        "\n",
        "### [1. Wstep](01.00-Wstep.ipynb)\n",
        "- [..](01.01-.ipynb)\n",
        "- [..](01.02-.ipynb)\n",
        "- [..](01.03-.ipynb)\n",
        "- [..](01.04-.ipynb)\n",
        "\n",
        "\n",
        "### [2. Datasety](02.00-Datasety.ipynb)\n",
        "- [FDDB](02.01-.ipynb)\n",
        "- [WIDER FACE](02.02-.ipynb)\n",
        "- [FACES_DD](02.03-.ipynb)\n",
        "- [...](02.04-.ipynb)\n",
        "- [..](02.05-.ipynb)\n",
        "- [..](02.06-.ipynb)\n",
        "\n",
        "### [3. Miary](03.00-Miary.ipynb)\n",
        "- [mAP](03.01-mAP.ipynb)\n",
        "\n",
        "### [4. Modele](04.00-Modele.ipynb)\n",
        "- [MTCNN](04.01-MTCNN.ipynb)\n",
        "- [MMDETECTIOn](04.02-MMDETECtIOn.ipynb)\n",
        "- [DETECTRON2](04.03-DETECTRON2.ipynb)\n",
        "- [MOBILENETV2](04.04-MOBILENET.ipynb)\n",
        "- [..](03.05-.ipynb)\n",
        "\n",
        "\n",
        "### [5. Modyfikacje](05.00-Modyfikacje.ipynb)\n",
        "- [FrozenBN Mish](05.01-FrozenBN_Mishc.ipynb)\n",
        "- [Mish](05.01-Mish.ipynb)\n",
        "\n",
        "### [6. Eksport modeli](05.00-Eksport_modeli.ipynb)\n",
        "- [ONNX/...](05.02-.ipynb)\n",
        "\n"
      ]
    }
  ]
}